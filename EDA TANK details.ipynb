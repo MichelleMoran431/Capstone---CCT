{
 "cells": [
  {
   "cell_type": "code",
   "execution_count": 1,
   "id": "dd9eb9a0-7f2e-4add-80ec-5a53f1c19a5b",
   "metadata": {},
   "outputs": [],
   "source": [
    "import numpy as np\n",
    "import pandas as pd"
   ]
  },
  {
   "cell_type": "code",
   "execution_count": 2,
   "id": "52365eb1-7ce4-4830-9d15-cea49c669f8a",
   "metadata": {},
   "outputs": [],
   "source": [
    "uploaded = pd.read_csv('Bev Base Dearation Data Extract .csv')\n",
    "# Dataset is now stored in a Pandas Dataframe"
   ]
  },
  {
   "cell_type": "code",
   "execution_count": 3,
   "id": "beb65863-d837-46b4-b48b-e59e550cf9de",
   "metadata": {},
   "outputs": [
    {
     "data": {
      "text/html": [
       "<div>\n",
       "<style scoped>\n",
       "    .dataframe tbody tr th:only-of-type {\n",
       "        vertical-align: middle;\n",
       "    }\n",
       "\n",
       "    .dataframe tbody tr th {\n",
       "        vertical-align: top;\n",
       "    }\n",
       "\n",
       "    .dataframe thead th {\n",
       "        text-align: right;\n",
       "    }\n",
       "</style>\n",
       "<table border=\"1\" class=\"dataframe\">\n",
       "  <thead>\n",
       "    <tr style=\"text-align: right;\">\n",
       "      <th></th>\n",
       "      <th>SKU</th>\n",
       "      <th>SKU_DESCRIPTION</th>\n",
       "      <th>BATCHID</th>\n",
       "      <th>Recipe</th>\n",
       "      <th>Tank</th>\n",
       "      <th>Unit</th>\n",
       "      <th>Instruction_Step</th>\n",
       "      <th>Source</th>\n",
       "      <th>Material_ID</th>\n",
       "      <th>Material_Name</th>\n",
       "      <th>...</th>\n",
       "      <th>Phase_end</th>\n",
       "      <th>Phase_duration</th>\n",
       "      <th>Phase_start_delay</th>\n",
       "      <th>Phase_row_no</th>\n",
       "      <th>Flowrate_KGMIN</th>\n",
       "      <th>Target_Flowrate</th>\n",
       "      <th>Target_Phase_duration</th>\n",
       "      <th>Phase_overrun</th>\n",
       "      <th>Batch_Phase_Type</th>\n",
       "      <th>Deaeration Phase</th>\n",
       "    </tr>\n",
       "  </thead>\n",
       "  <tbody>\n",
       "    <tr>\n",
       "      <th>0</th>\n",
       "      <td>1002150</td>\n",
       "      <td>BCH Q-CI-5.12/.201/CI/Q54.00/V-54.10 P2B</td>\n",
       "      <td>107643491</td>\n",
       "      <td>10166969:P_BBS25_50171888_00\\EM_25MT_NOGUM_SEQ...</td>\n",
       "      <td>U_25</td>\n",
       "      <td>U_25MT03</td>\n",
       "      <td>S3_BATCH_IN_PROGRESS</td>\n",
       "      <td>TANK_STATUS</td>\n",
       "      <td>NaN</td>\n",
       "      <td>NaN</td>\n",
       "      <td>...</td>\n",
       "      <td>09/03/2022 10:42</td>\n",
       "      <td>0</td>\n",
       "      <td>0</td>\n",
       "      <td>1</td>\n",
       "      <td>0.0000</td>\n",
       "      <td>NaN</td>\n",
       "      <td>0</td>\n",
       "      <td>NaN</td>\n",
       "      <td>Batch start up</td>\n",
       "      <td>0</td>\n",
       "    </tr>\n",
       "    <tr>\n",
       "      <th>1</th>\n",
       "      <td>1002150</td>\n",
       "      <td>BCH Q-CI-5.12/.201/CI/Q54.00/V-54.10 P2B</td>\n",
       "      <td>107643491</td>\n",
       "      <td>10166969:P_BBS25_50171888_00\\EM_25MT_NOGUM_SEQ...</td>\n",
       "      <td>U_25</td>\n",
       "      <td>U_25MT03</td>\n",
       "      <td>STEP1_CONS</td>\n",
       "      <td>CONS</td>\n",
       "      <td>1002565</td>\n",
       "      <td>WATER TREATED</td>\n",
       "      <td>...</td>\n",
       "      <td>09/03/2022 11:16</td>\n",
       "      <td>34</td>\n",
       "      <td>0</td>\n",
       "      <td>2</td>\n",
       "      <td>169.4118</td>\n",
       "      <td>733.5050</td>\n",
       "      <td>8</td>\n",
       "      <td>26.0</td>\n",
       "      <td>Treated water bulk addition</td>\n",
       "      <td>0</td>\n",
       "    </tr>\n",
       "    <tr>\n",
       "      <th>2</th>\n",
       "      <td>1002150</td>\n",
       "      <td>BCH Q-CI-5.12/.201/CI/Q54.00/V-54.10 P2B</td>\n",
       "      <td>107643491</td>\n",
       "      <td>10166969:P_BBS25_50171888_00\\EM_25MT_NOGUM_SEQ...</td>\n",
       "      <td>U_25</td>\n",
       "      <td>U_25MT03</td>\n",
       "      <td>PLEASE VERIFY BULK ADDITION</td>\n",
       "      <td>PROMPT</td>\n",
       "      <td>NaN</td>\n",
       "      <td>NaN</td>\n",
       "      <td>...</td>\n",
       "      <td>09/03/2022 11:17</td>\n",
       "      <td>1</td>\n",
       "      <td>0</td>\n",
       "      <td>3</td>\n",
       "      <td>0.0000</td>\n",
       "      <td>NaN</td>\n",
       "      <td>3</td>\n",
       "      <td>0.0</td>\n",
       "      <td>Prompt</td>\n",
       "      <td>0</td>\n",
       "    </tr>\n",
       "    <tr>\n",
       "      <th>3</th>\n",
       "      <td>1002150</td>\n",
       "      <td>BCH Q-CI-5.12/.201/CI/Q54.00/V-54.10 P2B</td>\n",
       "      <td>107643491</td>\n",
       "      <td>10166969:P_BBS25_50171888_00\\EM_25MT_NOGUM_SEQ...</td>\n",
       "      <td>U_25</td>\n",
       "      <td>U_25MT03</td>\n",
       "      <td>STEP1_CONS</td>\n",
       "      <td>CONS</td>\n",
       "      <td>1037802</td>\n",
       "      <td>S813     SOD BENZOATE          XFX25</td>\n",
       "      <td>...</td>\n",
       "      <td>09/03/2022 11:27</td>\n",
       "      <td>10</td>\n",
       "      <td>0</td>\n",
       "      <td>4</td>\n",
       "      <td>0.5629</td>\n",
       "      <td>6.3182</td>\n",
       "      <td>1</td>\n",
       "      <td>9.0</td>\n",
       "      <td>Manadd addition</td>\n",
       "      <td>0</td>\n",
       "    </tr>\n",
       "    <tr>\n",
       "      <th>4</th>\n",
       "      <td>1002150</td>\n",
       "      <td>BCH Q-CI-5.12/.201/CI/Q54.00/V-54.10 P2B</td>\n",
       "      <td>107643491</td>\n",
       "      <td>10166969:P_BBS25_50171888_00\\EM_25MT_NOGUM_SEQ...</td>\n",
       "      <td>U_25</td>\n",
       "      <td>U_25MT03</td>\n",
       "      <td>STEP1_CONS</td>\n",
       "      <td>CONS</td>\n",
       "      <td>1002818</td>\n",
       "      <td>S651     CITRIC ACID ANH    BG XFX25</td>\n",
       "      <td>...</td>\n",
       "      <td>09/03/2022 11:38</td>\n",
       "      <td>11</td>\n",
       "      <td>0</td>\n",
       "      <td>5</td>\n",
       "      <td>7.1605</td>\n",
       "      <td>6.3182</td>\n",
       "      <td>12</td>\n",
       "      <td>0.0</td>\n",
       "      <td>Manadd addition</td>\n",
       "      <td>0</td>\n",
       "    </tr>\n",
       "  </tbody>\n",
       "</table>\n",
       "<p>5 rows × 22 columns</p>\n",
       "</div>"
      ],
      "text/plain": [
       "       SKU                           SKU_DESCRIPTION    BATCHID  \\\n",
       "0  1002150  BCH Q-CI-5.12/.201/CI/Q54.00/V-54.10 P2B  107643491   \n",
       "1  1002150  BCH Q-CI-5.12/.201/CI/Q54.00/V-54.10 P2B  107643491   \n",
       "2  1002150  BCH Q-CI-5.12/.201/CI/Q54.00/V-54.10 P2B  107643491   \n",
       "3  1002150  BCH Q-CI-5.12/.201/CI/Q54.00/V-54.10 P2B  107643491   \n",
       "4  1002150  BCH Q-CI-5.12/.201/CI/Q54.00/V-54.10 P2B  107643491   \n",
       "\n",
       "                                              Recipe  Tank      Unit  \\\n",
       "0  10166969:P_BBS25_50171888_00\\EM_25MT_NOGUM_SEQ...  U_25  U_25MT03   \n",
       "1  10166969:P_BBS25_50171888_00\\EM_25MT_NOGUM_SEQ...  U_25  U_25MT03   \n",
       "2  10166969:P_BBS25_50171888_00\\EM_25MT_NOGUM_SEQ...  U_25  U_25MT03   \n",
       "3  10166969:P_BBS25_50171888_00\\EM_25MT_NOGUM_SEQ...  U_25  U_25MT03   \n",
       "4  10166969:P_BBS25_50171888_00\\EM_25MT_NOGUM_SEQ...  U_25  U_25MT03   \n",
       "\n",
       "              Instruction_Step       Source Material_ID  \\\n",
       "0         S3_BATCH_IN_PROGRESS  TANK_STATUS         NaN   \n",
       "1                   STEP1_CONS         CONS     1002565   \n",
       "2  PLEASE VERIFY BULK ADDITION       PROMPT         NaN   \n",
       "3                   STEP1_CONS         CONS     1037802   \n",
       "4                   STEP1_CONS         CONS     1002818   \n",
       "\n",
       "                          Material_Name  ...         Phase_end Phase_duration  \\\n",
       "0                                   NaN  ...  09/03/2022 10:42              0   \n",
       "1                         WATER TREATED  ...  09/03/2022 11:16             34   \n",
       "2                                   NaN  ...  09/03/2022 11:17              1   \n",
       "3  S813     SOD BENZOATE          XFX25  ...  09/03/2022 11:27             10   \n",
       "4  S651     CITRIC ACID ANH    BG XFX25  ...  09/03/2022 11:38             11   \n",
       "\n",
       "  Phase_start_delay  Phase_row_no  Flowrate_KGMIN  Target_Flowrate  \\\n",
       "0                 0             1          0.0000              NaN   \n",
       "1                 0             2        169.4118         733.5050   \n",
       "2                 0             3          0.0000              NaN   \n",
       "3                 0             4          0.5629           6.3182   \n",
       "4                 0             5          7.1605           6.3182   \n",
       "\n",
       "   Target_Phase_duration  Phase_overrun             Batch_Phase_Type  \\\n",
       "0                      0            NaN               Batch start up   \n",
       "1                      8           26.0  Treated water bulk addition   \n",
       "2                      3            0.0                       Prompt   \n",
       "3                      1            9.0              Manadd addition   \n",
       "4                     12            0.0              Manadd addition   \n",
       "\n",
       "   Deaeration Phase  \n",
       "0                 0  \n",
       "1                 0  \n",
       "2                 0  \n",
       "3                 0  \n",
       "4                 0  \n",
       "\n",
       "[5 rows x 22 columns]"
      ]
     },
     "execution_count": 3,
     "metadata": {},
     "output_type": "execute_result"
    }
   ],
   "source": [
    "uploaded.head()"
   ]
  },
  {
   "cell_type": "code",
   "execution_count": 4,
   "id": "f9ea97c0-c8ea-4f03-af52-51be234b4547",
   "metadata": {},
   "outputs": [],
   "source": [
    "# Or rename the existing DataFrame (rather than creating a copy)\n",
    "uploaded.rename(columns={'SKU': 'Material','Deaeration Phase':'Deaeration_Phase'}, inplace=True)"
   ]
  },
  {
   "cell_type": "code",
   "execution_count": 5,
   "id": "f7723313-7eb4-4282-b9d2-1ce3e8423d9a",
   "metadata": {},
   "outputs": [
    {
     "name": "stdout",
     "output_type": "stream",
     "text": [
      "<class 'pandas.core.frame.DataFrame'>\n",
      "RangeIndex: 9487 entries, 0 to 9486\n",
      "Data columns (total 22 columns):\n",
      " #   Column                 Non-Null Count  Dtype  \n",
      "---  ------                 --------------  -----  \n",
      " 0   Material               9487 non-null   int64  \n",
      " 1   SKU_DESCRIPTION        9487 non-null   object \n",
      " 2   BATCHID                9487 non-null   int64  \n",
      " 3   Recipe                 9487 non-null   object \n",
      " 4   Tank                   9487 non-null   object \n",
      " 5   Unit                   9487 non-null   object \n",
      " 6   Instruction_Step       9462 non-null   object \n",
      " 7   Source                 9487 non-null   object \n",
      " 8   Material_ID            2443 non-null   object \n",
      " 9   Material_Name          1980 non-null   object \n",
      " 10  Quantity               9487 non-null   float64\n",
      " 11  Phase_start            9487 non-null   object \n",
      " 12  Phase_end              9487 non-null   object \n",
      " 13  Phase_duration         9487 non-null   int64  \n",
      " 14  Phase_start_delay      9487 non-null   int64  \n",
      " 15  Phase_row_no           9487 non-null   int64  \n",
      " 16  Flowrate_KGMIN         9487 non-null   float64\n",
      " 17  Target_Flowrate        3108 non-null   float64\n",
      " 18  Target_Phase_duration  9487 non-null   int64  \n",
      " 19  Phase_overrun          7363 non-null   float64\n",
      " 20  Batch_Phase_Type       9487 non-null   object \n",
      " 21  Deaeration_Phase       9487 non-null   int64  \n",
      "dtypes: float64(4), int64(7), object(11)\n",
      "memory usage: 1.6+ MB\n"
     ]
    }
   ],
   "source": [
    "uploaded.info()"
   ]
  },
  {
   "cell_type": "code",
   "execution_count": 6,
   "id": "15660931-eb34-4047-8208-65d35c44866c",
   "metadata": {},
   "outputs": [],
   "source": [
    "#uploaded.describe().T"
   ]
  },
  {
   "cell_type": "code",
   "execution_count": 75,
   "id": "262fde44-9f00-4583-af3a-49d3e4789e09",
   "metadata": {},
   "outputs": [],
   "source": [
    "#How can we get a summary of categorical data? The value_counts() method will be useful in this case.\n",
    "#Material=uploaded.Material.value_counts()\n",
    "#Material"
   ]
  },
  {
   "cell_type": "markdown",
   "id": "8a7a0f27-0edb-4948-9ade-b5d40e78e84e",
   "metadata": {},
   "source": [
    "# Investigation of the Deaeration data  "
   ]
  },
  {
   "cell_type": "code",
   "execution_count": 8,
   "id": "1d73bd98-b7c9-4dae-a12e-743507be9b9a",
   "metadata": {},
   "outputs": [
    {
     "data": {
      "text/plain": [
       "0    9204\n",
       "1     283\n",
       "Name: Deaeration_Phase, dtype: int64"
      ]
     },
     "execution_count": 8,
     "metadata": {},
     "output_type": "execute_result"
    }
   ],
   "source": [
    "# Determine how many materials have a deaeration phases\n",
    "DeaerationPhase =uploaded.Deaeration_Phase.value_counts()\n",
    "DeaerationPhase"
   ]
  },
  {
   "cell_type": "code",
   "execution_count": 76,
   "id": "e93f246e-9c4e-4e3a-959b-c3f54e7ff858",
   "metadata": {},
   "outputs": [],
   "source": [
    "# Determine how many times a beverage material was produced \n",
    "#SKU_DESCRIPTION\t=uploaded.SKU_DESCRIPTION\t.value_counts()\n",
    "#SKU_DESCRIPTION"
   ]
  },
  {
   "cell_type": "code",
   "execution_count": 10,
   "id": "7dd75e52-ccba-458a-b8fb-afd32dc0a661",
   "metadata": {},
   "outputs": [
    {
     "name": "stdout",
     "output_type": "stream",
     "text": [
      "      Material                           SKU_DESCRIPTION    BATCHID  \\\n",
      "33     1002150  BCH Q-CI-5.12/.201/CI/Q54.00/V-54.10 P2B  107762133   \n",
      "60     1002150  BCH Q-CI-5.12/.201/CI/Q54.00/V-54.10 P2B  107829859   \n",
      "87     1002150  BCH Q-CI-5.12/.201/CI/Q54.00/V-54.10 P2B  107916883   \n",
      "114    1002150  BCH Q-CI-5.12/.201/CI/Q54.00/V-54.10 P2B  107996308   \n",
      "141    1002150  BCH Q-CI-5.12/.201/CI/Q54.00/V-54.10 P2B  108067054   \n",
      "...        ...                                       ...        ...   \n",
      "9361   3044756                         BCH LE/B-12.00 P2  107916904   \n",
      "9388   3044756                         BCH LE/B-12.00 P2  107926393   \n",
      "9415   3044756                         BCH LE/B-12.00 P2  107940278   \n",
      "9442   3044756                         BCH LE/B-12.00 P2  108041496   \n",
      "9470   3055706                      BCH LE/A/B-809.00 P2  107737576   \n",
      "\n",
      "                                                 Recipe  Tank      Unit  \\\n",
      "33    10169557:P_BBS25_50171888_00\\EM_25MT_NOGUM_SEQ...  U_25  U_25MT03   \n",
      "60    10171497:P_BBS25_50171888_00\\EM_25MT_NOGUM_SEQ...  U_25  U_25MT04   \n",
      "87    10173712:P_BBS25_50171888_00\\EM_25MT_NOGUM_SEQ...  U_25  U_25MT04   \n",
      "114   10175830:P_BBS25_50171888_00\\EM_25MT_NOGUM_SEQ...  U_25  U_25MT03   \n",
      "141   10177489:P_BBS25_50171888_00\\EM_25MT_NOGUM_SEQ...  U_25  U_25MT04   \n",
      "...                                                 ...   ...       ...   \n",
      "9361  10173713:P_BBS25_50208888_00\\EM_25MT_NOGUM_SEQ...  U_25  U_25MT03   \n",
      "9388  10173855:P_BBS25_50208888_00\\EM_25MT_NOGUM_SEQ...  U_25  U_25MT03   \n",
      "9415  10174299:P_BBS25_50208888_00\\EM_25MT_NOGUM_SEQ...  U_25  U_25MT03   \n",
      "9442  10176881:P_BBS25_50208888_00\\EM_25MT_NOGUM_SEQ...  U_25  U_25MT04   \n",
      "9470  10168893:P_BBS24_50212314_00\\EM_25MT_NOGUM_SEQ...  U_25  U_25MT02   \n",
      "\n",
      "     Instruction_Step Source Material_ID Material_Name  ...         Phase_end  \\\n",
      "33         STEP2_CONS   CONS  U_86MT14_1           NaN  ...  31/05/2022 01:35   \n",
      "60         STEP2_CONS   CONS  U_86MT06_1           NaN  ...  21/07/2022 21:19   \n",
      "87         STEP2_CONS   CONS  U_86MT11_1           NaN  ...  28/09/2022 06:51   \n",
      "114        STEP2_CONS   CONS  U_85MT11_1           NaN  ...  06/12/2022 11:21   \n",
      "141        STEP2_CONS   CONS  U_85MT14_1           NaN  ...  12/02/2023 12:19   \n",
      "...               ...    ...         ...           ...  ...               ...   \n",
      "9361       STEP2_CONS   CONS  U_85MT24_1           NaN  ...  29/09/2022 11:18   \n",
      "9388       STEP2_CONS   CONS  U_86MT08_1           NaN  ...  03/10/2022 19:45   \n",
      "9415       STEP2_CONS   CONS  U_86MT12_1           NaN  ...  16/10/2022 04:39   \n",
      "9442       STEP2_CONS   CONS  U_85MT11_1           NaN  ...  23/01/2023 12:17   \n",
      "9470       STEP2_CONS   CONS  U_85MT44_1           NaN  ...  08/05/2022 08:06   \n",
      "\n",
      "     Phase_duration Phase_start_delay  Phase_row_no  Flowrate_KGMIN  \\\n",
      "33                7               215            10         45.4429   \n",
      "60               19               486            10          6.2474   \n",
      "87               20               292            10         33.0100   \n",
      "114             190               412            10          3.3000   \n",
      "141              26               245            10         24.0731   \n",
      "...             ...               ...           ...             ...   \n",
      "9361              1               776            10        631.5260   \n",
      "9388             17               780            11         37.1372   \n",
      "9415             15               302            11         42.1549   \n",
      "9442              9               682            11         70.1419   \n",
      "9470             10               209            12         21.6511   \n",
      "\n",
      "      Target_Flowrate  Target_Phase_duration  Phase_overrun  \\\n",
      "33            45.2833                      7            0.0   \n",
      "60            29.5400                      4           15.0   \n",
      "87            65.4124                     10           10.0   \n",
      "114           65.4124                     10          180.0   \n",
      "141           65.4124                     10           16.0   \n",
      "...               ...                    ...            ...   \n",
      "9361          65.4124                     10            0.0   \n",
      "9388          65.4124                     10            7.0   \n",
      "9415          65.4124                     10            5.0   \n",
      "9442          65.4124                     10            0.0   \n",
      "9470          42.1559                      5            5.0   \n",
      "\n",
      "          Batch_Phase_Type  Deaeration_Phase  \n",
      "33    Mobile tank addition                 1  \n",
      "60    Mobile tank addition                 1  \n",
      "87    Mobile tank addition                 1  \n",
      "114   Mobile tank addition                 1  \n",
      "141   Mobile tank addition                 1  \n",
      "...                    ...               ...  \n",
      "9361  Mobile tank addition                 1  \n",
      "9388  Mobile tank addition                 1  \n",
      "9415  Mobile tank addition                 1  \n",
      "9442  Mobile tank addition                 1  \n",
      "9470  Mobile tank addition                 1  \n",
      "\n",
      "[283 rows x 22 columns]\n"
     ]
    }
   ],
   "source": [
    "#Select all the rows where the material is in the list below\n",
    "Deaeration_Phase = [1]\n",
    "df_filtered = uploaded[uploaded['Deaeration_Phase'].isin(Deaeration_Phase)]\n",
    "print(df_filtered)"
   ]
  },
  {
   "cell_type": "code",
   "execution_count": 11,
   "id": "7f48867b-29cc-4f55-b7c8-fda210e75fac",
   "metadata": {},
   "outputs": [
    {
     "name": "stdout",
     "output_type": "stream",
     "text": [
      "      Material      SKU_DESCRIPTION    BATCHID  \\\n",
      "6406   1775253  BCH OR/B-1580.00 P2  107618350   \n",
      "6436   1775253  BCH OR/B-1580.00 P2  107618351   \n",
      "6465   1775253  BCH OR/B-1580.00 P2  107650387   \n",
      "6497   1775253  BCH OR/B-1580.00 P2  107650388   \n",
      "6529   1775253  BCH OR/B-1580.00 P2  107659907   \n",
      "6560   1775253  BCH OR/B-1580.00 P2  107659908   \n",
      "6620   1775253  BCH OR/B-1580.00 P2  107710853   \n",
      "6650   1775253  BCH OR/B-1580.00 P2  107734577   \n",
      "6681   1775253  BCH OR/B-1580.00 P2  107734582   \n",
      "6712   1775253  BCH OR/B-1580.00 P2  107734590   \n",
      "6743   1775253  BCH OR/B-1580.00 P2  107749891   \n",
      "6773   1775253  BCH OR/B-1580.00 P2  107749892   \n",
      "6804   1775253  BCH OR/B-1580.00 P2  107755257   \n",
      "6835   1775253  BCH OR/B-1580.00 P2  107771597   \n",
      "6865   1775253  BCH OR/B-1580.00 P2  107771598   \n",
      "6896   1775253  BCH OR/B-1580.00 P2  107781794   \n",
      "6927   1775253  BCH OR/B-1580.00 P2  107781795   \n",
      "6958   1775253  BCH OR/B-1580.00 P2  107790571   \n",
      "6988   1775253  BCH OR/B-1580.00 P2  107790572   \n",
      "7019   1775253  BCH OR/B-1580.00 P2  107795782   \n",
      "7049   1775253  BCH OR/B-1580.00 P2  107833744   \n",
      "7079   1775253  BCH OR/B-1580.00 P2  107833745   \n",
      "7112   1775253  BCH OR/B-1580.00 P2  107845579   \n",
      "7143   1775253  BCH OR/B-1580.00 P2  107845580   \n",
      "7174   1775253  BCH OR/B-1580.00 P2  107848869   \n",
      "7205   1775253  BCH OR/B-1580.00 P2  107848870   \n",
      "7236   1775253  BCH OR/B-1580.00 P2  107884494   \n",
      "7269   1775253  BCH OR/B-1580.00 P2  107887070   \n",
      "7298   1775253  BCH OR/B-1580.00 P2  107899925   \n",
      "7326   1775253  BCH OR/B-1580.00 P2  107899926   \n",
      "7357   1775253  BCH OR/B-1580.00 P2  107915804   \n",
      "7387   1775253  BCH OR/B-1580.00 P2  107915805   \n",
      "7418   1775253  BCH OR/B-1580.00 P2  107926370   \n",
      "7449   1775253  BCH OR/B-1580.00 P2  107926371   \n",
      "7490   1775253  BCH OR/B-1580.00 P2  107963676   \n",
      "7512   1775253  BCH OR/B-1580.00 P2  107963677   \n",
      "7566   1775253  BCH OR/B-1580.00 P2  107964410   \n",
      "7594   1775253  BCH OR/B-1580.00 P2  107978117   \n",
      "7622   1775253  BCH OR/B-1580.00 P2  107978118   \n",
      "7650   1775253  BCH OR/B-1580.00 P2  107999493   \n",
      "7678   1775253  BCH OR/B-1580.00 P2  107999494   \n",
      "7707   1775253  BCH OR/B-1580.00 P2  108026759   \n",
      "7735   1775253  BCH OR/B-1580.00 P2  108026760   \n",
      "7762   1775253  BCH OR/B-1580.00 P2  108042635   \n",
      "7789   1775253  BCH OR/B-1580.00 P2  108042636   \n",
      "7817   1775253  BCH OR/B-1580.00 P2  108051514   \n",
      "7847   1775253  BCH OR/B-1580.00 P2  108067815   \n",
      "7878   1775253  BCH OR/B-1580.00 P2  108067816   \n",
      "7909   1775253  BCH OR/B-1580.00 P2  108067817   \n",
      "7940   1775253  BCH OR/B-1580.00 P2  108084745   \n",
      "7971   1775253  BCH OR/B-1580.00 P2  108084746   \n",
      "8002   1775253  BCH OR/B-1580.00 P2  108084747   \n",
      "\n",
      "                                                 Recipe  Tank      Unit  \\\n",
      "6406  10166574:P_BBS23_50140245_00\\EM_23MT_SEQ1_UP:1...  U_23  U_23MT04   \n",
      "6436  10166573:P_BBS23_50140245_00\\EM_23MT_SEQ1_UP:1...  U_23  U_23MT05   \n",
      "6465  10167221:P_BBS23_50140245_00\\EM_23MT_SEQ1_UP:1...  U_23  U_23MT02   \n",
      "6497  10167222:P_BBS23_50140245_00\\EM_23MT_SEQ1_UP:1...  U_23  U_23MT05   \n",
      "6529  10167419:P_BBS23_50140245_00\\EM_23MT_SEQ1_UP:1...  U_23  U_23MT05   \n",
      "6560  10167420:P_BBS23_50140245_00\\EM_23MT_SEQ1_UP:1...  U_23  U_23MT01   \n",
      "6620  10168641:P_BBS23_50140245_00\\EM_23MT_SEQ1_UP:1...  U_23  U_23MT01   \n",
      "6650  10168885:P_BBS23_50140245_00\\EM_23MT_SEQ1_UP:1...  U_23  U_23MT02   \n",
      "6681  10168950:P_BBS23_50140245_00\\EM_23MT_SEQ1_UP:1...  U_23  U_23MT01   \n",
      "6712  10168951:P_BBS23_50140245_00\\EM_23MT_SEQ1_UP:1...  U_23  U_23MT04   \n",
      "6743  10169400:P_BBS23_50140245_00\\EM_23MT_SEQ1_UP:1...  U_23  U_23MT02   \n",
      "6773  10169402:P_BBS23_50140245_00\\EM_23MT_SEQ1_UP:1...  U_23  U_23MT04   \n",
      "6804  10169401:P_BBS23_50140245_00\\EM_23MT_SEQ1_UP:1...  U_23  U_23MT01   \n",
      "6835  10169874:P_BBS23_50140245_00\\EM_23MT_SEQ1_UP:1...  U_23  U_23MT01   \n",
      "6865  10169875:P_BBS23_50140245_00\\EM_23MT_SEQ1_UP:1...  U_23  U_23MT05   \n",
      "6896  10170147:P_BBS23_50140245_00\\EM_23MT_SEQ1_UP:1...  U_23  U_23MT04   \n",
      "6927  10170148:P_BBS23_50140245_00\\EM_23MT_SEQ1_UP:1...  U_23  U_23MT05   \n",
      "6958  10170422:P_BBS23_50140245_00\\EM_23MT_SEQ1_UP:1...  U_23  U_23MT02   \n",
      "6988  10170423:P_BBS23_50140245_00\\EM_23MT_SEQ1_UP:1...  U_23  U_23MT05   \n",
      "7019  10170424:P_BBS23_50140245_00\\EM_23MT_SEQ1_UP:1...  U_23  U_23MT04   \n",
      "7049  10171543:P_BBS23_50140245_00\\EM_23MT_SEQ1_UP:1...  U_23  U_23MT04   \n",
      "7079  10171544:P_BBS23_50140245_00\\EM_23MT_SEQ1_UP:1...  U_23  U_23MT01   \n",
      "7112  10171749:P_BBS23_50140245_00\\EM_23MT_SEQ1_UP:1...  U_23  U_23MT04   \n",
      "7143  10171748:P_BBS23_50140245_00\\EM_23MT_SEQ1_UP:1...  U_23  U_23MT05   \n",
      "7174  10171989:P_BBS23_50140245_00\\EM_23MT_SEQ1_UP:1...  U_23  U_23MT04   \n",
      "7205  10171990:P_BBS23_50140245_00\\EM_23MT_SEQ1_UP:1...  U_23  U_23MT05   \n",
      "7236  10172904:P_BBS23_50140245_00\\EM_23MT_SEQ1_UP:1...  U_23  U_23MT02   \n",
      "7269  10172905:P_BBS23_50140245_00\\EM_23MT_SEQ1_UP:1...  U_23  U_23MT04   \n",
      "7298  10173353:P_BBS22_50140246_00\\EM_22MT_SEQ1_UP:1...  U_22  U_22MT04   \n",
      "7326  10173354:P_BBS22_50140246_00\\EM_22MT_SEQ1_UP:1...  U_22  U_22MT02   \n",
      "7357  10173718:P_BBS23_50140245_00\\EM_23MT_SEQ1_UP:1...  U_23  U_23MT05   \n",
      "7387  10173719:P_BBS23_50140245_00\\EM_23MT_SEQ1_UP:1...  U_23  U_23MT04   \n",
      "7418  10173945:P_BBS23_50140245_00\\EM_23MT_SEQ1_UP:1...  U_23  U_23MT02   \n",
      "7449  10173946:P_BBS23_50140245_00\\EM_23MT_SEQ1_UP:1...  U_23  U_23MT04   \n",
      "7490  10174694:P_BBS22_50140246_00\\EM_22MT_SEQ1_UP:1...  U_22  U_22MT03   \n",
      "7512  10174695:P_BBS22_50140246_00\\EM_22MT_SEQ1_UP:1...  U_22  U_22MT02   \n",
      "7566  10174854:P_BBS22_50140246_00\\EM_22MT_SEQ1_UP:1...  U_22  U_22MT02   \n",
      "7594  10175438:P_BBS22_50140246_00\\EM_22MT_SEQ1_UP:1...  U_22  U_22MT03   \n",
      "7622  10175437:P_BBS22_50140246_00\\EM_22MT_SEQ1_UP:1...  U_22  U_22MT04   \n",
      "7650  10176063:P_BBS22_50140246_00\\EM_22MT_SEQ1_UP:1...  U_22  U_22MT04   \n",
      "7678  10176064:P_BBS22_50140246_00\\EM_22MT_SEQ1_UP:1...  U_22  U_22MT02   \n",
      "7707  10176549:P_BBS22_50140246_00\\EM_22MT_SEQ1_UP:1...  U_22  U_22MT02   \n",
      "7735  10176550:P_BBS22_50140246_00\\EM_22MT_SEQ1_UP:1...  U_22  U_22MT04   \n",
      "7762  10176969:P_BBS22_50140246_00\\EM_22MT_SEQ1_UP:1...  U_22  U_22MT04   \n",
      "7789  10176970:P_BBS22_50140246_00\\EM_22MT_SEQ1_UP:1...  U_22  U_22MT03   \n",
      "7817  10177173:P_BBS22_50140246_00\\EM_22MT_SEQ1_UP:1...  U_22  U_22MT03   \n",
      "7847  10177595:P_BBS23_50140245_00\\EM_23MT_SEQ1_UP:1...  U_23  U_23MT02   \n",
      "7878  10177596:P_BBS23_50140245_00\\EM_23MT_SEQ1_UP:1...  U_23  U_23MT05   \n",
      "7909  10177597:P_BBS23_50140245_00\\EM_23MT_SEQ1_UP:1...  U_23  U_23MT01   \n",
      "7940  10178103:P_BBS23_50140245_00\\EM_23MT_SEQ1_UP:1...  U_23  U_23MT02   \n",
      "7971  10178104:P_BBS23_50140245_00\\EM_23MT_SEQ1_UP:1...  U_23  U_23MT04   \n",
      "8002  10178105:P_BBS23_50140245_00\\EM_23MT_SEQ1_UP:1...  U_23  U_23MT05   \n",
      "\n",
      "     Instruction_Step Source Material_ID Material_Name  ...         Phase_end  \\\n",
      "6406       STEP2_CONS   CONS  U_85MT98_1           NaN  ...  27/02/2022 00:24   \n",
      "6436       STEP2_CONS   CONS  U_85MT96_1           NaN  ...  27/02/2022 03:44   \n",
      "6465       STEP2_CONS   CONS  U_85MT27_1           NaN  ...  20/03/2022 08:39   \n",
      "6497       STEP2_CONS   CONS  U_85MT27_1           NaN  ...  20/03/2022 10:26   \n",
      "6529       STEP2_CONS   CONS  U_85MT25_1           NaN  ...  26/03/2022 23:45   \n",
      "6560       STEP2_CONS   CONS  U_85MT25_1           NaN  ...  27/03/2022 02:10   \n",
      "6620       STEP2_CONS   CONS  U_86MT06_1           NaN  ...  30/04/2022 21:15   \n",
      "6650       STEP2_CONS   CONS  U_85MT38_1           NaN  ...  09/05/2022 09:49   \n",
      "6681       STEP2_CONS   CONS  U_86MT11_1           NaN  ...  14/05/2022 16:16   \n",
      "6712       STEP2_CONS   CONS  U_86MT11_1           NaN  ...  15/05/2022 00:55   \n",
      "6743       STEP2_CONS   CONS  U_85MT25_1           NaN  ...  29/05/2022 11:08   \n",
      "6773       STEP2_CONS   CONS  U_85MT25_1           NaN  ...  29/05/2022 14:31   \n",
      "6804       STEP2_CONS   CONS  U_85MT25_1           NaN  ...  29/05/2022 08:22   \n",
      "6835       STEP2_CONS   CONS  U_85MT11_1           NaN  ...  11/06/2022 23:45   \n",
      "6865       STEP2_CONS   CONS  U_85MT11_1           NaN  ...  12/06/2022 06:43   \n",
      "6896       STEP2_CONS   CONS  U_85MT11_1           NaN  ...  20/06/2022 21:03   \n",
      "6927       STEP2_CONS   CONS  U_85MT11_1           NaN  ...  21/06/2022 01:00   \n",
      "6958       STEP2_CONS   CONS  U_85MT96_1           NaN  ...  25/06/2022 17:43   \n",
      "6988       STEP2_CONS   CONS  U_85MT96_1           NaN  ...  25/06/2022 18:51   \n",
      "7019       STEP2_CONS   CONS  U_85MT96_1           NaN  ...  25/06/2022 22:30   \n",
      "7049       STEP2_CONS   CONS  U_86MT09_1           NaN  ...  23/07/2022 08:35   \n",
      "7079       STEP2_CONS   CONS  U_86MT09_1           NaN  ...  23/07/2022 10:41   \n",
      "7112       STEP2_CONS   CONS  U_86MT07_1           NaN  ...  30/07/2022 14:34   \n",
      "7143       STEP2_CONS   CONS  U_86MT07_1           NaN  ...  30/07/2022 10:51   \n",
      "7174       STEP2_CONS   CONS  U_85MT16_1           NaN  ...  06/08/2022 11:09   \n",
      "7205       STEP2_CONS   CONS  U_85MT16_1           NaN  ...  06/08/2022 12:47   \n",
      "7236       STEP2_CONS   CONS  U_85MT25_1           NaN  ...  03/09/2022 20:44   \n",
      "7269       STEP2_CONS   CONS  U_85MT25_1           NaN  ...  03/09/2022 21:44   \n",
      "7298       STEP2_CONS   CONS  U_85MT24_1           NaN  ...  17/09/2022 15:19   \n",
      "7326       STEP2_CONS   CONS  U_85MT24_1           NaN  ...  17/09/2022 20:53   \n",
      "7357       STEP2_CONS   CONS  U_85MT10_1           NaN  ...  01/10/2022 23:37   \n",
      "7387       STEP2_CONS   CONS  U_85MT10_1           NaN  ...  02/10/2022 03:34   \n",
      "7418       STEP2_CONS   CONS  U_85MT22_1           NaN  ...  08/10/2022 10:11   \n",
      "7449       STEP2_CONS   CONS  U_85MT22_1           NaN  ...  08/10/2022 14:20   \n",
      "7490       STEP2_CONS   CONS  U_85MT97_1           NaN  ...  01/11/2022 10:42   \n",
      "7512       STEP2_CONS   CONS  U_85MT97_1           NaN  ...  01/11/2022 11:41   \n",
      "7566       STEP2_CONS   CONS  U_85MT93_1           NaN  ...  12/11/2022 11:54   \n",
      "7594       STEP2_CONS   CONS  U_85MT22_1           NaN  ...  26/11/2022 11:38   \n",
      "7622       STEP2_CONS   CONS  U_85MT22_1           NaN  ...  26/11/2022 15:05   \n",
      "7650       STEP2_CONS   CONS  U_85MT25_1           NaN  ...  17/12/2022 11:45   \n",
      "7678       STEP2_CONS   CONS  U_85MT25_1           NaN  ...  17/12/2022 14:08   \n",
      "7707       STEP2_CONS   CONS  U_85MT18_1           NaN  ...  14/01/2023 10:26   \n",
      "7735       STEP2_CONS   CONS  U_85MT18_1           NaN  ...  14/01/2023 11:33   \n",
      "7762       STEP2_CONS   CONS  U_85MT25_1           NaN  ...  28/01/2023 10:20   \n",
      "7789       STEP2_CONS   CONS  U_86MT06_1           NaN  ...  28/01/2023 11:35   \n",
      "7817       STEP2_CONS   CONS  U_85MT23_1           NaN  ...  04/02/2023 22:41   \n",
      "7847       STEP2_CONS   CONS  U_86MT09_1           NaN  ...  18/02/2023 11:34   \n",
      "7878       STEP2_CONS   CONS  U_86MT09_1           NaN  ...  18/02/2023 19:47   \n",
      "7909       STEP2_CONS   CONS  U_85MT10_1           NaN  ...  18/02/2023 23:39   \n",
      "7940       STEP2_CONS   CONS  U_85MT99_1           NaN  ...  04/03/2023 15:23   \n",
      "7971       STEP2_CONS   CONS  U_85MT28_1           NaN  ...  05/03/2023 01:32   \n",
      "8002       STEP2_CONS   CONS  U_85MT28_1           NaN  ...  05/03/2023 05:01   \n",
      "\n",
      "     Phase_duration Phase_start_delay  Phase_row_no  Flowrate_KGMIN  \\\n",
      "6406             12              3686            14        135.9583   \n",
      "6436            373              3322            14          4.3737   \n",
      "6465             56              4789            14         14.5732   \n",
      "6497            163              4429            14          5.0037   \n",
      "6529             21              3195            14         38.8429   \n",
      "6560            165              2867            14          4.9430   \n",
      "6620             11              3458            14        148.3545   \n",
      "6650              8               886            14        102.0000   \n",
      "6681             24              3171            14         33.9583   \n",
      "6712             15              3568            14         54.3733   \n",
      "6743             15              3853            14        108.7467   \n",
      "6773              9              4256            14         90.6111   \n",
      "6804             69              3703            14         23.6420   \n",
      "6835             13              1741            14        125.5000   \n",
      "6865             11              2161            14        148.2909   \n",
      "6896             12              3570            14        135.9333   \n",
      "6927             38              3801            14         21.4921   \n",
      "6958              9              2196            14        181.3556   \n",
      "6988             56              2148            14         14.5607   \n",
      "7019             65              2072            14         25.1015   \n",
      "7049             17              1590            14         95.9529   \n",
      "7079             10              1606            14         81.6300   \n",
      "7112            208              2957            14          3.9250   \n",
      "7143             13              2848            14         62.7615   \n",
      "7174              5              2567            14        326.4200   \n",
      "7205             94              2514            14          8.6851   \n",
      "7236             10              3108            14         81.5600   \n",
      "7269             30              3265            14         27.1867   \n",
      "7298             16              1839            12         50.9786   \n",
      "7326             14              2175            12         58.2571   \n",
      "7357             12              3918            14        135.9500   \n",
      "7387             19              3771            14         42.9316   \n",
      "7418              9              3250            14         90.6333   \n",
      "7449             12              3389            14        135.9500   \n",
      "7490             48              5376             7         17.0000   \n",
      "7512             30              5296             7         27.1667   \n",
      "7566             51              2863            12         16.0020   \n",
      "7594             13              2206            12         62.6846   \n",
      "7622             23              2190            12         35.5174   \n",
      "7650             11              2903            12         74.3091   \n",
      "7678             61              2778            12         13.3607   \n",
      "7707             19              3489            12         42.9421   \n",
      "7735             55              3097            12         29.6727   \n",
      "7762              7              3490            12        233.1000   \n",
      "7789             17              3523            12         47.9941   \n",
      "7817             63              3871            12         12.9492   \n",
      "7847             14              3443            14        116.4571   \n",
      "7878             15              3935            14         54.3933   \n",
      "7909            243              3757            14          3.3551   \n",
      "7940             10              3679            14         81.5400   \n",
      "7971             18              4233            14         45.3500   \n",
      "8002             18              4425            14         45.2222   \n",
      "\n",
      "      Target_Flowrate  Target_Phase_duration  Phase_overrun  \\\n",
      "6406           79.016                     21            0.0   \n",
      "6436           79.016                     21          352.0   \n",
      "6465           79.016                     10           46.0   \n",
      "6497           79.016                     10          153.0   \n",
      "6529           79.016                     10           11.0   \n",
      "6560           79.016                     10          155.0   \n",
      "6620           79.016                     21            0.0   \n",
      "6650           79.016                     10            0.0   \n",
      "6681           79.016                     10           14.0   \n",
      "6712           79.016                     10            5.0   \n",
      "6743           79.016                     21            0.0   \n",
      "6773           79.016                     10            0.0   \n",
      "6804           79.016                     21           48.0   \n",
      "6835           79.016                     21            0.0   \n",
      "6865           79.016                     21            0.0   \n",
      "6896           79.016                     21            0.0   \n",
      "6927           79.016                     10           28.0   \n",
      "6958           79.016                     21            0.0   \n",
      "6988           79.016                     10           46.0   \n",
      "7019           79.016                     21           44.0   \n",
      "7049           79.016                     21            0.0   \n",
      "7079           79.016                     10            0.0   \n",
      "7112           79.016                     10          198.0   \n",
      "7143           79.016                     10            3.0   \n",
      "7174           79.016                     21            0.0   \n",
      "7205           79.016                     10           84.0   \n",
      "7236           79.016                     10            0.0   \n",
      "7269           79.016                     10           20.0   \n",
      "7298           79.016                     10            6.0   \n",
      "7326           79.016                     10            4.0   \n",
      "7357           79.016                     21            0.0   \n",
      "7387           79.016                     10            9.0   \n",
      "7418           79.016                     10            0.0   \n",
      "7449           79.016                     21            0.0   \n",
      "7490           79.016                     10           38.0   \n",
      "7512           79.016                     10           20.0   \n",
      "7566           79.016                     10           41.0   \n",
      "7594           79.016                     10            3.0   \n",
      "7622           79.016                     10           13.0   \n",
      "7650           79.016                     10            1.0   \n",
      "7678           79.016                     10           51.0   \n",
      "7707           79.016                     10            9.0   \n",
      "7735           79.016                     21           34.0   \n",
      "7762           79.016                     21            0.0   \n",
      "7789           79.016                     10            7.0   \n",
      "7817           79.016                     10           53.0   \n",
      "7847           79.016                     21            0.0   \n",
      "7878           79.016                     10            5.0   \n",
      "7909           79.016                     10          233.0   \n",
      "7940           79.016                     10            0.0   \n",
      "7971           79.016                     10            8.0   \n",
      "8002           79.016                     10            8.0   \n",
      "\n",
      "          Batch_Phase_Type  Deaeration_Phase  \n",
      "6406  Mobile tank addition                 1  \n",
      "6436  Mobile tank addition                 1  \n",
      "6465  Mobile tank addition                 1  \n",
      "6497  Mobile tank addition                 1  \n",
      "6529  Mobile tank addition                 1  \n",
      "6560  Mobile tank addition                 1  \n",
      "6620  Mobile tank addition                 1  \n",
      "6650  Mobile tank addition                 1  \n",
      "6681  Mobile tank addition                 1  \n",
      "6712  Mobile tank addition                 1  \n",
      "6743  Mobile tank addition                 1  \n",
      "6773  Mobile tank addition                 1  \n",
      "6804  Mobile tank addition                 1  \n",
      "6835  Mobile tank addition                 1  \n",
      "6865  Mobile tank addition                 1  \n",
      "6896  Mobile tank addition                 1  \n",
      "6927  Mobile tank addition                 1  \n",
      "6958  Mobile tank addition                 1  \n",
      "6988  Mobile tank addition                 1  \n",
      "7019  Mobile tank addition                 1  \n",
      "7049  Mobile tank addition                 1  \n",
      "7079  Mobile tank addition                 1  \n",
      "7112  Mobile tank addition                 1  \n",
      "7143  Mobile tank addition                 1  \n",
      "7174  Mobile tank addition                 1  \n",
      "7205  Mobile tank addition                 1  \n",
      "7236  Mobile tank addition                 1  \n",
      "7269  Mobile tank addition                 1  \n",
      "7298  Mobile tank addition                 1  \n",
      "7326  Mobile tank addition                 1  \n",
      "7357  Mobile tank addition                 1  \n",
      "7387  Mobile tank addition                 1  \n",
      "7418  Mobile tank addition                 1  \n",
      "7449  Mobile tank addition                 1  \n",
      "7490  Mobile tank addition                 1  \n",
      "7512  Mobile tank addition                 1  \n",
      "7566  Mobile tank addition                 1  \n",
      "7594  Mobile tank addition                 1  \n",
      "7622  Mobile tank addition                 1  \n",
      "7650  Mobile tank addition                 1  \n",
      "7678  Mobile tank addition                 1  \n",
      "7707  Mobile tank addition                 1  \n",
      "7735  Mobile tank addition                 1  \n",
      "7762  Mobile tank addition                 1  \n",
      "7789  Mobile tank addition                 1  \n",
      "7817  Mobile tank addition                 1  \n",
      "7847  Mobile tank addition                 1  \n",
      "7878  Mobile tank addition                 1  \n",
      "7909  Mobile tank addition                 1  \n",
      "7940  Mobile tank addition                 1  \n",
      "7971  Mobile tank addition                 1  \n",
      "8002  Mobile tank addition                 1  \n",
      "\n",
      "[52 rows x 22 columns]\n"
     ]
    }
   ],
   "source": [
    "# Filter the df vy the most commonly produced material 1775253 in terms of the deaeration phase\n",
    "df_filtered1 = df_filtered[(df_filtered['Material'] == 1775253)]\n",
    "print(df_filtered1)"
   ]
  },
  {
   "cell_type": "code",
   "execution_count": 77,
   "id": "71e76d0a-c59a-4916-8211-f48734307e0d",
   "metadata": {},
   "outputs": [
    {
     "data": {
      "text/plain": [
       "U_23MT04    12\n",
       "U_23MT05    11\n",
       "U_23MT02     8\n",
       "U_23MT01     7\n",
       "U_22MT02     5\n",
       "U_22MT04     5\n",
       "U_22MT03     4\n",
       "Name: Unit, dtype: int64"
      ]
     },
     "execution_count": 77,
     "metadata": {},
     "output_type": "execute_result"
    }
   ],
   "source": [
    "# Determines the number of tank units used to produce the 52 batches of the material over a time period\n",
    "Unit=df_filtered1. Unit.value_counts()\n",
    "Unit"
   ]
  },
  {
   "cell_type": "code",
   "execution_count": 81,
   "id": "c8bdbc47-7b2d-4535-8ded-32ead92f9ba0",
   "metadata": {},
   "outputs": [],
   "source": [
    "#import pandas as pd\n",
    "\n",
    "# Assuming df_filtered1 DataFrames are defined\n",
    "\n",
    "# Create a new column 'QuantityRange' in df_filtered1 based on the 'Quantity' values of the deaeration phases , this is not the total quantity of the batch\n",
    "#df_filtered1['QuantityRange'] = pd.cut(df_filtered1['Quantity'], bins=2, labels=['QuantityRange <= 1000', 'QuantityRange >= 1200'])\n",
    "\n",
    "#print(df_filtered1)"
   ]
  },
  {
   "cell_type": "code",
   "execution_count": 82,
   "id": "faa03187-f433-4ef3-a0fa-1a306d853f1f",
   "metadata": {},
   "outputs": [
    {
     "data": {
      "text/html": [
       "<div>\n",
       "<style scoped>\n",
       "    .dataframe tbody tr th:only-of-type {\n",
       "        vertical-align: middle;\n",
       "    }\n",
       "\n",
       "    .dataframe tbody tr th {\n",
       "        vertical-align: top;\n",
       "    }\n",
       "\n",
       "    .dataframe thead th {\n",
       "        text-align: right;\n",
       "    }\n",
       "</style>\n",
       "<table border=\"1\" class=\"dataframe\">\n",
       "  <thead>\n",
       "    <tr style=\"text-align: right;\">\n",
       "      <th></th>\n",
       "      <th>Material</th>\n",
       "      <th>BATCHID</th>\n",
       "      <th>Quantity</th>\n",
       "      <th>Phase_duration</th>\n",
       "      <th>Phase_start_delay</th>\n",
       "      <th>Phase_row_no</th>\n",
       "      <th>Flowrate_KGMIN</th>\n",
       "      <th>Target_Flowrate</th>\n",
       "      <th>Target_Phase_duration</th>\n",
       "      <th>Phase_overrun</th>\n",
       "      <th>Deaeration_Phase</th>\n",
       "    </tr>\n",
       "  </thead>\n",
       "  <tbody>\n",
       "    <tr>\n",
       "      <th>count</th>\n",
       "      <td>52.0</td>\n",
       "      <td>5.200000e+01</td>\n",
       "      <td>52.000000</td>\n",
       "      <td>52.000000</td>\n",
       "      <td>52.000000</td>\n",
       "      <td>52.000000</td>\n",
       "      <td>52.000000</td>\n",
       "      <td>5.200000e+01</td>\n",
       "      <td>52.000000</td>\n",
       "      <td>52.000000</td>\n",
       "      <td>52.0</td>\n",
       "    </tr>\n",
       "    <tr>\n",
       "      <th>mean</th>\n",
       "      <td>1775253.0</td>\n",
       "      <td>1.078715e+08</td>\n",
       "      <td>1082.443423</td>\n",
       "      <td>44.807692</td>\n",
       "      <td>3196.596154</td>\n",
       "      <td>13.269231</td>\n",
       "      <td>68.835633</td>\n",
       "      <td>7.901600e+01</td>\n",
       "      <td>13.596154</td>\n",
       "      <td>33.653846</td>\n",
       "      <td>1.0</td>\n",
       "    </tr>\n",
       "    <tr>\n",
       "      <th>std</th>\n",
       "      <td>0.0</td>\n",
       "      <td>1.389786e+05</td>\n",
       "      <td>386.376422</td>\n",
       "      <td>68.704550</td>\n",
       "      <td>937.041679</td>\n",
       "      <td>1.522580</td>\n",
       "      <td>63.748134</td>\n",
       "      <td>4.304850e-14</td>\n",
       "      <td>5.210320</td>\n",
       "      <td>67.691018</td>\n",
       "      <td>0.0</td>\n",
       "    </tr>\n",
       "    <tr>\n",
       "      <th>min</th>\n",
       "      <td>1775253.0</td>\n",
       "      <td>1.076184e+08</td>\n",
       "      <td>814.000000</td>\n",
       "      <td>5.000000</td>\n",
       "      <td>886.000000</td>\n",
       "      <td>7.000000</td>\n",
       "      <td>3.355100</td>\n",
       "      <td>7.901600e+01</td>\n",
       "      <td>10.000000</td>\n",
       "      <td>0.000000</td>\n",
       "      <td>1.0</td>\n",
       "    </tr>\n",
       "    <tr>\n",
       "      <th>25%</th>\n",
       "      <td>1775253.0</td>\n",
       "      <td>1.077675e+08</td>\n",
       "      <td>815.600000</td>\n",
       "      <td>12.000000</td>\n",
       "      <td>2553.750000</td>\n",
       "      <td>12.000000</td>\n",
       "      <td>23.104525</td>\n",
       "      <td>7.901600e+01</td>\n",
       "      <td>10.000000</td>\n",
       "      <td>0.000000</td>\n",
       "      <td>1.0</td>\n",
       "    </tr>\n",
       "    <tr>\n",
       "      <th>50%</th>\n",
       "      <td>1775253.0</td>\n",
       "      <td>1.078667e+08</td>\n",
       "      <td>816.050000</td>\n",
       "      <td>17.000000</td>\n",
       "      <td>3293.500000</td>\n",
       "      <td>14.000000</td>\n",
       "      <td>49.486350</td>\n",
       "      <td>7.901600e+01</td>\n",
       "      <td>10.000000</td>\n",
       "      <td>6.500000</td>\n",
       "      <td>1.0</td>\n",
       "    </tr>\n",
       "    <tr>\n",
       "      <th>75%</th>\n",
       "      <td>1775253.0</td>\n",
       "      <td>1.079835e+08</td>\n",
       "      <td>1631.200000</td>\n",
       "      <td>52.000000</td>\n",
       "      <td>3760.500000</td>\n",
       "      <td>14.000000</td>\n",
       "      <td>97.464675</td>\n",
       "      <td>7.901600e+01</td>\n",
       "      <td>21.000000</td>\n",
       "      <td>38.750000</td>\n",
       "      <td>1.0</td>\n",
       "    </tr>\n",
       "    <tr>\n",
       "      <th>max</th>\n",
       "      <td>1775253.0</td>\n",
       "      <td>1.080847e+08</td>\n",
       "      <td>1632.200000</td>\n",
       "      <td>373.000000</td>\n",
       "      <td>5376.000000</td>\n",
       "      <td>14.000000</td>\n",
       "      <td>326.420000</td>\n",
       "      <td>7.901600e+01</td>\n",
       "      <td>21.000000</td>\n",
       "      <td>352.000000</td>\n",
       "      <td>1.0</td>\n",
       "    </tr>\n",
       "  </tbody>\n",
       "</table>\n",
       "</div>"
      ],
      "text/plain": [
       "        Material       BATCHID     Quantity  Phase_duration  \\\n",
       "count       52.0  5.200000e+01    52.000000       52.000000   \n",
       "mean   1775253.0  1.078715e+08  1082.443423       44.807692   \n",
       "std          0.0  1.389786e+05   386.376422       68.704550   \n",
       "min    1775253.0  1.076184e+08   814.000000        5.000000   \n",
       "25%    1775253.0  1.077675e+08   815.600000       12.000000   \n",
       "50%    1775253.0  1.078667e+08   816.050000       17.000000   \n",
       "75%    1775253.0  1.079835e+08  1631.200000       52.000000   \n",
       "max    1775253.0  1.080847e+08  1632.200000      373.000000   \n",
       "\n",
       "       Phase_start_delay  Phase_row_no  Flowrate_KGMIN  Target_Flowrate  \\\n",
       "count          52.000000     52.000000       52.000000     5.200000e+01   \n",
       "mean         3196.596154     13.269231       68.835633     7.901600e+01   \n",
       "std           937.041679      1.522580       63.748134     4.304850e-14   \n",
       "min           886.000000      7.000000        3.355100     7.901600e+01   \n",
       "25%          2553.750000     12.000000       23.104525     7.901600e+01   \n",
       "50%          3293.500000     14.000000       49.486350     7.901600e+01   \n",
       "75%          3760.500000     14.000000       97.464675     7.901600e+01   \n",
       "max          5376.000000     14.000000      326.420000     7.901600e+01   \n",
       "\n",
       "       Target_Phase_duration  Phase_overrun  Deaeration_Phase  \n",
       "count              52.000000      52.000000              52.0  \n",
       "mean               13.596154      33.653846               1.0  \n",
       "std                 5.210320      67.691018               0.0  \n",
       "min                10.000000       0.000000               1.0  \n",
       "25%                10.000000       0.000000               1.0  \n",
       "50%                10.000000       6.500000               1.0  \n",
       "75%                21.000000      38.750000               1.0  \n",
       "max                21.000000     352.000000               1.0  "
      ]
     },
     "execution_count": 82,
     "metadata": {},
     "output_type": "execute_result"
    }
   ],
   "source": [
    "df_filtered1.describe()"
   ]
  },
  {
   "cell_type": "markdown",
   "id": "4a3c10c3-a98c-4c4d-941f-25baf3963292",
   "metadata": {},
   "source": [
    "Box plots\n",
    "\n",
    "Another way of analyzing numerical data would be to use box plots. Box plot shows us the median of the data, which represents where the middle data point is. The upper and lower quartiles represent the 75 and 25 percentile of the data respectively. The upper and lower extremes shows us the extreme ends of the distribution of our data. Finally, it also represents outliers, which occur outside the upper and lower extremes."
   ]
  },
  {
   "cell_type": "code",
   "execution_count": 85,
   "id": "532b830a-7a07-4f4a-bdf5-6345ccd1d8d5",
   "metadata": {},
   "outputs": [
    {
     "data": {
      "image/png": "[encoded data removed]",
      "text/plain": [
       "<Figure size 648x288 with 1 Axes>"
      ]
     },
     "metadata": {
      "needs_background": "light"
     },
     "output_type": "display_data"
    }
   ],
   "source": [
    "# Count the number of batches per tank\n",
    "batch_counts = df_filtered1['Unit'].value_counts()\n",
    "\n",
    "# Plot the bar chart\n",
    "plt.figure(figsize = (9,4))\n",
    "plt.bar(batch_counts.index, batch_counts.values)\n",
    "plt.xlabel('Unit')\n",
    "plt.ylabel('Number of Batches')\n",
    "plt.title('Number of Batches per Tank')\n",
    "plt.show()"
   ]
  },
  {
   "cell_type": "code",
   "execution_count": null,
   "id": "33055bb2-29d1-44b8-84f0-2d211f559b14",
   "metadata": {},
   "outputs": [],
   "source": []
  },
  {
   "cell_type": "code",
   "execution_count": 88,
   "id": "f731c04b-9f1f-4942-b196-1d79f1ab5cf0",
   "metadata": {},
   "outputs": [
    {
     "data": {
      "image/png": "[encoded data removed]",
      "text/plain": [
       "<Figure size 648x288 with 1 Axes>"
      ]
     },
     "metadata": {
      "needs_background": "light"
     },
     "output_type": "display_data"
    }
   ],
   "source": [
    "plt.figure(figsize = (9,4))\n",
    "sns.boxplot(data =df_filtered1,x = 'Phase_duration',y =\"Unit\")\n",
    "plt.title(\"Unit-wise Distribution of Price\", fontsize = 18)\n",
    "plt.ylabel(\"Phase_duration\", fontsize = 15)\n",
    "plt.xlabel(\"Unit\",fontsize = 15)\n",
    "plt.show()"
   ]
  },
  {
   "cell_type": "code",
   "execution_count": null,
   "id": "f47dfabb-0c91-4e0c-856f-5d5aa7be530e",
   "metadata": {},
   "outputs": [],
   "source": []
  },
  {
   "cell_type": "code",
   "execution_count": null,
   "id": "a26b402a-49c3-4f11-9929-f6acbd8435a8",
   "metadata": {},
   "outputs": [],
   "source": []
  },
  {
   "cell_type": "code",
   "execution_count": 12,
   "id": "3853975f-4ad9-4aab-99a2-f4169bf6307b",
   "metadata": {},
   "outputs": [],
   "source": [
    "#pip install matplotlib "
   ]
  },
  {
   "cell_type": "code",
   "execution_count": null,
   "id": "c2942f0e-3d5b-43ee-b7bd-537cb413ed95",
   "metadata": {},
   "outputs": [],
   "source": [
    "#Determine any correlations between the variables in the df above "
   ]
  },
  {
   "cell_type": "code",
   "execution_count": 90,
   "id": "9c689ee6-238b-4928-bed4-12d973a7cdb8",
   "metadata": {},
   "outputs": [
    {
     "data": {
      "image/png": "[encoded data removed]",
      "text/plain": [
       "<Figure size 432x288 with 2 Axes>"
      ]
     },
     "metadata": {
      "needs_background": "light"
     },
     "output_type": "display_data"
    }
   ],
   "source": [
    "sns.heatmap(df_filtered1.isnull())\n",
    "plt.show()"
   ]
  },
  {
   "cell_type": "code",
   "execution_count": 91,
   "id": "4f228711-b497-4cda-86d4-790e3d5627d2",
   "metadata": {},
   "outputs": [
    {
     "data": {
      "image/png": "[encoded data removed]",
      "text/plain": [
       "<Figure size 432x288 with 2 Axes>"
      ]
     },
     "metadata": {
      "needs_background": "light"
     },
     "output_type": "display_data"
    }
   ],
   "source": [
    "correlation_matrix = df_filtered1.corr()\n",
    "sns.heatmap(correlation_matrix, annot=True)\n",
    "plt.show()"
   ]
  },
  {
   "cell_type": "code",
   "execution_count": 13,
   "id": "f2e547ba-1bfb-42cc-b02b-119946e489b2",
   "metadata": {},
   "outputs": [
    {
     "name": "stderr",
     "output_type": "stream",
     "text": [
      "C:\\Users\\User\\anaconda3\\lib\\site-packages\\scipy\\__init__.py:146: UserWarning: A NumPy version >=1.16.5 and <1.23.0 is required for this version of SciPy (detected version 1.24.4\n",
      "  warnings.warn(f\"A NumPy version >={np_minversion} and <{np_maxversion}\"\n"
     ]
    }
   ],
   "source": [
    "import matplotlib.pyplot as plt\n",
    "import seaborn as sns"
   ]
  },
  {
   "cell_type": "code",
   "execution_count": 14,
   "id": "8e629887-65d1-4784-b024-53289560ac81",
   "metadata": {},
   "outputs": [
    {
     "data": {
      "image/png": "[encoded data removed]",
      "text/plain": [
       "<Figure size 648x288 with 1 Axes>"
      ]
     },
     "metadata": {
      "needs_background": "light"
     },
     "output_type": "display_data"
    }
   ],
   "source": [
    "plt.figure(figsize = (9,4))\n",
    "sns.boxplot(data =df_filtered1,x = 'Phase_duration',y =\"Unit\")\n",
    "plt.title(\"Unit-wise Distribution of Price\", fontsize = 18)\n",
    "plt.ylabel(\"Unit\", fontsize = 15)\n",
    "plt.xlabel(\"Phase_duration\",fontsize = 15)\n",
    "plt.show()"
   ]
  },
  {
   "cell_type": "code",
   "execution_count": 15,
   "id": "67651be7-b41a-4d00-b5a8-614992ff5a6c",
   "metadata": {},
   "outputs": [
    {
     "data": {
      "text/plain": [
       "<Axes: title={'center': 'Fiction vs Non Fiction'}, xlabel='Unit', ylabel='count'>"
      ]
     },
     "execution_count": 15,
     "metadata": {},
     "output_type": "execute_result"
    },
    {
     "data": {
      "image/png": "[encoded data removed]",
      "text/plain": [
       "<Figure size 432x288 with 1 Axes>"
      ]
     },
     "metadata": {
      "needs_background": "light"
     },
     "output_type": "display_data"
    }
   ],
   "source": [
    "plt.title('Fiction vs Non Fiction')\n",
    "sns.countplot(x='Unit', data=df_filtered1)"
   ]
  },
  {
   "cell_type": "code",
   "execution_count": 16,
   "id": "847c5ce5-17f5-4050-a3df-ee3066aa3f9a",
   "metadata": {},
   "outputs": [
    {
     "data": {
      "image/png": "[encoded data removed]",
      "text/plain": [
       "<Figure size 432x288 with 1 Axes>"
      ]
     },
     "metadata": {
      "needs_background": "light"
     },
     "output_type": "display_data"
    }
   ],
   "source": [
    "bestseller_books_price = df_filtered1.sort_values(\"Unit\", ascending= False)\n",
    "plt.xticks(rotation = 90)\n",
    "sns.barplot(x = 'Quantity',\n",
    "            y = 'Phase_duration',\n",
    "            data = bestseller_books_price, hue = \"Unit\");"
   ]
  },
  {
   "cell_type": "code",
   "execution_count": 17,
   "id": "f098637b-19d5-4e45-a2b1-0eec28eacc7a",
   "metadata": {},
   "outputs": [
    {
     "data": {
      "text/plain": [
       "U_23MT04    12\n",
       "U_23MT05    11\n",
       "U_23MT02     8\n",
       "U_23MT01     7\n",
       "U_22MT02     5\n",
       "U_22MT04     5\n",
       "U_22MT03     4\n",
       "Name: Unit, dtype: int64"
      ]
     },
     "execution_count": 17,
     "metadata": {},
     "output_type": "execute_result"
    }
   ],
   "source": [
    "Unit=df_filtered1. Unit.value_counts()\n",
    "Unit"
   ]
  },
  {
   "cell_type": "code",
   "execution_count": 47,
   "id": "8e1f474d-88f2-4f59-b2ce-b3c166480ddc",
   "metadata": {},
   "outputs": [
    {
     "name": "stdout",
     "output_type": "stream",
     "text": [
      "['Material', 'SKU_DESCRIPTION', 'BATCHID', 'Recipe', 'Tank', 'Unit', 'Instruction_Step', 'Source', 'Material_ID', 'Material_Name', 'Quantity', 'Phase_start', 'Phase_end', 'Phase_duration', 'Phase_start_delay', 'Phase_row_no', 'Flowrate_KGMIN', 'Target_Flowrate', 'Target_Phase_duration', 'Phase_overrun', 'Batch_Phase_Type', 'Deaeration_Phase']\n"
     ]
    }
   ],
   "source": [
    "columns_list= df_filtered1.columns.tolist()\n",
    "print(columns_list)"
   ]
  },
  {
   "cell_type": "markdown",
   "id": "88dc6a8a-74ed-44bb-871e-4c8f128705b3",
   "metadata": {},
   "source": [
    "# one hot encoding \n",
    "We need to convert the tank ids into categorical dummy variables using one-hot encoding. This will create a binary column for each tank id "
   ]
  },
  {
   "cell_type": "code",
   "execution_count": 72,
   "id": "ec8c3e3a-6327-4367-9df1-78f7ead74f01",
   "metadata": {},
   "outputs": [],
   "source": [
    "import pandas as pd\n",
    "import numpy as np\n",
    "from sklearn.linear_model import LinearRegression\n",
    "from sklearn.preprocessing import OneHotEncoder\n",
    "\n",
    "# One-hot encoding for Tank_ID\n",
    "encoder = OneHotEncoder()\n",
    "tank_ids_encoded = encoder.fit_transform(df_filtered1[['Unit']])"
   ]
  },
  {
   "cell_type": "code",
   "execution_count": 73,
   "id": "2e07aa2f-6fd4-41e9-be5e-d1331167656a",
   "metadata": {},
   "outputs": [],
   "source": [
    "# Convert the encoded sparse matrix to a dense array\n",
    "tank_ids_encoded = tank_ids_encoded.toarray()"
   ]
  },
  {
   "cell_type": "code",
   "execution_count": 62,
   "id": "613e52e0-0f80-4134-9dd7-2d5c75afeb98",
   "metadata": {},
   "outputs": [],
   "source": [
    "data_encoded.drop(columns=['Material','SKU_DESCRIPTION','BATCHID','Recipe','Tank','Instruction_Step','Source','Material_ID','Material_Name','Quantity','Phase_start','Phase_end','Phase_start_delay','Phase_row_no','Flowrate_KGMIN','Target_Flowrate','Target_Phase_duration','Phase_overrun','Batch_Phase_Type','Deaeration_Phase'], inplace=True)"
   ]
  },
  {
   "cell_type": "code",
   "execution_count": 63,
   "id": "0d428322-975a-4c53-84ef-5c71565cb2cb",
   "metadata": {},
   "outputs": [],
   "source": [
    "#Split features and target\n",
    "X=data_encoded.drop(['Phase_duration'], axis=1)\n",
    "y=data_encoded[\"Phase_duration\"]"
   ]
  },
  {
   "cell_type": "code",
   "execution_count": 64,
   "id": "92856460-bb32-47d2-b7bb-949053f0ced8",
   "metadata": {},
   "outputs": [],
   "source": [
    "from sklearn.model_selection import train_test_split\n",
    "from sklearn.linear_model import LinearRegression\n",
    "from sklearn.metrics import mean_squared_error"
   ]
  },
  {
   "cell_type": "code",
   "execution_count": 27,
   "id": "b5449935-a00c-4a77-a8ba-43c1fb0a1dd6",
   "metadata": {},
   "outputs": [],
   "source": [
    "# Define features and target variable\n",
    "#features = ['Phase_duration'] # replace with your actual feature columns\n",
    "#target = 'Unit'"
   ]
  },
  {
   "cell_type": "code",
   "execution_count": 65,
   "id": "91f7282d-fb67-4089-b095-f0ce95ffd2de",
   "metadata": {},
   "outputs": [],
   "source": [
    "# Split data into train and test sets\n",
    "X_train, X_test, y_train, y_test = train_test_split(X,y, test_size=0.2, random_state=42)\n"
   ]
  },
  {
   "cell_type": "code",
   "execution_count": 66,
   "id": "83dee1cb-f120-48cd-861a-6f6f0a19da95",
   "metadata": {},
   "outputs": [],
   "source": [
    "# Initialize model\n",
    "model = LinearRegression()\n"
   ]
  },
  {
   "cell_type": "code",
   "execution_count": 67,
   "id": "977bc0eb-bfde-41ca-b55b-e7011cdc72c3",
   "metadata": {},
   "outputs": [
    {
     "name": "stdout",
     "output_type": "stream",
     "text": [
      "Root Mean Squared Error: 48.567847212207\n"
     ]
    }
   ],
   "source": [
    "# Fit model to training data\n",
    "model.fit(X_train, y_train)\n",
    "\n",
    "# Make predictions on test data\n",
    "y_pred = model.predict(X_test)\n",
    "\n",
    "# Evaluate model\n",
    "rmse = np.sqrt(mean_squared_error(y_test, y_pred))\n",
    "print(f'Root Mean Squared Error: {rmse}')"
   ]
  },
  {
   "cell_type": "code",
   "execution_count": 68,
   "id": "7de4b7dd-2edf-4849-8ad8-fcd454e2c416",
   "metadata": {},
   "outputs": [
    {
     "ename": "KeyError",
     "evalue": "'Unit'",
     "output_type": "error",
     "traceback": [
      "\u001b[1;31m---------------------------------------------------------------------------\u001b[0m",
      "\u001b[1;31mKeyError\u001b[0m                                  Traceback (most recent call last)",
      "\u001b[1;32m~\\anaconda3\\lib\\site-packages\\pandas\\core\\indexes\\base.py\u001b[0m in \u001b[0;36mget_loc\u001b[1;34m(self, key, method, tolerance)\u001b[0m\n\u001b[0;32m   3079\u001b[0m             \u001b[1;32mtry\u001b[0m\u001b[1;33m:\u001b[0m\u001b[1;33m\u001b[0m\u001b[1;33m\u001b[0m\u001b[0m\n\u001b[1;32m-> 3080\u001b[1;33m                 \u001b[1;32mreturn\u001b[0m \u001b[0mself\u001b[0m\u001b[1;33m.\u001b[0m\u001b[0m_engine\u001b[0m\u001b[1;33m.\u001b[0m\u001b[0mget_loc\u001b[0m\u001b[1;33m(\u001b[0m\u001b[0mcasted_key\u001b[0m\u001b[1;33m)\u001b[0m\u001b[1;33m\u001b[0m\u001b[1;33m\u001b[0m\u001b[0m\n\u001b[0m\u001b[0;32m   3081\u001b[0m             \u001b[1;32mexcept\u001b[0m \u001b[0mKeyError\u001b[0m \u001b[1;32mas\u001b[0m \u001b[0merr\u001b[0m\u001b[1;33m:\u001b[0m\u001b[1;33m\u001b[0m\u001b[1;33m\u001b[0m\u001b[0m\n",
      "\u001b[1;32mpandas\\_libs\\index.pyx\u001b[0m in \u001b[0;36mpandas._libs.index.IndexEngine.get_loc\u001b[1;34m()\u001b[0m\n",
      "\u001b[1;32mpandas\\_libs\\index.pyx\u001b[0m in \u001b[0;36mpandas._libs.index.IndexEngine.get_loc\u001b[1;34m()\u001b[0m\n",
      "\u001b[1;32mpandas\\_libs\\hashtable_class_helper.pxi\u001b[0m in \u001b[0;36mpandas._libs.hashtable.PyObjectHashTable.get_item\u001b[1;34m()\u001b[0m\n",
      "\u001b[1;32mpandas\\_libs\\hashtable_class_helper.pxi\u001b[0m in \u001b[0;36mpandas._libs.hashtable.PyObjectHashTable.get_item\u001b[1;34m()\u001b[0m\n",
      "\u001b[1;31mKeyError\u001b[0m: 'Unit'",
      "\nThe above exception was the direct cause of the following exception:\n",
      "\u001b[1;31mKeyError\u001b[0m                                  Traceback (most recent call last)",
      "\u001b[1;32m<ipython-input-68-5c0e828403b6>\u001b[0m in \u001b[0;36m<module>\u001b[1;34m\u001b[0m\n\u001b[0;32m      1\u001b[0m \u001b[1;31m# Visualization\u001b[0m\u001b[1;33m\u001b[0m\u001b[1;33m\u001b[0m\u001b[1;33m\u001b[0m\u001b[0m\n\u001b[1;32m----> 2\u001b[1;33m \u001b[0mplt\u001b[0m\u001b[1;33m.\u001b[0m\u001b[0mscatter\u001b[0m\u001b[1;33m(\u001b[0m\u001b[0mdata_encoded\u001b[0m\u001b[1;33m[\u001b[0m\u001b[1;34m'Unit'\u001b[0m\u001b[1;33m]\u001b[0m\u001b[1;33m,\u001b[0m \u001b[0mdata_encoded\u001b[0m\u001b[1;33m[\u001b[0m\u001b[1;34m'Phase_duration'\u001b[0m\u001b[1;33m]\u001b[0m\u001b[1;33m,\u001b[0m \u001b[0mlabel\u001b[0m\u001b[1;33m=\u001b[0m\u001b[1;34m'Actual Phase Duration Times'\u001b[0m\u001b[1;33m)\u001b[0m\u001b[1;33m\u001b[0m\u001b[1;33m\u001b[0m\u001b[0m\n\u001b[0m\u001b[0;32m      3\u001b[0m \u001b[0mplt\u001b[0m\u001b[1;33m.\u001b[0m\u001b[0mplot\u001b[0m\u001b[1;33m(\u001b[0m\u001b[0mdata_encoded\u001b[0m\u001b[1;33m[\u001b[0m\u001b[1;34m'Unit'\u001b[0m\u001b[1;33m]\u001b[0m\u001b[1;33m,\u001b[0m \u001b[0mpredictions\u001b[0m\u001b[1;33m,\u001b[0m \u001b[0mcolor\u001b[0m\u001b[1;33m=\u001b[0m\u001b[1;34m'red'\u001b[0m\u001b[1;33m,\u001b[0m \u001b[0mlabel\u001b[0m\u001b[1;33m=\u001b[0m\u001b[1;34m'Predicted Phase Duration Times'\u001b[0m\u001b[1;33m)\u001b[0m\u001b[1;33m\u001b[0m\u001b[1;33m\u001b[0m\u001b[0m\n\u001b[0;32m      4\u001b[0m \u001b[0mplt\u001b[0m\u001b[1;33m.\u001b[0m\u001b[0mxlabel\u001b[0m\u001b[1;33m(\u001b[0m\u001b[1;34m'Unit'\u001b[0m\u001b[1;33m)\u001b[0m\u001b[1;33m\u001b[0m\u001b[1;33m\u001b[0m\u001b[0m\n\u001b[0;32m      5\u001b[0m \u001b[0mplt\u001b[0m\u001b[1;33m.\u001b[0m\u001b[0mylabel\u001b[0m\u001b[1;33m(\u001b[0m\u001b[1;34m'Phase Duration Times'\u001b[0m\u001b[1;33m)\u001b[0m\u001b[1;33m\u001b[0m\u001b[1;33m\u001b[0m\u001b[0m\n",
      "\u001b[1;32m~\\anaconda3\\lib\\site-packages\\pandas\\core\\frame.py\u001b[0m in \u001b[0;36m__getitem__\u001b[1;34m(self, key)\u001b[0m\n\u001b[0;32m   3022\u001b[0m             \u001b[1;32mif\u001b[0m \u001b[0mself\u001b[0m\u001b[1;33m.\u001b[0m\u001b[0mcolumns\u001b[0m\u001b[1;33m.\u001b[0m\u001b[0mnlevels\u001b[0m \u001b[1;33m>\u001b[0m \u001b[1;36m1\u001b[0m\u001b[1;33m:\u001b[0m\u001b[1;33m\u001b[0m\u001b[1;33m\u001b[0m\u001b[0m\n\u001b[0;32m   3023\u001b[0m                 \u001b[1;32mreturn\u001b[0m \u001b[0mself\u001b[0m\u001b[1;33m.\u001b[0m\u001b[0m_getitem_multilevel\u001b[0m\u001b[1;33m(\u001b[0m\u001b[0mkey\u001b[0m\u001b[1;33m)\u001b[0m\u001b[1;33m\u001b[0m\u001b[1;33m\u001b[0m\u001b[0m\n\u001b[1;32m-> 3024\u001b[1;33m             \u001b[0mindexer\u001b[0m \u001b[1;33m=\u001b[0m \u001b[0mself\u001b[0m\u001b[1;33m.\u001b[0m\u001b[0mcolumns\u001b[0m\u001b[1;33m.\u001b[0m\u001b[0mget_loc\u001b[0m\u001b[1;33m(\u001b[0m\u001b[0mkey\u001b[0m\u001b[1;33m)\u001b[0m\u001b[1;33m\u001b[0m\u001b[1;33m\u001b[0m\u001b[0m\n\u001b[0m\u001b[0;32m   3025\u001b[0m             \u001b[1;32mif\u001b[0m \u001b[0mis_integer\u001b[0m\u001b[1;33m(\u001b[0m\u001b[0mindexer\u001b[0m\u001b[1;33m)\u001b[0m\u001b[1;33m:\u001b[0m\u001b[1;33m\u001b[0m\u001b[1;33m\u001b[0m\u001b[0m\n\u001b[0;32m   3026\u001b[0m                 \u001b[0mindexer\u001b[0m \u001b[1;33m=\u001b[0m \u001b[1;33m[\u001b[0m\u001b[0mindexer\u001b[0m\u001b[1;33m]\u001b[0m\u001b[1;33m\u001b[0m\u001b[1;33m\u001b[0m\u001b[0m\n",
      "\u001b[1;32m~\\anaconda3\\lib\\site-packages\\pandas\\core\\indexes\\base.py\u001b[0m in \u001b[0;36mget_loc\u001b[1;34m(self, key, method, tolerance)\u001b[0m\n\u001b[0;32m   3080\u001b[0m                 \u001b[1;32mreturn\u001b[0m \u001b[0mself\u001b[0m\u001b[1;33m.\u001b[0m\u001b[0m_engine\u001b[0m\u001b[1;33m.\u001b[0m\u001b[0mget_loc\u001b[0m\u001b[1;33m(\u001b[0m\u001b[0mcasted_key\u001b[0m\u001b[1;33m)\u001b[0m\u001b[1;33m\u001b[0m\u001b[1;33m\u001b[0m\u001b[0m\n\u001b[0;32m   3081\u001b[0m             \u001b[1;32mexcept\u001b[0m \u001b[0mKeyError\u001b[0m \u001b[1;32mas\u001b[0m \u001b[0merr\u001b[0m\u001b[1;33m:\u001b[0m\u001b[1;33m\u001b[0m\u001b[1;33m\u001b[0m\u001b[0m\n\u001b[1;32m-> 3082\u001b[1;33m                 \u001b[1;32mraise\u001b[0m \u001b[0mKeyError\u001b[0m\u001b[1;33m(\u001b[0m\u001b[0mkey\u001b[0m\u001b[1;33m)\u001b[0m \u001b[1;32mfrom\u001b[0m \u001b[0merr\u001b[0m\u001b[1;33m\u001b[0m\u001b[1;33m\u001b[0m\u001b[0m\n\u001b[0m\u001b[0;32m   3083\u001b[0m \u001b[1;33m\u001b[0m\u001b[0m\n\u001b[0;32m   3084\u001b[0m         \u001b[1;32mif\u001b[0m \u001b[0mtolerance\u001b[0m \u001b[1;32mis\u001b[0m \u001b[1;32mnot\u001b[0m \u001b[1;32mNone\u001b[0m\u001b[1;33m:\u001b[0m\u001b[1;33m\u001b[0m\u001b[1;33m\u001b[0m\u001b[0m\n",
      "\u001b[1;31mKeyError\u001b[0m: 'Unit'"
     ]
    }
   ],
   "source": [
    "# Visualization\n",
    "plt.scatter(data_encoded['Unit'], data_encoded['Phase_duration'], label='Actual Phase Duration Times')\n",
    "plt.plot(data_encoded['Unit'], predictions, color='red', label='Predicted Phase Duration Times')\n",
    "plt.xlabel('Unit')\n",
    "plt.ylabel('Phase Duration Times')\n",
    "plt.legend()\n",
    "plt.title('Linear Regression: Tank Capacity vs. Phase Duration Times')\n",
    "plt.show()"
   ]
  },
  {
   "cell_type": "code",
   "execution_count": null,
   "id": "357a496e-1be0-4718-a08c-2ddfae125191",
   "metadata": {},
   "outputs": [],
   "source": []
  },
  {
   "cell_type": "code",
   "execution_count": null,
   "id": "ddcdf379-030c-4638-9ac4-63283c887fb0",
   "metadata": {},
   "outputs": [],
   "source": []
  }
 ],
 "metadata": {
  "kernelspec": {
   "display_name": "Python 3",
   "language": "python",
   "name": "python3"
  },
  "language_info": {
   "codemirror_mode": {
    "name": "ipython",
    "version": 3
   },
   "file_extension": ".py",
   "mimetype": "text/x-python",
   "name": "python",
   "nbconvert_exporter": "python",
   "pygments_lexer": "ipython3",
   "version": "3.8.8"
  }
 },
 "nbformat": 4,
 "nbformat_minor": 5
}
