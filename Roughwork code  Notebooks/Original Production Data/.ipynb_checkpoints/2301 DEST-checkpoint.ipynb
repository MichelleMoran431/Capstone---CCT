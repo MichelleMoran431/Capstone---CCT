{
 "cells": [
  {
   "cell_type": "code",
   "execution_count": null,
   "id": "81b3b5ba-9124-4a9e-8645-71d72cb905a4",
   "metadata": {},
   "outputs": [],
   "source": [
    "#### Tank 23MT01  - 20 tonne tank - Destination tank"
   ]
  },
  {
   "cell_type": "code",
   "execution_count": null,
   "id": "c8624e79-bd74-4330-9b70-8cec0edda243",
   "metadata": {},
   "outputs": [],
   "source": [
    "import pandas as pd\n",
    "import matplotlib.pyplot as plt\n",
    "import seaborn as sns\n",
    "import numpy as np\n",
    "from scipy import stats"
   ]
  },
  {
   "cell_type": "code",
   "execution_count": null,
   "id": "d384167c-2b3a-4646-b901-7092d112ee42",
   "metadata": {},
   "outputs": [],
   "source": [
    "uploaded = pd.read_csv('Bev Base Dearation Data Extract .csv')\n",
    "# Dataset is now stored in a Pandas Dataframe"
   ]
  }
 ],
 "metadata": {
  "kernelspec": {
   "display_name": "Python 3",
   "language": "python",
   "name": "python3"
  },
  "language_info": {
   "codemirror_mode": {
    "name": "ipython",
    "version": 3
   },
   "file_extension": ".py",
   "mimetype": "text/x-python",
   "name": "python",
   "nbconvert_exporter": "python",
   "pygments_lexer": "ipython3",
   "version": "3.8.8"
  }
 },
 "nbformat": 4,
 "nbformat_minor": 5
}
