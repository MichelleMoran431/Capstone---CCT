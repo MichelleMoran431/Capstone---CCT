{
 "cells": [
  {
   "cell_type": "markdown",
   "id": "1ae7cfe7-f9ab-4b32-a81e-5e25c37e5ce2",
   "metadata": {},
   "source": [
    "#### Tank 26MT01  - 4 tonne tank "
   ]
  },
  {
   "cell_type": "code",
   "execution_count": 3,
   "id": "48d57613-0bae-40d9-b6a3-f04d90d909f3",
   "metadata": {},
   "outputs": [
    {
     "name": "stderr",
     "output_type": "stream",
     "text": [
      "C:\\Users\\User\\anaconda3\\lib\\site-packages\\scipy\\__init__.py:146: UserWarning: A NumPy version >=1.16.5 and <1.23.0 is required for this version of SciPy (detected version 1.24.4\n",
      "  warnings.warn(f\"A NumPy version >={np_minversion} and <{np_maxversion}\"\n"
     ]
    }
   ],
   "source": [
    "import pandas as pd\n",
    "import matplotlib.pyplot as plt\n",
    "import seaborn as sns\n",
    "import numpy as np\n",
    "from scipy import stats"
   ]
  },
  {
   "cell_type": "code",
   "execution_count": 4,
   "id": "cbb5cd02-5bf6-4e31-b588-9812376141c7",
   "metadata": {},
   "outputs": [],
   "source": [
    "uploaded = pd.read_csv('Bev Base Dearation Data Extract .csv')\n",
    "# Dataset is now stored in a Pandas Dataframe"
   ]
  },
  {
   "cell_type": "code",
   "execution_count": 6,
   "id": "ffabd92f-881f-4245-b56c-718889dcbb9a",
   "metadata": {},
   "outputs": [],
   "source": [
    "#uploaded.head()"
   ]
  },
  {
   "cell_type": "code",
   "execution_count": 5,
   "id": "2321c543-e811-4561-90a6-d66c6bc68df9",
   "metadata": {},
   "outputs": [],
   "source": [
    "# Or rename the existing DataFrame (rather than creating a copy)\n",
    "uploaded.rename(columns={'SKU': 'Material','Deaeration Phase':'Deaeration_Phase'}, inplace=True)"
   ]
  },
  {
   "cell_type": "code",
   "execution_count": 6,
   "id": "cbac8caf-a83c-4563-8155-86ce624a25f6",
   "metadata": {},
   "outputs": [],
   "source": [
    "# Removal of unwanted columns from dataset\n",
    "uploaded1=uploaded.drop(['SKU_DESCRIPTION', 'Recipe', 'Tank','Source', 'Batch_Phase_Type','Phase_start','Phase_end','Deaeration_Phase','Phase_row_no'], axis=1)"
   ]
  },
  {
   "cell_type": "code",
   "execution_count": 7,
   "id": "fc7fe1b4-d6c4-46ef-a46b-ea0e65e78b13",
   "metadata": {},
   "outputs": [],
   "source": [
    "# Define a dictionary of replacements\n",
    "replacements = {\n",
    "    'U_25MT02': '2502',\n",
    "    'U_25MT03': '2503',\n",
    "    'U_25MT04': '2504',\n",
    "    'U_26MT01' : '2601',\n",
    "    'U_23MT02' : '2302',\n",
    "    'U_23MT04' : '2304',\n",
    "    'U_25MT01' : '2501',\n",
    "    'U_23MT05' : '2305',\n",
    "    'U_25MT02' : '2502',\n",
    "    'U_22MT04' : '2204',\n",
    "    'U_22MT03' : '2203',\n",
    "    'U_22MT02' : '2202',\n",
    "    'U_26MT04' : '2604',\n",
    "    'U_26MT03' : '2603',\n",
    "    'U_23MT03' : '2303',\n",
    "    'U_22MT05' : '2205'\n",
    "}\n",
    "\n",
    "# Replace values in the 'TankName' column\n",
    "uploaded1['Unit'].replace(replacements, inplace=True)\n",
    "\n",
    "# Print the modified DataFrame\n",
    "#print(uploaded1)"
   ]
  },
  {
   "cell_type": "code",
   "execution_count": null,
   "id": "6b7ff75b-a6a8-4c95-8acf-76215b0c8058",
   "metadata": {},
   "outputs": [],
   "source": [
    "#uploaded1.info()"
   ]
  },
  {
   "cell_type": "code",
   "execution_count": 8,
   "id": "cff1e1b4-aeae-4277-8529-be427e7c8da0",
   "metadata": {},
   "outputs": [
    {
     "name": "stdout",
     "output_type": "stream",
     "text": [
      "      Material    BATCHID  Unit  \\\n",
      "313    1036590  107671161  2601   \n",
      "314    1036590  107671161  2601   \n",
      "315    1036590  107671161  2601   \n",
      "316    1036590  107671161  2601   \n",
      "317    1036590  107671161  2601   \n",
      "...        ...        ...   ...   \n",
      "9106   3041211  107718990  2601   \n",
      "9107   3041211  107718990  2601   \n",
      "9108   3041211  107718990  2601   \n",
      "9109   3041211  107718990  2601   \n",
      "9110   3041211  107718990  2601   \n",
      "\n",
      "                                   Instruction_Step Material_ID  \\\n",
      "313                            S3_BATCH_IN_PROGRESS         NaN   \n",
      "314                                      STEP1_CONS     1002565   \n",
      "315                                      STEP1_CONS     1037802   \n",
      "316                                      STEP1_CONS     1002818   \n",
      "317                                      STEP1_CONS     1002910   \n",
      "...                                             ...         ...   \n",
      "9106                TAKE A SAMPLE AND SUBMIT FOR QA         NaN   \n",
      "9107  SAMPLE TO LAB.RESULTS OK?. (NO TO HOMOGENISE)         NaN   \n",
      "9108                                STEP8_AGITATION         NaN   \n",
      "9109                   S4_BATCH_COMPLETE_QA_PENDING         NaN   \n",
      "9110                         S7_RELEASED_TO_FILLING         NaN   \n",
      "\n",
      "                             Material_Name  Quantity  Phase_duration  \\\n",
      "313                                    NaN     0.000               1   \n",
      "314                          WATER TREATED   625.800              29   \n",
      "315   S813     SOD BENZOATE          XFX25     2.402             120   \n",
      "316   S651     CITRIC ACID ANH    BG XFX25     1.204              10   \n",
      "317   S827     ASCORBIC ACID         XZX25     1.203               6   \n",
      "...                                    ...       ...             ...   \n",
      "9106                                   NaN     0.000               4   \n",
      "9107                                   NaN     0.000               1   \n",
      "9108                                   NaN     0.000               1   \n",
      "9109                                   NaN     0.000               0   \n",
      "9110                                   NaN     0.000               0   \n",
      "\n",
      "      Phase_start_delay  Flowrate_KGMIN  Target_Flowrate  \\\n",
      "313                   0          0.0000              NaN   \n",
      "314                   0         21.5793          52.0556   \n",
      "315                   0          0.0200           6.3182   \n",
      "316                   0          0.1204           6.3182   \n",
      "317                   0          0.2005           6.3182   \n",
      "...                 ...             ...              ...   \n",
      "9106                  0          0.0000              NaN   \n",
      "9107                  0          0.0000              NaN   \n",
      "9108                  0          0.0000              NaN   \n",
      "9109                  0          0.0000              NaN   \n",
      "9110                 22          0.0000              NaN   \n",
      "\n",
      "      Target_Phase_duration  Phase_overrun  \n",
      "313                       1            NaN  \n",
      "314                      12           17.0  \n",
      "315                       2          120.0  \n",
      "316                       2           10.0  \n",
      "317                       2            6.0  \n",
      "...                     ...            ...  \n",
      "9106                     10            0.0  \n",
      "9107                     10            0.0  \n",
      "9108                      0            1.0  \n",
      "9109                      0            NaN  \n",
      "9110                     14            0.0  \n",
      "\n",
      "[474 rows x 13 columns]\n"
     ]
    }
   ],
   "source": [
    "#Select the batches where 25MT03 tanks was used\n",
    "Unit = ['2601']\n",
    "TANK_2601= uploaded1[uploaded1['Unit'].isin(Unit)]\n",
    "print(TANK_2601)"
   ]
  },
  {
   "cell_type": "code",
   "execution_count": 11,
   "id": "41f442a2-1dd3-4fbd-ac71-61d5ac70f4f4",
   "metadata": {},
   "outputs": [
    {
     "name": "stdout",
     "output_type": "stream",
     "text": [
      "    Material  Phase_duration  Phase_overrun  Phase_start_delay   Quantity  \\\n",
      "0    1036590       43.463158         2747.0               8085  18387.134   \n",
      "1    1045448       30.164706         1241.0              16766  15635.764   \n",
      "2    1368236       37.791667          500.0               2353   4803.440   \n",
      "3    1397022       35.947368          395.0                450   2551.150   \n",
      "4    1527533       19.454545           74.0                484   1904.502   \n",
      "5    1529056       27.071429          230.0               2357   5999.409   \n",
      "6    1529065       27.545455          124.0                328   2000.488   \n",
      "7    1529244       85.363636          766.0                912   1400.218   \n",
      "8    1552603       44.100000          291.0                838   1798.206   \n",
      "9    1668834       42.363636          307.0               1380   2001.066   \n",
      "10   1779699       20.909091           51.0               1899   1802.086   \n",
      "11   1974017       33.333333           70.0                  3    525.855   \n",
      "12   1985101       36.556391         2195.0               5539  25218.913   \n",
      "13   3041211       17.000000           57.0                604   2503.234   \n",
      "\n",
      "    Flowrate_KGMIN  \n",
      "0         670.1070  \n",
      "1         603.2799  \n",
      "2         162.9243  \n",
      "3          60.2637  \n",
      "4         109.0382  \n",
      "5         277.9763  \n",
      "6          93.8016  \n",
      "7          59.0026  \n",
      "8          50.6953  \n",
      "9          95.9634  \n",
      "10         91.0530  \n",
      "11          5.1554  \n",
      "12        801.0939  \n",
      "13        100.5344  \n"
     ]
    }
   ],
   "source": [
    "#Aggregate data per tank\n",
    "aggregated_df_TANK_2601= TANK_2601.groupby('Material').agg({\n",
    "    'Phase_duration': 'mean',\n",
    "    'Phase_overrun': 'sum',\n",
    "    'Phase_start_delay':'sum',\n",
    "    'Quantity':'sum',\n",
    "    'Flowrate_KGMIN':'sum',\n",
    "    \n",
    "}).reset_index()\n",
    "\n",
    " #Print the aggregated DataFrame\n",
    "print(aggregated_df_TANK_2601)"
   ]
  },
  {
   "cell_type": "code",
   "execution_count": 13,
   "id": "b315d1da-ccbd-4205-b402-7dda79f8d125",
   "metadata": {},
   "outputs": [
    {
     "name": "stdout",
     "output_type": "stream",
     "text": [
      "      Material    BATCHID  Unit  \\\n",
      "325    1036590  107671161  2603   \n",
      "326    1036590  107671161  2603   \n",
      "327    1036590  107671161  2603   \n",
      "328    1036590  107671161  2603   \n",
      "329    1036590  107671161  2603   \n",
      "...        ...        ...   ...   \n",
      "9081   1985101  108081814  2603   \n",
      "9082   1985101  108081814  2603   \n",
      "9083   1985101  108081814  2603   \n",
      "9084   1985101  108081814  2603   \n",
      "9085   1985101  108081814  2603   \n",
      "\n",
      "                                   Instruction_Step Material_ID Material_Name  \\\n",
      "325                         SELECT_DESTINATION_TANK         NaN           NaN   \n",
      "326                                 STEP4_AGITATION         NaN           NaN   \n",
      "327                    S4_BATCH_COMPLETE_QA_PENDING         NaN           NaN   \n",
      "328                 TAKE A SAMPLE AND SUBMIT FOR QA         NaN           NaN   \n",
      "329   SAMPLE TO LAB.RESULTS OK?. (NO TO HOMOGENISE)         NaN           NaN   \n",
      "...                                             ...         ...           ...   \n",
      "9081                TAKE A SAMPLE AND SUBMIT FOR QA         NaN           NaN   \n",
      "9082  SAMPLE TO LAB.RESULTS OK?. (NO TO HOMOGENISE)         NaN           NaN   \n",
      "9083                                STEP8_AGITATION         NaN           NaN   \n",
      "9084                   S4_BATCH_COMPLETE_QA_PENDING         NaN           NaN   \n",
      "9085                         S7_RELEASED_TO_FILLING         NaN           NaN   \n",
      "\n",
      "      Quantity  Phase_duration  Phase_start_delay  Flowrate_KGMIN  \\\n",
      "325        0.0             110                  0             0.0   \n",
      "326        0.0               0                  2             0.0   \n",
      "327        0.0               0                  1             0.0   \n",
      "328        0.0               0                  0             0.0   \n",
      "329        0.0               0                  0             0.0   \n",
      "...        ...             ...                ...             ...   \n",
      "9081       0.0              66                  0             0.0   \n",
      "9082       0.0              11                  1             0.0   \n",
      "9083       0.0               1                  0             0.0   \n",
      "9084       0.0               0                  0             0.0   \n",
      "9085       0.0               0                  3             0.0   \n",
      "\n",
      "      Target_Flowrate  Target_Phase_duration  Phase_overrun  \n",
      "325               NaN                    110            NaN  \n",
      "326               NaN                      0            0.0  \n",
      "327               NaN                      0            NaN  \n",
      "328               NaN                     10            0.0  \n",
      "329               NaN                     10            0.0  \n",
      "...               ...                    ...            ...  \n",
      "9081              NaN                     10           56.0  \n",
      "9082              NaN                     10            1.0  \n",
      "9083              NaN                      0            1.0  \n",
      "9084              NaN                      0            NaN  \n",
      "9085              NaN                     14            0.0  \n",
      "\n",
      "[274 rows x 13 columns]\n"
     ]
    }
   ],
   "source": [
    "#Select the batches where 25MT03 tanks was used\n",
    "Unit = ['2603']\n",
    "TANK_2603= uploaded1[uploaded1['Unit'].isin(Unit)]\n",
    "print(TANK_2603)"
   ]
  },
  {
   "cell_type": "code",
   "execution_count": 14,
   "id": "8d3f72e0-a149-424a-96eb-885e2401516e",
   "metadata": {},
   "outputs": [
    {
     "name": "stdout",
     "output_type": "stream",
     "text": [
      "    Material  Phase_duration  Phase_overrun  Phase_start_delay  Quantity  \\\n",
      "0    1036590       37.720000          404.0                263  3430.531   \n",
      "1    1045448      221.821429         5583.0                 55  2400.853   \n",
      "2    1368236       33.454545           68.0                184  1200.742   \n",
      "3    1397022        7.750000            1.0                 79     0.000   \n",
      "4    1513667       29.333333           31.0                  5   901.405   \n",
      "5    1527533       24.666667            1.0                  4   952.251   \n",
      "6    1529056       21.760000          114.0                560  3602.497   \n",
      "7    1529065        8.625000            0.0                 22     0.000   \n",
      "8    1529244       16.642857           52.0                 13   701.416   \n",
      "9    1552603       70.000000          274.0                  3   899.103   \n",
      "10   1668834       23.166667            0.0                  5  1000.533   \n",
      "11   1974017       14.500000            3.0                  4     0.000   \n",
      "12   1985101       43.494253         2155.0               1519  7201.346   \n",
      "\n",
      "    Flowrate_KGMIN  \n",
      "0          43.9939  \n",
      "1          31.1850  \n",
      "2          14.4668  \n",
      "3           0.0000  \n",
      "4           9.7979  \n",
      "5          14.6500  \n",
      "6         117.9877  \n",
      "7           0.0000  \n",
      "8           8.6595  \n",
      "9          14.5017  \n",
      "10         15.3928  \n",
      "11          0.0000  \n",
      "12        120.6436  \n"
     ]
    }
   ],
   "source": [
    "#Aggregate data per tank\n",
    "aggregated_df_TANK_2603= TANK_2603.groupby('Material').agg({\n",
    "    'Phase_duration': 'mean',\n",
    "    'Phase_overrun': 'sum',\n",
    "    'Phase_start_delay':'sum',\n",
    "    'Quantity':'sum',\n",
    "    'Flowrate_KGMIN':'sum',\n",
    "    \n",
    "}).reset_index()\n",
    "\n",
    " #Print the aggregated DataFrame\n",
    "print(aggregated_df_TANK_2603)"
   ]
  },
  {
   "cell_type": "code",
   "execution_count": null,
   "id": "dbcd2c1d-2852-4ff8-92d2-04f8a361a2b9",
   "metadata": {},
   "outputs": [],
   "source": []
  },
  {
   "cell_type": "markdown",
   "id": "b8f408a0-22a1-41e3-ba0b-2b0f38f854aa",
   "metadata": {},
   "source": [
    "### Creation Dataframes based on the ingredients addition - quantity , flow rates , duration times , overrun times and targets for each "
   ]
  },
  {
   "cell_type": "markdown",
   "id": "3935e933-5fdf-489d-95f2-ed815a1791b5",
   "metadata": {},
   "source": [
    "## Ingredients addition"
   ]
  },
  {
   "cell_type": "markdown",
   "id": "364656a4-5133-4824-b7bf-3029deed501d",
   "metadata": {},
   "source": [
    "## 1 Addition of Treated Water- 2 phase additions with different quantities\n",
    "\n",
    "NB : Need to separate out the water additions"
   ]
  },
  {
   "cell_type": "code",
   "execution_count": 9,
   "id": "66beda6d-5b4c-4766-868a-af5b5e7f7fb3",
   "metadata": {},
   "outputs": [],
   "source": [
    "#Select all the rows where the phase HP is in the list below - HP is homogenisation of the final batch quantity\n",
    "Material_ID = ['1002565']\n",
    "df_IDW_2601 = TANK_2601[TANK_2601['Material_ID'].isin(Material_ID)]\n",
    "#print(df_IDW_2601)"
   ]
  },
  {
   "cell_type": "code",
   "execution_count": 10,
   "id": "b294531c-7c9a-4a15-a380-90e62cd276db",
   "metadata": {},
   "outputs": [
    {
     "name": "stderr",
     "output_type": "stream",
     "text": [
      "<ipython-input-10-466ed8407997>:4: SettingWithCopyWarning: \n",
      "A value is trying to be set on a copy of a slice from a DataFrame.\n",
      "Try using .loc[row_indexer,col_indexer] = value instead\n",
      "\n",
      "See the caveats in the documentation: https://pandas.pydata.org/pandas-docs/stable/user_guide/indexing.html#returning-a-view-versus-a-copy\n",
      "  df_IDW_2601['QuantityRange'] = pd.cut(df_IDW_2601['Quantity'], bins=2, labels=['QuantityRange <= 5000', 'QuantityRange >= 5000'])\n"
     ]
    }
   ],
   "source": [
    "import pandas as pd\n",
    "# Assuming df_filtered1 DataFrames are defined\n",
    "# Create a new column 'QuantityRange' in df_filtered1 based on the 'Quantity' values\n",
    "df_IDW_2601['QuantityRange'] = pd.cut(df_IDW_2601['Quantity'], bins=2, labels=['QuantityRange <= 5000', 'QuantityRange >= 5000'])\n",
    "#print(df_IDW_2601)"
   ]
  },
  {
   "cell_type": "code",
   "execution_count": 13,
   "id": "31eb51c8-1aa1-4a94-8127-e8edd92dfd5f",
   "metadata": {},
   "outputs": [
    {
     "name": "stderr",
     "output_type": "stream",
     "text": [
      "C:\\Users\\User\\anaconda3\\lib\\site-packages\\pandas\\core\\frame.py:4441: SettingWithCopyWarning: \n",
      "A value is trying to be set on a copy of a slice from a DataFrame\n",
      "\n",
      "See the caveats in the documentation: https://pandas.pydata.org/pandas-docs/stable/user_guide/indexing.html#returning-a-view-versus-a-copy\n",
      "  return super().rename(\n"
     ]
    }
   ],
   "source": [
    "# Or rename the existing DataFrame (rather than creating a copy)\n",
    "df_IDW_2601.rename(columns={'Quantity': 'WaterQuantity','Phase_duration':'WaterPhase_duration','Phase_start_delay':'WaterPhase_start_delay','Flowrate_KGMIN':'WaterFlowrate_KGMIN','Phase_overrun':'WaterPhase_overrun','QuantityRange':'WaterQuantityRange'}, inplace=True)"
   ]
  },
  {
   "cell_type": "code",
   "execution_count": null,
   "id": "eb1ca274-9f3d-4e9b-bf81-b975f7f3af65",
   "metadata": {},
   "outputs": [],
   "source": [
    "#QuantityRange = ['QuantityRange >= 5000']\n",
    "#df_Material_IDWater1= df_IDW_2601[df_IDW_2601['QuantityRange'].isin(QuantityRange)]\n",
    "#print(df_Material_IDWater1)"
   ]
  },
  {
   "cell_type": "code",
   "execution_count": null,
   "id": "db3df5cc-9679-48a9-a34b-49317f8d00b2",
   "metadata": {},
   "outputs": [],
   "source": [
    "#QuantityRange = ['QuantityRange <= 5000']\n",
    "#df_Material_IDWater2 = df_IDW_2601[df_IDW_2503['QuantityRange'].isin(QuantityRange)]\n",
    "#print(df_Material2601_IDWater2)"
   ]
  },
  {
   "cell_type": "code",
   "execution_count": null,
   "id": "83ba67b7-fcc3-4154-a82c-91c4774ec7d1",
   "metadata": {},
   "outputs": [],
   "source": [
    " #Aggregate data per tank\n",
    "#aggregated_dfWater2 = df_Material_IDWater2.groupby('Material').agg({\n",
    "    #'Phase_duration': 'mean',\n",
    "    #'Phase_overrun': 'sum',\n",
    "    #'Phase_start_delay':'sum',\n",
    "    #'Quantity':'sum',\n",
    "    #'Flowrate_KGMIN':'sum',\n",
    "   # 'Target_Phase_duration':'sum',\n",
    "   # 'Target_Flowrate':'sum'\n",
    "#}).reset_index()\n",
    "\n",
    " #Print the aggregated DataFrame\n",
    "#print(aggregated_dfWater2)"
   ]
  },
  {
   "cell_type": "code",
   "execution_count": null,
   "id": "9199b23f-d710-42f8-b3f5-43c059dba404",
   "metadata": {},
   "outputs": [],
   "source": [
    "#Aggregate data per tank\n",
    "#aggregated_dfWater1 = df_Material_IDWater1.groupby('Material').agg({\n",
    "    #'Phase_duration': 'mean',\n",
    "   # 'Phase_overrun': 'sum',\n",
    "   # 'Phase_start_delay':'sum',\n",
    "   # 'Quantity':'sum',\n",
    "   # 'Flowrate_KGMIN':'sum',\n",
    "   # 'Target_Phase_duration':'sum',\n",
    "   # 'Target_Flowrate':'sum'\n",
    "#}).reset_index()\n",
    "\n",
    " #Print the aggregated DataFrame\n",
    "#print(aggregated_dfWater1)"
   ]
  },
  {
   "cell_type": "markdown",
   "id": "8885fd5f-f437-462b-8af6-5b8d86c94bff",
   "metadata": {},
   "source": [
    "## 1 Addition of Preservative (1037802) 1 phase addition"
   ]
  },
  {
   "cell_type": "code",
   "execution_count": 23,
   "id": "553adc93-9407-4949-a173-8a1db758b513",
   "metadata": {},
   "outputs": [],
   "source": [
    "Material_ID = ['1037802']\n",
    "df_IDP1_2601=TANK_2601[TANK_2601['Material_ID'].isin(Material_ID)]\n",
    "#print(df_IDP1_2601)"
   ]
  },
  {
   "cell_type": "code",
   "execution_count": 24,
   "id": "7c7a8ed5-3122-4f7a-b1b6-4e709f78ff59",
   "metadata": {},
   "outputs": [],
   "source": [
    "# Or rename the existing DataFrame (rather than creating a copy)\n",
    "df_IDP1_2601.rename(columns={'Quantity': 'Pres1Quantity','Phase_duration':'Pres1Phase_duration','Phase_start_delay':'Pres1Phase_start_delay','Flowrate_KGMIN':'Pres1Flowrate_KGMIN','Phase_overrun':'Pres1Phase_overrun'}, inplace=True)"
   ]
  },
  {
   "cell_type": "code",
   "execution_count": 1,
   "id": "b7bd9e9f-2399-49e6-9bf2-d245a070f1af",
   "metadata": {},
   "outputs": [
    {
     "ename": "NameError",
     "evalue": "name 'df_IDP1_2504' is not defined",
     "output_type": "error",
     "traceback": [
      "\u001b[1;31m---------------------------------------------------------------------------\u001b[0m",
      "\u001b[1;31mNameError\u001b[0m                                 Traceback (most recent call last)",
      "\u001b[1;32m<ipython-input-1-bcb0b2521e9d>\u001b[0m in \u001b[0;36m<module>\u001b[1;34m\u001b[0m\n\u001b[0;32m      1\u001b[0m \u001b[1;31m#Aggregate data per tank\u001b[0m\u001b[1;33m\u001b[0m\u001b[1;33m\u001b[0m\u001b[1;33m\u001b[0m\u001b[0m\n\u001b[1;32m----> 2\u001b[1;33m aggregated_df_IDP1_2504 = df_IDP1_2504.groupby('Material').agg({\n\u001b[0m\u001b[0;32m      3\u001b[0m     \u001b[1;34m'Pres1Phase_duration'\u001b[0m\u001b[1;33m:\u001b[0m \u001b[1;34m'mean'\u001b[0m\u001b[1;33m,\u001b[0m\u001b[1;33m\u001b[0m\u001b[1;33m\u001b[0m\u001b[0m\n\u001b[0;32m      4\u001b[0m     \u001b[1;34m'Pres1Phase_overrun'\u001b[0m\u001b[1;33m:\u001b[0m \u001b[1;34m'sum'\u001b[0m\u001b[1;33m,\u001b[0m\u001b[1;33m\u001b[0m\u001b[1;33m\u001b[0m\u001b[0m\n\u001b[0;32m      5\u001b[0m     \u001b[1;34m'Pres1Phase_start_delay'\u001b[0m\u001b[1;33m:\u001b[0m\u001b[1;34m'sum'\u001b[0m\u001b[1;33m,\u001b[0m\u001b[1;33m\u001b[0m\u001b[1;33m\u001b[0m\u001b[0m\n",
      "\u001b[1;31mNameError\u001b[0m: name 'df_IDP1_2504' is not defined"
     ]
    }
   ],
   "source": [
    "#Aggregate data per tank\n",
    "aggregated_df_IDP1_2601 = df_IDP1_2601.groupby('Material').agg({\n",
    "    'Pres1Phase_duration': 'mean',\n",
    "    'Pres1Phase_overrun': 'sum',\n",
    "    'Pres1Phase_start_delay':'sum',\n",
    "    'Pres1Quantity':'sum',\n",
    "    'Pres1Flowrate_KGMIN':'sum',\n",
    "    'Target_Phase_duration':'sum',\n",
    "    'Target_Flowrate':'sum'\n",
    "}).reset_index()\n",
    "\n",
    " #Print the aggregated DataFrame\n",
    "#print(aggregated_df_IDP1_2601)"
   ]
  },
  {
   "cell_type": "markdown",
   "id": "4662fc4b-4faf-4a14-91bf-460bad9f372a",
   "metadata": {},
   "source": [
    "## 1 Addition of Preservative (1002818)  phase addition"
   ]
  },
  {
   "cell_type": "code",
   "execution_count": 27,
   "id": "e253ae9f-06b1-4c87-b68f-cb5c98bc5952",
   "metadata": {},
   "outputs": [],
   "source": [
    "Material_ID = ['1002818']\n",
    "df_IDP2_2601=TANK_2601[TANK_2601['Material_ID'].isin(Material_ID)]\n",
    "#print(df_IDP2_2601)"
   ]
  },
  {
   "cell_type": "code",
   "execution_count": 28,
   "id": "5cf6e721-27e1-4373-baea-19bd8f56a8e2",
   "metadata": {},
   "outputs": [
    {
     "name": "stderr",
     "output_type": "stream",
     "text": [
      "C:\\Users\\User\\anaconda3\\lib\\site-packages\\pandas\\core\\frame.py:4441: SettingWithCopyWarning: \n",
      "A value is trying to be set on a copy of a slice from a DataFrame\n",
      "\n",
      "See the caveats in the documentation: https://pandas.pydata.org/pandas-docs/stable/user_guide/indexing.html#returning-a-view-versus-a-copy\n",
      "  return super().rename(\n"
     ]
    }
   ],
   "source": [
    "# Or rename the existing DataFrame (rather than creating a copy)\n",
    "df_IDP2_2601.rename(columns={'Quantity': 'Pres2Quantity','Phase_duration':'Pres2Phase_duration','Phase_start_delay':'Pres2Phase_start_delay','Flowrate_KGMIN':'Pres2Flowrate_KGMIN','Phase_overrun':'Pres2Phase_overrun'}, inplace=True)"
   ]
  },
  {
   "cell_type": "code",
   "execution_count": 30,
   "id": "78ad5334-6272-429c-8cee-57a37872185a",
   "metadata": {},
   "outputs": [],
   "source": [
    "#Aggregate data per tank\n",
    "aggregated_df_IDP2_2601 = df_IDP2_2601.groupby('Material').agg({\n",
    "    'Pres2Phase_duration': 'mean',\n",
    "    'Pres2Phase_overrun': 'sum',\n",
    "    'Pres2Phase_start_delay':'sum',\n",
    "    'Pres2Quantity':'sum',\n",
    "    'Pres2Flowrate_KGMIN':'sum',\n",
    "    'Target_Phase_duration':'sum',\n",
    "    'Target_Flowrate':'sum'\n",
    "}).reset_index()\n",
    "\n",
    " #Print the aggregated DataFrame\n",
    "#print(aggregated_df_IDP2_2601)"
   ]
  },
  {
   "cell_type": "markdown",
   "id": "6c111af2-f286-422f-a28b-9aa44289cc87",
   "metadata": {},
   "source": [
    "## 1 Addition of Preservative (1002910)  phase addition"
   ]
  },
  {
   "cell_type": "code",
   "execution_count": null,
   "id": "5ba7ec45-0c47-44e9-9098-402ffa7e1fb1",
   "metadata": {},
   "outputs": [],
   "source": [
    "Material_ID = ['1002910']\n",
    "df_IDP4_2601=TANK_2601[TANK_2601['Material_ID'].isin(Material_ID)]\n",
    "#print(df_IDP4_2601)"
   ]
  },
  {
   "cell_type": "code",
   "execution_count": null,
   "id": "5635453e-d2a7-47f9-b524-993518a4c32c",
   "metadata": {},
   "outputs": [],
   "source": [
    "# Or rename the existing DataFrame (rather than creating a copy)\n",
    "df_IDP4_2601.rename(columns={'Quantity': 'Pres4Quantity','Phase_duration':'Pres4Phase_duration','Phase_start_delay':'Pres4Phase_start_delay','Flowrate_KGMIN':'Pres4Flowrate_KGMIN','Phase_overrun':'Pres4Phase_overrun'}, inplace=True)"
   ]
  },
  {
   "cell_type": "code",
   "execution_count": null,
   "id": "68d3e573-9579-4f7a-8e76-49df78253e37",
   "metadata": {},
   "outputs": [],
   "source": [
    "#Aggregate data per tank\n",
    "aggregated_df_IDP4_2601 = df_IDP4_2601.groupby('Material').agg({\n",
    "    'Pres3Phase_duration': 'mean',\n",
    "    'Pres3Phase_overrun': 'sum',\n",
    "    'Pres3Phase_start_delay':'sum',\n",
    "    'Pres3Quantity':'sum',\n",
    "    'Pres3Flowrate_KGMIN':'sum',\n",
    "    'Target_Phase_duration':'sum',\n",
    "    'Target_Flowrate':'sum'\n",
    "}).reset_index()\n",
    "\n",
    " #Print the aggregated DataFrame\n",
    "#print(aggregated_df_IDP4_2601)"
   ]
  },
  {
   "cell_type": "code",
   "execution_count": null,
   "id": "fcc91620-cacb-4581-a066-934bfdbfccbd",
   "metadata": {},
   "outputs": [],
   "source": [
    "## 1 Addition of Preservative (1002874)  phase addition"
   ]
  },
  {
   "cell_type": "code",
   "execution_count": null,
   "id": "b03b27e5-43ef-4d32-94e2-e431cdd31bf8",
   "metadata": {},
   "outputs": [],
   "source": [
    "Material_ID = ['1002874']\n",
    "df_IDP3_2601=TANK_2601[TANK_2601['Material_ID'].isin(Material_ID)]\n",
    "#print(df_IDP3_2601)"
   ]
  },
  {
   "cell_type": "code",
   "execution_count": null,
   "id": "4d4a48f6-cd47-4528-98a6-5bce596b91a4",
   "metadata": {},
   "outputs": [],
   "source": [
    "# Or rename the existing DataFrame (rather than creating a copy)\n",
    "df_IDP3_2601.rename(columns={'Quantity': 'Pres3Quantity','Phase_duration':'Pres3Phase_duration','Phase_start_delay':'Pres3Phase_start_delay','Flowrate_KGMIN':'Pres3Flowrate_KGMIN','Phase_overrun':'Pres3Phase_overrun'}, inplace=True)"
   ]
  },
  {
   "cell_type": "code",
   "execution_count": null,
   "id": "52da9599-8500-4a22-aa07-9be8509fc214",
   "metadata": {},
   "outputs": [],
   "source": [
    "#Aggregate data per tank\n",
    "aggregated_df_IDP3_2601 = df_IDP3_2601.groupby('Material').agg({\n",
    "    'Pres3Phase_duration': 'mean',\n",
    "    'Pres3Phase_overrun': 'sum',\n",
    "    'Pres3Phase_start_delay':'sum',\n",
    "    'Pres3Quantity':'sum',\n",
    "    'Pres3Flowrate_KGMIN':'sum',\n",
    "    'Target_Phase_duration':'sum',\n",
    "    'Target_Flowrate':'sum'\n",
    "}).reset_index()\n",
    "\n",
    " #Print the aggregated DataFrame\n",
    "#print(aggregated_df_IDP3_2601)"
   ]
  },
  {
   "cell_type": "markdown",
   "id": "ebf754ad-2bd0-4381-a05d-dcde9093b37d",
   "metadata": {},
   "source": [
    "## 1 Addition of GUM (1461896,1234972,1031006,1815609)"
   ]
  },
  {
   "cell_type": "code",
   "execution_count": 32,
   "id": "59369682-d12b-4471-8d25-d46b0c11bd5f",
   "metadata": {},
   "outputs": [],
   "source": [
    "Material_ID = ['1461896','1254972','1031006','1243269','1815609']\n",
    "df_IDGUM_2601=TANK_2601[TANK_2601['Material_ID'].isin(Material_ID)]\n",
    "#print(df_IDGUM_2601)"
   ]
  },
  {
   "cell_type": "code",
   "execution_count": 33,
   "id": "f9354f4a-901a-46db-bb6f-9f0c43fe21ca",
   "metadata": {},
   "outputs": [
    {
     "name": "stderr",
     "output_type": "stream",
     "text": [
      "C:\\Users\\User\\anaconda3\\lib\\site-packages\\pandas\\core\\frame.py:4441: SettingWithCopyWarning: \n",
      "A value is trying to be set on a copy of a slice from a DataFrame\n",
      "\n",
      "See the caveats in the documentation: https://pandas.pydata.org/pandas-docs/stable/user_guide/indexing.html#returning-a-view-versus-a-copy\n",
      "  return super().rename(\n"
     ]
    }
   ],
   "source": [
    "# Or rename the existing DataFrame (rather than creating a copy)\n",
    "df_IDGUM_2601.rename(columns={'Quantity': 'GUMQuantity','Phase_duration':'GUMPhase_duration','Phase_start_delay':'GUMPhase_start_delay','Flowrate_KGMIN':'GUMFlowrate_KGMIN','Phase_overrun':'GUMPhase_overrun'}, inplace=True)"
   ]
  },
  {
   "cell_type": "code",
   "execution_count": 35,
   "id": "cc404c53-930c-4583-8d43-80f2842503d3",
   "metadata": {},
   "outputs": [],
   "source": [
    "#Aggregate data per tank\n",
    "aggregated_df_IDGUM_2601= df_IDGUM_2601.groupby('Material').agg({\n",
    "    'GUMPhase_duration': 'mean',\n",
    "    'GUMPhase_overrun': 'sum',\n",
    "    'GUMPhase_start_delay':'sum',\n",
    "    'GUMQuantity':'sum',\n",
    "    'GUMFlowrate_KGMIN':'sum',\n",
    "    'Target_Phase_duration':'sum',\n",
    "    'Target_Flowrate':'sum'\n",
    "}).reset_index()\n",
    "\n",
    " #Print the aggregated DataFrame\n",
    "#print(aggregated_df_IDGUM_2601)"
   ]
  },
  {
   "cell_type": "markdown",
   "id": "556dac56-fed4-4722-aaa4-512b28bbb2c5",
   "metadata": {},
   "source": [
    "## Colour addition"
   ]
  },
  {
   "cell_type": "code",
   "execution_count": 40,
   "id": "a0413132-029d-4a6e-9e2a-708949942a19",
   "metadata": {},
   "outputs": [],
   "source": [
    "Material_ID = ['3026582','1003076','3028269','1002846','3028657','1521056','3010810']\n",
    "df_IDCOL_2601=TANK_2601[TANK_2601['Material_ID'].isin(Material_ID)]\n",
    "#print(df_IDCOL_2601)"
   ]
  },
  {
   "cell_type": "code",
   "execution_count": 41,
   "id": "f01cae51-9eb7-41f9-bb49-2cc80887d177",
   "metadata": {},
   "outputs": [
    {
     "name": "stderr",
     "output_type": "stream",
     "text": [
      "C:\\Users\\User\\anaconda3\\lib\\site-packages\\pandas\\core\\frame.py:4441: SettingWithCopyWarning: \n",
      "A value is trying to be set on a copy of a slice from a DataFrame\n",
      "\n",
      "See the caveats in the documentation: https://pandas.pydata.org/pandas-docs/stable/user_guide/indexing.html#returning-a-view-versus-a-copy\n",
      "  return super().rename(\n"
     ]
    }
   ],
   "source": [
    "# Or rename the existing DataFrame (rather than creating a copy)\n",
    "df_IDCOL_2601.rename(columns={'Quantity': 'COLQuantity','Phase_duration':'COLPhase_duration','Phase_start_delay':'COLPhase_start_delay','Flowrate_KGMIN':'COLFlowrate_KGMIN','Phase_overrun':'COLPhase_overrun'}, inplace=True)"
   ]
  },
  {
   "cell_type": "code",
   "execution_count": 43,
   "id": "7056b034-a82b-46dc-8a30-8f561cf7990b",
   "metadata": {},
   "outputs": [],
   "source": [
    "#Aggregate data per tank\n",
    "aggregated_df_IDCOL_2601 = df_IDCOL_2601.groupby('Material').agg({\n",
    "    'COLPhase_duration': 'mean',\n",
    "    'COLPhase_overrun': 'sum',\n",
    "    'COLPhase_start_delay':'sum',\n",
    "    'COLQuantity':'sum',\n",
    "    'COLFlowrate_KGMIN':'sum',\n",
    "    'Target_Phase_duration':'sum',\n",
    "    'Target_Flowrate':'sum'\n",
    "}).reset_index()\n",
    "\n",
    " #Print the aggregated DataFrame\n",
    "#print(aggregated_df_IDCOL_2601)"
   ]
  },
  {
   "cell_type": "code",
   "execution_count": null,
   "id": "893e36bd-4eb1-472e-8123-3522aa69957e",
   "metadata": {},
   "outputs": [],
   "source": [
    "frames = [df_IDW_2601,df_IDGUM_2601,df_IDP2_2601,df_IDP1_2601,df_IDP3_2601,df_IDCOL_2601,df_IDP4_2601]\n",
    "\n",
    "result = pd.concat(frames)\n",
    "print(result)"
   ]
  },
  {
   "cell_type": "markdown",
   "id": "73d2f347-5cce-4b07-a8d9-34f009d99a84",
   "metadata": {},
   "source": [
    "## Effect of Agitation after ingredient addition"
   ]
  },
  {
   "cell_type": "code",
   "execution_count": null,
   "id": "26f5400a-aab6-41d1-8922-de49ff885282",
   "metadata": {},
   "outputs": [],
   "source": [
    "#Select all the rows where the material is in the list below\n",
    "Instruction_Step = ['STEP1_AGITATION','STEP2_AGITATION']\n",
    "df_Agitation = TANK_2601[TANK_2601['Instruction_Step'].isin(Instruction_Step)]\n",
    "print(df_Agitation)"
   ]
  },
  {
   "cell_type": "code",
   "execution_count": null,
   "id": "85da73ef-4ab0-4b93-ad3c-036fefb122cd",
   "metadata": {},
   "outputs": [],
   "source": [
    "#Aggregate data per tank\n",
    "aggregated_df_Agitation = df_Agitation.groupby('Material').agg({\n",
    "    'Phase_duration': 'mean',\n",
    "    'Phase_overrun': 'sum',\n",
    "    'Phase_start_delay':'sum',\n",
    "    'Quantity':'sum',\n",
    "    'Flowrate_KGMIN':'sum',\n",
    "    'Target_Phase_duration':'sum',\n",
    "    'Target_Flowrate':'sum'\n",
    "}).reset_index()\n",
    "\n",
    " #Print the aggregated DataFrame\n",
    "print(aggregated_df_Agitation)"
   ]
  },
  {
   "cell_type": "code",
   "execution_count": null,
   "id": "0199ccba-1ef3-4f82-8cc7-d5e3c8864b9e",
   "metadata": {},
   "outputs": [],
   "source": []
  }
 ],
 "metadata": {
  "kernelspec": {
   "display_name": "Python 3",
   "language": "python",
   "name": "python3"
  },
  "language_info": {
   "codemirror_mode": {
    "name": "ipython",
    "version": 3
   },
   "file_extension": ".py",
   "mimetype": "text/x-python",
   "name": "python",
   "nbconvert_exporter": "python",
   "pygments_lexer": "ipython3",
   "version": "3.8.8"
  }
 },
 "nbformat": 4,
 "nbformat_minor": 5
}
