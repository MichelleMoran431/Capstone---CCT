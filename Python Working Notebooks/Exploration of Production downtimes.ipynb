{
 "cells": [
  {
   "cell_type": "markdown",
   "id": "af6670fe-a2a1-439f-8746-0a31f0458449",
   "metadata": {},
   "source": [
    "Exploring and quantifying production downtimes involves a series of steps to collect, organize, and analyze the relevant data. Here's a structured approach to achieve this based on your description"
   ]
  },
  {
   "cell_type": "code",
   "execution_count": 1,
   "id": "f7c889b9-ee82-4ef6-8b84-6f775506780b",
   "metadata": {},
   "outputs": [],
   "source": [
    "#Importing all the necessary libraries\n",
    "import numpy as np\n",
    "import pandas as pd\n",
    "import matplotlib.pyplot as plt\n",
    "# Supress Warnings\n",
    "import warnings \n",
    "warnings.filterwarnings('ignore')\n",
    "#The last line of code helps in suppressing the unnecessary warnings.\n",
    "from scipy import stats\n",
    "import seaborn as sns"
   ]
  },
  {
   "cell_type": "code",
   "execution_count": 2,
   "id": "bc81d996-c49f-437a-9283-cef4f4eabbf8",
   "metadata": {},
   "outputs": [],
   "source": [
    "\n",
    "# Data Collection:\n",
    "# Using the Specify Absolute Path: If the file is located in a different directory, you can specify the absolute path to the file when reading it using pd.read_csv():\n",
    "import pandas as pd\n",
    "file_path = r'C:\\Users\\User\\Desktop\\Thesis 2023\\Capstone---CCT\\Python Working Notebooks\\ProductionDataupdated1.csv'\n",
    "ProductionTank = pd.read_csv(file_path)"
   ]
  },
  {
   "cell_type": "code",
   "execution_count": 3,
   "id": "3a57e8f6-1c40-489f-8679-cdabe85be241",
   "metadata": {},
   "outputs": [
    {
     "data": {
      "text/html": [
       "<div>\n",
       "<style scoped>\n",
       "    .dataframe tbody tr th:only-of-type {\n",
       "        vertical-align: middle;\n",
       "    }\n",
       "\n",
       "    .dataframe tbody tr th {\n",
       "        vertical-align: top;\n",
       "    }\n",
       "\n",
       "    .dataframe thead th {\n",
       "        text-align: right;\n",
       "    }\n",
       "</style>\n",
       "<table border=\"1\" class=\"dataframe\">\n",
       "  <thead>\n",
       "    <tr style=\"text-align: right;\">\n",
       "      <th></th>\n",
       "      <th>Unnamed: 0</th>\n",
       "      <th>Material</th>\n",
       "      <th>BATCHID</th>\n",
       "      <th>Tank_1</th>\n",
       "      <th>Instruction_Step</th>\n",
       "      <th>INGRED_ID</th>\n",
       "      <th>INGRED_Name</th>\n",
       "      <th>Quantity</th>\n",
       "      <th>Phase_start</th>\n",
       "      <th>Phase_end</th>\n",
       "      <th>Phase_duration</th>\n",
       "      <th>Phase_start_delay</th>\n",
       "      <th>Phase_row_no</th>\n",
       "      <th>Flowrate_KGMIN</th>\n",
       "      <th>Target_Flowrate</th>\n",
       "      <th>Target_Phase_duration</th>\n",
       "      <th>Phase_overrun</th>\n",
       "      <th>Deaeration Phase</th>\n",
       "    </tr>\n",
       "  </thead>\n",
       "  <tbody>\n",
       "    <tr>\n",
       "      <th>0</th>\n",
       "      <td>0</td>\n",
       "      <td>1002150</td>\n",
       "      <td>107643491</td>\n",
       "      <td>2503</td>\n",
       "      <td>S3_BATCH_IN_PROGRESS</td>\n",
       "      <td>NaN</td>\n",
       "      <td>NaN</td>\n",
       "      <td>0.000</td>\n",
       "      <td>09/03/2022 10:42</td>\n",
       "      <td>09/03/2022 10:42</td>\n",
       "      <td>0</td>\n",
       "      <td>0</td>\n",
       "      <td>1</td>\n",
       "      <td>0.0000</td>\n",
       "      <td>NaN</td>\n",
       "      <td>0</td>\n",
       "      <td>NaN</td>\n",
       "      <td>0</td>\n",
       "    </tr>\n",
       "    <tr>\n",
       "      <th>1</th>\n",
       "      <td>1</td>\n",
       "      <td>1002150</td>\n",
       "      <td>107643491</td>\n",
       "      <td>2503</td>\n",
       "      <td>STEP1_CONS</td>\n",
       "      <td>1002565</td>\n",
       "      <td>WATER TREATED</td>\n",
       "      <td>5760.000</td>\n",
       "      <td>09/03/2022 10:42</td>\n",
       "      <td>09/03/2022 11:16</td>\n",
       "      <td>34</td>\n",
       "      <td>0</td>\n",
       "      <td>2</td>\n",
       "      <td>169.4118</td>\n",
       "      <td>733.5050</td>\n",
       "      <td>8</td>\n",
       "      <td>26.0</td>\n",
       "      <td>0</td>\n",
       "    </tr>\n",
       "    <tr>\n",
       "      <th>2</th>\n",
       "      <td>2</td>\n",
       "      <td>1002150</td>\n",
       "      <td>107643491</td>\n",
       "      <td>2503</td>\n",
       "      <td>PLEASE VERIFY BULK ADDITION</td>\n",
       "      <td>NaN</td>\n",
       "      <td>NaN</td>\n",
       "      <td>0.000</td>\n",
       "      <td>09/03/2022 11:16</td>\n",
       "      <td>09/03/2022 11:17</td>\n",
       "      <td>1</td>\n",
       "      <td>0</td>\n",
       "      <td>3</td>\n",
       "      <td>0.0000</td>\n",
       "      <td>NaN</td>\n",
       "      <td>3</td>\n",
       "      <td>0.0</td>\n",
       "      <td>0</td>\n",
       "    </tr>\n",
       "    <tr>\n",
       "      <th>3</th>\n",
       "      <td>3</td>\n",
       "      <td>1002150</td>\n",
       "      <td>107643491</td>\n",
       "      <td>2503</td>\n",
       "      <td>STEP1_CONS</td>\n",
       "      <td>1037802</td>\n",
       "      <td>S813     SOD BENZOATE          XFX25</td>\n",
       "      <td>5.629</td>\n",
       "      <td>09/03/2022 11:17</td>\n",
       "      <td>09/03/2022 11:27</td>\n",
       "      <td>10</td>\n",
       "      <td>0</td>\n",
       "      <td>4</td>\n",
       "      <td>0.5629</td>\n",
       "      <td>6.3182</td>\n",
       "      <td>1</td>\n",
       "      <td>9.0</td>\n",
       "      <td>0</td>\n",
       "    </tr>\n",
       "    <tr>\n",
       "      <th>4</th>\n",
       "      <td>4</td>\n",
       "      <td>1002150</td>\n",
       "      <td>107643491</td>\n",
       "      <td>2503</td>\n",
       "      <td>STEP1_CONS</td>\n",
       "      <td>1002818</td>\n",
       "      <td>S651     CITRIC ACID ANH    BG XFX25</td>\n",
       "      <td>78.766</td>\n",
       "      <td>09/03/2022 11:27</td>\n",
       "      <td>09/03/2022 11:38</td>\n",
       "      <td>11</td>\n",
       "      <td>0</td>\n",
       "      <td>5</td>\n",
       "      <td>7.1605</td>\n",
       "      <td>6.3182</td>\n",
       "      <td>12</td>\n",
       "      <td>0.0</td>\n",
       "      <td>0</td>\n",
       "    </tr>\n",
       "  </tbody>\n",
       "</table>\n",
       "</div>"
      ],
      "text/plain": [
       "   Unnamed: 0  Material    BATCHID  Tank_1             Instruction_Step  \\\n",
       "0           0   1002150  107643491    2503         S3_BATCH_IN_PROGRESS   \n",
       "1           1   1002150  107643491    2503                   STEP1_CONS   \n",
       "2           2   1002150  107643491    2503  PLEASE VERIFY BULK ADDITION   \n",
       "3           3   1002150  107643491    2503                   STEP1_CONS   \n",
       "4           4   1002150  107643491    2503                   STEP1_CONS   \n",
       "\n",
       "  INGRED_ID                           INGRED_Name  Quantity       Phase_start  \\\n",
       "0       NaN                                   NaN     0.000  09/03/2022 10:42   \n",
       "1   1002565                         WATER TREATED  5760.000  09/03/2022 10:42   \n",
       "2       NaN                                   NaN     0.000  09/03/2022 11:16   \n",
       "3   1037802  S813     SOD BENZOATE          XFX25     5.629  09/03/2022 11:17   \n",
       "4   1002818  S651     CITRIC ACID ANH    BG XFX25    78.766  09/03/2022 11:27   \n",
       "\n",
       "          Phase_end  Phase_duration  Phase_start_delay  Phase_row_no  \\\n",
       "0  09/03/2022 10:42               0                  0             1   \n",
       "1  09/03/2022 11:16              34                  0             2   \n",
       "2  09/03/2022 11:17               1                  0             3   \n",
       "3  09/03/2022 11:27              10                  0             4   \n",
       "4  09/03/2022 11:38              11                  0             5   \n",
       "\n",
       "   Flowrate_KGMIN  Target_Flowrate  Target_Phase_duration  Phase_overrun  \\\n",
       "0          0.0000              NaN                      0            NaN   \n",
       "1        169.4118         733.5050                      8           26.0   \n",
       "2          0.0000              NaN                      3            0.0   \n",
       "3          0.5629           6.3182                      1            9.0   \n",
       "4          7.1605           6.3182                     12            0.0   \n",
       "\n",
       "   Deaeration Phase  \n",
       "0                 0  \n",
       "1                 0  \n",
       "2                 0  \n",
       "3                 0  \n",
       "4                 0  "
      ]
     },
     "execution_count": 3,
     "metadata": {},
     "output_type": "execute_result"
    }
   ],
   "source": [
    "ProductionTank.head()"
   ]
  },
  {
   "cell_type": "code",
   "execution_count": 4,
   "id": "3376a0c0-cb64-4ba6-99db-0c751a101b85",
   "metadata": {},
   "outputs": [],
   "source": [
    "ProductionTank.drop(columns=['Unnamed: 0'], inplace=True)\n"
   ]
  },
  {
   "cell_type": "markdown",
   "id": "33f3fdb3-f53c-48fd-a9f5-fb89bd5588a0",
   "metadata": {},
   "source": [
    "#Data Cleaning:\n",
    "Address missing values: Decide whether to fill them using an appropriate method (e.g., mean, median, interpolation) or to discard records with missing data.\n",
    "Address outliers: Use visualizations like box plots to identify outliers and decide on how to handle them."
   ]
  },
  {
   "cell_type": "code",
   "execution_count": 5,
   "id": "e364c362-582e-43a5-b12e-04adbb8aa915",
   "metadata": {},
   "outputs": [
    {
     "data": {
      "image/png": "[encoded data removed]",
      "text/plain": [
       "<Figure size 432x288 with 1 Axes>"
      ]
     },
     "metadata": {
      "needs_background": "light"
     },
     "output_type": "display_data"
    }
   ],
   "source": [
    "# Using seaborn\n",
    "sns.set(rc={\"figure.figsize\":(15, 6)}) #width=10, #height=6\n",
    "sns.histplot(data=ProductionTank, x='Tank_1', bins=30, kde=False)\n",
    "plt.show()"
   ]
  },
  {
   "cell_type": "code",
   "execution_count": 6,
   "id": "79aaa6cc-6321-46e3-8dae-a54d8e566db7",
   "metadata": {},
   "outputs": [
    {
     "data": {
      "image/png": "[encoded data removed]",
      "text/plain": [
       "<Figure size 432x288 with 1 Axes>"
      ]
     },
     "metadata": {
      "needs_background": "light"
     },
     "output_type": "display_data"
    }
   ],
   "source": [
    "# Using seaborn\n",
    "sns.histplot(data=ProductionTank, x='Tank_1', bins=30, kde=True)\n",
    "plt.show()"
   ]
  },
  {
   "cell_type": "code",
   "execution_count": 7,
   "id": "d0a5fd09-6251-4868-8732-aef1df66b785",
   "metadata": {},
   "outputs": [
    {
     "name": "stdout",
     "output_type": "stream",
     "text": [
      "Material                    0\n",
      "BATCHID                     0\n",
      "Tank_1                      0\n",
      "Instruction_Step           25\n",
      "INGRED_ID                7044\n",
      "INGRED_Name              7507\n",
      "Quantity                    0\n",
      "Phase_start                 0\n",
      "Phase_end                   0\n",
      "Phase_duration              0\n",
      "Phase_start_delay           0\n",
      "Phase_row_no                0\n",
      "Flowrate_KGMIN              0\n",
      "Target_Flowrate          6379\n",
      "Target_Phase_duration       0\n",
      "Phase_overrun            2124\n",
      "Deaeration Phase            0\n",
      "dtype: int64\n"
     ]
    }
   ],
   "source": [
    "print(ProductionTank.isnull().sum())"
   ]
  },
  {
   "cell_type": "code",
   "execution_count": 8,
   "id": "291e05d3-eecf-4ab9-ba9f-34ecd7c93313",
   "metadata": {},
   "outputs": [],
   "source": [
    "#df_cleaned = ProductionTank.fillna(0)"
   ]
  },
  {
   "cell_type": "code",
   "execution_count": 9,
   "id": "7b80f7b3-149f-445c-bded-5bf993f35bae",
   "metadata": {},
   "outputs": [],
   "source": [
    "#rint(df_cleaned.isnull().sum())"
   ]
  },
  {
   "cell_type": "code",
   "execution_count": 10,
   "id": "abc9df0d-3be9-4874-878c-a44b12c6cbdc",
   "metadata": {},
   "outputs": [],
   "source": [
    "# = pd.DataFrame(df_cleaned)\n",
    "\n",
    "# Select only numerical columns\n",
    "#numerical_cols = df.select_dtypes(include=['int64', 'float64'])\n",
    "\n",
    "# Check for outliers in all numerical columns\n",
    "#for column in numerical_cols.columns:\n",
    "   # Q1 = numerical_cols[column].quantile(0.25)\n",
    "   #Q3 = numerical_cols[column].quantile(0.75)\n",
    "   # IQR = Q3 - Q1\n",
    "   # outliers = numerical_cols[(numerical_cols[column] < (Q1 - 1.5 * IQR)) | \n",
    "                               #(numerical_cols[column] > (Q3 + 1.5 * IQR))]\n",
    "    \n",
    "   # print(f\"Outliers in column {column} are:\")\n",
    "   # print(outliers[column])"
   ]
  },
  {
   "cell_type": "code",
   "execution_count": 11,
   "id": "0c75c9bd-31e2-4445-ad79-0f7fe0bd2ddd",
   "metadata": {},
   "outputs": [],
   "source": [
    "#import matplotlib.pyplot as plt\n",
    "\n",
    "# Columns to exclude\n",
    "#exclude_cols = ['BATCHID', 'Material', 'Unnamed: 0','Quantity', 'Phase_row_no']\n",
    "\n",
    "# Columns to plot\n",
    "#cols_to_plot = [col for col in df.columns if col not in exclude_cols]\n",
    "\n",
    "# Plotting\n",
    "#df[cols_to_plot].boxplot()\n",
    "#plt.show()"
   ]
  },
  {
   "cell_type": "markdown",
   "id": "2ba53423-cd94-4f9a-b9d9-ef6030debd88",
   "metadata": {},
   "source": [
    "For each tank, organize the data chronologically to understand the sequence of batches.\n",
    "This code will first convert the 'Phase_start' column to datetime format so that it can be sorted chronologically. Then it will group the data by the 'Tank' column and sort each group's data by the 'Phase_start' column. The result will be a multi-index dataframe, with the first level being the tank name, and the second level being the original indices of the dataframe."
   ]
  },
  {
   "cell_type": "code",
   "execution_count": 12,
   "id": "51bdab38-f683-4d61-9a86-794d12e3c46a",
   "metadata": {},
   "outputs": [
    {
     "name": "stdout",
     "output_type": "stream",
     "text": [
      "             Material    BATCHID  Tank_1                  Instruction_Step  \\\n",
      "Tank_1                                                                       \n",
      "2201   2022   1397022  107956670    2201  TAKE A SAMPLE AND SUBMIT FOR QA.   \n",
      "       7502   1775253  107963676    2201  TAKE A SAMPLE AND SUBMIT FOR QA.   \n",
      "       7499   1775253  107963676    2201        SAMPLE TO LAB. RESULTS OK?   \n",
      "       7498   1775253  107963676    2201  TAKE A SAMPLE AND SUBMIT FOR QA.   \n",
      "       7343   1775253  107899926    2201            S7_RELEASED_TO_FILLING   \n",
      "...               ...        ...     ...                               ...   \n",
      "2604   8897   1985101  107759327    2604              S3_BATCH_IN_PROGRESS   \n",
      "       8937   1985101  107795797    2604           SELECT_DESTINATION_TANK   \n",
      "       8938   1985101  107795797    2604      S4_BATCH_COMPLETE_QA_PENDING   \n",
      "       9005   1985101  107956532    2604              S3_BATCH_IN_PROGRESS   \n",
      "       9059   1985101  108081814    2604              S3_BATCH_IN_PROGRESS   \n",
      "\n",
      "            INGRED_ID INGRED_Name  Quantity         Phase_start  \\\n",
      "Tank_1                                                            \n",
      "2201   2022       NaN         NaN       0.0 2022-07-11 00:10:00   \n",
      "       7502       NaN         NaN       0.0 2022-01-11 14:01:00   \n",
      "       7499       NaN         NaN       0.0 2022-01-11 13:51:00   \n",
      "       7498       NaN         NaN       0.0 2022-01-11 13:47:00   \n",
      "       7343       NaN         NaN       0.0 2022-09-18 01:35:00   \n",
      "...               ...         ...       ...                 ...   \n",
      "2604   8897       NaN         NaN       0.0 2022-01-06 03:44:00   \n",
      "       8937       NaN         NaN       0.0 2022-06-29 16:07:00   \n",
      "       8938       NaN         NaN       0.0 2022-06-29 18:19:00   \n",
      "       9005       NaN         NaN       0.0 2022-01-11 20:53:00   \n",
      "       9059       NaN         NaN       0.0 2023-02-28 23:02:00   \n",
      "\n",
      "                    Phase_end  Phase_duration  Phase_start_delay  \\\n",
      "Tank_1                                                             \n",
      "2201   2022  07/11/2022 00:14               4                  0   \n",
      "       7502  01/11/2022 14:02               1                  0   \n",
      "       7499  01/11/2022 13:52               1                  0   \n",
      "       7498  01/11/2022 13:51               4                  0   \n",
      "       7343  18/09/2022 01:35               0                  4   \n",
      "...                       ...             ...                ...   \n",
      "2604   8897  01/06/2022 03:44               0                  0   \n",
      "       8937  29/06/2022 18:17             130                  0   \n",
      "       8938  29/06/2022 18:19               0                  0   \n",
      "       9005  01/11/2022 20:53               0                  0   \n",
      "       9059  28/02/2023 23:02               0                  0   \n",
      "\n",
      "             Phase_row_no  Flowrate_KGMIN  Target_Flowrate  \\\n",
      "Tank_1                                                       \n",
      "2201   2022             3             0.0              NaN   \n",
      "       7502             7             0.0              NaN   \n",
      "       7499             4             0.0              NaN   \n",
      "       7498             3             0.0              NaN   \n",
      "       7343             6             0.0              NaN   \n",
      "...                   ...             ...              ...   \n",
      "2604   8897             1             0.0              NaN   \n",
      "       8937             1             0.0              NaN   \n",
      "       8938             3             0.0              NaN   \n",
      "       9005             1             0.0              NaN   \n",
      "       9059             1             0.0              NaN   \n",
      "\n",
      "             Target_Phase_duration  Phase_overrun  Deaeration Phase  \n",
      "Tank_1                                                               \n",
      "2201   2022                     10            0.0                 0  \n",
      "       7502                     10            0.0                 0  \n",
      "       7499                     10            0.0                 0  \n",
      "       7498                     10            0.0                 0  \n",
      "       7343                     14            0.0                 0  \n",
      "...                            ...            ...               ...  \n",
      "2604   8897                      0            NaN                 0  \n",
      "       8937                    130            NaN                 0  \n",
      "       8938                      0            NaN                 0  \n",
      "       9005                      0            NaN                 0  \n",
      "       9059                      0            NaN                 0  \n",
      "\n",
      "[9487 rows x 17 columns]\n"
     ]
    }
   ],
   "source": [
    "df = pd.DataFrame(ProductionTank)\n",
    "\n",
    "# Convert the 'Phase_start' column to datetime format\n",
    "df['Phase_start'] = pd.to_datetime(df['Phase_start'])\n",
    "\n",
    "# Group by 'Tank' and then sort each group chronologically by 'Phase_start'\n",
    "grouped = df.groupby('Tank_1').apply(lambda x: x.sort_values('Phase_overrun'))\n",
    "\n",
    "print(grouped)"
   ]
  },
  {
   "cell_type": "code",
   "execution_count": 13,
   "id": "f1a26cfc-e76e-4c68-9aa1-43e32d8e5731",
   "metadata": {},
   "outputs": [
    {
     "name": "stdout",
     "output_type": "stream",
     "text": [
      "['Material', 'BATCHID', 'Tank_1', 'Instruction_Step', 'INGRED_ID', 'INGRED_Name', 'Quantity', 'Phase_start', 'Phase_end', 'Phase_duration', 'Phase_start_delay', 'Phase_row_no', 'Flowrate_KGMIN', 'Target_Flowrate', 'Target_Phase_duration', 'Phase_overrun', 'Deaeration Phase']\n"
     ]
    }
   ],
   "source": [
    "column_list = grouped.columns.tolist()\n",
    "print(column_list)"
   ]
  },
  {
   "cell_type": "markdown",
   "id": "fe0376d9-4106-4008-b276-422d949938fc",
   "metadata": {},
   "source": [
    "Calculate Downtimes:\n",
    "\n",
    "For each batch in a tank, calculate the time difference between the end of one process (e.g., mixing) and the start of the next (e.g., deaeration).\n",
    "Calculate the overall downtime for each batch as the sum of the mixing and deaeration downtimes.\n",
    "Aggregate these values to get daily, weekly, or monthly downtimes, depending on the granularity of insights you need."
   ]
  },
  {
   "cell_type": "code",
   "execution_count": 25,
   "id": "8971c3a3-6389-4fe1-b040-b390a6bd2611",
   "metadata": {},
   "outputs": [
    {
     "name": "stdout",
     "output_type": "stream",
     "text": [
      "\n",
      "weekly_totals:\n",
      " Tank_1  Material  Phase_end \n",
      "2201    1397022   2022-07-17    22.0\n",
      "                  2022-07-24     0.0\n",
      "                  2022-07-31     0.0\n",
      "                  2022-08-07     0.0\n",
      "                  2022-08-14     0.0\n",
      "                                ... \n",
      "2604    1985101   2023-02-05     0.0\n",
      "                  2023-02-12     0.0\n",
      "                  2023-02-19     0.0\n",
      "                  2023-02-26     0.0\n",
      "                  2023-03-05     7.0\n",
      "Name: Phase_overrun, Length: 5598, dtype: float64\n",
      "\n",
      "monthly_totals:\n",
      " Tank_1  Material  Phase_end \n",
      "2201    1397022   2022-07-31     22.0\n",
      "                  2022-08-31      0.0\n",
      "                  2022-09-30      0.0\n",
      "                  2022-10-31      0.0\n",
      "                  2022-11-30      0.0\n",
      "                                ...  \n",
      "2604    1985101   2022-10-31     23.0\n",
      "                  2022-11-30      0.0\n",
      "                  2022-12-31      8.0\n",
      "                  2023-01-31    119.0\n",
      "                  2023-02-28      7.0\n",
      "Name: Phase_overrun, Length: 1447, dtype: float64\n"
     ]
    }
   ],
   "source": [
    "import pandas as pd\n",
    "\n",
    "df = pd.DataFrame(grouped)\n",
    "\n",
    "df.reset_index(drop=True, inplace=True)\n",
    "\n",
    "# Convert Phase_start and Phase_end to datetime\n",
    "df['Phase_start'] = pd.to_datetime(df['Phase_start'])\n",
    "df['Phase_end'] = pd.to_datetime(df['Phase_end'])\n",
    "\n",
    "df_sorted = df.sort_values(by=['Tank_1', 'BATCHID','Phase_overrun','Phase_start'])\n",
    "df_sorted['Downtime'] = df_sorted.groupby(['Tank_1', 'BATCHID','Phase_overrun'])['Phase_start'].shift(-1) - df_sorted['Phase_end']\n",
    "# the end of one row and the start of the next row\n",
    "df_sorted['Downtime'] = df_sorted.groupby(['Tank_1', 'BATCHID','Phase_overrun'])['Phase_start'].shift(-1) - df_sorted['Phase_end']\n",
    "\n",
    "# Aggregate total downtime for each batch in each tank\n",
    "total_downtimes = df_sorted.groupby(['Tank_1', 'BATCHID','Phase_overrun'])['Downtime'].sum()\n",
    "\n",
    "# Calculate daily, weekly, and monthly downtime\n",
    "#daily_downtimes = df_sorted.set_index('Phase_start').groupby(['Tank_1', 'BATCHID','Phase_overrun']).resample('D')['Downtime'].sum()\n",
    "#weekly_downtimes = df_sorted.set_index('Phase_start').groupby(['Tank_1', 'BATCHID','Phase_overrun']).resample('W')['Downtime'].sum()\n",
    "#monthly_downtimes = df_sorted.set_index('Phase_start').groupby(['Tank_1', 'BATCHID','Phase_overrun']).resample('M')['Downtime'].sum()\n",
    "\n",
    "#print(\"Total Downtimes:\\n\", total_downtimes)\n",
    "#print(\"\\nDaily Downtimes:\\n\", daily_downtimes)\n",
    "#print(\"\\nWeekly Downtimes:\\n\", weekly_downtimes)\n",
    "#print(\"\\nMonthly Downtimes:\\n\", monthly_downtimes)\n",
    "\n",
    "\n",
    "df_sorted['Phase_end'] = pd.to_datetime(df_sorted['Phase_end'])\n",
    "df_sorted.set_index('Phase_end', inplace=True)\n",
    "weekly_totals_df = df_sorted.groupby(['Tank_1','Material']).resample('W').sum()['Phase_overrun']\n",
    "monthly_totals_df = df_sorted.groupby(['Tank_1','Material']).resample('M').sum()['Phase_overrun']\n",
    "print(\"\\nweekly_totals:\\n\", weekly_totals_df)\n",
    "print(\"\\nmonthly_totals:\\n\", monthly_totals_df)\n"
   ]
  },
  {
   "cell_type": "markdown",
   "id": "b7003e08-2686-4a75-9b5a-d0193ccaff97",
   "metadata": {},
   "source": [
    "## Visualisation of the Total Overrun Times for each of the Production Tanks \n"
   ]
  },
  {
   "cell_type": "code",
   "execution_count": 15,
   "id": "8847deed-8947-4edb-9736-982811ac5134",
   "metadata": {},
   "outputs": [],
   "source": [
    "#selected_tanks = [\"2501\", \"2502\"] - 4 Tonne "
   ]
  },
  {
   "cell_type": "code",
   "execution_count": 26,
   "id": "56543f0c-d157-4bec-83a8-dfa467b949f6",
   "metadata": {},
   "outputs": [],
   "source": [
    "selected_tanks = [\"2501\", \"2502\"]  # replace with the names of the tanks you wish to visualize"
   ]
  },
  {
   "cell_type": "code",
   "execution_count": 28,
   "id": "199f804c-7984-4ebb-9acc-30d82dc63c26",
   "metadata": {},
   "outputs": [],
   "source": [
    "filtered_weekly_totals = weekly_totals_df[weekly_totals_df.index.get_level_values('Tank_1').isin(selected_tanks)]\n",
    "filtered_monthly_totals = monthly_totals_df[monthly_totals_df.index.get_level_values('Tank_1').isin(selected_tanks)]"
   ]
  },
  {
   "cell_type": "code",
   "execution_count": 29,
   "id": "cd9c15e8-446a-431f-ae03-b3dc2cfe01cb",
   "metadata": {},
   "outputs": [
    {
     "ename": "TypeError",
     "evalue": "no numeric data to plot",
     "output_type": "error",
     "traceback": [
      "\u001b[1;31m---------------------------------------------------------------------------\u001b[0m",
      "\u001b[1;31mTypeError\u001b[0m                                 Traceback (most recent call last)",
      "\u001b[1;32m<ipython-input-29-3fe1fa2d6474>\u001b[0m in \u001b[0;36m<module>\u001b[1;34m\u001b[0m\n\u001b[1;32m----> 1\u001b[1;33m \u001b[0mfiltered_weekly_totals\u001b[0m\u001b[1;33m.\u001b[0m\u001b[0munstack\u001b[0m\u001b[1;33m(\u001b[0m\u001b[0mlevel\u001b[0m\u001b[1;33m=\u001b[0m\u001b[1;36m0\u001b[0m\u001b[1;33m)\u001b[0m\u001b[1;33m.\u001b[0m\u001b[0mplot\u001b[0m\u001b[1;33m(\u001b[0m\u001b[0mfigsize\u001b[0m\u001b[1;33m=\u001b[0m\u001b[1;33m(\u001b[0m\u001b[1;36m14\u001b[0m\u001b[1;33m,\u001b[0m \u001b[1;36m7\u001b[0m\u001b[1;33m)\u001b[0m\u001b[1;33m)\u001b[0m\u001b[1;33m\u001b[0m\u001b[1;33m\u001b[0m\u001b[0m\n\u001b[0m\u001b[0;32m      2\u001b[0m \u001b[0mplt\u001b[0m\u001b[1;33m.\u001b[0m\u001b[0mtitle\u001b[0m\u001b[1;33m(\u001b[0m\u001b[1;34m'Weekly Totals of Phase Overrun Times for Selected Tanks'\u001b[0m\u001b[1;33m)\u001b[0m\u001b[1;33m\u001b[0m\u001b[1;33m\u001b[0m\u001b[0m\n\u001b[0;32m      3\u001b[0m \u001b[0mplt\u001b[0m\u001b[1;33m.\u001b[0m\u001b[0mxlabel\u001b[0m\u001b[1;33m(\u001b[0m\u001b[1;34m'Week'\u001b[0m\u001b[1;33m)\u001b[0m\u001b[1;33m\u001b[0m\u001b[1;33m\u001b[0m\u001b[0m\n\u001b[0;32m      4\u001b[0m \u001b[0mplt\u001b[0m\u001b[1;33m.\u001b[0m\u001b[0mylabel\u001b[0m\u001b[1;33m(\u001b[0m\u001b[1;34m'Total Phase Overrun Time'\u001b[0m\u001b[1;33m)\u001b[0m\u001b[1;33m\u001b[0m\u001b[1;33m\u001b[0m\u001b[0m\n\u001b[0;32m      5\u001b[0m \u001b[0mplt\u001b[0m\u001b[1;33m.\u001b[0m\u001b[0mgrid\u001b[0m\u001b[1;33m(\u001b[0m\u001b[1;32mTrue\u001b[0m\u001b[1;33m)\u001b[0m\u001b[1;33m\u001b[0m\u001b[1;33m\u001b[0m\u001b[0m\n",
      "\u001b[1;32m~\\anaconda3\\lib\\site-packages\\pandas\\plotting\\_core.py\u001b[0m in \u001b[0;36m__call__\u001b[1;34m(self, *args, **kwargs)\u001b[0m\n\u001b[0;32m    953\u001b[0m                     \u001b[0mdata\u001b[0m\u001b[1;33m.\u001b[0m\u001b[0mcolumns\u001b[0m \u001b[1;33m=\u001b[0m \u001b[0mlabel_name\u001b[0m\u001b[1;33m\u001b[0m\u001b[1;33m\u001b[0m\u001b[0m\n\u001b[0;32m    954\u001b[0m \u001b[1;33m\u001b[0m\u001b[0m\n\u001b[1;32m--> 955\u001b[1;33m         \u001b[1;32mreturn\u001b[0m \u001b[0mplot_backend\u001b[0m\u001b[1;33m.\u001b[0m\u001b[0mplot\u001b[0m\u001b[1;33m(\u001b[0m\u001b[0mdata\u001b[0m\u001b[1;33m,\u001b[0m \u001b[0mkind\u001b[0m\u001b[1;33m=\u001b[0m\u001b[0mkind\u001b[0m\u001b[1;33m,\u001b[0m \u001b[1;33m**\u001b[0m\u001b[0mkwargs\u001b[0m\u001b[1;33m)\u001b[0m\u001b[1;33m\u001b[0m\u001b[1;33m\u001b[0m\u001b[0m\n\u001b[0m\u001b[0;32m    956\u001b[0m \u001b[1;33m\u001b[0m\u001b[0m\n\u001b[0;32m    957\u001b[0m     \u001b[0m__call__\u001b[0m\u001b[1;33m.\u001b[0m\u001b[0m__doc__\u001b[0m \u001b[1;33m=\u001b[0m \u001b[0m__doc__\u001b[0m\u001b[1;33m\u001b[0m\u001b[1;33m\u001b[0m\u001b[0m\n",
      "\u001b[1;32m~\\anaconda3\\lib\\site-packages\\pandas\\plotting\\_matplotlib\\__init__.py\u001b[0m in \u001b[0;36mplot\u001b[1;34m(data, kind, **kwargs)\u001b[0m\n\u001b[0;32m     59\u001b[0m             \u001b[0mkwargs\u001b[0m\u001b[1;33m[\u001b[0m\u001b[1;34m\"ax\"\u001b[0m\u001b[1;33m]\u001b[0m \u001b[1;33m=\u001b[0m \u001b[0mgetattr\u001b[0m\u001b[1;33m(\u001b[0m\u001b[0max\u001b[0m\u001b[1;33m,\u001b[0m \u001b[1;34m\"left_ax\"\u001b[0m\u001b[1;33m,\u001b[0m \u001b[0max\u001b[0m\u001b[1;33m)\u001b[0m\u001b[1;33m\u001b[0m\u001b[1;33m\u001b[0m\u001b[0m\n\u001b[0;32m     60\u001b[0m     \u001b[0mplot_obj\u001b[0m \u001b[1;33m=\u001b[0m \u001b[0mPLOT_CLASSES\u001b[0m\u001b[1;33m[\u001b[0m\u001b[0mkind\u001b[0m\u001b[1;33m]\u001b[0m\u001b[1;33m(\u001b[0m\u001b[0mdata\u001b[0m\u001b[1;33m,\u001b[0m \u001b[1;33m**\u001b[0m\u001b[0mkwargs\u001b[0m\u001b[1;33m)\u001b[0m\u001b[1;33m\u001b[0m\u001b[1;33m\u001b[0m\u001b[0m\n\u001b[1;32m---> 61\u001b[1;33m     \u001b[0mplot_obj\u001b[0m\u001b[1;33m.\u001b[0m\u001b[0mgenerate\u001b[0m\u001b[1;33m(\u001b[0m\u001b[1;33m)\u001b[0m\u001b[1;33m\u001b[0m\u001b[1;33m\u001b[0m\u001b[0m\n\u001b[0m\u001b[0;32m     62\u001b[0m     \u001b[0mplot_obj\u001b[0m\u001b[1;33m.\u001b[0m\u001b[0mdraw\u001b[0m\u001b[1;33m(\u001b[0m\u001b[1;33m)\u001b[0m\u001b[1;33m\u001b[0m\u001b[1;33m\u001b[0m\u001b[0m\n\u001b[0;32m     63\u001b[0m     \u001b[1;32mreturn\u001b[0m \u001b[0mplot_obj\u001b[0m\u001b[1;33m.\u001b[0m\u001b[0mresult\u001b[0m\u001b[1;33m\u001b[0m\u001b[1;33m\u001b[0m\u001b[0m\n",
      "\u001b[1;32m~\\anaconda3\\lib\\site-packages\\pandas\\plotting\\_matplotlib\\core.py\u001b[0m in \u001b[0;36mgenerate\u001b[1;34m(self)\u001b[0m\n\u001b[0;32m    276\u001b[0m     \u001b[1;32mdef\u001b[0m \u001b[0mgenerate\u001b[0m\u001b[1;33m(\u001b[0m\u001b[0mself\u001b[0m\u001b[1;33m)\u001b[0m\u001b[1;33m:\u001b[0m\u001b[1;33m\u001b[0m\u001b[1;33m\u001b[0m\u001b[0m\n\u001b[0;32m    277\u001b[0m         \u001b[0mself\u001b[0m\u001b[1;33m.\u001b[0m\u001b[0m_args_adjust\u001b[0m\u001b[1;33m(\u001b[0m\u001b[1;33m)\u001b[0m\u001b[1;33m\u001b[0m\u001b[1;33m\u001b[0m\u001b[0m\n\u001b[1;32m--> 278\u001b[1;33m         \u001b[0mself\u001b[0m\u001b[1;33m.\u001b[0m\u001b[0m_compute_plot_data\u001b[0m\u001b[1;33m(\u001b[0m\u001b[1;33m)\u001b[0m\u001b[1;33m\u001b[0m\u001b[1;33m\u001b[0m\u001b[0m\n\u001b[0m\u001b[0;32m    279\u001b[0m         \u001b[0mself\u001b[0m\u001b[1;33m.\u001b[0m\u001b[0m_setup_subplots\u001b[0m\u001b[1;33m(\u001b[0m\u001b[1;33m)\u001b[0m\u001b[1;33m\u001b[0m\u001b[1;33m\u001b[0m\u001b[0m\n\u001b[0;32m    280\u001b[0m         \u001b[0mself\u001b[0m\u001b[1;33m.\u001b[0m\u001b[0m_make_plot\u001b[0m\u001b[1;33m(\u001b[0m\u001b[1;33m)\u001b[0m\u001b[1;33m\u001b[0m\u001b[1;33m\u001b[0m\u001b[0m\n",
      "\u001b[1;32m~\\anaconda3\\lib\\site-packages\\pandas\\plotting\\_matplotlib\\core.py\u001b[0m in \u001b[0;36m_compute_plot_data\u001b[1;34m(self)\u001b[0m\n\u001b[0;32m    439\u001b[0m         \u001b[1;31m# no non-numeric frames or series allowed\u001b[0m\u001b[1;33m\u001b[0m\u001b[1;33m\u001b[0m\u001b[1;33m\u001b[0m\u001b[0m\n\u001b[0;32m    440\u001b[0m         \u001b[1;32mif\u001b[0m \u001b[0mis_empty\u001b[0m\u001b[1;33m:\u001b[0m\u001b[1;33m\u001b[0m\u001b[1;33m\u001b[0m\u001b[0m\n\u001b[1;32m--> 441\u001b[1;33m             \u001b[1;32mraise\u001b[0m \u001b[0mTypeError\u001b[0m\u001b[1;33m(\u001b[0m\u001b[1;34m\"no numeric data to plot\"\u001b[0m\u001b[1;33m)\u001b[0m\u001b[1;33m\u001b[0m\u001b[1;33m\u001b[0m\u001b[0m\n\u001b[0m\u001b[0;32m    442\u001b[0m \u001b[1;33m\u001b[0m\u001b[0m\n\u001b[0;32m    443\u001b[0m         \u001b[0mself\u001b[0m\u001b[1;33m.\u001b[0m\u001b[0mdata\u001b[0m \u001b[1;33m=\u001b[0m \u001b[0mnumeric_data\u001b[0m\u001b[1;33m.\u001b[0m\u001b[0mapply\u001b[0m\u001b[1;33m(\u001b[0m\u001b[0mself\u001b[0m\u001b[1;33m.\u001b[0m\u001b[0m_convert_to_ndarray\u001b[0m\u001b[1;33m)\u001b[0m\u001b[1;33m\u001b[0m\u001b[1;33m\u001b[0m\u001b[0m\n",
      "\u001b[1;31mTypeError\u001b[0m: no numeric data to plot"
     ]
    }
   ],
   "source": [
    "filtered_weekly_totals.unstack(level=0).plot(figsize=(14, 7))\n",
    "plt.title('Weekly Totals of Phase Overrun Times for Selected Tanks')\n",
    "plt.xlabel('Week')\n",
    "plt.ylabel('Total Phase Overrun Time')\n",
    "plt.grid(True)\n",
    "plt.legend(title='Tank')\n",
    "plt.show()\n",
    "\n",
    "filtered_monthly_totals.unstack(level=0).plot(figsize=(14, 7))\n",
    "plt.title('Monthly Totals of Phase Overrun Times for Selected Tanks')\n",
    "plt.xlabel('Month')\n",
    "plt.ylabel('Total Phase Overrun Time')\n",
    "plt.grid(True)\n",
    "plt.legend(title='Tank')\n",
    "plt.show()\n",
    "\n",
    "\n",
    "\n"
   ]
  },
  {
   "cell_type": "code",
   "execution_count": 22,
   "id": "d9a38187-efef-4266-8347-1fd73ce4b2a0",
   "metadata": {},
   "outputs": [],
   "source": [
    "selected_tanks2 = [\"2503\", \"2504\"]  # replace with the names of the tanks you wish to visualize : 10 tonne"
   ]
  },
  {
   "cell_type": "code",
   "execution_count": 23,
   "id": "b28369df-f3be-4eae-b477-b5dd026dc996",
   "metadata": {},
   "outputs": [],
   "source": [
    "filtered_weekly_totals2 = weekly_totals_df[weekly_totals_df.index.get_level_values('Tank_1').isin(selected_tanks2)]\n",
    "filtered_monthly_totals2 = monthly_totals_df[monthly_totals_df.index.get_level_values('Tank_1').isin(selected_tanks2)]"
   ]
  },
  {
   "cell_type": "code",
   "execution_count": 24,
   "id": "4da15189-8fc4-4ea1-8fc9-657776d7e1e4",
   "metadata": {},
   "outputs": [
    {
     "ename": "TypeError",
     "evalue": "no numeric data to plot",
     "output_type": "error",
     "traceback": [
      "\u001b[1;31m---------------------------------------------------------------------------\u001b[0m",
      "\u001b[1;31mTypeError\u001b[0m                                 Traceback (most recent call last)",
      "\u001b[1;32m<ipython-input-24-3f26e84b922d>\u001b[0m in \u001b[0;36m<module>\u001b[1;34m\u001b[0m\n\u001b[1;32m----> 1\u001b[1;33m \u001b[0mfiltered_weekly_totals2\u001b[0m\u001b[1;33m.\u001b[0m\u001b[0munstack\u001b[0m\u001b[1;33m(\u001b[0m\u001b[0mlevel\u001b[0m\u001b[1;33m=\u001b[0m\u001b[1;36m0\u001b[0m\u001b[1;33m)\u001b[0m\u001b[1;33m.\u001b[0m\u001b[0mplot\u001b[0m\u001b[1;33m(\u001b[0m\u001b[0mfigsize\u001b[0m\u001b[1;33m=\u001b[0m\u001b[1;33m(\u001b[0m\u001b[1;36m14\u001b[0m\u001b[1;33m,\u001b[0m \u001b[1;36m7\u001b[0m\u001b[1;33m)\u001b[0m\u001b[1;33m)\u001b[0m\u001b[1;33m\u001b[0m\u001b[1;33m\u001b[0m\u001b[0m\n\u001b[0m\u001b[0;32m      2\u001b[0m \u001b[0mplt\u001b[0m\u001b[1;33m.\u001b[0m\u001b[0mtitle\u001b[0m\u001b[1;33m(\u001b[0m\u001b[1;34m'Weekly Totals of Phase Overrun Times for Selected Tanks'\u001b[0m\u001b[1;33m)\u001b[0m\u001b[1;33m\u001b[0m\u001b[1;33m\u001b[0m\u001b[0m\n\u001b[0;32m      3\u001b[0m \u001b[0mplt\u001b[0m\u001b[1;33m.\u001b[0m\u001b[0mxlabel\u001b[0m\u001b[1;33m(\u001b[0m\u001b[1;34m'Week'\u001b[0m\u001b[1;33m)\u001b[0m\u001b[1;33m\u001b[0m\u001b[1;33m\u001b[0m\u001b[0m\n\u001b[0;32m      4\u001b[0m \u001b[0mplt\u001b[0m\u001b[1;33m.\u001b[0m\u001b[0mylabel\u001b[0m\u001b[1;33m(\u001b[0m\u001b[1;34m'Total Phase Overrun Time'\u001b[0m\u001b[1;33m)\u001b[0m\u001b[1;33m\u001b[0m\u001b[1;33m\u001b[0m\u001b[0m\n\u001b[0;32m      5\u001b[0m \u001b[0mplt\u001b[0m\u001b[1;33m.\u001b[0m\u001b[0mgrid\u001b[0m\u001b[1;33m(\u001b[0m\u001b[1;32mTrue\u001b[0m\u001b[1;33m)\u001b[0m\u001b[1;33m\u001b[0m\u001b[1;33m\u001b[0m\u001b[0m\n",
      "\u001b[1;32m~\\anaconda3\\lib\\site-packages\\pandas\\plotting\\_core.py\u001b[0m in \u001b[0;36m__call__\u001b[1;34m(self, *args, **kwargs)\u001b[0m\n\u001b[0;32m    953\u001b[0m                     \u001b[0mdata\u001b[0m\u001b[1;33m.\u001b[0m\u001b[0mcolumns\u001b[0m \u001b[1;33m=\u001b[0m \u001b[0mlabel_name\u001b[0m\u001b[1;33m\u001b[0m\u001b[1;33m\u001b[0m\u001b[0m\n\u001b[0;32m    954\u001b[0m \u001b[1;33m\u001b[0m\u001b[0m\n\u001b[1;32m--> 955\u001b[1;33m         \u001b[1;32mreturn\u001b[0m \u001b[0mplot_backend\u001b[0m\u001b[1;33m.\u001b[0m\u001b[0mplot\u001b[0m\u001b[1;33m(\u001b[0m\u001b[0mdata\u001b[0m\u001b[1;33m,\u001b[0m \u001b[0mkind\u001b[0m\u001b[1;33m=\u001b[0m\u001b[0mkind\u001b[0m\u001b[1;33m,\u001b[0m \u001b[1;33m**\u001b[0m\u001b[0mkwargs\u001b[0m\u001b[1;33m)\u001b[0m\u001b[1;33m\u001b[0m\u001b[1;33m\u001b[0m\u001b[0m\n\u001b[0m\u001b[0;32m    956\u001b[0m \u001b[1;33m\u001b[0m\u001b[0m\n\u001b[0;32m    957\u001b[0m     \u001b[0m__call__\u001b[0m\u001b[1;33m.\u001b[0m\u001b[0m__doc__\u001b[0m \u001b[1;33m=\u001b[0m \u001b[0m__doc__\u001b[0m\u001b[1;33m\u001b[0m\u001b[1;33m\u001b[0m\u001b[0m\n",
      "\u001b[1;32m~\\anaconda3\\lib\\site-packages\\pandas\\plotting\\_matplotlib\\__init__.py\u001b[0m in \u001b[0;36mplot\u001b[1;34m(data, kind, **kwargs)\u001b[0m\n\u001b[0;32m     59\u001b[0m             \u001b[0mkwargs\u001b[0m\u001b[1;33m[\u001b[0m\u001b[1;34m\"ax\"\u001b[0m\u001b[1;33m]\u001b[0m \u001b[1;33m=\u001b[0m \u001b[0mgetattr\u001b[0m\u001b[1;33m(\u001b[0m\u001b[0max\u001b[0m\u001b[1;33m,\u001b[0m \u001b[1;34m\"left_ax\"\u001b[0m\u001b[1;33m,\u001b[0m \u001b[0max\u001b[0m\u001b[1;33m)\u001b[0m\u001b[1;33m\u001b[0m\u001b[1;33m\u001b[0m\u001b[0m\n\u001b[0;32m     60\u001b[0m     \u001b[0mplot_obj\u001b[0m \u001b[1;33m=\u001b[0m \u001b[0mPLOT_CLASSES\u001b[0m\u001b[1;33m[\u001b[0m\u001b[0mkind\u001b[0m\u001b[1;33m]\u001b[0m\u001b[1;33m(\u001b[0m\u001b[0mdata\u001b[0m\u001b[1;33m,\u001b[0m \u001b[1;33m**\u001b[0m\u001b[0mkwargs\u001b[0m\u001b[1;33m)\u001b[0m\u001b[1;33m\u001b[0m\u001b[1;33m\u001b[0m\u001b[0m\n\u001b[1;32m---> 61\u001b[1;33m     \u001b[0mplot_obj\u001b[0m\u001b[1;33m.\u001b[0m\u001b[0mgenerate\u001b[0m\u001b[1;33m(\u001b[0m\u001b[1;33m)\u001b[0m\u001b[1;33m\u001b[0m\u001b[1;33m\u001b[0m\u001b[0m\n\u001b[0m\u001b[0;32m     62\u001b[0m     \u001b[0mplot_obj\u001b[0m\u001b[1;33m.\u001b[0m\u001b[0mdraw\u001b[0m\u001b[1;33m(\u001b[0m\u001b[1;33m)\u001b[0m\u001b[1;33m\u001b[0m\u001b[1;33m\u001b[0m\u001b[0m\n\u001b[0;32m     63\u001b[0m     \u001b[1;32mreturn\u001b[0m \u001b[0mplot_obj\u001b[0m\u001b[1;33m.\u001b[0m\u001b[0mresult\u001b[0m\u001b[1;33m\u001b[0m\u001b[1;33m\u001b[0m\u001b[0m\n",
      "\u001b[1;32m~\\anaconda3\\lib\\site-packages\\pandas\\plotting\\_matplotlib\\core.py\u001b[0m in \u001b[0;36mgenerate\u001b[1;34m(self)\u001b[0m\n\u001b[0;32m    276\u001b[0m     \u001b[1;32mdef\u001b[0m \u001b[0mgenerate\u001b[0m\u001b[1;33m(\u001b[0m\u001b[0mself\u001b[0m\u001b[1;33m)\u001b[0m\u001b[1;33m:\u001b[0m\u001b[1;33m\u001b[0m\u001b[1;33m\u001b[0m\u001b[0m\n\u001b[0;32m    277\u001b[0m         \u001b[0mself\u001b[0m\u001b[1;33m.\u001b[0m\u001b[0m_args_adjust\u001b[0m\u001b[1;33m(\u001b[0m\u001b[1;33m)\u001b[0m\u001b[1;33m\u001b[0m\u001b[1;33m\u001b[0m\u001b[0m\n\u001b[1;32m--> 278\u001b[1;33m         \u001b[0mself\u001b[0m\u001b[1;33m.\u001b[0m\u001b[0m_compute_plot_data\u001b[0m\u001b[1;33m(\u001b[0m\u001b[1;33m)\u001b[0m\u001b[1;33m\u001b[0m\u001b[1;33m\u001b[0m\u001b[0m\n\u001b[0m\u001b[0;32m    279\u001b[0m         \u001b[0mself\u001b[0m\u001b[1;33m.\u001b[0m\u001b[0m_setup_subplots\u001b[0m\u001b[1;33m(\u001b[0m\u001b[1;33m)\u001b[0m\u001b[1;33m\u001b[0m\u001b[1;33m\u001b[0m\u001b[0m\n\u001b[0;32m    280\u001b[0m         \u001b[0mself\u001b[0m\u001b[1;33m.\u001b[0m\u001b[0m_make_plot\u001b[0m\u001b[1;33m(\u001b[0m\u001b[1;33m)\u001b[0m\u001b[1;33m\u001b[0m\u001b[1;33m\u001b[0m\u001b[0m\n",
      "\u001b[1;32m~\\anaconda3\\lib\\site-packages\\pandas\\plotting\\_matplotlib\\core.py\u001b[0m in \u001b[0;36m_compute_plot_data\u001b[1;34m(self)\u001b[0m\n\u001b[0;32m    439\u001b[0m         \u001b[1;31m# no non-numeric frames or series allowed\u001b[0m\u001b[1;33m\u001b[0m\u001b[1;33m\u001b[0m\u001b[1;33m\u001b[0m\u001b[0m\n\u001b[0;32m    440\u001b[0m         \u001b[1;32mif\u001b[0m \u001b[0mis_empty\u001b[0m\u001b[1;33m:\u001b[0m\u001b[1;33m\u001b[0m\u001b[1;33m\u001b[0m\u001b[0m\n\u001b[1;32m--> 441\u001b[1;33m             \u001b[1;32mraise\u001b[0m \u001b[0mTypeError\u001b[0m\u001b[1;33m(\u001b[0m\u001b[1;34m\"no numeric data to plot\"\u001b[0m\u001b[1;33m)\u001b[0m\u001b[1;33m\u001b[0m\u001b[1;33m\u001b[0m\u001b[0m\n\u001b[0m\u001b[0;32m    442\u001b[0m \u001b[1;33m\u001b[0m\u001b[0m\n\u001b[0;32m    443\u001b[0m         \u001b[0mself\u001b[0m\u001b[1;33m.\u001b[0m\u001b[0mdata\u001b[0m \u001b[1;33m=\u001b[0m \u001b[0mnumeric_data\u001b[0m\u001b[1;33m.\u001b[0m\u001b[0mapply\u001b[0m\u001b[1;33m(\u001b[0m\u001b[0mself\u001b[0m\u001b[1;33m.\u001b[0m\u001b[0m_convert_to_ndarray\u001b[0m\u001b[1;33m)\u001b[0m\u001b[1;33m\u001b[0m\u001b[1;33m\u001b[0m\u001b[0m\n",
      "\u001b[1;31mTypeError\u001b[0m: no numeric data to plot"
     ]
    }
   ],
   "source": [
    "filtered_weekly_totals2.unstack(level=0).plot(figsize=(14, 7))\n",
    "plt.title('Weekly Totals of Phase Overrun Times for Selected Tanks')\n",
    "plt.xlabel('Week')\n",
    "plt.ylabel('Total Phase Overrun Time')\n",
    "plt.grid(True)\n",
    "plt.legend(title='Tank')\n",
    "plt.show()\n",
    "\n",
    "filtered_monthly_totals2.unstack(level=0).plot(figsize=(14, 7))\n",
    "plt.title('Monthly Totals of Phase Overrun Times for Selected Tanks')\n",
    "plt.xlabel('Month')\n",
    "plt.ylabel('Total Phase Overrun Time')\n",
    "plt.grid(True)\n",
    "plt.legend(title='Tank')\n",
    "plt.show()\n"
   ]
  },
  {
   "cell_type": "code",
   "execution_count": null,
   "id": "7e2debe6-4b93-4c35-95da-fd8600c45b67",
   "metadata": {},
   "outputs": [],
   "source": [
    "selected_tanks3 = [\"2203\", \"2204\",\"2202\"]  # replace with the names of the tanks you wish to visualize : 20 tonne"
   ]
  },
  {
   "cell_type": "code",
   "execution_count": null,
   "id": "a76b02ca-e30c-4b25-ba8e-33c982b9c87e",
   "metadata": {},
   "outputs": [],
   "source": [
    "filtered_weekly_totals3 = weekly_totals_df[weekly_totals_df.index.get_level_values('Tank_1').isin(selected_tanks3)]\n",
    "filtered_monthly_totals3 = monthly_totals_df[monthly_totals_df.index.get_level_values('Tank_1').isin(selected_tanks3)]"
   ]
  },
  {
   "cell_type": "code",
   "execution_count": null,
   "id": "782fb878-b806-4aa3-878e-4fd8afa08f33",
   "metadata": {},
   "outputs": [],
   "source": [
    "filtered_weekly_totals3.unstack(level=0).plot(figsize=(14, 7))\n",
    "plt.title('Weekly Totals of Phase Overrun Times for Selected Tanks')\n",
    "plt.xlabel('Week')\n",
    "plt.ylabel('Total Phase Overrun Time')\n",
    "plt.grid(True)\n",
    "plt.legend(title='Tank')\n",
    "plt.show()\n",
    "\n",
    "filtered_monthly_totals3.unstack(level=0).plot(figsize=(14, 7))\n",
    "plt.title('Monthly Totals of Phase Overrun Times for Selected Tanks')\n",
    "plt.xlabel('Month')\n",
    "plt.ylabel('Total Phase Overrun Time')\n",
    "plt.grid(True)\n",
    "plt.legend(title='Tank')\n",
    "plt.show()\n"
   ]
  },
  {
   "cell_type": "code",
   "execution_count": null,
   "id": "2c729eb5-e808-4716-a75f-fe760d9fab23",
   "metadata": {},
   "outputs": [],
   "source": [
    "selected_tanks4 = [\"2302\", \"2304\",\"2305\"]  # replace with the names of the tanks you wish to visualize : 20 tonne"
   ]
  },
  {
   "cell_type": "code",
   "execution_count": null,
   "id": "b2afc056-3c3c-4142-84d8-485bd86bd91b",
   "metadata": {},
   "outputs": [],
   "source": [
    "filtered_weekly_totals4 = weekly_totals_df[weekly_totals_df.index.get_level_values('Tank_1').isin(selected_tanks4)]\n",
    "filtered_monthly_totals4 = monthly_totals_df[monthly_totals_df.index.get_level_values('Tank_1').isin(selected_tanks4)]"
   ]
  },
  {
   "cell_type": "code",
   "execution_count": null,
   "id": "bbcb02d6-0db6-47ec-9540-1551df15b9f3",
   "metadata": {},
   "outputs": [],
   "source": [
    "filtered_weekly_totals4.unstack(level=0).plot(figsize=(14, 7))\n",
    "plt.title('Weekly Totals of Phase Overrun Times for Selected Tanks')\n",
    "plt.xlabel('Week')\n",
    "plt.ylabel('Total Phase Overrun Time')\n",
    "plt.grid(True)\n",
    "plt.legend(title='Tank')\n",
    "plt.show()\n",
    "\n",
    "filtered_monthly_totals4.unstack(level=0).plot(figsize=(14, 7))\n",
    "plt.title('Monthly Totals of Phase Overrun Times for Selected Tanks')\n",
    "plt.xlabel('Month')\n",
    "plt.ylabel('Total Phase Overrun Time')\n",
    "plt.grid(True)\n",
    "plt.legend(title='Tank')\n",
    "plt.show()\n"
   ]
  },
  {
   "cell_type": "code",
   "execution_count": null,
   "id": "ea345411-6a91-40cd-b498-3bcc66f3c4db",
   "metadata": {},
   "outputs": [],
   "source": [
    "selected_tanks5 = [\"2601\",\"2602\",]  # replace with the names of the tanks you wish to visualize : 20 tonne"
   ]
  },
  {
   "cell_type": "code",
   "execution_count": null,
   "id": "d3727b0e-b427-4fad-8aad-c3416f86f76d",
   "metadata": {},
   "outputs": [],
   "source": [
    "filtered_weekly_totals5 = weekly_totals_df[weekly_totals_df.index.get_level_values('Tank_1').isin(selected_tanks5)]\n",
    "filtered_monthly_totals5 = monthly_totals_df[monthly_totals_df.index.get_level_values('Tank_1').isin(selected_tanks5)]"
   ]
  },
  {
   "cell_type": "code",
   "execution_count": null,
   "id": "a74fb76d-b596-4308-8f03-aa30b5105e39",
   "metadata": {},
   "outputs": [],
   "source": [
    "filtered_weekly_totals5.unstack(level=0).plot(figsize=(14, 7))\n",
    "plt.title('Weekly Totals of Phase Overrun Times for Selected Tanks')\n",
    "plt.xlabel('Week')\n",
    "plt.ylabel('Total Phase Overrun Time')\n",
    "plt.grid(True)\n",
    "plt.legend(title='Tank')\n",
    "plt.show()\n",
    "\n",
    "filtered_monthly_totals5.unstack(level=0).plot(figsize=(14, 7))\n",
    "plt.title('Monthly Totals of Phase Overrun Times for Selected Tanks')\n",
    "plt.xlabel('Month')\n",
    "plt.ylabel('Total Phase Overrun Time')\n",
    "plt.grid(True)\n",
    "plt.legend(title='Tank')\n",
    "plt.show()\n"
   ]
  },
  {
   "cell_type": "markdown",
   "id": "03d006df-0feb-4bda-9e00-afb16c82076c",
   "metadata": {},
   "source": [
    "Statistical Analysis:\n",
    "\n",
    "Calculate metrics like mean, median, and standard deviation of downtimes for each tank and overall.\n",
    "Consider using hypothesis tests (e.g., ANOVA) if you want to determine if downtimes significantly differ across tanks."
   ]
  },
  {
   "cell_type": "code",
   "execution_count": null,
   "id": "ff0b4612-1acf-4846-a80f-1ae39a2e8b02",
   "metadata": {},
   "outputs": [],
   "source": [
    "# For weekly totals:\n",
    "weekly_stats = weekly_totals_df.groupby('Tank_1').agg(['mean', 'median', 'std'])\n",
    "print(\"\\nWeekly Stats:\\n\", weekly_stats)\n",
    "\n",
    "# For monthly totals:\n",
    "monthly_stats = monthly_totals_df.groupby('Tank_1').agg(['mean', 'median', 'std'])\n",
    "print(\"\\nMonthly Stats:\\n\", monthly_stats)\n",
    "\n",
    "# Overall stats across all tanks:\n",
    "overall_weekly_stats = weekly_totals_df.agg(['mean', 'median', 'std'])\n",
    "print(\"\\nOverall Weekly Stats:\\n\", overall_weekly_stats)\n",
    "\n",
    "overall_monthly_stats = monthly_totals_df.agg(['mean', 'median', 'std'])\n",
    "print(\"\\nOverall Monthly Stats:\\n\", overall_monthly_stats)"
   ]
  },
  {
   "cell_type": "code",
   "execution_count": null,
   "id": "ae476518-c60e-48cf-bc70-274aa5ead42d",
   "metadata": {},
   "outputs": [],
   "source": [
    "import scipy.stats as stats\n",
    "\n",
    "# List of unique tanks\n",
    "unique_tanks = weekly_totals_df.index.get_level_values('Tank_1').unique()\n",
    "\n",
    "# Preparing data for each tank for ANOVA\n",
    "data_for_anova = [weekly_totals_df.xs(tank, level='Tank_1').values for tank in unique_tanks]\n",
    "\n",
    "# Conducting the ANOVA test\n",
    "f_stat, p_value = stats.f_oneway(*data_for_anova)\n",
    "\n",
    "print(\"F-statistic:\", f_stat)\n",
    "print(\"P-value:\", p_value)\n",
    "\n",
    "# Determine significance\n",
    "alpha = 0.05  # or whatever your chosen significance level is\n",
    "if p_value < alpha:\n",
    "    print(\"Reject the null hypothesis: Downtimes significantly differ across tanks.\")\n",
    "else:\n",
    "    print(\"Fail to reject the null hypothesis: Downtimes do not significantly differ across tanks.\")"
   ]
  },
  {
   "cell_type": "markdown",
   "id": "463a9577-18c5-4e52-82cf-c6d9bebb6cb2",
   "metadata": {},
   "source": [
    "Identify Patterns and Anomalies:\n",
    "\n",
    "Look for patterns: Do certain tanks consistently have longer downtimes? Are there specific times of the day or week when downtimes are longer?\n",
    "Identify anomalies: Are there certain batches that have exceptionally long downtimes compared to others? Try to find reasons by diving deeper into those specific cases."
   ]
  },
  {
   "cell_type": "code",
   "execution_count": 30,
   "id": "857f353d-6966-42a7-a4f7-6128077898dd",
   "metadata": {},
   "outputs": [
    {
     "data": {
      "image/png": "[encoded data removed]",
      "text/plain": [
       "<Figure size 432x288 with 1 Axes>"
      ]
     },
     "metadata": {
      "needs_background": "light"
     },
     "output_type": "display_data"
    }
   ],
   "source": [
    "# Getting the mean downtime for each tank\n",
    "mean_downtime_per_tank = df_sorted.groupby('Tank_1')['Phase_overrun'].mean()\n",
    "\n",
    "# Plotting\n",
    "mean_downtime_per_tank.plot(kind='bar', title='Average Downtime per Tank')\n",
    "plt.ylabel('Average Downtime')\n",
    "plt.show()"
   ]
  },
  {
   "cell_type": "code",
   "execution_count": null,
   "id": "24257122-4024-4930-bd37-1003f40e3f9c",
   "metadata": {},
   "outputs": [],
   "source": [
    "# Extracting hour and day of week\n",
    "df_sorted['Hour'] = df_sorted.index.hour\n",
    "df_sorted['Day_of_Week'] = df_sorted.index.day_name()\n",
    "\n",
    "# Plotting downtime based on hour of the day\n",
    "df_sorted.groupby('Hour')['Phase_overrun'].mean().plot(kind='bar', title='Average Downtime by Hour of the Day')\n",
    "plt.ylabel('Average Downtime')\n",
    "plt.show()\n",
    "\n",
    "# Plotting downtime based on day of the week\n",
    "df_sorted.groupby('Day_of_Week')['Phase_overrun'].mean().reindex(['Monday', 'Tuesday', 'Wednesday', 'Thursday', 'Friday', 'Saturday', 'Sunday']).plot(kind='bar', title='Average Downtime by Day of the Week')\n",
    "plt.ylabel('Average Downtime')\n",
    "plt.show()"
   ]
  },
  {
   "cell_type": "markdown",
   "id": "8cac7666-73ef-4ba2-8228-69ea85158d1e",
   "metadata": {},
   "source": [
    "2. Identifying Anomalies:look for values that are a certain number of standard deviations away from the mean."
   ]
  },
  {
   "cell_type": "code",
   "execution_count": null,
   "id": "c3d5d505-29b3-4de4-b4f6-e0ed0021f3da",
   "metadata": {},
   "outputs": [],
   "source": [
    "# Calculating mean and standard deviation\n",
    "mean_downtime = df_sorted['Phase_overrun'].mean()\n",
    "std_downtime = df_sorted['Phase_overrun'].std()\n",
    "\n",
    "# Identifying anomalies\n",
    "anomalies = df_sorted[(df_sorted['Phase_overrun'] < mean_downtime - 2*std_downtime) | (df_sorted['Phase_overrun'] > mean_downtime + 2*std_downtime)]\n",
    "\n",
    "print(anomalies)"
   ]
  },
  {
   "cell_type": "code",
   "execution_count": null,
   "id": "26a1731d-b45f-47d3-86b9-ff894d95884d",
   "metadata": {},
   "outputs": [],
   "source": [
    "# Sort anomalies by 'Phase_overrun' in descending order to see the longest downtimes\n",
    "top_anomalies = anomalies.sort_values(by='Phase_overrun', ascending=False).head()\n",
    "print(top_anomalies)"
   ]
  },
  {
   "cell_type": "code",
   "execution_count": null,
   "id": "b6d855c4-a413-4999-b499-63f75a2bba61",
   "metadata": {},
   "outputs": [],
   "source": [
    "Instruction_Step = 'ENSURE GUM IS MIXED IN ?'\n",
    "\n",
    "# Filter data for the specified ingredient\n",
    "Instruction_Step = df_sorted[df_sorted['Instruction_Step'] == Instruction_Step]\n",
    "\n",
    "# Calculating mean and standard deviation for anomalies detection within the filtered data\n",
    "mean_downtime = Instruction_Step['Phase_overrun'].mean()\n",
    "std_downtime = Instruction_Step['Phase_overrun'].std()\n",
    "\n",
    "# Identifying anomalies within the filtered data\n",
    "anomalies = Instruction_Step[(Instruction_Step['Phase_overrun'] < mean_downtime - 2*std_downtime) | (Instruction_Step['Phase_overrun'] > mean_downtime + 2*std_downtime)]\n",
    "\n",
    "# Plotting\n",
    "plt.figure(figsize=(12, 6))\n",
    "plt.scatter(Instruction_Step['Hour'], Instruction_Step['Phase_overrun'], label=f'Batches with ENSURE GUM IS MIXED IN', alpha=0.6)\n",
    "plt.scatter(anomalies['Hour'], anomalies['Phase_overrun'], color='red', label='Anomalies')\n",
    "plt.title(f'Downtimes across the Day for Instruction_Step with Anomalies Highlighted')\n",
    "plt.xlabel('Hour of the Day')\n",
    "plt.ylabel('Downtime Duration')\n",
    "plt.legend()\n",
    "plt.show()"
   ]
  },
  {
   "cell_type": "code",
   "execution_count": null,
   "id": "a8d8a4dc-59f1-48ff-a6f5-5efed0e9a3e1",
   "metadata": {},
   "outputs": [],
   "source": [
    "import matplotlib.pyplot as plt\n",
    "\n",
    "# Extracting hour from the Phase_end for the x-axis\n",
    "df_sorted['Hour'] = df_sorted.index.hour\n",
    "\n",
    "# Calculating mean and standard deviation for anomalies detection\n",
    "mean_downtime = df_sorted['Phase_overrun'].mean()\n",
    "std_downtime = df_sorted['Phase_overrun'].std()\n",
    "\n",
    "# Identifying anomalies\n",
    "anomalies = df_sorted[(df_sorted['Phase_overrun'] < mean_downtime - 2*std_downtime) | (df_sorted['Phase_overrun'] > mean_downtime + 2*std_downtime)]\n",
    "\n",
    "# Plotting\n",
    "plt.figure(figsize=(12, 6))\n",
    "plt.scatter(df_sorted['Hour'], df_sorted['Phase_overrun'], label='All Batches', alpha=0.6)\n",
    "plt.scatter(anomalies['Hour'], anomalies['Phase_overrun'], color='red', label='Anomalies')\n",
    "plt.title('Downtimes across the Day with Anomalies Highlighted')\n",
    "plt.xlabel('Hour of the Day')\n",
    "plt.ylabel('Downtime Duration')\n",
    "plt.legend()\n",
    "plt.show()"
   ]
  },
  {
   "cell_type": "code",
   "execution_count": null,
   "id": "65b70006-e3d6-425c-8840-e1ef5fcd3c96",
   "metadata": {},
   "outputs": [],
   "source": [
    "import pandas as pd\n",
    "import statsmodels.api as sm\n",
    "import matplotlib.pyplot as plt\n",
    "\n",
    "# Assuming df is your dataframe\n",
    "# Assuming mixing rows have a unique identifier in the 'Instruction_Step' column, let's call it 'MIXING'\n",
    "# And deaeration rows have a unique identifier, let's call it 'DEAERATION'\n",
    "\n",
    "# Segregate data\n",
    "mixing_data = df[df['Instruction_Step'] == 'MIXING']\n",
    "deaeration_data = df[df['Instruction_Step'] == 'DEAERATION']\n",
    "\n",
    "# Correlation Analysis\n",
    "correlation_coefficient = mixing_data['Phase_start_delay'].corr(deaeration_data['Deaeration Phase'])\n",
    "print(\"Correlation Coefficient:\", correlation_coefficient)\n",
    "\n",
    "# Regression Analysis\n",
    "X = mixing_data['Phase_start_delay']\n",
    "Y = deaeration_data['Deaeration Phase']\n",
    "X = sm.add_constant(X)  # adding a constant for intercept\n",
    "\n",
    "model = sm.OLS(Y, X).fit()\n",
    "print(model.summary())\n",
    "\n",
    "# Visual Analysis\n",
    "plt.scatter(mixing_data['Phase_start_delay'], deaeration_data['Deaeration Phase'])\n",
    "plt.xlabel('Mixing Start Phase Delay')\n",
    "plt.ylabel('Deaeration Time')\n",
    "plt.title('Relationship between Mixing Delay and Deaeration Time')\n",
    "plt.show()"
   ]
  },
  {
   "cell_type": "code",
   "execution_count": null,
   "id": "58862bf0-8786-42a9-83cb-57c1ebd781ca",
   "metadata": {},
   "outputs": [],
   "source": []
  },
  {
   "cell_type": "markdown",
   "id": "f124c15f-97af-48be-9f4f-7073536c68c2",
   "metadata": {},
   "source": [
    "Document Findings:\n",
    "\n",
    "Summarize the key insights from the analysis.\n",
    "Identify potential causes for prolonged downtimes, if any. These could be machine inefficiencies, operator errors, supply chain issues, etc.\n",
    "Provide recommendations for addressing identified inefficiencies."
   ]
  }
 ],
 "metadata": {
  "kernelspec": {
   "display_name": "Python 3",
   "language": "python",
   "name": "python3"
  },
  "language_info": {
   "codemirror_mode": {
    "name": "ipython",
    "version": 3
   },
   "file_extension": ".py",
   "mimetype": "text/x-python",
   "name": "python",
   "nbconvert_exporter": "python",
   "pygments_lexer": "ipython3",
   "version": "3.8.8"
  }
 },
 "nbformat": 4,
 "nbformat_minor": 5
}
