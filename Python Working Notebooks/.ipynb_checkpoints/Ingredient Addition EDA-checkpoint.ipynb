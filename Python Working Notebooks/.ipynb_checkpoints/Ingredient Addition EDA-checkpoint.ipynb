{
 "cells": [
  {
   "cell_type": "code",
   "execution_count": 1,
   "id": "44d1dfae-5f6b-4536-889c-fbd004e07b01",
   "metadata": {},
   "outputs": [],
   "source": [
    "#Importing all the necessary libraries\n",
    "import numpy as np\n",
    "import pandas as pd\n",
    "import matplotlib.pyplot as plt\n",
    "# Supress Warnings\n",
    "import warnings \n",
    "warnings.filterwarnings('ignore')\n",
    "#The last line of code helps in suppressing the unnecessary warnings.\n",
    "from scipy import stats\n",
    "import seaborn as sns # Visualisation\n",
    "\n",
    "%matplotlib inline\n",
    "sns.set(color_codes=True)\n",
    "# create tables\n",
    "from tabulate import tabulate\n",
    "\n",
    "# libraries for calculations & analysis\n",
    "import statistics\n",
    "import pylab\n",
    "from scipy import stats"
   ]
  },
  {
   "cell_type": "code",
   "execution_count": 7,
   "id": "525db1e7-6935-4646-99cd-ca62de332215",
   "metadata": {},
   "outputs": [],
   "source": [
    "# Using the Specify Absolute Path: If the file is located in a different directory, you can specify the absolute path to the file when reading it using pd.read_csv():\n",
    "import pandas as pd\n",
    "file_path = r'C:\\Users\\User\\Desktop\\Thesis 2023\\Capstone---CCT\\Python Working Notebooks\\ProductionDataupdated.csv'\n",
    "uploaded_df = pd.read_csv(file_path)"
   ]
  },
  {
   "cell_type": "code",
   "execution_count": 9,
   "id": "369cdd9a-67f8-4948-8bb7-d0b5f8083ab0",
   "metadata": {},
   "outputs": [
    {
     "name": "stdout",
     "output_type": "stream",
     "text": [
      "<class 'pandas.core.frame.DataFrame'>\n",
      "RangeIndex: 1973 entries, 0 to 1972\n",
      "Data columns (total 18 columns):\n",
      " #   Column                 Non-Null Count  Dtype  \n",
      "---  ------                 --------------  -----  \n",
      " 0   Unnamed: 0             1973 non-null   int64  \n",
      " 1   Material               1973 non-null   int64  \n",
      " 2   BATCHID                1973 non-null   int64  \n",
      " 3   Tank_1                 1973 non-null   object \n",
      " 4   Instruction_Step       1973 non-null   object \n",
      " 5   Material_ID            1973 non-null   int64  \n",
      " 6   Material_Name          1973 non-null   object \n",
      " 7   Quantity               1973 non-null   float64\n",
      " 8   Phase_start            1973 non-null   object \n",
      " 9   Phase_end              1973 non-null   object \n",
      " 10  Phase_duration         1973 non-null   int64  \n",
      " 11  Phase_start_delay      1973 non-null   int64  \n",
      " 12  Phase_row_no           1973 non-null   int64  \n",
      " 13  Flowrate_KGMIN         1973 non-null   float64\n",
      " 14  Target_Flowrate        1973 non-null   float64\n",
      " 15  Target_Phase_duration  1973 non-null   int64  \n",
      " 16  Phase_overrun          1973 non-null   float64\n",
      " 17  Deaeration Phase       1973 non-null   int64  \n",
      "dtypes: float64(4), int64(9), object(5)\n",
      "memory usage: 277.6+ KB\n"
     ]
    }
   ],
   "source": [
    "uploaded_df.info()"
   ]
  },
  {
   "cell_type": "markdown",
   "id": "0a47f33c-f2d8-41e8-8897-ae80e73852f5",
   "metadata": {},
   "source": [
    "## Determining the effect of ingredient type addition on the Phase Overrun times per Production Tank"
   ]
  },
  {
   "cell_type": "code",
   "execution_count": 6,
   "id": "9e2f31c3-cc42-436d-bc2f-3f235cdb9c99",
   "metadata": {},
   "outputs": [],
   "source": [
    "import pandas as pd\n",
    "import matplotlib.pyplot as plt\n",
    "\n",
    "df = pd.DataFrame(uploaded_df)\n",
    "\n",
    "# Group data by 'unit' and calculate the mean phase overrun for each unit and material combination\n",
    "grouped_data = df.groupby(['Tank_1','Material_ID'])['Phase_overrun'].mean().reset_index()\n",
    "\n",
    "# Define the threshold value above which points will be colored differently\n",
    "threshold = 75  # Adjust this value as needed\n",
    "\n",
    "# Create a separate plot for each unit\n",
    "units = grouped_data['Tank_1'].unique()\n",
    "for Tank_1 in units:\n",
    "    unit_data = grouped_data[grouped_data['Tank_1'] == Tank_1]\n",
    "    \n",
    "    plt.figure(figsize=(20, 6))\n",
    "    \n",
    "    # Scatter plot for points below threshold\n",
    "    plt.scatter(unit_data[unit_data['Phase_overrun'] <= threshold]['Material_ID'],\n",
    "                unit_data[unit_data['Phase_overrun'] <= threshold]['Phase_overrun'],\n",
    "                label=f'Unit {Tank_1} (<= {threshold})', color='blue')\n",
    "    \n",
    "    # Scatter plot for points above threshold\n",
    "    plt.scatter(unit_data[unit_data['Phase_overrun'] > threshold]['Material_ID'],\n",
    "                unit_data[unit_data['Phase_overrun'] > threshold]['Phase_overrun'],\n",
    "                label=f'Unit {Tank_1} (> {threshold})', color='red', marker='x')\n",
    "    \n",
    "    plt.xlabel('Material_ID')\n",
    "    plt.ylabel('Mean Phase Overrun')\n",
    "    plt.title(f'Mean Phase Overrun vs. Material ID for Tank_1 {Tank_1}')\n",
    "    plt.legend()\n",
    "    plt.xticks(rotation=45)\n",
    "    plt.grid(True)\n",
    "    plt.show()"
   ]
  },
  {
   "cell_type": "code",
   "execution_count": null,
   "id": "75ed61b2-abbc-49a1-bc1e-291181c93042",
   "metadata": {},
   "outputs": [],
   "source": []
  },
  {
   "cell_type": "code",
   "execution_count": null,
   "id": "903096dc-1a97-4d5d-a7cb-085a9b552c93",
   "metadata": {},
   "outputs": [],
   "source": []
  }
 ],
 "metadata": {
  "kernelspec": {
   "display_name": "Python 3",
   "language": "python",
   "name": "python3"
  },
  "language_info": {
   "codemirror_mode": {
    "name": "ipython",
    "version": 3
   },
   "file_extension": ".py",
   "mimetype": "text/x-python",
   "name": "python",
   "nbconvert_exporter": "python",
   "pygments_lexer": "ipython3",
   "version": "3.8.8"
  }
 },
 "nbformat": 4,
 "nbformat_minor": 5
}
