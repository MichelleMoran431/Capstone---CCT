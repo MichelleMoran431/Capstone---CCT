{
 "cells": [
  {
   "cell_type": "markdown",
   "id": "28e773d5-f6cf-4b07-814a-a2e5f864242e",
   "metadata": {},
   "source": [
    "## Looking at tank from 22MT04 - 20 tonne Capacity "
   ]
  },
  {
   "cell_type": "markdown",
   "id": "260c39c4-72e0-47d7-9173-29d5d001b124",
   "metadata": {},
   "source": [
    "## Importing all the necessary libraries"
   ]
  },
  {
   "cell_type": "code",
   "execution_count": 3,
   "id": "1905b6e7-b271-4d24-aeeb-fd3796bfb090",
   "metadata": {},
   "outputs": [],
   "source": [
    "#Importing all the necessary libraries\n",
    "import numpy as np\n",
    "import pandas as pd\n",
    "import matplotlib.pyplot as plt\n",
    "# Supress Warnings\n",
    "import warnings \n",
    "warnings.filterwarnings('ignore')\n",
    "#The last line of code helps in suppressing the unnecessary warnings.\n",
    "from scipy import stats\n",
    "import seaborn as sns"
   ]
  },
  {
   "cell_type": "markdown",
   "id": "9bd3e582-987e-4a9e-b14d-3fcc5dd20d6a",
   "metadata": {},
   "source": [
    "### Upload CSV File "
   ]
  },
  {
   "cell_type": "code",
   "execution_count": 4,
   "id": "3f56fb6c-e84c-485a-96bc-02689bc193f6",
   "metadata": {},
   "outputs": [],
   "source": [
    "# Using the Specify Absolute Path: If the file is located in a different directory, you can specify the absolute path to the file when reading it using pd.read_csv():\n",
    "import pandas as pd\n",
    "file_path = r'C:\\Users\\User\\Desktop\\Thesis 2023\\Capstone---CCT\\Python Working Notebooks\\ProductionDataupdated1.csv'\n",
    "ProductionTank = pd.read_csv(file_path)"
   ]
  },
  {
   "cell_type": "code",
   "execution_count": 5,
   "id": "30fd16f6-eaf7-4760-93be-ffa5d4952b09",
   "metadata": {},
   "outputs": [],
   "source": [
    "ProductionTank.drop(columns=['Unnamed: 0'], inplace=True)"
   ]
  },
  {
   "cell_type": "code",
   "execution_count": 1,
   "id": "6586a657-d288-4628-99e3-19c036ae504a",
   "metadata": {},
   "outputs": [],
   "source": [
    "#ProductionTank"
   ]
  },
  {
   "cell_type": "markdown",
   "id": "fc2bfa81-b199-4e78-9abb-229bc79ed940",
   "metadata": {},
   "source": [
    "### Filter the ProductionTank df to show only 22MT04 production results"
   ]
  },
  {
   "cell_type": "code",
   "execution_count": 6,
   "id": "e3aa168c-fbe5-41bc-bf10-64525d47848c",
   "metadata": {},
   "outputs": [],
   "source": [
    "ProductionTank2204_df= ProductionTank.query('Tank_1 == \"%s\"' % 2204)\n",
    "#print(ProductionTank2204_df) "
   ]
  },
  {
   "cell_type": "markdown",
   "id": "4488547d-1d87-478f-9bf8-264b0490d2a3",
   "metadata": {},
   "source": [
    "### Filter the ProductionTank2204_df by Material and Material_Name columns\n",
    "\n",
    "NB: Looking at ingredients ( Material_Name ) addition in the material production in this tank 2204"
   ]
  },
  {
   "cell_type": "code",
   "execution_count": 6,
   "id": "b90620cf-31f2-4556-9b67-cd14067cb5a9",
   "metadata": {},
   "outputs": [],
   "source": [
    "# Group by the 'Material','Material_Name' column\n",
    "#grouped = ProductionTank2204_df.groupby(['Material'])\n",
    "\n",
    "#grouped.head()\n",
    "# Apply aggregation functions to the grouped data\n",
    "#mean_values = grouped.mean()\n",
    "#sum_values = grouped['Quantity'].sum()\n",
    "#count_values = grouped['Phase_duration'].count()\n",
    "\n",
    "#print(\"Mean Values:\")\n",
    "#print(mean_values)\n",
    "\n",
    "#print(\"\\nSum Values:\")\n",
    "#print(sum_values)\n",
    "\n",
    "#print(\"\\nCount Values:\")\n",
    "#print(count_values)"
   ]
  },
  {
   "cell_type": "markdown",
   "id": "b3e9a19c-66ff-4603-b27b-8cbba9a3b793",
   "metadata": {},
   "source": [
    "### Aggregation of data per tank : by Material"
   ]
  },
  {
   "cell_type": "code",
   "execution_count": 7,
   "id": "7bc6f32c-5b01-43dc-ad56-74892c13deaa",
   "metadata": {},
   "outputs": [],
   "source": [
    "#Aggregate data per tank\n",
    "aggregated_ProductionTank2204_df = ProductionTank2204_df.groupby(['Material']).agg({\n",
    "    'Phase_duration': 'sum',\n",
    "    'Phase_overrun': 'sum',\n",
    "    'Phase_start_delay':'sum',\n",
    "    'Quantity':'sum',\n",
    "    'Flowrate_KGMIN':'sum',\n",
    "    'Target_Phase_duration':'sum',\n",
    "    \n",
    "    'Target_Flowrate':'sum'\n",
    "}).reset_index()\n",
    "\n",
    " #Print the aggregated DataFrame\n",
    "#print(aggregated_ProductionTank2204_df)"
   ]
  },
  {
   "cell_type": "markdown",
   "id": "c5f465ef-78aa-41a5-acd3-aa6d6339de66",
   "metadata": {},
   "source": [
    "### Aggregation of data per tank : by BATCHID"
   ]
  },
  {
   "cell_type": "code",
   "execution_count": 8,
   "id": "be55419c-118c-4727-b6cb-aa35692a84dc",
   "metadata": {},
   "outputs": [
    {
     "name": "stdout",
     "output_type": "stream",
     "text": [
      "      BATCHID  Material  Phase_duration  Phase_overrun  Phase_start_delay  \\\n",
      "0   107848868   1520984             879      45.714286         167.933333   \n",
      "1   107862335   1698522             530      13.125000         307.705882   \n",
      "2   107872112   1520984            3170     194.800000           1.812500   \n",
      "3   107899925   1775253            1444      72.187500         108.352941   \n",
      "4   107907563   1428047             750      24.450000         111.714286   \n",
      "5   107915806   1698522             485       9.750000         287.411765   \n",
      "6   107925352   1520984             417      11.466667         256.875000   \n",
      "7   107964387   1520984             384       9.866667         212.937500   \n",
      "8   107969769   1397022             461      12.315789         219.500000   \n",
      "9   107978118   1775253             353       3.812500         129.235294   \n",
      "10  107992045   1520984             627      23.750000         238.470588   \n",
      "11  107999492   1428047             264      30.000000           1.800000   \n",
      "12  107999493   1775253            1127      52.375000         173.823529   \n",
      "13  107999494   1775253             192       2.333333           0.400000   \n",
      "14  108015839   1397022             625      16.894737         172.650000   \n",
      "15  108026760   1775253             669      25.066667         203.937500   \n",
      "16  108033603   1428047             167       1.666667           0.600000   \n",
      "17  108042635   1775253             627      25.000000         218.375000   \n",
      "18  108042636   1775253              93       0.000000           2.000000   \n",
      "19  108059029   1698522             214       4.600000           1.777778   \n",
      "20  108067819   1648637             102       1.333333           0.833333   \n",
      "21  108073631   1428047             280      32.000000           1.000000   \n",
      "22  108075449   1428047            1001      32.909091          90.782609   \n",
      "23  108084749   1567195             443      11.000000         293.944444   \n",
      "\n",
      "    Flowrate_KGMIN  Target_Phase_duration  Target_Flowrate  \n",
      "0        1583.2285              16.266667       302.778350  \n",
      "1        1393.4183              19.176471       152.181450  \n",
      "2        1508.6187              16.250000       270.812300  \n",
      "3        1901.6146              17.352941       247.907363  \n",
      "4        2225.0568              13.952381       188.249709  \n",
      "5        1456.1131              20.235294       145.112670  \n",
      "6        1314.8379              16.250000       270.812300  \n",
      "7        1605.5394              15.687500       263.857629  \n",
      "8        1215.1144              11.850000       135.836845  \n",
      "9        1712.2831              17.411765       247.907363  \n",
      "10       1383.8342              15.411765       238.648263  \n",
      "11        205.5134              36.800000       237.850400  \n",
      "12       2004.0834              17.352941       247.907363  \n",
      "13        218.3866              40.800000       237.850400  \n",
      "14       1528.9305              15.500000       151.620473  \n",
      "15       1837.2263              18.562500       272.034700  \n",
      "16        222.5988              36.400000       237.850400  \n",
      "17       2043.0124              18.562500       272.034700  \n",
      "18          0.0000              20.500000              NaN  \n",
      "19        179.1878              25.111111       237.850400  \n",
      "20          0.0000              20.000000              NaN  \n",
      "21        162.5138              38.600000       237.850400  \n",
      "22       2125.2654              12.695652       171.444523  \n",
      "23       1882.0014              16.500000       203.054711  \n"
     ]
    }
   ],
   "source": [
    "#Aggregate data per tank\n",
    "aggregated_ProductionTank2204_df1 = ProductionTank2204_df.groupby(['BATCHID','Material']).agg({\n",
    "    'Phase_duration': 'sum',\n",
    "    'Phase_overrun': 'mean',\n",
    "    'Phase_start_delay':'mean',\n",
    "    #'Quantity':'sum',\n",
    "    'Flowrate_KGMIN':'sum',\n",
    "    'Target_Phase_duration':'mean',\n",
    "    'Target_Flowrate':'mean'\n",
    "}).reset_index()\n",
    "\n",
    " #Print the aggregated DataFrame\n",
    "print(aggregated_ProductionTank2204_df1)"
   ]
  },
  {
   "cell_type": "markdown",
   "id": "b519d818-0bb5-43c7-90f8-7f09fb49106b",
   "metadata": {},
   "source": [
    "### Data Visualisation "
   ]
  },
  {
   "cell_type": "code",
   "execution_count": 9,
   "id": "c366531a-6a2f-48e7-a699-176f8d6740f9",
   "metadata": {},
   "outputs": [
    {
     "data": {
      "image/png": "[encoded data removed]",
      "text/plain": [
       "<Figure size 720x432 with 1 Axes>"
      ]
     },
     "metadata": {
      "needs_background": "light"
     },
     "output_type": "display_data"
    }
   ],
   "source": [
    "# Box plot to visualize the distribution of Phase_overrun across different Materials\n",
    "plt.figure(figsize=(10, 6))\n",
    "sns.boxplot(data=aggregated_ProductionTank2204_df1, x='Material', y='Phase_overrun')\n",
    "plt.show()"
   ]
  },
  {
   "cell_type": "code",
   "execution_count": 10,
   "id": "931d3e30-2f75-483f-8b48-b446b0e04db6",
   "metadata": {},
   "outputs": [
    {
     "data": {
      "image/png": "[encoded data removed]",
      "text/plain": [
       "<Figure size 720x720 with 20 Axes>"
      ]
     },
     "metadata": {
      "needs_background": "light"
     },
     "output_type": "display_data"
    }
   ],
   "source": [
    "# Pair plot to visualize relationships between numeric variables\n",
    "numeric_columns = ['Phase_duration', 'Phase_overrun', 'Phase_start_delay','Flowrate_KGMIN']\n",
    "sns.pairplot(aggregated_ProductionTank2204_df1[numeric_columns])\n",
    "plt.show()"
   ]
  },
  {
   "cell_type": "code",
   "execution_count": 12,
   "id": "47190486-96ff-4a80-a8a5-ee8b2019ba9d",
   "metadata": {},
   "outputs": [
    {
     "data": {
      "image/png": "[encoded data removed]",
      "text/plain": [
       "<Figure size 432x288 with 2 Axes>"
      ]
     },
     "metadata": {
      "needs_background": "light"
     },
     "output_type": "display_data"
    }
   ],
   "source": [
    "# Correlation heatmap to visualize correlation between numeric variables\n",
    "correlation_matrix = aggregated_ProductionTank2204_df1[numeric_columns].corr()\n",
    "sns.heatmap(correlation_matrix, annot=True, cmap='coolwarm')\n",
    "plt.show()"
   ]
  },
  {
   "cell_type": "code",
   "execution_count": 13,
   "id": "425b548e-90e9-4e70-ae78-9e537ec7ad43",
   "metadata": {},
   "outputs": [],
   "source": [
    "#aggregated_ProductionTank2204_df1.info"
   ]
  },
  {
   "cell_type": "code",
   "execution_count": 14,
   "id": "e70918f5-b685-4998-9afd-e4b47aed7d0d",
   "metadata": {},
   "outputs": [],
   "source": [
    "# Handling missing values\n",
    "aggregated_ProductionTank2204_df1.dropna(inplace=True)  # Remove rows with missing values"
   ]
  },
  {
   "cell_type": "code",
   "execution_count": 15,
   "id": "7c541b2f-339e-498b-94d6-f886df00b51e",
   "metadata": {},
   "outputs": [],
   "source": [
    "# Handling duplicates\n",
    "aggregated_ProductionTank2204_df1.drop_duplicates(inplace=True)  # Remove duplicate rows"
   ]
  },
  {
   "cell_type": "code",
   "execution_count": 16,
   "id": "ad3f235c-3cd1-41de-bcda-896c85132768",
   "metadata": {},
   "outputs": [
    {
     "name": "stdout",
     "output_type": "stream",
     "text": [
      "      BATCHID  Material  Phase_duration  Phase_overrun  Phase_start_delay  \\\n",
      "0   107848868   1520984             879      45.714286         167.933333   \n",
      "1   107862335   1698522             530      13.125000         307.705882   \n",
      "4   107907563   1428047             750      24.450000         111.714286   \n",
      "5   107915806   1698522             485       9.750000         287.411765   \n",
      "6   107925352   1520984             417      11.466667         256.875000   \n",
      "7   107964387   1520984             384       9.866667         212.937500   \n",
      "8   107969769   1397022             461      12.315789         219.500000   \n",
      "9   107978118   1775253             353       3.812500         129.235294   \n",
      "10  107992045   1520984             627      23.750000         238.470588   \n",
      "14  108015839   1397022             625      16.894737         172.650000   \n",
      "15  108026760   1775253             669      25.066667         203.937500   \n",
      "17  108042635   1775253             627      25.000000         218.375000   \n",
      "19  108059029   1698522             214       4.600000           1.777778   \n",
      "22  108075449   1428047            1001      32.909091          90.782609   \n",
      "23  108084749   1567195             443      11.000000         293.944444   \n",
      "\n",
      "    Flowrate_KGMIN  Target_Phase_duration  Target_Flowrate  \n",
      "0        1583.2285              16.266667       302.778350  \n",
      "1        1393.4183              19.176471       152.181450  \n",
      "4        2225.0568              13.952381       188.249709  \n",
      "5        1456.1131              20.235294       145.112670  \n",
      "6        1314.8379              16.250000       270.812300  \n",
      "7        1605.5394              15.687500       263.857629  \n",
      "8        1215.1144              11.850000       135.836845  \n",
      "9        1712.2831              17.411765       247.907363  \n",
      "10       1383.8342              15.411765       238.648263  \n",
      "14       1528.9305              15.500000       151.620473  \n",
      "15       1837.2263              18.562500       272.034700  \n",
      "17       2043.0124              18.562500       272.034700  \n",
      "19        179.1878              25.111111       237.850400  \n",
      "22       2125.2654              12.695652       171.444523  \n",
      "23       1882.0014              16.500000       203.054711  \n"
     ]
    }
   ],
   "source": [
    "# Define columns where you want to detect and remove outliers\n",
    "ProductionTank2204_df2 = pd.DataFrame(aggregated_ProductionTank2204_df1)\n",
    "columns_to_check = ['Phase_duration', 'Phase_overrun', 'Phase_start_delay', 'Flowrate_KGMIN', 'Target_Phase_duration', 'Target_Flowrate']\n",
    "\n",
    "# Define a function to remove outliers using IQR\n",
    "def remove_outliers_iqr(data, column, iqr_multiplier=1.5):\n",
    "    Q1 = data[column].quantile(0.25)\n",
    "    Q3 = data[column].quantile(0.75)\n",
    "    IQR = Q3 - Q1\n",
    "    lower_bound = Q1 - iqr_multiplier * IQR\n",
    "    upper_bound = Q3 + iqr_multiplier * IQR\n",
    "    return data[(data[column] >= lower_bound) & (data[column] <= upper_bound)]\n",
    "\n",
    "# Remove outliers for each column\n",
    "for col in columns_to_check:\n",
    "    ProductionTank2204_df2 = remove_outliers_iqr(ProductionTank2204_df2, col)\n",
    "\n",
    "# Display the cleaned DataFrame\n",
    "print(ProductionTank2204_df2)"
   ]
  },
  {
   "cell_type": "code",
   "execution_count": 17,
   "id": "f433b40d-8e0a-4f01-aa7f-a495eb34b4bc",
   "metadata": {},
   "outputs": [
    {
     "name": "stdout",
     "output_type": "stream",
     "text": [
      "Original DataFrame Summary Statistics:\n",
      "            BATCHID      Material  Phase_duration  Phase_overrun  \\\n",
      "count  2.200000e+01  2.200000e+01       22.000000      22.000000   \n",
      "mean   1.079794e+08  1.584249e+06      686.772727      29.776541   \n",
      "std    7.185902e+04  1.496785e+05      640.639408      40.827909   \n",
      "min    1.078489e+08  1.397022e+06      167.000000       1.666667   \n",
      "25%    1.079182e+08  1.428047e+06      360.750000      10.150000   \n",
      "50%    1.079958e+08  1.520984e+06      507.500000      20.322368   \n",
      "75%    1.080319e+08  1.756070e+06      729.750000      31.500000   \n",
      "max    1.080847e+08  1.775253e+06     3170.000000     194.800000   \n",
      "\n",
      "       Phase_start_delay  Flowrate_KGMIN  Target_Phase_duration  \\\n",
      "count          22.000000       22.000000              22.000000   \n",
      "mean          145.501816     1350.380855              20.760431   \n",
      "std           107.124214      692.948859               8.835381   \n",
      "min             0.400000      162.513800              11.850000   \n",
      "25%            24.055027     1240.045275              15.828125   \n",
      "50%           170.291667     1518.774600              17.352941   \n",
      "75%           219.218750     1870.807625              19.970588   \n",
      "max           307.705882     2225.056800              40.800000   \n",
      "\n",
      "       Target_Flowrate  \n",
      "count        22.000000  \n",
      "mean        225.975123  \n",
      "std          48.040770  \n",
      "min         135.836845  \n",
      "25%         191.950960  \n",
      "50%         237.850400  \n",
      "75%         259.870062  \n",
      "max         302.778350  \n",
      "\n",
      "Cleaned DataFrame Summary Statistics:\n",
      "            BATCHID      Material  Phase_duration  Phase_overrun  \\\n",
      "count  1.500000e+01  1.500000e+01       15.000000      15.000000   \n",
      "mean   1.079779e+08  1.581506e+06      564.333333      17.981427   \n",
      "std    7.442606e+04  1.423568e+05      207.217852      11.426788   \n",
      "min    1.078489e+08  1.397022e+06      214.000000       3.812500   \n",
      "25%    1.079206e+08  1.474516e+06      430.000000      10.433333   \n",
      "50%    1.079781e+08  1.520984e+06      530.000000      13.125000   \n",
      "75%    1.080347e+08  1.698522e+06      648.000000      24.725000   \n",
      "max    1.080847e+08  1.775253e+06     1001.000000      45.714286   \n",
      "\n",
      "       Phase_start_delay  Flowrate_KGMIN  Target_Phase_duration  \\\n",
      "count          15.000000       15.000000              15.000000   \n",
      "mean          194.216732     1565.669967              16.878240   \n",
      "std            84.083104      489.695361               3.251457   \n",
      "min             1.777778      179.187800              11.850000   \n",
      "25%           148.584314     1388.626250              15.455882   \n",
      "50%           212.937500     1583.228500              16.266667   \n",
      "75%           247.672794     1859.613850              18.562500   \n",
      "max           307.705882     2225.056800              25.111111   \n",
      "\n",
      "       Target_Flowrate  \n",
      "count        15.000000  \n",
      "mean        216.894939  \n",
      "std          55.865255  \n",
      "min         135.836845  \n",
      "25%         161.812987  \n",
      "50%         237.850400  \n",
      "75%         267.334964  \n",
      "max         302.778350  \n"
     ]
    }
   ],
   "source": [
    "# For the original DataFrame\n",
    "print(\"Original DataFrame Summary Statistics:\")\n",
    "print(aggregated_ProductionTank2204_df1.describe())\n",
    "\n",
    "# After removing outliers\n",
    "print(\"\\nCleaned DataFrame Summary Statistics:\")\n",
    "print(ProductionTank2204_df2.describe())"
   ]
  },
  {
   "cell_type": "code",
   "execution_count": 17,
   "id": "b77c8ccb-c6be-4a86-b595-a6209229eae4",
   "metadata": {},
   "outputs": [
    {
     "name": "stdout",
     "output_type": "stream",
     "text": [
      "     BATCHID  Material  Phase_duration  Phase_overrun  Phase_start_delay  \\\n",
      "0  107848868   1520984        1.571829       2.512188          -0.323560   \n",
      "1  107862335   1698522       -0.171502      -0.439921           1.397099   \n",
      "4  107907563   1428047        0.927445       0.585957          -1.015640   \n",
      "5  107915806   1698522       -0.396287      -0.745646           1.147270   \n",
      "6  107925352   1520984       -0.735962      -0.590141           0.771350   \n",
      "\n",
      "   Flowrate_KGMIN  Target_Phase_duration  Target_Flowrate  \n",
      "0        0.037115              16.266667       302.778350  \n",
      "1       -0.364099              19.176471       152.181450  \n",
      "4        1.393785              13.952381       188.249709  \n",
      "5       -0.231577              20.235294       145.112670  \n",
      "6       -0.530199              16.250000       270.812300  \n"
     ]
    }
   ],
   "source": [
    "# Scaling numerical variables (if needed)\n",
    "from sklearn.preprocessing import StandardScaler\n",
    "scaler = StandardScaler()\n",
    "numerical_cols = ['Phase_duration', 'Phase_overrun', 'Phase_start_delay', 'Flowrate_KGMIN']\n",
    "ProductionTank2204_df2[numerical_cols] = scaler.fit_transform(ProductionTank2204_df2[numerical_cols])\n",
    "print(ProductionTank2204_df2.head())"
   ]
  },
  {
   "cell_type": "code",
   "execution_count": 18,
   "id": "e1530911-2640-451a-b168-6d4cb1d6b38c",
   "metadata": {},
   "outputs": [
    {
     "data": {
      "image/png": "[encoded data removed]",
      "text/plain": [
       "<Figure size 1728x288 with 7 Axes>"
      ]
     },
     "metadata": {
      "needs_background": "light"
     },
     "output_type": "display_data"
    }
   ],
   "source": [
    "#Step 3: Visualization\n",
    "#Let us plot the scatter plot for target variable vs. predictor variables in a single plot to get the intuition. Also, plotting a heatmap for all the variables,\n",
    "\n",
    "#Importing seaborn library for visualizations\n",
    "import seaborn as sns\n",
    "#to plot all the scatterplots in a single plot\n",
    "sns.pairplot(ProductionTank2204_df2, x_vars=['Flowrate_KGMIN','Target_Phase_duration','Target_Flowrate','Phase_duration','Phase_overrun','Phase_start_delay'], y_vars = 'Phase_overrun', size = 4, kind = 'scatter' )\n",
    "plt.show()"
   ]
  },
  {
   "cell_type": "markdown",
   "id": "cb27d900-1cb6-43ec-8c5b-50b4f4bf608e",
   "metadata": {},
   "source": [
    "### Applying Machine Learning Algorithms "
   ]
  },
  {
   "cell_type": "code",
   "execution_count": 22,
   "id": "4a40d2c6-8347-4c16-8ce1-73d391f2eb0b",
   "metadata": {},
   "outputs": [
    {
     "name": "stdout",
     "output_type": "stream",
     "text": [
      "+----+-----------------------------+-------------+------------+------------+------------+\n",
      "|    | Model                       |   Train MSE |   Test MSE |   Train R2 |    Test R2 |\n",
      "+====+=============================+=============+============+============+============+\n",
      "|  0 | Linear Regression           | 0.0176779   |   0.322337 |   0.971716 |  0.733247  |\n",
      "+----+-----------------------------+-------------+------------+------------+------------+\n",
      "|  1 | Ridge Regression            | 0.0295408   |   0.609509 |   0.952735 |  0.495595  |\n",
      "+----+-----------------------------+-------------+------------+------------+------------+\n",
      "|  2 | Lasso Regression            | 0.493089    |   3.2837   |   0.211061 | -1.71746   |\n",
      "+----+-----------------------------+-------------+------------+------------+------------+\n",
      "|  3 | Random Forest Regressor     | 0.0249944   |   1.48003  |   0.960009 | -0.224812  |\n",
      "+----+-----------------------------+-------------+------------+------------+------------+\n",
      "|  4 | Gradient Boosting Regressor | 9.3406e-10  |   1.32842  |   1        | -0.0993452 |\n",
      "+----+-----------------------------+-------------+------------+------------+------------+\n",
      "|  5 | Decision Tree Regressor     | 0           |   0.604648 |   1        |  0.499618  |\n",
      "+----+-----------------------------+-------------+------------+------------+------------+\n",
      "|  6 | Bagging Regressor           | 0.0258527   |   1.50843  |   0.958636 | -0.248315  |\n",
      "+----+-----------------------------+-------------+------------+------------+------------+\n",
      "|  7 | AdaBoost Regressor          | 0.000755756 |   1.39308  |   0.998791 | -0.152857  |\n",
      "+----+-----------------------------+-------------+------------+------------+------------+\n",
      "|  8 | Extra Trees Regressor       | 1.08905e-30 |   1.20111  |   1        |  0.006009  |\n",
      "+----+-----------------------------+-------------+------------+------------+------------+\n"
     ]
    }
   ],
   "source": [
    "import pandas as pd\n",
    "from sklearn.model_selection import train_test_split\n",
    "from sklearn.linear_model import LinearRegression, Ridge, Lasso\n",
    "from sklearn.ensemble import RandomForestRegressor, GradientBoostingRegressor\n",
    "from sklearn.model_selection import cross_val_score\n",
    "from sklearn.svm import SVR\n",
    "from sklearn.neural_network import MLPRegressor\n",
    "from sklearn.tree import DecisionTreeRegressor\n",
    "from sklearn.metrics import mean_squared_error, r2_score\n",
    "from sklearn.ensemble import BaggingRegressor, AdaBoostRegressor, ExtraTreesRegressor\n",
    "from tabulate import tabulate\n",
    "\n",
    "# Load your dataset (replace 'ProductionTank2204_df2' with your actual dataset)\n",
    "df = pd.DataFrame(ProductionTank2204_df2)\n",
    "\n",
    "# Define features and target\n",
    "X = df.drop(['Phase_overrun'], axis=1)\n",
    "y = df['Phase_overrun']\n",
    "\n",
    "# Split data into train and test sets\n",
    "X_train, X_test, y_train, y_test = train_test_split(X, y, test_size=0.2, random_state=42)\n",
    "\n",
    "# Create a DataFrame to store the results\n",
    "results_df = pd.DataFrame(columns=['Model', 'Train MSE', 'Test MSE', 'Train R2', 'Test R2'])\n",
    "\n",
    "# Linear Regression\n",
    "lr_model = LinearRegression()\n",
    "lr_model.fit(X_train, y_train)\n",
    "lr_pred_train = lr_model.predict(X_train)\n",
    "lr_pred_test = lr_model.predict(X_test)\n",
    "lr_train_mse = mean_squared_error(y_train, lr_pred_train)\n",
    "lr_test_mse = mean_squared_error(y_test, lr_pred_test)\n",
    "lr_train_r2 = r2_score(y_train, lr_pred_train)\n",
    "lr_test_r2 = r2_score(y_test, lr_pred_test)\n",
    "results_df = results_df.append({'Model': 'Linear Regression', 'Train MSE': lr_train_mse, 'Test MSE': lr_test_mse, 'Train R2': lr_train_r2, 'Test R2': lr_test_r2}, ignore_index=True)\n",
    "\n",
    "# Ridge Regression\n",
    "ridge_model = Ridge(alpha=1.0)\n",
    "ridge_model.fit(X_train, y_train)\n",
    "ridge_pred_train = ridge_model.predict(X_train)\n",
    "ridge_pred_test = ridge_model.predict(X_test)\n",
    "ridge_train_mse = mean_squared_error(y_train, ridge_pred_train)\n",
    "ridge_test_mse = mean_squared_error(y_test, ridge_pred_test)\n",
    "ridge_train_r2 = r2_score(y_train, ridge_pred_train)\n",
    "ridge_test_r2 = r2_score(y_test, ridge_pred_test)\n",
    "results_df = results_df.append({'Model': 'Ridge Regression', 'Train MSE': ridge_train_mse, 'Test MSE': ridge_test_mse, 'Train R2': ridge_train_r2, 'Test R2': ridge_test_r2}, ignore_index=True)\n",
    "\n",
    "# Lasso Regression\n",
    "lasso_model = Lasso(alpha=1.0)\n",
    "lasso_model.fit(X_train, y_train)\n",
    "lasso_pred_train = lasso_model.predict(X_train)\n",
    "lasso_pred_test = lasso_model.predict(X_test)\n",
    "lasso_train_mse = mean_squared_error(y_train, lasso_pred_train)\n",
    "lasso_test_mse = mean_squared_error(y_test, lasso_pred_test)\n",
    "lasso_train_r2 = r2_score(y_train, lasso_pred_train)\n",
    "lasso_test_r2 = r2_score(y_test, lasso_pred_test)\n",
    "results_df = results_df.append({'Model': 'Lasso Regression', 'Train MSE': lasso_train_mse, 'Test MSE': lasso_test_mse, 'Train R2': lasso_train_r2, 'Test R2': lasso_test_r2}, ignore_index=True)\n",
    "\n",
    "# RandomForest Regressor\n",
    "rf_model = RandomForestRegressor(n_estimators=100, random_state=42)\n",
    "rf_model.fit(X_train, y_train)\n",
    "rf_pred_train = rf_model.predict(X_train)\n",
    "rf_pred_test = rf_model.predict(X_test)\n",
    "rf_train_mse = mean_squared_error(y_train, rf_pred_train)\n",
    "rf_test_mse = mean_squared_error(y_test, rf_pred_test)\n",
    "rf_train_r2 = r2_score(y_train, rf_pred_train)\n",
    "rf_test_r2 = r2_score(y_test, rf_pred_test)\n",
    "results_df = results_df.append({'Model': 'Random Forest Regressor', 'Train MSE': rf_train_mse, 'Test MSE': rf_test_mse, 'Train R2': rf_train_r2, 'Test R2': rf_test_r2}, ignore_index=True)\n",
    "\n",
    "# Gradient Boosting Regressor\n",
    "gb_model = GradientBoostingRegressor(n_estimators=100, learning_rate=0.1, max_depth=3, random_state=42)\n",
    "gb_model.fit(X_train, y_train)\n",
    "gb_pred_train = gb_model.predict(X_train)\n",
    "gb_pred_test = gb_model.predict(X_test)\n",
    "gb_train_mse = mean_squared_error(y_train, gb_pred_train)\n",
    "gb_test_mse = mean_squared_error(y_test, gb_pred_test)\n",
    "gb_train_r2 = r2_score(y_train, gb_pred_train)\n",
    "gb_test_r2 = r2_score(y_test, gb_pred_test)\n",
    "results_df = results_df.append({'Model': 'Gradient Boosting Regressor', 'Train MSE': gb_train_mse, 'Test MSE': gb_test_mse, 'Train R2': gb_train_r2, 'Test R2': gb_test_r2}, ignore_index=True)\n",
    "\n",
    "\n",
    "# Decision Tree Regressor\n",
    "dt_model = DecisionTreeRegressor(random_state=42)\n",
    "dt_model.fit(X_train, y_train)\n",
    "dt_pred_train = dt_model.predict(X_train)\n",
    "dt_pred_test = dt_model.predict(X_test)\n",
    "dt_train_mse = mean_squared_error(y_train, dt_pred_train)\n",
    "dt_test_mse = mean_squared_error(y_test, dt_pred_test)\n",
    "dt_train_r2 = r2_score(y_train, dt_pred_train)\n",
    "dt_test_r2 = r2_score(y_test, dt_pred_test)\n",
    "results_df = results_df.append({'Model': 'Decision Tree Regressor', 'Train MSE': dt_train_mse, 'Test MSE': dt_test_mse, 'Train R2': dt_train_r2, 'Test R2': dt_test_r2}, ignore_index=True)\n",
    "\n",
    "# Bagging Regressor (based on Decision Trees by default)\n",
    "bag_model = BaggingRegressor(n_estimators=100, random_state=42)\n",
    "bag_model.fit(X_train, y_train)\n",
    "bag_pred_train = bag_model.predict(X_train)\n",
    "bag_pred_test = bag_model.predict(X_test)\n",
    "bag_train_mse = mean_squared_error(y_train, bag_pred_train)\n",
    "bag_test_mse = mean_squared_error(y_test, bag_pred_test)\n",
    "bag_train_r2 = r2_score(y_train, bag_pred_train)\n",
    "bag_test_r2 = r2_score(y_test, bag_pred_test)\n",
    "results_df = results_df.append({'Model': 'Bagging Regressor', 'Train MSE': bag_train_mse, 'Test MSE': bag_test_mse, 'Train R2': bag_train_r2, 'Test R2': bag_test_r2}, ignore_index=True)\n",
    "\n",
    "# AdaBoost Regressor\n",
    "ada_model = AdaBoostRegressor(n_estimators=100, random_state=42)\n",
    "ada_model.fit(X_train, y_train)\n",
    "ada_pred_train = ada_model.predict(X_train)\n",
    "ada_pred_test = ada_model.predict(X_test)\n",
    "ada_train_mse = mean_squared_error(y_train, ada_pred_train)\n",
    "ada_test_mse = mean_squared_error(y_test, ada_pred_test)\n",
    "ada_train_r2 = r2_score(y_train, ada_pred_train)\n",
    "ada_test_r2 = r2_score(y_test, ada_pred_test)\n",
    "results_df = results_df.append({'Model': 'AdaBoost Regressor', 'Train MSE': ada_train_mse, 'Test MSE': ada_test_mse, 'Train R2': ada_train_r2, 'Test R2': ada_test_r2}, ignore_index=True)\n",
    "\n",
    "\n",
    "# Print the results DataFrame\n",
    "#print(results_df)\n",
    "# Print the results DataFrame in tabulated form\n",
    "print(tabulate(results_df, headers='keys', tablefmt='grid'))\n",
    "# Save results DataFrame to an Excel file\n",
    "results_df.to_excel('2204results.xlsx', index=False)"
   ]
  },
  {
   "cell_type": "code",
   "execution_count": 24,
   "id": "4f249f76-d1f3-4414-a6f8-d66d6e1a0da4",
   "metadata": {},
   "outputs": [
    {
     "name": "stdout",
     "output_type": "stream",
     "text": [
      "LinearRegression:\n",
      "  Mean MSE: 0.646334\n",
      "  Std MSE: 0.403316\n",
      "\n",
      "Ridge:\n",
      "  Mean MSE: 0.480029\n",
      "  Std MSE: 0.221184\n",
      "\n",
      "Lasso:\n",
      "  Mean MSE: 2.403367\n",
      "  Std MSE: 1.412716\n",
      "\n",
      "RandomForestRegressor:\n",
      "  Mean MSE: 0.355682\n",
      "  Std MSE: 0.539727\n",
      "\n",
      "GradientBoostingRegressor:\n",
      "  Mean MSE: 0.481953\n",
      "  Std MSE: 0.395127\n",
      "\n",
      "SVR:\n",
      "  Mean MSE: 1.408413\n",
      "  Std MSE: 1.042342\n",
      "\n",
      "MLPRegressor:\n",
      "  Mean MSE: 2363120208683.500977\n",
      "  Std MSE: 2303086079424.264648\n",
      "\n",
      "DecisionTreeRegressor:\n",
      "  Mean MSE: 1.099819\n",
      "  Std MSE: 0.859138\n",
      "\n",
      "ExtraTreesRegressor:\n",
      "  Mean MSE: 0.417544\n",
      "  Std MSE: 0.435496\n",
      "\n",
      "AdaBoostRegressor:\n",
      "  Mean MSE: 0.423868\n",
      "  Std MSE: 0.565400\n",
      "\n",
      "BaggingRegressor:\n",
      "  Mean MSE: 0.378426\n",
      "  Std MSE: 0.523272\n",
      "\n"
     ]
    }
   ],
   "source": [
    "# Create a list of models with their respective hyperparameters\n",
    "# Initialize models\n",
    "models = [\n",
    "    LinearRegression(),\n",
    "    Ridge(alpha=1.0),\n",
    "    Lasso(alpha=1.0),\n",
    "    RandomForestRegressor(),\n",
    "    GradientBoostingRegressor(),\n",
    "    SVR(),\n",
    "    MLPRegressor(),\n",
    "    DecisionTreeRegressor(random_state=42),\n",
    "   \n",
    "    AdaBoostRegressor(n_estimators=100, random_state=42),\n",
    "    BaggingRegressor(n_estimators=100, random_state=42)\n",
    "    \n",
    "]\n",
    "\n",
    "# Perform cross-validation for each model\n",
    "for model in models:\n",
    "    model_name = model.__class__.__name__\n",
    "    scores = cross_val_score(model, X, y, cv=5, scoring='neg_mean_squared_error')\n",
    "    mse_scores = -scores  # Convert negative MSE back to positive\n",
    "    mean_mse = mse_scores.mean()\n",
    "    std_mse = mse_scores.std()\n",
    "    print(f\"{model_name}:\\n  Mean MSE: {mean_mse:.6f}\\n  Std MSE: {std_mse:.6f}\\n\")"
   ]
  },
  {
   "cell_type": "code",
   "execution_count": 25,
   "id": "05a587e3-411a-4930-9ead-06a2feece68b",
   "metadata": {},
   "outputs": [
    {
     "name": "stdout",
     "output_type": "stream",
     "text": [
      "+----+-----------------------------+-------------+------------+------------+------------+\n",
      "|    | Model                       |   Train MSE |   Test MSE |   Train R2 |    Test R2 |\n",
      "+====+=============================+=============+============+============+============+\n",
      "|  0 | Linear Regression           | 0.0176779   |   0.322337 |   0.971716 |  0.733247  |\n",
      "+----+-----------------------------+-------------+------------+------------+------------+\n",
      "|  1 | Ridge Regression            | 0.0295408   |   0.609509 |   0.952735 |  0.495595  |\n",
      "+----+-----------------------------+-------------+------------+------------+------------+\n",
      "|  2 | Lasso Regression            | 0.0473934   |   0.834158 |   0.924171 |  0.309685  |\n",
      "+----+-----------------------------+-------------+------------+------------+------------+\n",
      "|  3 | Random Forest Regressor     | 0.0193604   |   1.49364  |   0.969024 | -0.236076  |\n",
      "+----+-----------------------------+-------------+------------+------------+------------+\n",
      "|  4 | Gradient Boosting Regressor | 1.88336e-16 |   1.14797  |   1        |  0.0499869 |\n",
      "+----+-----------------------------+-------------+------------+------------+------------+\n",
      "|  5 | Decision Tree Regressor     | 0           |   1.44811  |   1        | -0.198396  |\n",
      "+----+-----------------------------+-------------+------------+------------+------------+\n"
     ]
    }
   ],
   "source": [
    "\n",
    "from sklearn.model_selection import train_test_split, GridSearchCV\n",
    "\n",
    "\n",
    "# Load your dataset (replace 'ProductionTank2204_df2' with your actual dataset)\n",
    "df = pd.DataFrame(ProductionTank2204_df2)\n",
    "\n",
    "# Define features and target\n",
    "X = df.drop(['Phase_overrun'], axis=1)\n",
    "y = df['Phase_overrun']\n",
    "\n",
    "# Split data into train and test sets\n",
    "X_train, X_test, y_train, y_test = train_test_split(X, y, test_size=0.2, random_state=42)\n",
    "\n",
    "# Create a DataFrame to store the results\n",
    "results_df = pd.DataFrame(columns=['Model', 'Train MSE', 'Test MSE', 'Train R2', 'Test R2'])\n",
    "\n",
    "# Linear Regression\n",
    "lr_model = LinearRegression()\n",
    "lr_model.fit(X_train, y_train)\n",
    "lr_pred_train = lr_model.predict(X_train)\n",
    "lr_pred_test = lr_model.predict(X_test)\n",
    "lr_train_mse = mean_squared_error(y_train, lr_pred_train)\n",
    "lr_test_mse = mean_squared_error(y_test, lr_pred_test)\n",
    "lr_train_r2 = r2_score(y_train, lr_pred_train)\n",
    "lr_test_r2 = r2_score(y_test, lr_pred_test)\n",
    "results_df = results_df.append({'Model': 'Linear Regression', 'Train MSE': lr_train_mse, 'Test MSE': lr_test_mse, 'Train R2': lr_train_r2, 'Test R2': lr_test_r2}, ignore_index=True)\n",
    "\n",
    "# Ridge Regression with Hyperparameter Tuning\n",
    "ridge_params = {'alpha': [0.01, 0.1, 1.0, 10.0]}\n",
    "ridge_grid = GridSearchCV(Ridge(), ridge_params, cv=5)\n",
    "ridge_grid.fit(X_train, y_train)\n",
    "best_ridge = ridge_grid.best_estimator_\n",
    "ridge_pred_train = best_ridge.predict(X_train)\n",
    "ridge_pred_test = best_ridge.predict(X_test)\n",
    "ridge_train_mse = mean_squared_error(y_train, ridge_pred_train)\n",
    "ridge_test_mse = mean_squared_error(y_test, ridge_pred_test)\n",
    "ridge_train_r2 = r2_score(y_train, ridge_pred_train)\n",
    "ridge_test_r2 = r2_score(y_test, ridge_pred_test)\n",
    "results_df = results_df.append({'Model': 'Ridge Regression', 'Train MSE': ridge_train_mse, 'Test MSE': ridge_test_mse, 'Train R2': ridge_train_r2, 'Test R2': ridge_test_r2}, ignore_index=True)\n",
    "\n",
    "# Lasso Regression with Hyperparameter Tuning\n",
    "lasso_params = {'alpha': [0.01, 0.1, 1.0, 10.0]}\n",
    "lasso_grid = GridSearchCV(Lasso(), lasso_params, cv=5)\n",
    "lasso_grid.fit(X_train, y_train)\n",
    "best_lasso = lasso_grid.best_estimator_\n",
    "lasso_pred_train = best_lasso.predict(X_train)\n",
    "lasso_pred_test = best_lasso.predict(X_test)\n",
    "lasso_train_mse = mean_squared_error(y_train, lasso_pred_train)\n",
    "lasso_test_mse = mean_squared_error(y_test, lasso_pred_test)\n",
    "lasso_train_r2 = r2_score(y_train, lasso_pred_train)\n",
    "lasso_test_r2 = r2_score(y_test, lasso_pred_test)\n",
    "results_df = results_df.append({'Model': 'Lasso Regression', 'Train MSE': lasso_train_mse, 'Test MSE': lasso_test_mse, 'Train R2': lasso_train_r2, 'Test R2': lasso_test_r2}, ignore_index=True)\n",
    "\n",
    "# Random Forest Regressor with Hyperparameter Tuning\n",
    "rf_params = {'n_estimators': [100, 200, 300], 'max_depth': [None, 10, 20]}\n",
    "rf_grid = GridSearchCV(RandomForestRegressor(), rf_params, cv=5)\n",
    "rf_grid.fit(X_train, y_train)\n",
    "best_rf = rf_grid.best_estimator_\n",
    "rf_pred_train = best_rf.predict(X_train)\n",
    "rf_pred_test = best_rf.predict(X_test)\n",
    "rf_train_mse = mean_squared_error(y_train, rf_pred_train)\n",
    "rf_test_mse = mean_squared_error(y_test, rf_pred_test)\n",
    "rf_train_r2 = r2_score(y_train, rf_pred_train)\n",
    "rf_test_r2 = r2_score(y_test, rf_pred_test)\n",
    "rf_feature_importance = rf_model.feature_importances_\n",
    "results_df = results_df.append({'Model': 'Random Forest Regressor', 'Train MSE': rf_train_mse, 'Test MSE': rf_test_mse, 'Train R2': rf_train_r2, 'Test R2': rf_test_r2}, ignore_index=True)\n",
    "\n",
    "# Gradient Boosting Regressor with Hyperparameter Tuning\n",
    "gb_params = {'n_estimators': [100, 200, 300], 'learning_rate': [0.01, 0.1, 0.2], 'max_depth': [3, 4, 5]}\n",
    "gb_grid = GridSearchCV(GradientBoostingRegressor(), gb_params, cv=5)\n",
    "gb_grid.fit(X_train, y_train)\n",
    "best_gb = gb_grid.best_estimator_\n",
    "gb_pred_train = best_gb.predict(X_train)\n",
    "gb_pred_test = best_gb.predict(X_test)\n",
    "gb_train_mse = mean_squared_error(y_train, gb_pred_train)\n",
    "gb_test_mse = mean_squared_error(y_test, gb_pred_test)\n",
    "gb_train_r2 = r2_score(y_train, gb_pred_train)\n",
    "gb_test_r2 = r2_score(y_test, gb_pred_test)\n",
    "gb_feature_importance = rf_model.feature_importances_\n",
    "results_df = results_df.append({'Model': 'Gradient Boosting Regressor', 'Train MSE': gb_train_mse, 'Test MSE': gb_test_mse, 'Train R2': gb_train_r2, 'Test R2': gb_test_r2}, ignore_index=True)\n",
    "\n",
    "# Decision Tree Regressor with Hyperparameter Tuning\n",
    "dt_params = {'max_depth': [None, 10, 20]}\n",
    "dt_grid = GridSearchCV(DecisionTreeRegressor(), dt_params, cv=5)\n",
    "dt_grid.fit(X_train, y_train)\n",
    "best_dt = dt_grid.best_estimator_\n",
    "dt_pred_train = best_dt.predict(X_train)\n",
    "dt_pred_test = best_dt.predict(X_test)\n",
    "dt_train_mse = mean_squared_error(y_train, dt_pred_train)\n",
    "dt_test_mse = mean_squared_error(y_test, dt_pred_test)\n",
    "dt_train_r2 = r2_score(y_train, dt_pred_train)\n",
    "dt_test_r2 = r2_score(y_test, dt_pred_test)\n",
    "results_df = results_df.append({'Model': 'Decision Tree Regressor', 'Train MSE': dt_train_mse, 'Test MSE': dt_test_mse, 'Train R2': dt_train_r2, 'Test R2': dt_test_r2}, ignore_index=True)\n",
    "\n",
    "# Bagging Regressor with Hyperparameter Tuning\n",
    "bag_params = {\n",
    "    'n_estimators': [50, 100, 200],\n",
    "    'max_samples': [0.5, 0.7, 1.0],\n",
    "    'max_features': [0.5, 0.7, 1.0]\n",
    "}\n",
    "\n",
    "bag_grid = GridSearchCV(BaggingRegressor(random_state=42), bag_params, cv=5, scoring='neg_mean_squared_error', n_jobs=-1)\n",
    "bag_grid.fit(X_train, y_train)\n",
    "bag_best = bag_grid.best_estimator_\n",
    "\n",
    "# Using the best estimator from GridSearch to make predictions\n",
    "bag_pred_train = bag_best.predict(X_train)\n",
    "bag_pred_test = bag_best.predict(X_test)\n",
    "bag_train_mse = mean_squared_error(y_train, bag_pred_train)\n",
    "bag_test_mse = mean_squared_error(y_test, bag_pred_test)\n",
    "bag_train_r2 = r2_score(y_train, bag_pred_train)\n",
    "bag_test_r2 = r2_score(y_test, bag_pred_test)\n",
    "results_df = results_df.append({'Model': 'Bagging Regressor', 'Train MSE': bag_train_mse, 'Test MSE': bag_test_mse, 'Train R2': bag_train_r2, 'Test R2': bag_test_r2}, ignore_index=True)\n",
    "\n",
    "\n",
    "# AdaBoost Regressor with Hyperparameter Tuning\n",
    "ada_model = AdaBoostRegressor(n_estimators=100, random_state=42)\n",
    "ada_params = {\n",
    "    'n_estimators': [50, 100, 200],\n",
    "    'learning_rate': [0.01, 0.05, 0.1]\n",
    "}\n",
    "ada_grid = GridSearchCV(AdaBoostRegressor(random_state=42), ada_params, cv=5, scoring='neg_mean_squared_error', n_jobs=-1)\n",
    "ada_model.fit(X_train, y_train)\n",
    "ada_pred_train = ada_model.predict(X_train)\n",
    "ada_pred_test = ada_model.predict(X_test)\n",
    "ada_train_mse = mean_squared_error(y_train, ada_pred_train)\n",
    "ada_test_mse = mean_squared_error(y_test, ada_pred_test)\n",
    "ada_train_r2 = r2_score(y_train, ada_pred_train)\n",
    "ada_test_r2 = r2_score(y_test, ada_pred_test)\n",
    "results_df = results_df.append({'Model': 'AdaBoost Regressor', 'Train MSE': ada_train_mse, 'Test MSE': ada_test_mse, 'Train R2': ada_train_r2, 'Test R2': ada_test_r2}, ignore_index=True)\n",
    "\n",
    "\n",
    "# Print the results DataFrame\n",
    "#print(results_df)\n",
    "# Print the results DataFrame in tabulated form\n",
    "print(tabulate(results_df, headers='keys', tablefmt='grid'))\n",
    "# Save results DataFrame to an Excel file\n",
    "results_df.to_excel('2204TUNresults.xlsx', index=False)"
   ]
  },
  {
   "cell_type": "code",
   "execution_count": null,
   "id": "1fda66f2-106b-4b37-a643-d65a93fc5578",
   "metadata": {},
   "outputs": [],
   "source": []
  }
 ],
 "metadata": {
  "kernelspec": {
   "display_name": "Python 3",
   "language": "python",
   "name": "python3"
  },
  "language_info": {
   "codemirror_mode": {
    "name": "ipython",
    "version": 3
   },
   "file_extension": ".py",
   "mimetype": "text/x-python",
   "name": "python",
   "nbconvert_exporter": "python",
   "pygments_lexer": "ipython3",
   "version": "3.8.8"
  }
 },
 "nbformat": 4,
 "nbformat_minor": 5
}
