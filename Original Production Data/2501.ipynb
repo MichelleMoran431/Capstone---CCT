{
 "cells": [
  {
   "cell_type": "markdown",
   "id": "1ae7cfe7-f9ab-4b32-a81e-5e25c37e5ce2",
   "metadata": {},
   "source": [
    "#### Tank 25MT02  - 4 tonne tank "
   ]
  },
  {
   "cell_type": "code",
   "execution_count": 4,
   "id": "48d57613-0bae-40d9-b6a3-f04d90d909f3",
   "metadata": {},
   "outputs": [
    {
     "name": "stderr",
     "output_type": "stream",
     "text": [
      "C:\\Users\\User\\anaconda3\\lib\\site-packages\\scipy\\__init__.py:146: UserWarning: A NumPy version >=1.16.5 and <1.23.0 is required for this version of SciPy (detected version 1.24.4\n",
      "  warnings.warn(f\"A NumPy version >={np_minversion} and <{np_maxversion}\"\n"
     ]
    }
   ],
   "source": [
    "import pandas as pd\n",
    "import matplotlib.pyplot as plt\n",
    "import seaborn as sns\n",
    "import numpy as np\n",
    "from scipy import stats"
   ]
  },
  {
   "cell_type": "code",
   "execution_count": 5,
   "id": "cbb5cd02-5bf6-4e31-b588-9812376141c7",
   "metadata": {},
   "outputs": [],
   "source": [
    "uploaded = pd.read_csv('Bev Base Dearation Data Extract .csv')\n",
    "# Dataset is now stored in a Pandas Dataframe"
   ]
  },
  {
   "cell_type": "code",
   "execution_count": 6,
   "id": "ffabd92f-881f-4245-b56c-718889dcbb9a",
   "metadata": {},
   "outputs": [],
   "source": [
    "#uploaded.head()"
   ]
  },
  {
   "cell_type": "code",
   "execution_count": 8,
   "id": "2321c543-e811-4561-90a6-d66c6bc68df9",
   "metadata": {},
   "outputs": [],
   "source": [
    "# Or rename the existing DataFrame (rather than creating a copy)\n",
    "uploaded.rename(columns={'SKU': 'Material','Deaeration Phase':'Deaeration_Phase'}, inplace=True)"
   ]
  },
  {
   "cell_type": "code",
   "execution_count": 9,
   "id": "cbac8caf-a83c-4563-8155-86ce624a25f6",
   "metadata": {},
   "outputs": [],
   "source": [
    "# Removal of unwanted columns from dataset\n",
    "uploaded1=uploaded.drop(['SKU_DESCRIPTION', 'Recipe', 'Tank','Source', 'Batch_Phase_Type','Phase_start','Phase_end','Deaeration_Phase','Phase_row_no'], axis=1)"
   ]
  },
  {
   "cell_type": "code",
   "execution_count": 10,
   "id": "fc7fe1b4-d6c4-46ef-a46b-ea0e65e78b13",
   "metadata": {},
   "outputs": [],
   "source": [
    "# Define a dictionary of replacements\n",
    "replacements = {\n",
    "    'U_25MT02': '2502',\n",
    "    'U_25MT03': '2503',\n",
    "    'U_25MT04': '2504',\n",
    "    'U_26MT01' : '2601',\n",
    "    'U_23MT02' : '2302',\n",
    "    'U_23MT04' : '2304',\n",
    "    'U_25MT01' : '2501',\n",
    "    'U_23MT05' : '2305',\n",
    "    'U_25MT02' : '2502',\n",
    "    'U_22MT04' : '2204',\n",
    "    'U_22MT03' : '2203',\n",
    "    'U_22MT02' : '2202',\n",
    "    'U_26MT04' : '2604',\n",
    "    'U_26MT03' : '2603',\n",
    "    'U_23MT03' : '2303',\n",
    "    'U_22MT05' : '2205'\n",
    "}\n",
    "\n",
    "# Replace values in the 'TankName' column\n",
    "uploaded1['Unit'].replace(replacements, inplace=True)\n",
    "\n",
    "# Print the modified DataFrame\n",
    "#print(uploaded1)"
   ]
  },
  {
   "cell_type": "code",
   "execution_count": null,
   "id": "6b7ff75b-a6a8-4c95-8acf-76215b0c8058",
   "metadata": {},
   "outputs": [],
   "source": [
    "#uploaded1.info()"
   ]
  },
  {
   "cell_type": "code",
   "execution_count": 48,
   "id": "cff1e1b4-aeae-4277-8529-be427e7c8da0",
   "metadata": {},
   "outputs": [
    {
     "name": "stdout",
     "output_type": "stream",
     "text": [
      "      Material    BATCHID  Unit  \\\n",
      "251    1006884  107926373  2502   \n",
      "252    1006884  107926373  2502   \n",
      "253    1006884  107926373  2502   \n",
      "254    1006884  107926373  2502   \n",
      "255    1006884  107926373  2502   \n",
      "...        ...        ...   ...   \n",
      "9482   3055706  107737576  2502   \n",
      "9483   3055706  107737576  2502   \n",
      "9484   3055706  107737576  2502   \n",
      "9485   3055706  107737576  2502   \n",
      "9486   3055706  107737576  2502   \n",
      "\n",
      "                                   Instruction_Step Material_ID Material_Name  \\\n",
      "251                         SELECT_DESTINATION_TANK         NaN           NaN   \n",
      "252                    S4_BATCH_COMPLETE_QA_PENDING         NaN           NaN   \n",
      "253                TAKE A SAMPLE AND SUBMIT FOR QA.         NaN           NaN   \n",
      "254   SAMPLE TO LAB. RESULTS OK? (NO TO HOMOGENISE)         NaN           NaN   \n",
      "255                                              HP         NaN           NaN   \n",
      "...                                             ...         ...           ...   \n",
      "9482               TAKE A SAMPLE AND SUBMIT FOR QA.         NaN           NaN   \n",
      "9483  SAMPLE TO LAB. RESULTS OK? (NO TO HOMOGENISE)         NaN           NaN   \n",
      "9484                                STEP8_AGITATION         NaN           NaN   \n",
      "9485                   S4_BATCH_COMPLETE_QA_PENDING         NaN           NaN   \n",
      "9486                         S7_RELEASED_TO_FILLING         NaN           NaN   \n",
      "\n",
      "         Quantity  Phase_duration  Phase_start_delay  Flowrate_KGMIN  \\\n",
      "251      0.000000              68                  0          0.0000   \n",
      "252      0.000000               0                  2          0.0000   \n",
      "253      0.000000              91                  0          0.0000   \n",
      "254      0.000000               1                  0          0.0000   \n",
      "255   2805.446073              54                  1         51.9527   \n",
      "...           ...             ...                ...             ...   \n",
      "9482     0.000000              11                  0          0.0000   \n",
      "9483     0.000000               1                  0          0.0000   \n",
      "9484     0.000000               0                  1          0.0000   \n",
      "9485     0.000000               0                  0          0.0000   \n",
      "9486     0.000000               0                  6          0.0000   \n",
      "\n",
      "      Target_Flowrate  Target_Phase_duration  Phase_overrun  \n",
      "251               NaN                     68            NaN  \n",
      "252               NaN                      0            NaN  \n",
      "253               NaN                     10           81.0  \n",
      "254               NaN                     10            0.0  \n",
      "255           42.7568                     66            0.0  \n",
      "...               ...                    ...            ...  \n",
      "9482              NaN                     10            1.0  \n",
      "9483              NaN                     10            0.0  \n",
      "9484              NaN                      0            0.0  \n",
      "9485              NaN                      0            NaN  \n",
      "9486              NaN                     14            0.0  \n",
      "\n",
      "[637 rows x 13 columns]\n"
     ]
    }
   ],
   "source": [
    "#Select the batches where 25MT03 tanks was used\n",
    "Unit = ['2502']\n",
    "TANK_2502= uploaded1[uploaded1['Unit'].isin(Unit)]\n",
    "print(TANK_2502)"
   ]
  },
  {
   "cell_type": "markdown",
   "id": "b8f408a0-22a1-41e3-ba0b-2b0f38f854aa",
   "metadata": {},
   "source": [
    "### Creation Dataframes based on the ingredients addition - quantity , flow rates , duration times , overrun times and targets for each "
   ]
  },
  {
   "cell_type": "markdown",
   "id": "3935e933-5fdf-489d-95f2-ed815a1791b5",
   "metadata": {},
   "source": [
    "## ingredients addition"
   ]
  },
  {
   "cell_type": "markdown",
   "id": "364656a4-5133-4824-b7bf-3029deed501d",
   "metadata": {},
   "source": [
    "## 1 Addition of Treated Water- 2 phase additions with different quantities\n",
    "\n",
    "NB : Need to separate out the water additions"
   ]
  },
  {
   "cell_type": "code",
   "execution_count": 49,
   "id": "66beda6d-5b4c-4766-868a-af5b5e7f7fb3",
   "metadata": {},
   "outputs": [
    {
     "name": "stdout",
     "output_type": "stream",
     "text": [
      "      Material    BATCHID  Unit Instruction_Step Material_ID  Material_Name  \\\n",
      "264    1006884  107971789  2502       STEP1_CONS     1002565  WATER TREATED   \n",
      "269    1006884  107971789  2502       STEP1_CONS     1002565  WATER TREATED   \n",
      "289    1006884  108033836  2502       STEP1_CONS     1002565  WATER TREATED   \n",
      "294    1006884  108033836  2502       STEP1_CONS     1002565  WATER TREATED   \n",
      "970    1172415  107896329  2502       STEP1_CONS     1002565  WATER TREATED   \n",
      "975    1172415  107896329  2502       STEP1_CONS     1002565  WATER TREATED   \n",
      "1610   1172993  107872046  2502       STEP1_CONS     1002565  WATER TREATED   \n",
      "1617   1172993  107872046  2502       STEP1_CONS     1002565  WATER TREATED   \n",
      "4282   1529065  107874920  2502       STEP1_CONS     1002565  WATER TREATED   \n",
      "4287   1529065  107874920  2502       STEP1_CONS     1002565  WATER TREATED   \n",
      "4332   1529065  108045551  2502       STEP1_CONS     1002565  WATER TREATED   \n",
      "4337   1529065  108045551  2502       STEP1_CONS     1002565  WATER TREATED   \n",
      "5006   1648718  107673776  2502       STEP1_CONS     1002565  WATER TREATED   \n",
      "5011   1648718  107673776  2502       STEP1_CONS     1002565  WATER TREATED   \n",
      "5035   1648718  107711607  2502       STEP1_CONS     1002565  WATER TREATED   \n",
      "5040   1648718  107711607  2502       STEP1_CONS     1002565  WATER TREATED   \n",
      "5065   1648718  107790594  2502       STEP1_CONS     1002565  WATER TREATED   \n",
      "5070   1648718  107790594  2502       STEP1_CONS     1002565  WATER TREATED   \n",
      "5095   1648718  107829240  2502       STEP1_CONS     1002565  WATER TREATED   \n",
      "5100   1648718  107829240  2502       STEP1_CONS     1002565  WATER TREATED   \n",
      "5244   1667507  107630217  2502       STEP1_CONS     1002565  WATER TREATED   \n",
      "5249   1667507  107630217  2502       STEP1_CONS     1002565  WATER TREATED   \n",
      "5294   1667507  107831024  2502       STEP1_CONS     1002565  WATER TREATED   \n",
      "5299   1667507  107831024  2502       STEP1_CONS     1002565  WATER TREATED   \n",
      "6031   1756358  107673347  2502       STEP1_CONS     1002565  WATER TREATED   \n",
      "8070   1779699  107573888  2502       STEP1_CONS     1002565  WATER TREATED   \n",
      "8075   1779699  107573888  2502       STEP1_CONS     1002565  WATER TREATED   \n",
      "8118   1779699  107643502  2502       STEP1_CONS     1002565  WATER TREATED   \n",
      "8123   1779699  107643502  2502       STEP1_CONS     1002565  WATER TREATED   \n",
      "8167   1779699  107741788  2502       STEP1_CONS     1002565  WATER TREATED   \n",
      "8172   1779699  107741788  2502       STEP1_CONS     1002565  WATER TREATED   \n",
      "8267   1779699  107916897  2502       STEP1_CONS     1002565  WATER TREATED   \n",
      "8271   1779699  107916897  2502       STEP1_CONS     1002565  WATER TREATED   \n",
      "8291   1779699  107949935  2502       STEP1_CONS     1002565  WATER TREATED   \n",
      "8296   1779699  107949935  2502       STEP1_CONS     1002565  WATER TREATED   \n",
      "8478   1875468  107700722  2502       STEP1_CONS     1002565  WATER TREATED   \n",
      "8484   1875468  107700722  2502       STEP1_CONS     1002565  WATER TREATED   \n",
      "8505   1875468  107831025  2502       STEP1_CONS     1002565  WATER TREATED   \n",
      "8511   1875468  107831025  2502       STEP1_CONS     1002565  WATER TREATED   \n",
      "8532   1875468  107907571  2502       STEP1_CONS     1002565  WATER TREATED   \n",
      "8538   1875468  107907571  2502       STEP1_CONS     1002565  WATER TREATED   \n",
      "8586   1875468  108084758  2502       STEP1_CONS     1002565  WATER TREATED   \n",
      "8592   1875468  108084758  2502       STEP1_CONS     1002565  WATER TREATED   \n",
      "9272   3044756  107815341  2502       STEP1_CONS     1002565  WATER TREATED   \n",
      "9278   3044756  107815341  2502       STEP1_CONS     1002565  WATER TREATED   \n",
      "9460   3055706  107737576  2502       STEP1_CONS     1002565  WATER TREATED   \n",
      "9464   3055706  107737576  2502       STEP1_CONS     1002565  WATER TREATED   \n",
      "9467   3055706  107737576  2502       STEP1_CONS     1002565  WATER TREATED   \n",
      "\n",
      "         Quantity  Phase_duration  Phase_start_delay  Flowrate_KGMIN  \\\n",
      "264   1720.000000              17                  0        101.1765   \n",
      "269    193.000000              86                  0          2.2442   \n",
      "289   1721.699951              15                  1        114.7800   \n",
      "294    193.900000              15                  0         12.9267   \n",
      "970   1904.599976              34                  0         56.0176   \n",
      "975    298.900000              32                  0          9.3406   \n",
      "1610  1784.900024              64                  0         27.8891   \n",
      "1617   180.000000              19                  0          9.4737   \n",
      "4282  1758.500000              15                  0        117.2333   \n",
      "4287    54.400000               4                  0         13.6000   \n",
      "4332  1806.000000              28                  0         64.5000   \n",
      "4337    54.400000              16                  0          3.4000   \n",
      "5006   379.500000              30                  3         12.6500   \n",
      "5011    64.800000              24                  0          2.7000   \n",
      "5035   383.299988              46                  4          8.3326   \n",
      "5040    64.700000               0                  0          0.0000   \n",
      "5065   380.000000               8                  2         47.5000   \n",
      "5070    64.800000              79                  1          0.8203   \n",
      "5095   379.000000              29                  2         13.0690   \n",
      "5100    64.608000              11                  0          5.8735   \n",
      "5244  1861.000000              46                  0         40.4565   \n",
      "5249   484.000000              16                  0         30.2500   \n",
      "5294   717.700012             119                 33          6.0311   \n",
      "5299   185.000000              17                  0         10.8824   \n",
      "6031  2870.300049              32                  0         89.6969   \n",
      "8070  1486.500000              19                  0         78.2368   \n",
      "8075   347.000000              68                  0          5.1029   \n",
      "8118  1483.500000              37                  0         40.0946   \n",
      "8123   346.500000              14                  0         24.7500   \n",
      "8167  1475.699951              21                  1         70.2714   \n",
      "8172   346.000000              12                  0         28.8333   \n",
      "8267  1486.700073              43                  0         34.5744   \n",
      "8271   346.000000              13                  0         26.6154   \n",
      "8291  1488.000000              72                  1         20.6667   \n",
      "8296   346.106000             135                  0          2.5637   \n",
      "8478  1678.099976              23                  0         72.9609   \n",
      "8484   402.099853              49                  4          8.2061   \n",
      "8505   825.299988              51                  0         16.1824   \n",
      "8511   208.700073             187                  1          1.1160   \n",
      "8532  1693.000000              27                  0         62.7037   \n",
      "8538   383.599853              19                 10         20.1895   \n",
      "8586  1680.599976              21                  0         80.0286   \n",
      "8592   403.899902              19                 10         21.2579   \n",
      "9272  2252.000000              37                  0         60.8649   \n",
      "9278   698.299805              24                  8         29.0958   \n",
      "9460   565.799988              32                  8         17.6812   \n",
      "9464    57.000000               4                  0         14.2500   \n",
      "9467   404.699951              38                 64         10.6500   \n",
      "\n",
      "      Target_Flowrate  Target_Phase_duration  Phase_overrun  \n",
      "264          249.0230                      7           10.0  \n",
      "269           25.0000                      8           78.0  \n",
      "289          249.0230                      7            8.0  \n",
      "294           25.0000                      8            7.0  \n",
      "970          249.0230                      8           26.0  \n",
      "975           37.7778                      8           24.0  \n",
      "1610         249.0230                      7           57.0  \n",
      "1617          25.0000                      7           12.0  \n",
      "4282         249.0230                      7            8.0  \n",
      "4287          25.0000                      2            2.0  \n",
      "4332         249.0230                      7           21.0  \n",
      "4337          25.0000                      2           14.0  \n",
      "5006          99.8054                      4           26.0  \n",
      "5011          25.0000                      3           21.0  \n",
      "5035          99.8054                      4           42.0  \n",
      "5040          25.0000                      3            0.0  \n",
      "5065          99.8054                      4            4.0  \n",
      "5070          25.0000                      3           76.0  \n",
      "5095          99.8054                      4           25.0  \n",
      "5100          25.0000                      3            8.0  \n",
      "5244         249.0230                      7           39.0  \n",
      "5249          37.7778                     13            3.0  \n",
      "5294          99.8054                      7          112.0  \n",
      "5299          25.0000                      7           10.0  \n",
      "6031         385.4153                      7           25.0  \n",
      "8070         249.0230                      6           13.0  \n",
      "8075          37.7778                      9           59.0  \n",
      "8118         249.0230                      6           31.0  \n",
      "8123          37.7778                      9            5.0  \n",
      "8167         249.0230                      6           15.0  \n",
      "8172          37.7778                      9            3.0  \n",
      "8267         249.0230                      6           37.0  \n",
      "8271          37.7778                      9            4.0  \n",
      "8291         249.0230                      6           66.0  \n",
      "8296          37.7778                      9          126.0  \n",
      "8478         249.0230                      7           16.0  \n",
      "8484          99.8054                      4           45.0  \n",
      "8505          99.8054                      8           43.0  \n",
      "8511          99.8054                      2          185.0  \n",
      "8532         249.0230                      7           20.0  \n",
      "8538          99.8054                      4           15.0  \n",
      "8586         249.0230                      7           14.0  \n",
      "8592          99.8054                      4           15.0  \n",
      "9272         385.4153                      6           31.0  \n",
      "9278          99.8054                      7           17.0  \n",
      "9460          99.8054                      6           26.0  \n",
      "9464          25.0000                      2            2.0  \n",
      "9467          99.8054                      4           34.0  \n"
     ]
    }
   ],
   "source": [
    "#Select all the rows where the phase HP is in the list below - HP is homogenisation of the final batch quantity\n",
    "Material_ID = ['1002565']\n",
    "df_IDW_2502 = TANK_2502[TANK_2502['Material_ID'].isin(Material_ID)]\n",
    "print(df_IDW_2502)"
   ]
  },
  {
   "cell_type": "code",
   "execution_count": 12,
   "id": "b294531c-7c9a-4a15-a380-90e62cd276db",
   "metadata": {},
   "outputs": [
    {
     "name": "stderr",
     "output_type": "stream",
     "text": [
      "<ipython-input-12-a0421210d4d3>:4: SettingWithCopyWarning: \n",
      "A value is trying to be set on a copy of a slice from a DataFrame.\n",
      "Try using .loc[row_indexer,col_indexer] = value instead\n",
      "\n",
      "See the caveats in the documentation: https://pandas.pydata.org/pandas-docs/stable/user_guide/indexing.html#returning-a-view-versus-a-copy\n",
      "  df_IDW_2501['QuantityRange'] = pd.cut(df_IDW_2501['Quantity'], bins=2, labels=['QuantityRange <= 5000', 'QuantityRange >= 5000'])\n"
     ]
    }
   ],
   "source": [
    "import pandas as pd\n",
    "# Assuming df_filtered1 DataFrames are defined\n",
    "# Create a new column 'QuantityRange' in df_filtered1 based on the 'Quantity' values\n",
    "df_IDW_2502['QuantityRange'] = pd.cut(df_IDW_2502['Quantity'], bins=2, labels=['QuantityRange <= 5000', 'QuantityRange >= 5000'])\n",
    "#print(df_IDW_2502)"
   ]
  },
  {
   "cell_type": "code",
   "execution_count": 13,
   "id": "31eb51c8-1aa1-4a94-8127-e8edd92dfd5f",
   "metadata": {},
   "outputs": [
    {
     "name": "stderr",
     "output_type": "stream",
     "text": [
      "C:\\Users\\User\\anaconda3\\lib\\site-packages\\pandas\\core\\frame.py:4441: SettingWithCopyWarning: \n",
      "A value is trying to be set on a copy of a slice from a DataFrame\n",
      "\n",
      "See the caveats in the documentation: https://pandas.pydata.org/pandas-docs/stable/user_guide/indexing.html#returning-a-view-versus-a-copy\n",
      "  return super().rename(\n"
     ]
    }
   ],
   "source": [
    "# Or rename the existing DataFrame (rather than creating a copy)\n",
    "df_IDW_2502.rename(columns={'Quantity': 'WaterQuantity','Phase_duration':'WaterPhase_duration','Phase_start_delay':'WaterPhase_start_delay','Flowrate_KGMIN':'WaterFlowrate_KGMIN','Phase_overrun':'WaterPhase_overrun','QuantityRange':'WaterQuantityRange'}, inplace=True)"
   ]
  },
  {
   "cell_type": "code",
   "execution_count": null,
   "id": "eb1ca274-9f3d-4e9b-bf81-b975f7f3af65",
   "metadata": {},
   "outputs": [],
   "source": [
    "#QuantityRange = ['QuantityRange >= 5000']\n",
    "#df_Material_IDWater1= df_IDW_2502[df_IDW_2502['QuantityRange'].isin(QuantityRange)]\n",
    "#print(df_Material_IDWater1)"
   ]
  },
  {
   "cell_type": "code",
   "execution_count": null,
   "id": "db3df5cc-9679-48a9-a34b-49317f8d00b2",
   "metadata": {},
   "outputs": [],
   "source": [
    "#QuantityRange = ['QuantityRange <= 5000']\n",
    "#df_Material_IDWater2 = df_IDW_2502[df_IDW_2502['QuantityRange'].isin(QuantityRange)]\n",
    "#print(df_Material2501_IDWater2)"
   ]
  },
  {
   "cell_type": "code",
   "execution_count": null,
   "id": "83ba67b7-fcc3-4154-a82c-91c4774ec7d1",
   "metadata": {},
   "outputs": [],
   "source": [
    " #Aggregate data per tank\n",
    "#aggregated_dfWater2 = df_Material2501_IDWater2.groupby('Material').agg({\n",
    "    #'Phase_duration': 'mean',\n",
    "    #'Phase_overrun': 'sum',\n",
    "    #'Phase_start_delay':'sum',\n",
    "    #'Quantity':'sum',\n",
    "    #'Flowrate_KGMIN':'sum',\n",
    "   # 'Target_Phase_duration':'sum',\n",
    "   # 'Target_Flowrate':'sum'\n",
    "#}).reset_index()\n",
    "\n",
    " #Print the aggregated DataFrame\n",
    "#print(aggregated_dfWater2)"
   ]
  },
  {
   "cell_type": "code",
   "execution_count": null,
   "id": "9199b23f-d710-42f8-b3f5-43c059dba404",
   "metadata": {},
   "outputs": [],
   "source": [
    "#Aggregate data per tank\n",
    "#aggregated_dfWater1 = df_Material_IDWater1.groupby('Material').agg({\n",
    "    #'Phase_duration': 'mean',\n",
    "   # 'Phase_overrun': 'sum',\n",
    "   # 'Phase_start_delay':'sum',\n",
    "   # 'Quantity':'sum',\n",
    "   # 'Flowrate_KGMIN':'sum',\n",
    "   # 'Target_Phase_duration':'sum',\n",
    "   # 'Target_Flowrate':'sum'\n",
    "#}).reset_index()\n",
    "\n",
    " #Print the aggregated DataFrame\n",
    "#print(aggregated_dfWater1)"
   ]
  },
  {
   "cell_type": "markdown",
   "id": "8885fd5f-f437-462b-8af6-5b8d86c94bff",
   "metadata": {},
   "source": [
    "## 1 Addition of Preservative (1037802) 1 phase addition"
   ]
  },
  {
   "cell_type": "code",
   "execution_count": 23,
   "id": "553adc93-9407-4949-a173-8a1db758b513",
   "metadata": {},
   "outputs": [],
   "source": [
    "Material_ID = ['1037802']\n",
    "df_IDP1_2502=TANK_2502[TANK_2502['Material_ID'].isin(Material_ID)]\n",
    "#print(df_IDP1_2502)"
   ]
  },
  {
   "cell_type": "code",
   "execution_count": 24,
   "id": "7c7a8ed5-3122-4f7a-b1b6-4e709f78ff59",
   "metadata": {},
   "outputs": [],
   "source": [
    "# Or rename the existing DataFrame (rather than creating a copy)\n",
    "df_IDP1_2502.rename(columns={'Quantity': 'Pres1Quantity','Phase_duration':'Pres1Phase_duration','Phase_start_delay':'Pres1Phase_start_delay','Flowrate_KGMIN':'Pres1Flowrate_KGMIN','Phase_overrun':'Pres1Phase_overrun'}, inplace=True)"
   ]
  },
  {
   "cell_type": "code",
   "execution_count": 25,
   "id": "b7bd9e9f-2399-49e6-9bf2-d245a070f1af",
   "metadata": {},
   "outputs": [
    {
     "name": "stdout",
     "output_type": "stream",
     "text": [
      "   Material  Pres1Phase_duration  Pres1Phase_overrun  Pres1Phase_start_delay  \\\n",
      "0   1006884            10.000000                10.0                       0   \n",
      "1   1172415            11.000000                10.0                       0   \n",
      "2   1397022            31.000000                30.0                       0   \n",
      "3   1529065            83.000000               166.0                       0   \n",
      "4   1648718            10.333333                31.0                      92   \n",
      "5   1880112            42.000000                82.0                       0   \n",
      "6   3044756             9.000000                 8.0                       0   \n",
      "\n",
      "   Pres1Quantity  Pres1Flowrate_KGMIN  Target_Phase_duration  Target_Flowrate  \n",
      "0          2.900               0.2900                      2           6.3182  \n",
      "1          3.181               0.2892                      1           6.3182  \n",
      "2          3.793               0.1224                      1           6.3182  \n",
      "3          3.507               0.0497                      4          12.6364  \n",
      "4          3.450               0.4253                      6          18.9546  \n",
      "5         13.549               0.9357                      2          12.6364  \n",
      "6          5.334               0.5927                      1           6.3182  \n"
     ]
    }
   ],
   "source": [
    "#Aggregate data per tank\n",
    "aggregated_df_IDP1_2502 = df_IDP1_2502.groupby('Material').agg({\n",
    "    'Pres1Phase_duration': 'mean',\n",
    "    'Pres1Phase_overrun': 'sum',\n",
    "    'Pres1Phase_start_delay':'sum',\n",
    "    'Pres1Quantity':'sum',\n",
    "    'Pres1Flowrate_KGMIN':'sum',\n",
    "    'Target_Phase_duration':'sum',\n",
    "    'Target_Flowrate':'sum'\n",
    "}).reset_index()\n",
    "\n",
    " #Print the aggregated DataFrame\n",
    "#print(aggregated_df_IDP1_2502)"
   ]
  },
  {
   "cell_type": "markdown",
   "id": "4662fc4b-4faf-4a14-91bf-460bad9f372a",
   "metadata": {},
   "source": [
    "## 1 Addition of Preservative (1002818)  phase addition"
   ]
  },
  {
   "cell_type": "code",
   "execution_count": 27,
   "id": "e253ae9f-06b1-4c87-b68f-cb5c98bc5952",
   "metadata": {},
   "outputs": [],
   "source": [
    "Material_ID = ['1002818']\n",
    "df_IDP2_2502=TANK_2501[TANK_2502['Material_ID'].isin(Material_ID)]\n",
    "#print(df_IDP2_2502)"
   ]
  },
  {
   "cell_type": "code",
   "execution_count": 28,
   "id": "5cf6e721-27e1-4373-baea-19bd8f56a8e2",
   "metadata": {},
   "outputs": [
    {
     "name": "stderr",
     "output_type": "stream",
     "text": [
      "C:\\Users\\User\\anaconda3\\lib\\site-packages\\pandas\\core\\frame.py:4441: SettingWithCopyWarning: \n",
      "A value is trying to be set on a copy of a slice from a DataFrame\n",
      "\n",
      "See the caveats in the documentation: https://pandas.pydata.org/pandas-docs/stable/user_guide/indexing.html#returning-a-view-versus-a-copy\n",
      "  return super().rename(\n"
     ]
    }
   ],
   "source": [
    "# Or rename the existing DataFrame (rather than creating a copy)\n",
    "df_IDP2_2502.rename(columns={'Quantity': 'Pres2Quantity','Phase_duration':'Pres2Phase_duration','Phase_start_delay':'Pres2Phase_start_delay','Flowrate_KGMIN':'Pres2Flowrate_KGMIN','Phase_overrun':'Pres2Phase_overrun'}, inplace=True)"
   ]
  },
  {
   "cell_type": "code",
   "execution_count": 30,
   "id": "78ad5334-6272-429c-8cee-57a37872185a",
   "metadata": {},
   "outputs": [],
   "source": [
    "#Aggregate data per tank\n",
    "aggregated_df_IDP2_2502 = df_IDP2_2502.groupby('Material').agg({\n",
    "    'Pres2Phase_duration': 'mean',\n",
    "    'Pres2Phase_overrun': 'sum',\n",
    "    'Pres2Phase_start_delay':'sum',\n",
    "    'Pres2Quantity':'sum',\n",
    "    'Pres2Flowrate_KGMIN':'sum',\n",
    "    'Target_Phase_duration':'sum',\n",
    "    'Target_Flowrate':'sum'\n",
    "}).reset_index()\n",
    "\n",
    " #Print the aggregated DataFrame\n",
    "#print(aggregated_df_IDP2_2502)"
   ]
  },
  {
   "cell_type": "code",
   "execution_count": null,
   "id": "714802ce-b2cb-4bba-b515-d5a43e16dc91",
   "metadata": {},
   "outputs": [],
   "source": [
    "## 1 Addition of Preservative (1002818)  phase addition"
   ]
  },
  {
   "cell_type": "code",
   "execution_count": null,
   "id": "2fc29320-a48c-4a08-b0e7-ba454699e5cc",
   "metadata": {},
   "outputs": [],
   "source": [
    "Material_ID = ['1002874']\n",
    "df_IDP3_2502=TANK_2502[TANK_2502['Material_ID'].isin(Material_ID)]\n",
    "#print(df_IDP3_2502)"
   ]
  },
  {
   "cell_type": "code",
   "execution_count": null,
   "id": "018c32a5-5cfa-458e-ac6c-5886493221f8",
   "metadata": {},
   "outputs": [],
   "source": [
    "# Or rename the existing DataFrame (rather than creating a copy)\n",
    "df_IDP3_2502.rename(columns={'Quantity': 'Pres3Quantity','Phase_duration':'Pres3Phase_duration','Phase_start_delay':'Pres3Phase_start_delay','Flowrate_KGMIN':'Pres3Flowrate_KGMIN','Phase_overrun':'Pres3Phase_overrun'}, inplace=True)"
   ]
  },
  {
   "cell_type": "code",
   "execution_count": null,
   "id": "7693e8a3-438c-4069-b04a-dc1f23afc6c8",
   "metadata": {},
   "outputs": [],
   "source": [
    "#Aggregate data per tank\n",
    "aggregated_df_IDP3_2502 = df_IDP3_2502.groupby('Material').agg({\n",
    "    'Pres3Phase_duration': 'mean',\n",
    "    'Pres3Phase_overrun': 'sum',\n",
    "    'Pres3Phase_start_delay':'sum',\n",
    "    'Pres3Quantity':'sum',\n",
    "    'Pres3Flowrate_KGMIN':'sum',\n",
    "    'Target_Phase_duration':'sum',\n",
    "    'Target_Flowrate':'sum'\n",
    "}).reset_index()\n",
    "\n",
    " #Print the aggregated DataFrame\n",
    "#print(aggregated_df_IDP3_2502)"
   ]
  },
  {
   "cell_type": "code",
   "execution_count": null,
   "id": "5fe66ab5-8922-4192-a16c-8aaacb5c1738",
   "metadata": {},
   "outputs": [],
   "source": []
  },
  {
   "cell_type": "markdown",
   "id": "ebf754ad-2bd0-4381-a05d-dcde9093b37d",
   "metadata": {},
   "source": [
    "## 1 Addition of GUM (1461896,1234972,1031006)"
   ]
  },
  {
   "cell_type": "code",
   "execution_count": 32,
   "id": "59369682-d12b-4471-8d25-d46b0c11bd5f",
   "metadata": {},
   "outputs": [],
   "source": [
    "Material_ID = ['1461896','1254972','1031006','1243269']\n",
    "df_IDGUM_2502=TANK_2502[TANK_2502['Material_ID'].isin(Material_ID)]\n",
    "#print(df_IDGUM_2502)"
   ]
  },
  {
   "cell_type": "code",
   "execution_count": 33,
   "id": "f9354f4a-901a-46db-bb6f-9f0c43fe21ca",
   "metadata": {},
   "outputs": [
    {
     "name": "stderr",
     "output_type": "stream",
     "text": [
      "C:\\Users\\User\\anaconda3\\lib\\site-packages\\pandas\\core\\frame.py:4441: SettingWithCopyWarning: \n",
      "A value is trying to be set on a copy of a slice from a DataFrame\n",
      "\n",
      "See the caveats in the documentation: https://pandas.pydata.org/pandas-docs/stable/user_guide/indexing.html#returning-a-view-versus-a-copy\n",
      "  return super().rename(\n"
     ]
    }
   ],
   "source": [
    "# Or rename the existing DataFrame (rather than creating a copy)\n",
    "df_IDGUM_2502.rename(columns={'Quantity': 'GUMQuantity','Phase_duration':'GUMPhase_duration','Phase_start_delay':'GUMPhase_start_delay','Flowrate_KGMIN':'GUMFlowrate_KGMIN','Phase_overrun':'GUMPhase_overrun'}, inplace=True)"
   ]
  },
  {
   "cell_type": "code",
   "execution_count": 35,
   "id": "cc404c53-930c-4583-8d43-80f2842503d3",
   "metadata": {},
   "outputs": [],
   "source": [
    "#Aggregate data per tank\n",
    "aggregated_df_IDGUM_2502= df_IDGUM_2502.groupby('Material').agg({\n",
    "    'GUMPhase_duration': 'mean',\n",
    "    'GUMPhase_overrun': 'sum',\n",
    "    'GUMPhase_start_delay':'sum',\n",
    "    'GUMQuantity':'sum',\n",
    "    'GUMFlowrate_KGMIN':'sum',\n",
    "    'Target_Phase_duration':'sum',\n",
    "    'Target_Flowrate':'sum'\n",
    "}).reset_index()\n",
    "\n",
    " #Print the aggregated DataFrame\n",
    "#print(aggregated_df_IDGUM_2502)"
   ]
  },
  {
   "cell_type": "markdown",
   "id": "556dac56-fed4-4722-aaa4-512b28bbb2c5",
   "metadata": {},
   "source": [
    "## Colour addition"
   ]
  },
  {
   "cell_type": "code",
   "execution_count": 40,
   "id": "a0413132-029d-4a6e-9e2a-708949942a19",
   "metadata": {},
   "outputs": [],
   "source": [
    "Material_ID = ['3026582','1003076','3028269','1002846','3028657','1021774','3010810']\n",
    "df_IDCOL_2502=TANK_2502[TANK_2502['Material_ID'].isin(Material_ID)]\n",
    "#print(df_IDCOL_2502)"
   ]
  },
  {
   "cell_type": "code",
   "execution_count": 41,
   "id": "f01cae51-9eb7-41f9-bb49-2cc80887d177",
   "metadata": {},
   "outputs": [
    {
     "name": "stderr",
     "output_type": "stream",
     "text": [
      "C:\\Users\\User\\anaconda3\\lib\\site-packages\\pandas\\core\\frame.py:4441: SettingWithCopyWarning: \n",
      "A value is trying to be set on a copy of a slice from a DataFrame\n",
      "\n",
      "See the caveats in the documentation: https://pandas.pydata.org/pandas-docs/stable/user_guide/indexing.html#returning-a-view-versus-a-copy\n",
      "  return super().rename(\n"
     ]
    }
   ],
   "source": [
    "# Or rename the existing DataFrame (rather than creating a copy)\n",
    "df_IDCOL_2502.rename(columns={'Quantity': 'COLQuantity','Phase_duration':'COLPhase_duration','Phase_start_delay':'COLPhase_start_delay','Flowrate_KGMIN':'COLFlowrate_KGMIN','Phase_overrun':'COLPhase_overrun'}, inplace=True)"
   ]
  },
  {
   "cell_type": "code",
   "execution_count": 43,
   "id": "7056b034-a82b-46dc-8a30-8f561cf7990b",
   "metadata": {},
   "outputs": [],
   "source": [
    "#Aggregate data per tank\n",
    "aggregated_df_IDCOL_2502 = df_IDCOL_2502.groupby('Material').agg({\n",
    "    'COLPhase_duration': 'mean',\n",
    "    'COLPhase_overrun': 'sum',\n",
    "    'COLPhase_start_delay':'sum',\n",
    "    'COLQuantity':'sum',\n",
    "    'COLFlowrate_KGMIN':'sum',\n",
    "    'Target_Phase_duration':'sum',\n",
    "    'Target_Flowrate':'sum'\n",
    "}).reset_index()\n",
    "\n",
    " #Print the aggregated DataFrame\n",
    "#print(aggregated_df_IDCOL_2502)"
   ]
  },
  {
   "cell_type": "markdown",
   "id": "544b3638-7c96-459d-bb1e-cff06a2d0ff6",
   "metadata": {},
   "source": [
    "## Addition of CSOB11- used in only one batch"
   ]
  },
  {
   "cell_type": "code",
   "execution_count": 44,
   "id": "dcb609d5-4cd3-487c-bd57-db07981030f8",
   "metadata": {},
   "outputs": [],
   "source": [
    "Material_ID = ['1172014']\n",
    "df_IDCSO_2502=TANK_2502[TANK_2502['Material_ID'].isin(Material_ID)]\n",
    "#print(df_IDCSO_2502)"
   ]
  },
  {
   "cell_type": "code",
   "execution_count": 45,
   "id": "ad8a454b-db57-4061-8d13-94d97e6230d8",
   "metadata": {},
   "outputs": [
    {
     "name": "stderr",
     "output_type": "stream",
     "text": [
      "C:\\Users\\User\\anaconda3\\lib\\site-packages\\pandas\\core\\frame.py:4441: SettingWithCopyWarning: \n",
      "A value is trying to be set on a copy of a slice from a DataFrame\n",
      "\n",
      "See the caveats in the documentation: https://pandas.pydata.org/pandas-docs/stable/user_guide/indexing.html#returning-a-view-versus-a-copy\n",
      "  return super().rename(\n"
     ]
    }
   ],
   "source": [
    "# Or rename the existing DataFrame (rather than creating a copy)\n",
    "df_IDCSO_2502.rename(columns={'Quantity': 'CSOQuantity','Phase_duration':'CSOPhase_duration','Phase_start_delay':'CSOPhase_start_delay','Flowrate_KGMIN':'CSOFlowrate_KGMIN','Phase_overrun':'CSOPhase_overrun'}, inplace=True)"
   ]
  },
  {
   "cell_type": "code",
   "execution_count": 47,
   "id": "bb30c76a-a3ae-4ab0-b1b8-bd4c1b40092c",
   "metadata": {},
   "outputs": [],
   "source": [
    "#Aggregate data per tank\n",
    "aggregated_df_IDCSO_2502 = df_IDCSO_2502.groupby('Material').agg({\n",
    "    'CSOPhase_duration': 'mean',\n",
    "    'CSOPhase_overrun': 'sum',\n",
    "    'CSOPhase_start_delay':'sum',\n",
    "    'CSOQuantity':'sum',\n",
    "    'CSOFlowrate_KGMIN':'sum',\n",
    "    'Target_Phase_duration':'sum',\n",
    "    'Target_Flowrate':'sum'\n",
    "}).reset_index()\n",
    "\n",
    " #Print the aggregated DataFrame\n",
    "#print(aggregated_df_IDCSO_2502)"
   ]
  },
  {
   "cell_type": "code",
   "execution_count": null,
   "id": "b694e808-560a-4b5f-9134-a2325d2a5745",
   "metadata": {},
   "outputs": [],
   "source": [
    "frames = [df_IDW_2502,df_IDGUM_2502,df_IDP2_2502,df_IDP1_2502,df_IDP3_2502,df_IDCOL_2502]\n",
    "\n",
    "result = pd.concat(frames)\n",
    "print(result)"
   ]
  },
  {
   "cell_type": "markdown",
   "id": "73d2f347-5cce-4b07-a8d9-34f009d99a84",
   "metadata": {},
   "source": [
    "## Effect of Agitation after ingredient addition"
   ]
  },
  {
   "cell_type": "code",
   "execution_count": null,
   "id": "26f5400a-aab6-41d1-8922-de49ff885282",
   "metadata": {},
   "outputs": [],
   "source": [
    "#Select all the rows where the material is in the list below\n",
    "Instruction_Step = ['STEP1_AGITATION','STEP2_AGITATION']\n",
    "df_Agitation = TANK_2502[TANK_2502['Instruction_Step'].isin(Instruction_Step)]\n",
    "print(df_Agitation)"
   ]
  },
  {
   "cell_type": "code",
   "execution_count": null,
   "id": "85da73ef-4ab0-4b93-ad3c-036fefb122cd",
   "metadata": {},
   "outputs": [],
   "source": [
    "#Aggregate data per tank\n",
    "aggregated_df_Agitation = df_Agitation.groupby('Material').agg({\n",
    "    'Phase_duration': 'mean',\n",
    "    'Phase_overrun': 'sum',\n",
    "    'Phase_start_delay':'sum',\n",
    "    'Quantity':'sum',\n",
    "    'Flowrate_KGMIN':'sum',\n",
    "    'Target_Phase_duration':'sum',\n",
    "    'Target_Flowrate':'sum'\n",
    "}).reset_index()\n",
    "\n",
    " #Print the aggregated DataFrame\n",
    "print(aggregated_df_Agitation)"
   ]
  },
  {
   "cell_type": "code",
   "execution_count": null,
   "id": "0199ccba-1ef3-4f82-8cc7-d5e3c8864b9e",
   "metadata": {},
   "outputs": [],
   "source": []
  }
 ],
 "metadata": {
  "kernelspec": {
   "display_name": "Python 3",
   "language": "python",
   "name": "python3"
  },
  "language_info": {
   "codemirror_mode": {
    "name": "ipython",
    "version": 3
   },
   "file_extension": ".py",
   "mimetype": "text/x-python",
   "name": "python",
   "nbconvert_exporter": "python",
   "pygments_lexer": "ipython3",
   "version": "3.8.8"
  }
 },
 "nbformat": 4,
 "nbformat_minor": 5
}
