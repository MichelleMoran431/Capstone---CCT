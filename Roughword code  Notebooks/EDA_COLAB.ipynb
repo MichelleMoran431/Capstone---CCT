{
 "cells": [
  {
   "cell_type": "markdown",
   "metadata": {
    "colab_type": "text",
    "id": "view-in-github"
   },
   "source": [
    "<a href=\"https://colab.research.google.com/github/MichelleMoran431/Capstone---CCT/blob/main/EDA_PART_1.ipynb\" target=\"_parent\"><img src=\"https://colab.research.google.com/assets/colab-badge.svg\" alt=\"Open In Colab\"/></a>"
   ]
  },
  {
   "cell_type": "markdown",
   "metadata": {
    "id": "V-Fe6O_ic5Fb"
   },
   "source": [
    "1. EDA"
   ]
  },
  {
   "cell_type": "code",
   "execution_count": 1,
   "metadata": {
    "id": "RQLW3ukFcviN"
   },
   "outputs": [
    {
     "name": "stderr",
     "output_type": "stream",
     "text": [
      "C:\\Users\\User\\anaconda3\\lib\\site-packages\\scipy\\__init__.py:146: UserWarning: A NumPy version >=1.16.5 and <1.23.0 is required for this version of SciPy (detected version 1.24.4\n",
      "  warnings.warn(f\"A NumPy version >={np_minversion} and <{np_maxversion}\"\n"
     ]
    }
   ],
   "source": [
    "import numpy as np\n",
    "import pandas as pd\n",
    "import matplotlib.pyplot as plt\n",
    "import seaborn as sns"
   ]
  },
  {
   "cell_type": "code",
   "execution_count": 2,
   "metadata": {
    "colab": {
     "base_uri": "https://localhost:8080/",
     "height": 73
    },
    "id": "SDO3tNUig3eM",
    "outputId": "b7fdb25c-6a57-4356-f7d9-92f063519b62"
   },
   "outputs": [
    {
     "ename": "ModuleNotFoundError",
     "evalue": "No module named 'google.colab'",
     "output_type": "error",
     "traceback": [
      "\u001b[1;31m---------------------------------------------------------------------------\u001b[0m",
      "\u001b[1;31mModuleNotFoundError\u001b[0m                       Traceback (most recent call last)",
      "\u001b[1;32m<ipython-input-2-21dc3c638f66>\u001b[0m in \u001b[0;36m<module>\u001b[1;34m\u001b[0m\n\u001b[1;32m----> 1\u001b[1;33m \u001b[1;32mfrom\u001b[0m \u001b[0mgoogle\u001b[0m\u001b[1;33m.\u001b[0m\u001b[0mcolab\u001b[0m \u001b[1;32mimport\u001b[0m \u001b[0mfiles\u001b[0m\u001b[1;33m\u001b[0m\u001b[1;33m\u001b[0m\u001b[0m\n\u001b[0m\u001b[0;32m      2\u001b[0m \u001b[0muploaded\u001b[0m \u001b[1;33m=\u001b[0m \u001b[0mfiles\u001b[0m\u001b[1;33m.\u001b[0m\u001b[0mupload\u001b[0m\u001b[1;33m(\u001b[0m\u001b[1;33m)\u001b[0m\u001b[1;33m\u001b[0m\u001b[1;33m\u001b[0m\u001b[0m\n",
      "\u001b[1;31mModuleNotFoundError\u001b[0m: No module named 'google.colab'"
     ]
    }
   ],
   "source": [
    "from google.colab import files\n",
    "uploaded = files.upload()"
   ]
  },
  {
   "cell_type": "markdown",
   "metadata": {
    "id": "S9qznAgd44tR"
   },
   "source": []
  },
  {
   "cell_type": "code",
   "execution_count": null,
   "metadata": {
    "colab": {
     "base_uri": "https://localhost:8080/",
     "height": 217
    },
    "id": "xroppoidhyVe",
    "outputId": "b682810b-1e88-4cd9-d247-e4ac85b859e7"
   },
   "outputs": [],
   "source": [
    "import io\n",
    "uploaded = pd.read_csv(io.BytesIO(uploaded['Bev Base Dearation Data Extract   (3)']),encoding= 'unicode_escape')\n",
    "# Dataset is now stored in a Pandas Dataframe"
   ]
  },
  {
   "cell_type": "code",
   "execution_count": null,
   "metadata": {
    "colab": {
     "base_uri": "https://localhost:8080/",
     "height": 473
    },
    "id": "vNumG9oYev4l",
    "outputId": "ac34e7cb-75f6-4a5c-9148-1aab06ce0095"
   },
   "outputs": [],
   "source": [
    "uploaded.head()"
   ]
  },
  {
   "cell_type": "code",
   "execution_count": null,
   "metadata": {
    "id": "F2otxHr8fW34"
   },
   "outputs": [],
   "source": [
    "# Or rename the existing DataFrame (rather than creating a copy)\n",
    "uploaded.rename(columns={'SKU': 'Material','Deaeration Phase':'Deaeration_Phase'}, inplace=True)"
   ]
  },
  {
   "cell_type": "code",
   "execution_count": null,
   "metadata": {
    "colab": {
     "base_uri": "https://localhost:8080/"
    },
    "id": "29ViSJTjev7z",
    "outputId": "1ab678d4-3e71-4d5b-e431-50cc20111736"
   },
   "outputs": [],
   "source": [
    "uploaded.info()"
   ]
  },
  {
   "cell_type": "code",
   "execution_count": null,
   "metadata": {
    "colab": {
     "base_uri": "https://localhost:8080/",
     "height": 458
    },
    "id": "TaTgwRq6l_yD",
    "outputId": "eef1d34e-183a-4dfb-a242-04baae0c4bc5"
   },
   "outputs": [],
   "source": [
    "uploaded.describe().T"
   ]
  },
  {
   "cell_type": "code",
   "execution_count": null,
   "metadata": {
    "colab": {
     "base_uri": "https://localhost:8080/",
     "height": 364
    },
    "id": "27Bi1x6wmKp4",
    "outputId": "a9d9037f-bcc9-458f-b832-00a38ec0bb52"
   },
   "outputs": [],
   "source": [
    "uploaded.describe(include='int64')"
   ]
  },
  {
   "cell_type": "code",
   "execution_count": null,
   "metadata": {
    "colab": {
     "base_uri": "https://localhost:8080/"
    },
    "id": "tPROe3lWmKsl",
    "outputId": "c5956c2c-9700-4fdb-f973-d6bbb1a0608f"
   },
   "outputs": [],
   "source": [
    "Material=uploaded.Material_Name.value_counts()\n",
    "Material"
   ]
  },
  {
   "cell_type": "code",
   "execution_count": null,
   "metadata": {
    "colab": {
     "base_uri": "https://localhost:8080/"
    },
    "id": "gyy9KE38Xf5F",
    "outputId": "dddae1e3-f619-4161-86d2-1a80feb4ec74"
   },
   "outputs": [],
   "source": [
    " DeaerationPhase =uploaded.Deaeration_Phase.value_counts()\n",
    " DeaerationPhase"
   ]
  },
  {
   "cell_type": "code",
   "execution_count": null,
   "metadata": {
    "colab": {
     "base_uri": "https://localhost:8080/"
    },
    "id": "JpUkKuick9qI",
    "outputId": "99431086-525e-492b-f7a5-e99aa22b5b2c"
   },
   "outputs": [],
   "source": [
    "SKU_DESCRIPTION\t=uploaded.SKU_DESCRIPTION\t.value_counts()\n",
    "SKU_DESCRIPTION"
   ]
  },
  {
   "cell_type": "code",
   "execution_count": null,
   "metadata": {
    "colab": {
     "base_uri": "https://localhost:8080/"
    },
    "id": "5LoFZlk7y5sf",
    "outputId": "15b9f3c2-0dbc-40d3-cc94-ff1521f360ef"
   },
   "outputs": [],
   "source": [
    "Material_Name\t=uploaded.Material_Name\t\t.value_counts()\n",
    "Material_Name\n"
   ]
  },
  {
   "cell_type": "code",
   "execution_count": null,
   "metadata": {
    "id": "OYKgMVxJ1kxz"
   },
   "outputs": [],
   "source": [
    "uploaded=uploaded.dropna()"
   ]
  },
  {
   "cell_type": "code",
   "execution_count": null,
   "metadata": {
    "colab": {
     "base_uri": "https://localhost:8080/"
    },
    "id": "xd7qiT3D0KJ9",
    "outputId": "d9e195a1-8650-44cb-e913-8d82238ad20a"
   },
   "outputs": [],
   "source": [
    "uploaded = uploaded[uploaded['Material_Name'].str.startswith('S5')]\n",
    "print (uploaded)"
   ]
  },
  {
   "cell_type": "code",
   "execution_count": null,
   "metadata": {
    "id": "oMhVVlZV2wMV"
   },
   "outputs": [],
   "source": [
    "new_gumValues = {'S501A                       BG XFX500':'GumA_500',' S501A                       BG ZFZ20':'GumA_20',' S5183                       BG XFX500':'GumB_500', 'S5183                       BG XZX25 ':'GumB_25','S5015.2                     BG XFX25':'GumC_25','S501A                          KFX500 ':'GumAK_500',}"
   ]
  },
  {
   "cell_type": "code",
   "execution_count": null,
   "metadata": {
    "colab": {
     "base_uri": "https://localhost:8080/"
    },
    "id": "DQapI8m23Bai",
    "outputId": "85273802-e3d5-479a-8383-03a3325517b4"
   },
   "outputs": [],
   "source": [
    "new_gumValues = {'S501A                       BG XFX500':'GumA_500',' S501A                       BG ZFZ20':'GumA_20',' S5183                       BG XFX500':'GumB_500', 'S5183                       BG XZX25 ':'GumB_25','S5015.2                     BG XFX25':'GumC_25','S501A                          KFX500 ':'GumAK_500',}\n",
    "uploaded= uploaded.replace({'Material_Name':new_gumValues})\n",
    "print(uploaded)"
   ]
  },
  {
   "cell_type": "code",
   "execution_count": null,
   "metadata": {
    "colab": {
     "base_uri": "https://localhost:8080/",
     "height": 217
    },
    "id": "EWNFAMsouL6j",
    "outputId": "b2c311f4-c07d-498d-987e-9377eca2b274"
   },
   "outputs": [],
   "source": [
    "#Select all the rows where the material is in the list below\n",
    "Material_Name = [Gum]\n",
    "df_filtered2 = uploaded[uploaded['Material_Name'].isin(Material_Name)]\n",
    "print(df_filtered2)"
   ]
  },
  {
   "cell_type": "code",
   "execution_count": null,
   "metadata": {
    "colab": {
     "base_uri": "https://localhost:8080/"
    },
    "id": "5CFVeOyCK_9A",
    "outputId": "11dac96b-0ec5-4655-a7df-7d95e98b22dc"
   },
   "outputs": [],
   "source": [
    "#Select all the rows where the material is in the list below\n",
    "Deaeration_Phase = [1]\n",
    "df_filtered3 = uploaded[uploaded['Deaeration_Phase'].isin(Deaeration_Phase)]\n",
    "print(df_filtered3)"
   ]
  },
  {
   "cell_type": "code",
   "execution_count": null,
   "metadata": {
    "id": "wirMjXLLOKQ9"
   },
   "outputs": [],
   "source": [
    "#Material\t=df_filtered3.Material\t\t.value_counts()\n",
    "#Material"
   ]
  },
  {
   "cell_type": "code",
   "execution_count": null,
   "metadata": {
    "colab": {
     "base_uri": "https://localhost:8080/"
    },
    "id": "zOtSaK9_ixWA",
    "outputId": "ebfd18c7-d520-4020-9b39-896083ceaafa"
   },
   "outputs": [],
   "source": [
    "Quantity\t=df_filtered3.Quantity\t\t.value_counts()\n",
    "\n",
    "Quantity"
   ]
  },
  {
   "cell_type": "code",
   "execution_count": null,
   "metadata": {
    "colab": {
     "base_uri": "https://localhost:8080/",
     "height": 200
    },
    "id": "RM1T8gUcOuqp",
    "outputId": "c2fbee77-6f46-4584-e1ba-26ee56f61455"
   },
   "outputs": [],
   "source": [
    "df_filtered1 = df_filtered3[(df_filtered3['Material'] == 1775253) & (df_filtered3['Material_Name'] == S501A)]\n",
    "print(df_filtered1)"
   ]
  },
  {
   "cell_type": "code",
   "execution_count": null,
   "metadata": {
    "colab": {
     "base_uri": "https://localhost:8080/",
     "height": 359
    },
    "id": "Wmx29xmBaaDc",
    "outputId": "70bb5656-5032-4483-d266-fb7228bfd032"
   },
   "outputs": [],
   "source": [
    "plt.figure(figsize = (9,4))\n",
    "sns.boxplot(data =df_filtered1,x = 'Phase_duration',y =\"Unit\")\n",
    "plt.title(\"Unit-wise Distribution of Price\", fontsize = 18)\n",
    "plt.ylabel(\"Unit\", fontsize = 15)\n",
    "plt.xlabel(\"Phase_duration\",fontsize = 15)\n",
    "plt.show()"
   ]
  },
  {
   "cell_type": "code",
   "execution_count": null,
   "metadata": {
    "colab": {
     "base_uri": "https://localhost:8080/",
     "height": 489
    },
    "id": "Ei47gRCmaaIL",
    "outputId": "3bf3798a-12ae-485b-d794-440126664b9c"
   },
   "outputs": [],
   "source": [
    "plt.title('Fiction vs Non Fiction')\n",
    "sns.countplot(x='Unit', data=df_filtered1)"
   ]
  },
  {
   "cell_type": "code",
   "execution_count": null,
   "metadata": {
    "colab": {
     "base_uri": "https://localhost:8080/",
     "height": 493
    },
    "id": "F8DupqMWfaO1",
    "outputId": "2fb3cab9-1932-42c9-917c-47a4a436d079"
   },
   "outputs": [],
   "source": [
    "bestseller_books_price = df_filtered1.sort_values(\"Unit\", ascending= False)\n",
    "plt.xticks(rotation = 90)\n",
    "sns.barplot(x = 'Quantity',\n",
    "            y = 'Phase_duration',\n",
    "            data = bestseller_books_price, hue = \"Unit\");"
   ]
  },
  {
   "cell_type": "code",
   "execution_count": null,
   "metadata": {
    "colab": {
     "base_uri": "https://localhost:8080/"
    },
    "id": "QqkrBatGaaLx",
    "outputId": "f1eece98-5e95-45b0-ccc6-c1d09cbe7adb"
   },
   "outputs": [],
   "source": [
    "import pandas as pd\n",
    "\n",
    "# Assuming df_filtered1 DataFrames are defined\n",
    "\n",
    "# Create a new column 'QuantityRange' in df_filtered1 based on the 'Quantity' values\n",
    "df_filtered1['QuantityRange'] = pd.cut(df_filtered1['Quantity'], bins=2, labels=['QuantityRange <= 1000', 'QuantityRange >= 1200'])\n",
    "\n",
    "print(df_filtered1)"
   ]
  },
  {
   "cell_type": "code",
   "execution_count": null,
   "metadata": {
    "colab": {
     "base_uri": "https://localhost:8080/",
     "height": 717
    },
    "id": "l1oqLsDFnu5I",
    "outputId": "1eb5c4fe-1d51-4e5c-fd0c-a371ff09ca29"
   },
   "outputs": [],
   "source": [
    "plt.figure(figsize=(10,10))\n",
    "sns.boxplot(x=df_filtered1['QuantityRange'],y=df_filtered1['Phase_duration'])\n"
   ]
  },
  {
   "cell_type": "code",
   "execution_count": null,
   "metadata": {
    "colab": {
     "base_uri": "https://localhost:8080/",
     "height": 508
    },
    "id": "37sXj_5LqlXH",
    "outputId": "8f3a998b-8e2d-400e-ff41-6fea3f4aa0f0"
   },
   "outputs": [],
   "source": [
    "df_filtered1 = df_filtered1.sort_values(\"Unit\", ascending= False)\n",
    "plt.xticks(rotation = 90)\n",
    "sns.barplot(x = 'Unit',\n",
    "            y = 'Phase_duration',\n",
    "            data = df_filtered1, hue = \"QuantityRange\");"
   ]
  },
  {
   "cell_type": "code",
   "execution_count": null,
   "metadata": {
    "colab": {
     "base_uri": "https://localhost:8080/"
    },
    "id": "9UieqduoQbt1",
    "outputId": "4663c792-74c0-4091-b542-156c862ae0a1"
   },
   "outputs": [],
   "source": [
    "Material_Name\t=df_filtered1.Material_Name\t\t.value_counts()\n",
    "Material_Name"
   ]
  },
  {
   "cell_type": "code",
   "execution_count": null,
   "metadata": {
    "colab": {
     "base_uri": "https://localhost:8080/"
    },
    "id": "VvMRce36Q9Yc",
    "outputId": "0af9c2d1-0cff-47cb-9739-cc0ec2ad140a"
   },
   "outputs": [],
   "source": [
    " Unit\t=df_filtered1. Unit\t\t.value_counts()\n",
    " Unit"
   ]
  },
  {
   "cell_type": "code",
   "execution_count": null,
   "metadata": {
    "id": "L4d2SzaLdybw"
   },
   "outputs": [],
   "source": [
    "from sklearn.model_selection import train_test_split\n",
    "from sklearn.linear_model import LinearRegression\n",
    "from sklearn.metrics import mean_squared_error\n",
    "\n"
   ]
  },
  {
   "cell_type": "code",
   "execution_count": null,
   "metadata": {
    "id": "BncDzqJ3e_Hn"
   },
   "outputs": [],
   "source": [
    "# Define features and target variable\n",
    "features = ['Phase_duration', 'Flowrate_KGMIN', 'QuantityRange'] # replace with your actual feature columns\n",
    "target = 'Unit'\n"
   ]
  },
  {
   "cell_type": "code",
   "execution_count": null,
   "metadata": {
    "id": "QgrzqhI3e_Kc"
   },
   "outputs": [],
   "source": [
    "# Split data into train and test sets\n",
    "X_train, X_test, y_train, y_test = train_test_split(df_filtered1[features], df_filtered1[target], test_size=0.2, random_state=42)\n"
   ]
  },
  {
   "cell_type": "code",
   "execution_count": null,
   "metadata": {
    "id": "QmaBI_5Oe_NX"
   },
   "outputs": [],
   "source": [
    "# Initialize model\n",
    "model = LinearRegression()\n",
    "\n"
   ]
  },
  {
   "cell_type": "code",
   "execution_count": null,
   "metadata": {
    "colab": {
     "base_uri": "https://localhost:8080/",
     "height": 397
    },
    "id": "jTCu9Rsqe_Qk",
    "outputId": "a064fbed-0bc2-4734-c5bb-c42b2b8665d8"
   },
   "outputs": [],
   "source": [
    "# Fit model to training data\n",
    "model.fit(X_train, y_train)\n",
    "\n",
    "# Make predictions on test data\n",
    "y_pred = model.predict(X_test)\n",
    "\n",
    "# Evaluate model\n",
    "rmse = np.sqrt(mean_squared_error(y_test, y_pred))\n",
    "print(f'Root Mean Squared Error: {rmse}')"
   ]
  }
 ],
 "metadata": {
  "colab": {
   "authorship_tag": "ABX9TyOar8Tn1aPNFVo+mVIWYG7T",
   "include_colab_link": true,
   "provenance": [],
   "toc_visible": true
  },
  "kernelspec": {
   "display_name": "Python 3",
   "language": "python",
   "name": "python3"
  },
  "language_info": {
   "codemirror_mode": {
    "name": "ipython",
    "version": 3
   },
   "file_extension": ".py",
   "mimetype": "text/x-python",
   "name": "python",
   "nbconvert_exporter": "python",
   "pygments_lexer": "ipython3",
   "version": "3.8.8"
  }
 },
 "nbformat": 4,
 "nbformat_minor": 4
}
