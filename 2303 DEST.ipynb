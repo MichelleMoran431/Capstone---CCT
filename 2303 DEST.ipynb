{
 "cells": [
  {
   "cell_type": "markdown",
   "id": "1ae7cfe7-f9ab-4b32-a81e-5e25c37e5ce2",
   "metadata": {},
   "source": [
    "#### Tank 23MT03  - 20 tonne tank - DEST Tank"
   ]
  },
  {
   "cell_type": "code",
   "execution_count": 4,
   "id": "48d57613-0bae-40d9-b6a3-f04d90d909f3",
   "metadata": {},
   "outputs": [
    {
     "name": "stderr",
     "output_type": "stream",
     "text": [
      "C:\\Users\\User\\anaconda3\\lib\\site-packages\\scipy\\__init__.py:146: UserWarning: A NumPy version >=1.16.5 and <1.23.0 is required for this version of SciPy (detected version 1.24.4\n",
      "  warnings.warn(f\"A NumPy version >={np_minversion} and <{np_maxversion}\"\n"
     ]
    }
   ],
   "source": [
    "import pandas as pd\n",
    "import matplotlib.pyplot as plt\n",
    "import seaborn as sns\n",
    "import numpy as np\n",
    "from scipy import stats"
   ]
  },
  {
   "cell_type": "code",
   "execution_count": 5,
   "id": "cbb5cd02-5bf6-4e31-b588-9812376141c7",
   "metadata": {},
   "outputs": [],
   "source": [
    "uploaded = pd.read_csv('Bev Base Dearation Data Extract .csv')\n",
    "# Dataset is now stored in a Pandas Dataframe"
   ]
  },
  {
   "cell_type": "code",
   "execution_count": null,
   "id": "0199ccba-1ef3-4f82-8cc7-d5e3c8864b9e",
   "metadata": {},
   "outputs": [],
   "source": []
  }
 ],
 "metadata": {
  "kernelspec": {
   "display_name": "Python 3",
   "language": "python",
   "name": "python3"
  },
  "language_info": {
   "codemirror_mode": {
    "name": "ipython",
    "version": 3
   },
   "file_extension": ".py",
   "mimetype": "text/x-python",
   "name": "python",
   "nbconvert_exporter": "python",
   "pygments_lexer": "ipython3",
   "version": "3.8.8"
  }
 },
 "nbformat": 4,
 "nbformat_minor": 5
}
