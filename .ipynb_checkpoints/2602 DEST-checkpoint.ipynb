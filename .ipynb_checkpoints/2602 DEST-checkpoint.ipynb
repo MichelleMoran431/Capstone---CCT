{
 "cells": [
  {
   "cell_type": "code",
   "execution_count": null,
   "id": "528b8538-fd19-4918-906b-31a82e1e3997",
   "metadata": {},
   "outputs": [],
   "source": [
    "#### Tank 26MT02  - Destination Tank"
   ]
  },
  {
   "cell_type": "code",
   "execution_count": null,
   "id": "21c3e0a0-80c7-4f6b-83d5-2a2c9977673b",
   "metadata": {},
   "outputs": [],
   "source": [
    "import pandas as pd\n",
    "import matplotlib.pyplot as plt\n",
    "import seaborn as sns\n",
    "import numpy as np\n",
    "from scipy import stats"
   ]
  },
  {
   "cell_type": "code",
   "execution_count": null,
   "id": "c30001a6-5b6c-4073-9828-1c682d91204f",
   "metadata": {},
   "outputs": [],
   "source": [
    "uploaded = pd.read_csv('Bev Base Dearation Data Extract .csv')\n",
    "# Dataset is now stored in a Pandas Dataframe"
   ]
  }
 ],
 "metadata": {
  "kernelspec": {
   "display_name": "Python 3",
   "language": "python",
   "name": "python3"
  },
  "language_info": {
   "codemirror_mode": {
    "name": "ipython",
    "version": 3
   },
   "file_extension": ".py",
   "mimetype": "text/x-python",
   "name": "python",
   "nbconvert_exporter": "python",
   "pygments_lexer": "ipython3",
   "version": "3.8.8"
  }
 },
 "nbformat": 4,
 "nbformat_minor": 5
}
