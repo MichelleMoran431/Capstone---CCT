{
 "cells": [
  {
   "cell_type": "markdown",
   "id": "1ae7cfe7-f9ab-4b32-a81e-5e25c37e5ce2",
   "metadata": {},
   "source": [
    "#### Tank 22MT02  - 20 tonne tank "
   ]
  },
  {
   "cell_type": "code",
   "execution_count": 1,
   "id": "48d57613-0bae-40d9-b6a3-f04d90d909f3",
   "metadata": {},
   "outputs": [
    {
     "name": "stderr",
     "output_type": "stream",
     "text": [
      "C:\\Users\\User\\anaconda3\\lib\\site-packages\\scipy\\__init__.py:146: UserWarning: A NumPy version >=1.16.5 and <1.23.0 is required for this version of SciPy (detected version 1.24.4\n",
      "  warnings.warn(f\"A NumPy version >={np_minversion} and <{np_maxversion}\"\n"
     ]
    }
   ],
   "source": [
    "import pandas as pd\n",
    "import matplotlib.pyplot as plt\n",
    "import seaborn as sns\n",
    "import numpy as np\n",
    "from scipy import stats"
   ]
  },
  {
   "cell_type": "code",
   "execution_count": 2,
   "id": "cbb5cd02-5bf6-4e31-b588-9812376141c7",
   "metadata": {},
   "outputs": [],
   "source": [
    "uploaded = pd.read_csv('Bev Base Dearation Data Extract .csv')\n",
    "# Dataset is now stored in a Pandas Dataframe"
   ]
  },
  {
   "cell_type": "code",
   "execution_count": 3,
   "id": "ffabd92f-881f-4245-b56c-718889dcbb9a",
   "metadata": {},
   "outputs": [],
   "source": [
    "#uploaded.head()"
   ]
  },
  {
   "cell_type": "code",
   "execution_count": 4,
   "id": "2321c543-e811-4561-90a6-d66c6bc68df9",
   "metadata": {},
   "outputs": [],
   "source": [
    "# Or rename the existing DataFrame (rather than creating a copy)\n",
    "uploaded.rename(columns={'SKU': 'Material','Deaeration Phase':'Deaeration_Phase'}, inplace=True)"
   ]
  },
  {
   "cell_type": "code",
   "execution_count": 5,
   "id": "cbac8caf-a83c-4563-8155-86ce624a25f6",
   "metadata": {},
   "outputs": [],
   "source": [
    "# Removal of unwanted columns from dataset\n",
    "uploaded1=uploaded.drop(['SKU_DESCRIPTION', 'Recipe', 'Tank','Source', 'Batch_Phase_Type','Phase_start','Phase_end','Deaeration_Phase','Phase_row_no','Instruction_Step','Material_Name'], axis=1)"
   ]
  },
  {
   "cell_type": "code",
   "execution_count": 6,
   "id": "fc7fe1b4-d6c4-46ef-a46b-ea0e65e78b13",
   "metadata": {},
   "outputs": [],
   "source": [
    "# Define a dictionary of replacements\n",
    "replacements = {\n",
    "    'U_25MT02': '2502',\n",
    "    'U_25MT03': '2503',\n",
    "    'U_25MT04': '2504',\n",
    "    'U_26MT01' : '2601',\n",
    "    'U_23MT02' : '2302',\n",
    "    'U_23MT04' : '2304',\n",
    "    'U_25MT01' : '2501',\n",
    "    'U_23MT05' : '2305',\n",
    "    'U_25MT02' : '2502',\n",
    "    'U_22MT04' : '2204',\n",
    "    'U_22MT03' : '2203',\n",
    "    'U_22MT02' : '2202',\n",
    "    'U_26MT04' : '2604',\n",
    "    'U_26MT03' : '2603',\n",
    "    'U_23MT03' : '2303',\n",
    "    'U_22MT05' : '2205'\n",
    "}\n",
    "\n",
    "# Replace values in the 'TankName' column\n",
    "uploaded1['Unit'].replace(replacements, inplace=True)\n",
    "\n",
    "# Print the modified DataFrame\n",
    "#print(uploaded1)"
   ]
  },
  {
   "cell_type": "code",
   "execution_count": 7,
   "id": "6b7ff75b-a6a8-4c95-8acf-76215b0c8058",
   "metadata": {},
   "outputs": [],
   "source": [
    "#uploaded1.info()"
   ]
  },
  {
   "cell_type": "code",
   "execution_count": 8,
   "id": "cff1e1b4-aeae-4277-8529-be427e7c8da0",
   "metadata": {},
   "outputs": [
    {
     "name": "stdout",
     "output_type": "stream",
     "text": [
      "      Material    BATCHID  Unit Material_ID  Quantity  Phase_duration  \\\n",
      "2001   1397022  107956670  2202         NaN     0.000               0   \n",
      "2002   1397022  107956670  2202     1002565  8623.000              10   \n",
      "2003   1397022  107956670  2202         NaN     0.000              20   \n",
      "2004   1397022  107956670  2202     1037802    19.446              17   \n",
      "2005   1397022  107956670  2202     1002818   516.000               8   \n",
      "...        ...        ...   ...         ...       ...             ...   \n",
      "7746   1775253  108026760  2202         NaN     0.000               1   \n",
      "7747   1775253  108026760  2202         NaN     0.000               8   \n",
      "7748   1775253  108026760  2202         NaN     0.000               0   \n",
      "7749   1775253  108026760  2202         NaN     0.000               0   \n",
      "7750   1775253  108026760  2202         NaN     0.000               0   \n",
      "\n",
      "      Phase_start_delay  Flowrate_KGMIN  Target_Flowrate  \\\n",
      "2001                  0          0.0000              NaN   \n",
      "2002                  1        862.3000         733.5050   \n",
      "2003                  0          0.0000              NaN   \n",
      "2004                  0          1.1439           6.3182   \n",
      "2005                  0         64.5000          38.4615   \n",
      "...                 ...             ...              ...   \n",
      "7746                  1          0.0000              NaN   \n",
      "7747                  0          0.0000              NaN   \n",
      "7748                  0          0.0000              NaN   \n",
      "7749                  0          0.0000              NaN   \n",
      "7750                  4          0.0000              NaN   \n",
      "\n",
      "      Target_Phase_duration  Phase_overrun  \n",
      "2001                      0            NaN  \n",
      "2002                     12            0.0  \n",
      "2003                      3           17.0  \n",
      "2004                      3           14.0  \n",
      "2005                     13            0.0  \n",
      "...                     ...            ...  \n",
      "7746                      1            NaN  \n",
      "7747                     10            0.0  \n",
      "7748                     10            0.0  \n",
      "7749                      0            NaN  \n",
      "7750                     14            0.0  \n",
      "\n",
      "[291 rows x 11 columns]\n"
     ]
    }
   ],
   "source": [
    "#Select the batches where 22MT03 tanks was used\n",
    "Unit = ['2202']\n",
    "TANK_2202= uploaded1[uploaded1['Unit'].isin(Unit)]\n",
    "print(TANK_2202)"
   ]
  },
  {
   "cell_type": "markdown",
   "id": "b8f408a0-22a1-41e3-ba0b-2b0f38f854aa",
   "metadata": {},
   "source": [
    "### Creation Dataframes based on the ingredients addition - quantity , flow rates , duration times , overrun times and targets for each "
   ]
  },
  {
   "cell_type": "markdown",
   "id": "3935e933-5fdf-489d-95f2-ed815a1791b5",
   "metadata": {},
   "source": [
    "## ingredients addition"
   ]
  },
  {
   "cell_type": "markdown",
   "id": "364656a4-5133-4824-b7bf-3029deed501d",
   "metadata": {},
   "source": [
    "## 1 Addition of Treated Water- 2 phase additions with different quantities\n",
    "\n",
    "NB : Need to separate out the water additions"
   ]
  },
  {
   "cell_type": "code",
   "execution_count": 9,
   "id": "66beda6d-5b4c-4766-868a-af5b5e7f7fb3",
   "metadata": {},
   "outputs": [
    {
     "name": "stdout",
     "output_type": "stream",
     "text": [
      "      Material    BATCHID  Unit Material_ID   Quantity  Phase_duration  \\\n",
      "2002   1397022  107956670  2202     1002565   8623.000              10   \n",
      "2012   1397022  107956670  2202     1002565   2065.000              13   \n",
      "2755   1428047  107993270  2202     1002565   5101.000               8   \n",
      "2760   1428047  107993270  2202     1002565     85.394               2   \n",
      "2763   1428047  107993270  2202     1002565   4490.000               8   \n",
      "2767   1428047  107993270  2202     1002565   1879.000              32   \n",
      "2818   1428047  108033603  2202     1002565   5104.000               7   \n",
      "2823   1428047  108033603  2202     1002565     85.000               2   \n",
      "2826   1428047  108033603  2202     1002565   4491.000               7   \n",
      "2830   1428047  108033603  2202     1002565   1886.000              32   \n",
      "2976   1451704  108073632  2202     1002565   5979.000               9   \n",
      "2984   1451704  108073632  2202     1002565   3126.000              10   \n",
      "4041   1520984  108045117  2202     1002565  12478.000              12   \n",
      "4047   1520984  108045117  2202     1002565   3994.000             190   \n",
      "4845   1648637  107867810  2202     1002565   6067.000               8   \n",
      "4851   1648637  107867810  2202     1002565    145.000              39   \n",
      "4853   1648637  107867810  2202     1002565   5722.000               8   \n",
      "4912   1648637  107978116  2202     1002565   6064.000               9   \n",
      "4918   1648637  107978116  2202     1002565    145.000              19   \n",
      "4920   1648637  107978116  2202     1002565   5740.000              99   \n",
      "7316   1775253  107899926  2202     1002565  11476.000              12   \n",
      "7322   1775253  107899926  2202     1002565   3577.000               6   \n",
      "7482   1775253  107949892  2202     1002565   3597.000              11   \n",
      "7556   1775253  107964410  2202     1002565  11479.000              12   \n",
      "7562   1775253  107964410  2202     1002565   3598.000              13   \n",
      "7668   1775253  107999494  2202     1002565  11476.000              14   \n",
      "7674   1775253  107999494  2202     1002565   3596.000              17   \n",
      "7697   1775253  108026759  2202     1002565  11478.000              12   \n",
      "7703   1775253  108026759  2202     1002565   3600.000              26   \n",
      "\n",
      "      Phase_start_delay  Flowrate_KGMIN  Target_Flowrate  \\\n",
      "2002                  1        862.3000         733.5050   \n",
      "2012                  0        158.8462         385.4153   \n",
      "2755                  1        637.6250         733.5050   \n",
      "2760                  0         42.6970          25.0000   \n",
      "2763                  0        561.2500         547.5000   \n",
      "2767                  0         58.7188         249.0230   \n",
      "2818                  1        729.1429         733.5050   \n",
      "2823                  0         42.5000          25.0000   \n",
      "2826                  0        641.5714         547.5000   \n",
      "2830                  1         58.9375         249.0230   \n",
      "2976                  0        664.3333         733.5050   \n",
      "2984                  0        312.6000         547.5000   \n",
      "4041                  3       1039.8333         965.0833   \n",
      "4047                 21         21.0211         547.5000   \n",
      "4845                  0        758.3750         733.5050   \n",
      "4851                  0          3.7179          25.0000   \n",
      "4853                  0        715.2500         733.5050   \n",
      "4912                  1        673.7778         733.5050   \n",
      "4918                  0          7.6316          25.0000   \n",
      "4920                  0         57.9798         733.5050   \n",
      "7316                  0        956.3333         965.0833   \n",
      "7322                  0        596.1667         547.5000   \n",
      "7482                  0        327.0000         547.5000   \n",
      "7556                  0        956.5833         965.0833   \n",
      "7562                  0        276.7692         547.5000   \n",
      "7668                  0        819.7143         965.0833   \n",
      "7674                 18        211.5294         547.5000   \n",
      "7697                  0        956.5000         965.0833   \n",
      "7703                  0        138.4615         547.5000   \n",
      "\n",
      "      Target_Phase_duration  Phase_overrun  \n",
      "2002                     12            0.0  \n",
      "2012                      5            8.0  \n",
      "2755                      7            1.0  \n",
      "2760                      3            0.0  \n",
      "2763                      8            0.0  \n",
      "2767                      8           24.0  \n",
      "2818                      7            0.0  \n",
      "2823                      3            0.0  \n",
      "2826                      8            0.0  \n",
      "2830                      8           24.0  \n",
      "2976                      8            1.0  \n",
      "2984                      6            4.0  \n",
      "4041                     13            0.0  \n",
      "4047                      7          183.0  \n",
      "4845                      8            0.0  \n",
      "4851                      6           33.0  \n",
      "4853                      8            0.0  \n",
      "4912                      8            1.0  \n",
      "4918                      6           13.0  \n",
      "4920                      8           91.0  \n",
      "7316                     12            0.0  \n",
      "7322                      7            0.0  \n",
      "7482                      7            4.0  \n",
      "7556                     12            0.0  \n",
      "7562                      7            6.0  \n",
      "7668                     12            2.0  \n",
      "7674                      7           10.0  \n",
      "7697                     12            0.0  \n",
      "7703                      7           19.0  \n"
     ]
    }
   ],
   "source": [
    "#Select all the rows where the phase HP is in the list below - HP is homogenisation of the final batch quantity\n",
    "Material_ID = ['1002565']\n",
    "df_IDW_2202 = TANK_2202[TANK_2202['Material_ID'].isin(Material_ID)]\n",
    "print(df_IDW_2202)"
   ]
  },
  {
   "cell_type": "code",
   "execution_count": 10,
   "id": "b294531c-7c9a-4a15-a380-90e62cd276db",
   "metadata": {},
   "outputs": [
    {
     "name": "stdout",
     "output_type": "stream",
     "text": [
      "      Material    BATCHID  Unit Material_ID   Quantity  Phase_duration  \\\n",
      "2002   1397022  107956670  2202     1002565   8623.000              10   \n",
      "2012   1397022  107956670  2202     1002565   2065.000              13   \n",
      "2755   1428047  107993270  2202     1002565   5101.000               8   \n",
      "2760   1428047  107993270  2202     1002565     85.394               2   \n",
      "2763   1428047  107993270  2202     1002565   4490.000               8   \n",
      "2767   1428047  107993270  2202     1002565   1879.000              32   \n",
      "2818   1428047  108033603  2202     1002565   5104.000               7   \n",
      "2823   1428047  108033603  2202     1002565     85.000               2   \n",
      "2826   1428047  108033603  2202     1002565   4491.000               7   \n",
      "2830   1428047  108033603  2202     1002565   1886.000              32   \n",
      "2976   1451704  108073632  2202     1002565   5979.000               9   \n",
      "2984   1451704  108073632  2202     1002565   3126.000              10   \n",
      "4041   1520984  108045117  2202     1002565  12478.000              12   \n",
      "4047   1520984  108045117  2202     1002565   3994.000             190   \n",
      "4845   1648637  107867810  2202     1002565   6067.000               8   \n",
      "4851   1648637  107867810  2202     1002565    145.000              39   \n",
      "4853   1648637  107867810  2202     1002565   5722.000               8   \n",
      "4912   1648637  107978116  2202     1002565   6064.000               9   \n",
      "4918   1648637  107978116  2202     1002565    145.000              19   \n",
      "4920   1648637  107978116  2202     1002565   5740.000              99   \n",
      "7316   1775253  107899926  2202     1002565  11476.000              12   \n",
      "7322   1775253  107899926  2202     1002565   3577.000               6   \n",
      "7482   1775253  107949892  2202     1002565   3597.000              11   \n",
      "7556   1775253  107964410  2202     1002565  11479.000              12   \n",
      "7562   1775253  107964410  2202     1002565   3598.000              13   \n",
      "7668   1775253  107999494  2202     1002565  11476.000              14   \n",
      "7674   1775253  107999494  2202     1002565   3596.000              17   \n",
      "7697   1775253  108026759  2202     1002565  11478.000              12   \n",
      "7703   1775253  108026759  2202     1002565   3600.000              26   \n",
      "\n",
      "      Phase_start_delay  Flowrate_KGMIN  Target_Flowrate  \\\n",
      "2002                  1        862.3000         733.5050   \n",
      "2012                  0        158.8462         385.4153   \n",
      "2755                  1        637.6250         733.5050   \n",
      "2760                  0         42.6970          25.0000   \n",
      "2763                  0        561.2500         547.5000   \n",
      "2767                  0         58.7188         249.0230   \n",
      "2818                  1        729.1429         733.5050   \n",
      "2823                  0         42.5000          25.0000   \n",
      "2826                  0        641.5714         547.5000   \n",
      "2830                  1         58.9375         249.0230   \n",
      "2976                  0        664.3333         733.5050   \n",
      "2984                  0        312.6000         547.5000   \n",
      "4041                  3       1039.8333         965.0833   \n",
      "4047                 21         21.0211         547.5000   \n",
      "4845                  0        758.3750         733.5050   \n",
      "4851                  0          3.7179          25.0000   \n",
      "4853                  0        715.2500         733.5050   \n",
      "4912                  1        673.7778         733.5050   \n",
      "4918                  0          7.6316          25.0000   \n",
      "4920                  0         57.9798         733.5050   \n",
      "7316                  0        956.3333         965.0833   \n",
      "7322                  0        596.1667         547.5000   \n",
      "7482                  0        327.0000         547.5000   \n",
      "7556                  0        956.5833         965.0833   \n",
      "7562                  0        276.7692         547.5000   \n",
      "7668                  0        819.7143         965.0833   \n",
      "7674                 18        211.5294         547.5000   \n",
      "7697                  0        956.5000         965.0833   \n",
      "7703                  0        138.4615         547.5000   \n",
      "\n",
      "      Target_Phase_duration  Phase_overrun          QuantityRange  \n",
      "2002                     12            0.0  QuantityRange >= 5000  \n",
      "2012                      5            8.0  QuantityRange <= 5000  \n",
      "2755                      7            1.0  QuantityRange <= 5000  \n",
      "2760                      3            0.0  QuantityRange <= 5000  \n",
      "2763                      8            0.0  QuantityRange <= 5000  \n",
      "2767                      8           24.0  QuantityRange <= 5000  \n",
      "2818                      7            0.0  QuantityRange <= 5000  \n",
      "2823                      3            0.0  QuantityRange <= 5000  \n",
      "2826                      8            0.0  QuantityRange <= 5000  \n",
      "2830                      8           24.0  QuantityRange <= 5000  \n",
      "2976                      8            1.0  QuantityRange <= 5000  \n",
      "2984                      6            4.0  QuantityRange <= 5000  \n",
      "4041                     13            0.0  QuantityRange >= 5000  \n",
      "4047                      7          183.0  QuantityRange <= 5000  \n",
      "4845                      8            0.0  QuantityRange <= 5000  \n",
      "4851                      6           33.0  QuantityRange <= 5000  \n",
      "4853                      8            0.0  QuantityRange <= 5000  \n",
      "4912                      8            1.0  QuantityRange <= 5000  \n",
      "4918                      6           13.0  QuantityRange <= 5000  \n",
      "4920                      8           91.0  QuantityRange <= 5000  \n",
      "7316                     12            0.0  QuantityRange >= 5000  \n",
      "7322                      7            0.0  QuantityRange <= 5000  \n",
      "7482                      7            4.0  QuantityRange <= 5000  \n",
      "7556                     12            0.0  QuantityRange >= 5000  \n",
      "7562                      7            6.0  QuantityRange <= 5000  \n",
      "7668                     12            2.0  QuantityRange >= 5000  \n",
      "7674                      7           10.0  QuantityRange <= 5000  \n",
      "7697                     12            0.0  QuantityRange >= 5000  \n",
      "7703                      7           19.0  QuantityRange <= 5000  \n"
     ]
    },
    {
     "name": "stderr",
     "output_type": "stream",
     "text": [
      "<ipython-input-10-3716f9fd194b>:4: SettingWithCopyWarning: \n",
      "A value is trying to be set on a copy of a slice from a DataFrame.\n",
      "Try using .loc[row_indexer,col_indexer] = value instead\n",
      "\n",
      "See the caveats in the documentation: https://pandas.pydata.org/pandas-docs/stable/user_guide/indexing.html#returning-a-view-versus-a-copy\n",
      "  df_IDW_2202['QuantityRange'] = pd.cut(df_IDW_2202['Quantity'], bins=2, labels=['QuantityRange <= 5000', 'QuantityRange >= 5000'])\n"
     ]
    }
   ],
   "source": [
    "import pandas as pd\n",
    "# Assuming df_filtered1 DataFrames are defined\n",
    "# Create a new column 'QuantityRange' in df_filtered1 based on the 'Quantity' values\n",
    "df_IDW_2202['QuantityRange'] = pd.cut(df_IDW_2202['Quantity'], bins=2, labels=['QuantityRange <= 5000', 'QuantityRange >= 5000'])\n",
    "print(df_IDW_2202)"
   ]
  },
  {
   "cell_type": "code",
   "execution_count": 11,
   "id": "31eb51c8-1aa1-4a94-8127-e8edd92dfd5f",
   "metadata": {},
   "outputs": [
    {
     "name": "stderr",
     "output_type": "stream",
     "text": [
      "C:\\Users\\User\\anaconda3\\lib\\site-packages\\pandas\\core\\frame.py:4441: SettingWithCopyWarning: \n",
      "A value is trying to be set on a copy of a slice from a DataFrame\n",
      "\n",
      "See the caveats in the documentation: https://pandas.pydata.org/pandas-docs/stable/user_guide/indexing.html#returning-a-view-versus-a-copy\n",
      "  return super().rename(\n"
     ]
    }
   ],
   "source": [
    "# Or rename the existing DataFrame (rather than creating a copy)\n",
    "df_IDW_2202.rename(columns={'Quantity': 'WaterQuantity','Phase_duration':'WaterPhase_duration','Phase_start_delay':'WaterPhase_start_delay','Flowrate_KGMIN':'WaterFlowrate_KGMIN','Phase_overrun':'WaterPhase_overrun','QuantityRange':'WaterQuantityRange'}, inplace=True)"
   ]
  },
  {
   "cell_type": "code",
   "execution_count": 12,
   "id": "eb1ca274-9f3d-4e9b-bf81-b975f7f3af65",
   "metadata": {},
   "outputs": [],
   "source": [
    "#QuantityRange = ['QuantityRange >= 5000']\n",
    "#df_Material_IDWater1= df_IDW_2601[df_IDW_2202['QuantityRange'].isin(QuantityRange)]\n",
    "#print(df_Material_IDWater1)"
   ]
  },
  {
   "cell_type": "code",
   "execution_count": 13,
   "id": "db3df5cc-9679-48a9-a34b-49317f8d00b2",
   "metadata": {},
   "outputs": [],
   "source": [
    "#QuantityRange = ['QuantityRange <= 5000']\n",
    "#df_Material_IDWater2 = df_IDW_2202[df_IDW_2202['QuantityRange'].isin(QuantityRange)]\n",
    "#print(df_Material2202_IDWater2)"
   ]
  },
  {
   "cell_type": "code",
   "execution_count": 14,
   "id": "83ba67b7-fcc3-4154-a82c-91c4774ec7d1",
   "metadata": {},
   "outputs": [],
   "source": [
    " #Aggregate data per tank\n",
    "#aggregated_dfWater2 = df_Material_IDWater2.groupby('Material').agg({\n",
    "    #'Phase_duration': 'mean',\n",
    "    #'Phase_overrun': 'sum',\n",
    "    #'Phase_start_delay':'sum',\n",
    "    #'Quantity':'sum',\n",
    "    #'Flowrate_KGMIN':'sum',\n",
    "   # 'Target_Phase_duration':'sum',\n",
    "   # 'Target_Flowrate':'sum'\n",
    "#}).reset_index()\n",
    "\n",
    " #Print the aggregated DataFrame\n",
    "#print(aggregated_dfWater2)"
   ]
  },
  {
   "cell_type": "code",
   "execution_count": 15,
   "id": "9199b23f-d710-42f8-b3f5-43c059dba404",
   "metadata": {},
   "outputs": [],
   "source": [
    "#Aggregate data per tank\n",
    "#aggregated_dfWater1 = df_Material_IDWater1.groupby('Material').agg({\n",
    "    #'Phase_duration': 'mean',\n",
    "   # 'Phase_overrun': 'sum',\n",
    "   # 'Phase_start_delay':'sum',\n",
    "   # 'Quantity':'sum',\n",
    "   # 'Flowrate_KGMIN':'sum',\n",
    "   # 'Target_Phase_duration':'sum',\n",
    "   # 'Target_Flowrate':'sum'\n",
    "#}).reset_index()\n",
    "\n",
    " #Print the aggregated DataFrame\n",
    "#print(aggregated_dfWater1)"
   ]
  },
  {
   "cell_type": "markdown",
   "id": "8885fd5f-f437-462b-8af6-5b8d86c94bff",
   "metadata": {},
   "source": [
    "## Addition of Preservative - 1037802- Pres1- Only used in 3 batches "
   ]
  },
  {
   "cell_type": "code",
   "execution_count": 16,
   "id": "553adc93-9407-4949-a173-8a1db758b513",
   "metadata": {},
   "outputs": [],
   "source": [
    "Material_ID = ['1037802']\n",
    "df_IDP1_2202=TANK_2202[TANK_2202['Material_ID'].isin(Material_ID)]\n",
    "df_IDP1_2202.rename(columns={'Quantity': 'Pres1Quantity','Phase_duration':'Pres1Phase_duration','Phase_start_delay':'Pres1Phase_start_delay','Flowrate_KGMIN':'Pres1Flowrate_KGMIN','Phase_overrun':'Pres1Phase_overrun'}, inplace=True)\n",
    "#print(df_IDP1_2202)"
   ]
  },
  {
   "cell_type": "code",
   "execution_count": 17,
   "id": "7c7a8ed5-3122-4f7a-b1b6-4e709f78ff59",
   "metadata": {},
   "outputs": [],
   "source": [
    "# Or rename the existing DataFrame (rather than creating a copy)\n",
    "df_IDP1_2202.rename(columns={'Quantity': 'Pres1Quantity','Phase_duration':'Pres1Phase_duration','Phase_start_delay':'Pres1Phase_start_delay','Flowrate_KGMIN':'Pres1Flowrate_KGMIN','Phase_overrun':'Pres1Phase_overrun'}, inplace=True)"
   ]
  },
  {
   "cell_type": "code",
   "execution_count": 18,
   "id": "b7bd9e9f-2399-49e6-9bf2-d245a070f1af",
   "metadata": {},
   "outputs": [],
   "source": [
    "#Aggregate data per tank\n",
    "aggregated_df_IDP1_2202 = df_IDP1_2202.groupby('Material').agg({\n",
    "    'Pres1Phase_duration': 'mean',\n",
    "    'Pres1Phase_overrun': 'sum',\n",
    "    'Pres1Phase_start_delay':'sum',\n",
    "    'Pres1Quantity':'sum',\n",
    "    'Pres1Flowrate_KGMIN':'sum',\n",
    "    'Target_Phase_duration':'sum',\n",
    "    'Target_Flowrate':'sum'\n",
    "}).reset_index()\n",
    "\n",
    " #Print the aggregated DataFrame\n",
    "#print(aggregated_df_IDP1_2202)"
   ]
  },
  {
   "cell_type": "markdown",
   "id": "4662fc4b-4faf-4a14-91bf-460bad9f372a",
   "metadata": {},
   "source": [
    "## Addition of Preservative - 1002818- Pres2"
   ]
  },
  {
   "cell_type": "code",
   "execution_count": 19,
   "id": "e253ae9f-06b1-4c87-b68f-cb5c98bc5952",
   "metadata": {},
   "outputs": [
    {
     "name": "stdout",
     "output_type": "stream",
     "text": [
      "      Material    BATCHID  Unit Material_ID  Pres2Quantity  \\\n",
      "2005   1397022  107956670  2202     1002818        516.000   \n",
      "2758   1428047  107993270  2202     1002818         68.326   \n",
      "2821   1428047  108033603  2202     1002818         68.382   \n",
      "2979   1451704  108073632  2202     1002818         48.321   \n",
      "4044   1520984  108045117  2202     1002818         75.010   \n",
      "4848   1648637  107867810  2202     1002818         57.235   \n",
      "4915   1648637  107978116  2202     1002818         57.231   \n",
      "7319   1775253  107899926  2202     1002818        120.925   \n",
      "7559   1775253  107964410  2202     1002818        120.795   \n",
      "7671   1775253  107999494  2202     1002818        120.863   \n",
      "7700   1775253  108026759  2202     1002818        120.698   \n",
      "\n",
      "      Pres2Phase_duration  Pres2Phase_start_delay  Pres2Flowrate_KGMIN  \\\n",
      "2005                    8                       0              64.5000   \n",
      "2758                    3                       0              22.7753   \n",
      "2821                    6                       0              11.3970   \n",
      "2979                    5                       0               9.6642   \n",
      "4044                    2                       0              37.5050   \n",
      "4848                    8                       0               7.1544   \n",
      "4915                   35                       0               1.6352   \n",
      "7319                    7                       0              17.2750   \n",
      "7559                    7                       0              17.2564   \n",
      "7671                   11                       0              10.9875   \n",
      "7700                    6                       0              20.1163   \n",
      "\n",
      "      Target_Flowrate  Target_Phase_duration  Pres2Phase_overrun  \n",
      "2005          38.4615                     13                 0.0  \n",
      "2758           6.3182                     11                 0.0  \n",
      "2821           6.3182                     11                 0.0  \n",
      "2979           6.3182                      8                 0.0  \n",
      "4044           6.3182                     12                 0.0  \n",
      "4848           6.3182                      9                 0.0  \n",
      "4915           6.3182                      9                26.0  \n",
      "7319          14.8750                      8                 0.0  \n",
      "7559          14.8750                      8                 0.0  \n",
      "7671          14.8750                      8                 3.0  \n",
      "7700          14.8750                      8                 0.0  \n"
     ]
    }
   ],
   "source": [
    "Material_ID = ['1002818']\n",
    "df_IDP2_2202=TANK_2202[TANK_2202['Material_ID'].isin(Material_ID)]\n",
    "df_IDP2_2202.rename(columns={'Quantity':'Pres2Quantity','Phase_duration':'Pres2Phase_duration','Phase_start_delay':'Pres2Phase_start_delay','Flowrate_KGMIN':'Pres2Flowrate_KGMIN','Phase_overrun':'Pres2Phase_overrun'}, inplace=True)\n",
    "print(df_IDP2_2202)"
   ]
  },
  {
   "cell_type": "code",
   "execution_count": 20,
   "id": "78ad5334-6272-429c-8cee-57a37872185a",
   "metadata": {},
   "outputs": [],
   "source": [
    "#Aggregate data per tank\n",
    "#aggregated_df_IDP2_2202 = df_IDP2_2202.groupby('Material').agg({\n",
    "    #'Pres2Phase_duration': 'mean',\n",
    "    #'Pres2Phase_overrun': 'sum',\n",
    "    #'Pres2Phase_start_delay':'sum',\n",
    "    #'Pres2Quantity':'sum',\n",
    "   # 'Pres2Flowrate_KGMIN':'sum',\n",
    "   # 'Target_Phase_duration':'sum',\n",
    "   # 'Target_Flowrate':'sum'\n",
    "#}).reset_index()\n",
    "\n",
    " #Print the aggregated DataFrame\n",
    "#print(aggregated_df_IDP2_2202)"
   ]
  },
  {
   "cell_type": "markdown",
   "id": "ebf754ad-2bd0-4381-a05d-dcde9093b37d",
   "metadata": {},
   "source": [
    "## Addition of GUM (1461896,1234972,1031006)"
   ]
  },
  {
   "cell_type": "code",
   "execution_count": 21,
   "id": "59369682-d12b-4471-8d25-d46b0c11bd5f",
   "metadata": {},
   "outputs": [
    {
     "name": "stdout",
     "output_type": "stream",
     "text": [
      "      Material    BATCHID  Unit Material_ID  GUMQuantity  GUMPhase_duration  \\\n",
      "2008   1397022  107956670  2202     1461896     3500.000                 45   \n",
      "2010   1397022  107956670  2202     1254972      396.000                 15   \n",
      "2761   1428047  107993270  2202     1461896     1500.000                 24   \n",
      "2765   1428047  107993270  2202     1461896     2000.000                 56   \n",
      "2824   1428047  108033603  2202     1461896     1500.000                 28   \n",
      "2828   1428047  108033603  2202     1461896     2000.000                 10   \n",
      "2981   1451704  108073632  2202     1461896     2000.000                 58   \n",
      "2982   1451704  108073632  2202     1254972       19.350                414   \n",
      "4045   1520984  108045117  2202     1461896     1500.000                155   \n",
      "4849   1648637  107867810  2202     1461896     1000.000                462   \n",
      "4850   1648637  107867810  2202     1254972      144.778                  5   \n",
      "4916   1648637  107978116  2202     1461896     1000.000                 31   \n",
      "4917   1648637  107978116  2202     1254972      145.000                  6   \n",
      "7320   1775253  107899926  2202     1461896     3000.000               1030   \n",
      "7560   1775253  107964410  2202     1461896     3000.000                 67   \n",
      "7672   1775253  107999494  2202     1461896     3000.000                419   \n",
      "7701   1775253  108026759  2202     1461896     3000.000                 67   \n",
      "\n",
      "      GUMPhase_start_delay  GUMFlowrate_KGMIN  Target_Flowrate  \\\n",
      "2008                     0            77.7778          53.6000   \n",
      "2010                     0            26.4000          23.4667   \n",
      "2761                     1            62.5000          53.6000   \n",
      "2765                     0            35.7143          53.6000   \n",
      "2824                     0            53.5714          53.6000   \n",
      "2828                     1           200.0000          53.6000   \n",
      "2981                     0            34.4828          53.6000   \n",
      "2982                     0             0.0467           6.3182   \n",
      "4045                     0             9.6774          53.6000   \n",
      "4849                     0             2.1645          38.4615   \n",
      "4850                     0            28.9556          14.8750   \n",
      "4916                     0            32.2581          38.4615   \n",
      "4917                     0            24.1667          14.8750   \n",
      "7320                     0             2.9126          53.6000   \n",
      "7560                     0            44.7761          53.6000   \n",
      "7672                     0             7.1599          53.6000   \n",
      "7701                     0            44.7761          53.6000   \n",
      "\n",
      "      Target_Phase_duration  GUMPhase_overrun  \n",
      "2008                     65               0.0  \n",
      "2010                     17               0.0  \n",
      "2761                     28               0.0  \n",
      "2765                     37              19.0  \n",
      "2824                     28               0.0  \n",
      "2828                     37               0.0  \n",
      "2981                     37              21.0  \n",
      "2982                      3             411.0  \n",
      "4045                     28             127.0  \n",
      "4849                     26             436.0  \n",
      "4850                     10               0.0  \n",
      "4916                     26               5.0  \n",
      "4917                     10               0.0  \n",
      "7320                     56             974.0  \n",
      "7560                     56              11.0  \n",
      "7672                     56             363.0  \n",
      "7701                     56              11.0  \n"
     ]
    },
    {
     "name": "stderr",
     "output_type": "stream",
     "text": [
      "C:\\Users\\User\\anaconda3\\lib\\site-packages\\pandas\\core\\frame.py:4441: SettingWithCopyWarning: \n",
      "A value is trying to be set on a copy of a slice from a DataFrame\n",
      "\n",
      "See the caveats in the documentation: https://pandas.pydata.org/pandas-docs/stable/user_guide/indexing.html#returning-a-view-versus-a-copy\n",
      "  return super().rename(\n"
     ]
    }
   ],
   "source": [
    "Material_ID = ['1461896','1254972','1031006','1243269']\n",
    "df_IDGUM_2202=TANK_2202[TANK_2202['Material_ID'].isin(Material_ID)]\n",
    "# Or rename the existing DataFrame (rather than creating a copy)\n",
    "df_IDGUM_2202.rename(columns={'Quantity': 'GUMQuantity','Phase_duration':'GUMPhase_duration','Phase_start_delay':'GUMPhase_start_delay','Flowrate_KGMIN':'GUMFlowrate_KGMIN','Phase_overrun':'GUMPhase_overrun'}, inplace=True)\n",
    "print(df_IDGUM_2202)"
   ]
  },
  {
   "cell_type": "code",
   "execution_count": 22,
   "id": "cc404c53-930c-4583-8d43-80f2842503d3",
   "metadata": {},
   "outputs": [],
   "source": [
    "#Aggregate data per tank\n",
    "#aggregated_df_IDGUM_2202= df_IDGUM_2202.groupby('Material').agg({\n",
    "    #'GUMPhase_duration': 'mean',\n",
    "   # 'GUMPhase_overrun': 'sum',\n",
    "   # 'GUMPhase_start_delay':'sum',\n",
    "   # 'GUMQuantity':'sum',\n",
    "   # 'GUMFlowrate_KGMIN':'sum',\n",
    "    #'Target_Phase_duration':'sum',\n",
    "    #'Target_Flowrate':'sum'\n",
    "#}).reset_index()\n",
    "\n",
    " #Print the aggregated DataFrame\n",
    "#print(aggregated_df_IDGUM_2202)"
   ]
  },
  {
   "cell_type": "markdown",
   "id": "90d92586-b571-4c47-959f-92dc654ed0f2",
   "metadata": {},
   "source": [
    "## Addition of Preservative - 1002874- Pres3"
   ]
  },
  {
   "cell_type": "code",
   "execution_count": 23,
   "id": "b021ed94-df85-4b2d-8085-21566c973bcb",
   "metadata": {},
   "outputs": [
    {
     "name": "stdout",
     "output_type": "stream",
     "text": [
      "      Material    BATCHID  Unit Material_ID  Pres3Quantity  \\\n",
      "2978   1451704  108073632  2202     1002874         12.620   \n",
      "4043   1520984  108045117  2202     1002874         20.010   \n",
      "4847   1648637  107867810  2202     1002874         15.287   \n",
      "4914   1648637  107978116  2202     1002874         15.264   \n",
      "7318   1775253  107899926  2202     1002874         27.107   \n",
      "7558   1775253  107964410  2202     1002874         27.008   \n",
      "7670   1775253  107999494  2202     1002874         27.119   \n",
      "7699   1775253  108026759  2202     1002874         27.107   \n",
      "\n",
      "      Pres3Phase_duration  Pres3Phase_start_delay  Pres3Flowrate_KGMIN  \\\n",
      "2978                  206                       0               0.0613   \n",
      "4043                   24                       0               0.8338   \n",
      "4847                    7                       0               2.1839   \n",
      "4914                   10                       0               1.5264   \n",
      "7318                   13                       1               2.0852   \n",
      "7558                   11                       0               2.4553   \n",
      "7670                    9                       0               3.0132   \n",
      "7699                    6                       0               4.5178   \n",
      "\n",
      "      Target_Flowrate  Target_Phase_duration  Pres3Phase_overrun  \n",
      "2978           6.3182                      2               204.0  \n",
      "4043           6.3182                      3                21.0  \n",
      "4847           6.3182                      2                 5.0  \n",
      "4914           6.3182                      2                 8.0  \n",
      "7318           6.3182                      4                 9.0  \n",
      "7558           6.3182                      4                 7.0  \n",
      "7670           6.3182                      4                 5.0  \n",
      "7699           6.3182                      4                 2.0  \n"
     ]
    },
    {
     "name": "stderr",
     "output_type": "stream",
     "text": [
      "C:\\Users\\User\\anaconda3\\lib\\site-packages\\pandas\\core\\frame.py:4441: SettingWithCopyWarning: \n",
      "A value is trying to be set on a copy of a slice from a DataFrame\n",
      "\n",
      "See the caveats in the documentation: https://pandas.pydata.org/pandas-docs/stable/user_guide/indexing.html#returning-a-view-versus-a-copy\n",
      "  return super().rename(\n"
     ]
    }
   ],
   "source": [
    "Material_ID = ['1002874']\n",
    "df_IDP3_2202=TANK_2202[TANK_2202['Material_ID'].isin(Material_ID)]\n",
    "# Or rename the existing DataFrame (rather than creating a copy)\n",
    "df_IDP3_2202.rename(columns={'Quantity': 'Pres3Quantity','Phase_duration':'Pres3Phase_duration','Phase_start_delay':'Pres3Phase_start_delay','Flowrate_KGMIN':'Pres3Flowrate_KGMIN','Phase_overrun':'Pres3Phase_overrun'}, inplace=True)\n",
    "print(df_IDP3_2202)"
   ]
  },
  {
   "cell_type": "code",
   "execution_count": 24,
   "id": "df122281-90e7-405c-85af-a1446242da46",
   "metadata": {},
   "outputs": [],
   "source": [
    "#Aggregate data per tank\n",
    "#aggregated_df_IDP3_2202 = df_IDP3_2202.groupby('Material').agg({\n",
    "   # 'Pres3Phase_duration': 'mean',\n",
    "    #'Pres3Phase_overrun': 'sum',\n",
    "    #'Pres3Phase_start_delay':'sum',\n",
    "    #'Pres3Quantity':'sum',\n",
    "    #'Pres3Flowrate_KGMIN':'sum',\n",
    "    #'Target_Phase_duration':'sum',\n",
    "    #'Target_Flowrate':'sum'\n",
    "#}).reset_index()\n",
    "\n",
    " #Print the aggregated DataFrame\n",
    "#print(aggregated_df_IDP3_2202)"
   ]
  },
  {
   "cell_type": "markdown",
   "id": "556dac56-fed4-4722-aaa4-512b28bbb2c5",
   "metadata": {},
   "source": [
    "## Colour Addition - There are only 3 batches that have colour ingredients included that were produced in Tank 2202"
   ]
  },
  {
   "cell_type": "code",
   "execution_count": 25,
   "id": "a0413132-029d-4a6e-9e2a-708949942a19",
   "metadata": {},
   "outputs": [],
   "source": [
    "#Material_ID = ['3026582','3010810','3028657']\n",
    "#df_IDCOL_2202=TANK_2202[TANK_2202['Material_ID'].isin(Material_ID)]\n",
    "#print(df_IDCOL_2202)"
   ]
  },
  {
   "cell_type": "code",
   "execution_count": 26,
   "id": "f01cae51-9eb7-41f9-bb49-2cc80887d177",
   "metadata": {},
   "outputs": [],
   "source": [
    "# Or rename the existing DataFrame (rather than creating a copy)\n",
    "#df_IDCOL_2202.rename(columns={'Quantity': 'COLQuantity','Phase_duration':'COLPhase_duration','Phase_start_delay':'COLPhase_start_delay','Flowrate_KGMIN':'COLFlowrate_KGMIN','Phase_overrun':'COLPhase_overrun'}, inplace=True)"
   ]
  },
  {
   "cell_type": "code",
   "execution_count": 27,
   "id": "7056b034-a82b-46dc-8a30-8f561cf7990b",
   "metadata": {},
   "outputs": [],
   "source": [
    "#Aggregate data per tank\n",
    "#aggregated_df_IDCOL_2202 = df_IDCOL_2202.groupby('Material').agg({\n",
    "    #'COLPhase_duration': 'mean',\n",
    "    #'COLPhase_overrun': 'sum',\n",
    "   # 'COLPhase_start_delay':'sum',\n",
    "   # 'COLQuantity':'sum',\n",
    "   # 'COLFlowrate_KGMIN':'sum',\n",
    "   # 'Target_Phase_duration':'sum',\n",
    "   # 'Target_Flowrate':'sum'\n",
    "#}).reset_index()\n",
    "\n",
    " #Print the aggregated DataFrame\n",
    "#print(aggregated_df_IDCOL_2202)"
   ]
  },
  {
   "cell_type": "code",
   "execution_count": 34,
   "id": "15452638-26af-47b4-8ab6-03b6292ac9b5",
   "metadata": {},
   "outputs": [
    {
     "name": "stdout",
     "output_type": "stream",
     "text": [
      "      Material    BATCHID  Unit Material_ID  WaterQuantity  \\\n",
      "2002   1397022  107956670  2202     1002565       8623.000   \n",
      "2012   1397022  107956670  2202     1002565       2065.000   \n",
      "2755   1428047  107993270  2202     1002565       5101.000   \n",
      "2760   1428047  107993270  2202     1002565         85.394   \n",
      "2763   1428047  107993270  2202     1002565       4490.000   \n",
      "...        ...        ...   ...         ...            ...   \n",
      "4914   1648637  107978116  2202     1002874            NaN   \n",
      "7318   1775253  107899926  2202     1002874            NaN   \n",
      "7558   1775253  107964410  2202     1002874            NaN   \n",
      "7670   1775253  107999494  2202     1002874            NaN   \n",
      "7699   1775253  108026759  2202     1002874            NaN   \n",
      "\n",
      "      WaterPhase_duration  WaterPhase_start_delay  WaterFlowrate_KGMIN  \\\n",
      "2002                 10.0                     1.0             862.3000   \n",
      "2012                 13.0                     0.0             158.8462   \n",
      "2755                  8.0                     1.0             637.6250   \n",
      "2760                  2.0                     0.0              42.6970   \n",
      "2763                  8.0                     0.0             561.2500   \n",
      "...                   ...                     ...                  ...   \n",
      "4914                  NaN                     NaN                  NaN   \n",
      "7318                  NaN                     NaN                  NaN   \n",
      "7558                  NaN                     NaN                  NaN   \n",
      "7670                  NaN                     NaN                  NaN   \n",
      "7699                  NaN                     NaN                  NaN   \n",
      "\n",
      "      Target_Flowrate  Target_Phase_duration  ...  Pres2Quantity  \\\n",
      "2002         733.5050                     12  ...            NaN   \n",
      "2012         385.4153                      5  ...            NaN   \n",
      "2755         733.5050                      7  ...            NaN   \n",
      "2760          25.0000                      3  ...            NaN   \n",
      "2763         547.5000                      8  ...            NaN   \n",
      "...               ...                    ...  ...            ...   \n",
      "4914           6.3182                      2  ...            NaN   \n",
      "7318           6.3182                      4  ...            NaN   \n",
      "7558           6.3182                      4  ...            NaN   \n",
      "7670           6.3182                      4  ...            NaN   \n",
      "7699           6.3182                      4  ...            NaN   \n",
      "\n",
      "     Pres2Phase_duration  Pres2Phase_start_delay  Pres2Flowrate_KGMIN  \\\n",
      "2002                 NaN                     NaN                  NaN   \n",
      "2012                 NaN                     NaN                  NaN   \n",
      "2755                 NaN                     NaN                  NaN   \n",
      "2760                 NaN                     NaN                  NaN   \n",
      "2763                 NaN                     NaN                  NaN   \n",
      "...                  ...                     ...                  ...   \n",
      "4914                 NaN                     NaN                  NaN   \n",
      "7318                 NaN                     NaN                  NaN   \n",
      "7558                 NaN                     NaN                  NaN   \n",
      "7670                 NaN                     NaN                  NaN   \n",
      "7699                 NaN                     NaN                  NaN   \n",
      "\n",
      "      Pres2Phase_overrun  Pres3Quantity  Pres3Phase_duration  \\\n",
      "2002                 NaN            NaN                  NaN   \n",
      "2012                 NaN            NaN                  NaN   \n",
      "2755                 NaN            NaN                  NaN   \n",
      "2760                 NaN            NaN                  NaN   \n",
      "2763                 NaN            NaN                  NaN   \n",
      "...                  ...            ...                  ...   \n",
      "4914                 NaN         15.264                 10.0   \n",
      "7318                 NaN         27.107                 13.0   \n",
      "7558                 NaN         27.008                 11.0   \n",
      "7670                 NaN         27.119                  9.0   \n",
      "7699                 NaN         27.107                  6.0   \n",
      "\n",
      "      Pres3Phase_start_delay  Pres3Flowrate_KGMIN  Pres3Phase_overrun  \n",
      "2002                     NaN                  NaN                 NaN  \n",
      "2012                     NaN                  NaN                 NaN  \n",
      "2755                     NaN                  NaN                 NaN  \n",
      "2760                     NaN                  NaN                 NaN  \n",
      "2763                     NaN                  NaN                 NaN  \n",
      "...                      ...                  ...                 ...  \n",
      "4914                     0.0               1.5264                 8.0  \n",
      "7318                     1.0               2.0852                 9.0  \n",
      "7558                     0.0               2.4553                 7.0  \n",
      "7670                     0.0               3.0132                 5.0  \n",
      "7699                     0.0               4.5178                 2.0  \n",
      "\n",
      "[65 rows x 27 columns]\n"
     ]
    }
   ],
   "source": [
    "frames = [df_IDW_2202,df_IDGUM_2202,df_IDP2_2202,df_IDP3_2202]\n",
    "\n",
    "result = pd.concat(frames)\n",
    "print(result)"
   ]
  },
  {
   "cell_type": "code",
   "execution_count": null,
   "id": "797ccf54-12de-4edd-aed1-0826cbfd588b",
   "metadata": {},
   "outputs": [],
   "source": []
  },
  {
   "cell_type": "markdown",
   "id": "73d2f347-5cce-4b07-a8d9-34f009d99a84",
   "metadata": {},
   "source": [
    "## Effect of Agitation after ingredient addition"
   ]
  },
  {
   "cell_type": "code",
   "execution_count": 29,
   "id": "26f5400a-aab6-41d1-8922-de49ff885282",
   "metadata": {},
   "outputs": [
    {
     "ename": "KeyError",
     "evalue": "'Instruction_Step'",
     "output_type": "error",
     "traceback": [
      "\u001b[1;31m---------------------------------------------------------------------------\u001b[0m",
      "\u001b[1;31mKeyError\u001b[0m                                  Traceback (most recent call last)",
      "\u001b[1;32m~\\anaconda3\\lib\\site-packages\\pandas\\core\\indexes\\base.py\u001b[0m in \u001b[0;36mget_loc\u001b[1;34m(self, key, method, tolerance)\u001b[0m\n\u001b[0;32m   3079\u001b[0m             \u001b[1;32mtry\u001b[0m\u001b[1;33m:\u001b[0m\u001b[1;33m\u001b[0m\u001b[1;33m\u001b[0m\u001b[0m\n\u001b[1;32m-> 3080\u001b[1;33m                 \u001b[1;32mreturn\u001b[0m \u001b[0mself\u001b[0m\u001b[1;33m.\u001b[0m\u001b[0m_engine\u001b[0m\u001b[1;33m.\u001b[0m\u001b[0mget_loc\u001b[0m\u001b[1;33m(\u001b[0m\u001b[0mcasted_key\u001b[0m\u001b[1;33m)\u001b[0m\u001b[1;33m\u001b[0m\u001b[1;33m\u001b[0m\u001b[0m\n\u001b[0m\u001b[0;32m   3081\u001b[0m             \u001b[1;32mexcept\u001b[0m \u001b[0mKeyError\u001b[0m \u001b[1;32mas\u001b[0m \u001b[0merr\u001b[0m\u001b[1;33m:\u001b[0m\u001b[1;33m\u001b[0m\u001b[1;33m\u001b[0m\u001b[0m\n",
      "\u001b[1;32mpandas\\_libs\\index.pyx\u001b[0m in \u001b[0;36mpandas._libs.index.IndexEngine.get_loc\u001b[1;34m()\u001b[0m\n",
      "\u001b[1;32mpandas\\_libs\\index.pyx\u001b[0m in \u001b[0;36mpandas._libs.index.IndexEngine.get_loc\u001b[1;34m()\u001b[0m\n",
      "\u001b[1;32mpandas\\_libs\\hashtable_class_helper.pxi\u001b[0m in \u001b[0;36mpandas._libs.hashtable.PyObjectHashTable.get_item\u001b[1;34m()\u001b[0m\n",
      "\u001b[1;32mpandas\\_libs\\hashtable_class_helper.pxi\u001b[0m in \u001b[0;36mpandas._libs.hashtable.PyObjectHashTable.get_item\u001b[1;34m()\u001b[0m\n",
      "\u001b[1;31mKeyError\u001b[0m: 'Instruction_Step'",
      "\nThe above exception was the direct cause of the following exception:\n",
      "\u001b[1;31mKeyError\u001b[0m                                  Traceback (most recent call last)",
      "\u001b[1;32m<ipython-input-29-ba7a9dcf08d6>\u001b[0m in \u001b[0;36m<module>\u001b[1;34m\u001b[0m\n\u001b[0;32m      1\u001b[0m \u001b[1;31m#Select all the rows where the material is in the list below\u001b[0m\u001b[1;33m\u001b[0m\u001b[1;33m\u001b[0m\u001b[1;33m\u001b[0m\u001b[0m\n\u001b[0;32m      2\u001b[0m \u001b[0mInstruction_Step\u001b[0m \u001b[1;33m=\u001b[0m \u001b[1;33m[\u001b[0m\u001b[1;34m'STEP1_AGITATION'\u001b[0m\u001b[1;33m,\u001b[0m\u001b[1;34m'STEP2_AGITATION'\u001b[0m\u001b[1;33m]\u001b[0m\u001b[1;33m\u001b[0m\u001b[1;33m\u001b[0m\u001b[0m\n\u001b[1;32m----> 3\u001b[1;33m \u001b[0mdf_Agitation\u001b[0m \u001b[1;33m=\u001b[0m \u001b[0mTANK_2202\u001b[0m\u001b[1;33m[\u001b[0m\u001b[0mTANK_2202\u001b[0m\u001b[1;33m[\u001b[0m\u001b[1;34m'Instruction_Step'\u001b[0m\u001b[1;33m]\u001b[0m\u001b[1;33m.\u001b[0m\u001b[0misin\u001b[0m\u001b[1;33m(\u001b[0m\u001b[0mInstruction_Step\u001b[0m\u001b[1;33m)\u001b[0m\u001b[1;33m]\u001b[0m\u001b[1;33m\u001b[0m\u001b[1;33m\u001b[0m\u001b[0m\n\u001b[0m\u001b[0;32m      4\u001b[0m \u001b[1;31m#print(df_Agitation)\u001b[0m\u001b[1;33m\u001b[0m\u001b[1;33m\u001b[0m\u001b[1;33m\u001b[0m\u001b[0m\n",
      "\u001b[1;32m~\\anaconda3\\lib\\site-packages\\pandas\\core\\frame.py\u001b[0m in \u001b[0;36m__getitem__\u001b[1;34m(self, key)\u001b[0m\n\u001b[0;32m   3022\u001b[0m             \u001b[1;32mif\u001b[0m \u001b[0mself\u001b[0m\u001b[1;33m.\u001b[0m\u001b[0mcolumns\u001b[0m\u001b[1;33m.\u001b[0m\u001b[0mnlevels\u001b[0m \u001b[1;33m>\u001b[0m \u001b[1;36m1\u001b[0m\u001b[1;33m:\u001b[0m\u001b[1;33m\u001b[0m\u001b[1;33m\u001b[0m\u001b[0m\n\u001b[0;32m   3023\u001b[0m                 \u001b[1;32mreturn\u001b[0m \u001b[0mself\u001b[0m\u001b[1;33m.\u001b[0m\u001b[0m_getitem_multilevel\u001b[0m\u001b[1;33m(\u001b[0m\u001b[0mkey\u001b[0m\u001b[1;33m)\u001b[0m\u001b[1;33m\u001b[0m\u001b[1;33m\u001b[0m\u001b[0m\n\u001b[1;32m-> 3024\u001b[1;33m             \u001b[0mindexer\u001b[0m \u001b[1;33m=\u001b[0m \u001b[0mself\u001b[0m\u001b[1;33m.\u001b[0m\u001b[0mcolumns\u001b[0m\u001b[1;33m.\u001b[0m\u001b[0mget_loc\u001b[0m\u001b[1;33m(\u001b[0m\u001b[0mkey\u001b[0m\u001b[1;33m)\u001b[0m\u001b[1;33m\u001b[0m\u001b[1;33m\u001b[0m\u001b[0m\n\u001b[0m\u001b[0;32m   3025\u001b[0m             \u001b[1;32mif\u001b[0m \u001b[0mis_integer\u001b[0m\u001b[1;33m(\u001b[0m\u001b[0mindexer\u001b[0m\u001b[1;33m)\u001b[0m\u001b[1;33m:\u001b[0m\u001b[1;33m\u001b[0m\u001b[1;33m\u001b[0m\u001b[0m\n\u001b[0;32m   3026\u001b[0m                 \u001b[0mindexer\u001b[0m \u001b[1;33m=\u001b[0m \u001b[1;33m[\u001b[0m\u001b[0mindexer\u001b[0m\u001b[1;33m]\u001b[0m\u001b[1;33m\u001b[0m\u001b[1;33m\u001b[0m\u001b[0m\n",
      "\u001b[1;32m~\\anaconda3\\lib\\site-packages\\pandas\\core\\indexes\\base.py\u001b[0m in \u001b[0;36mget_loc\u001b[1;34m(self, key, method, tolerance)\u001b[0m\n\u001b[0;32m   3080\u001b[0m                 \u001b[1;32mreturn\u001b[0m \u001b[0mself\u001b[0m\u001b[1;33m.\u001b[0m\u001b[0m_engine\u001b[0m\u001b[1;33m.\u001b[0m\u001b[0mget_loc\u001b[0m\u001b[1;33m(\u001b[0m\u001b[0mcasted_key\u001b[0m\u001b[1;33m)\u001b[0m\u001b[1;33m\u001b[0m\u001b[1;33m\u001b[0m\u001b[0m\n\u001b[0;32m   3081\u001b[0m             \u001b[1;32mexcept\u001b[0m \u001b[0mKeyError\u001b[0m \u001b[1;32mas\u001b[0m \u001b[0merr\u001b[0m\u001b[1;33m:\u001b[0m\u001b[1;33m\u001b[0m\u001b[1;33m\u001b[0m\u001b[0m\n\u001b[1;32m-> 3082\u001b[1;33m                 \u001b[1;32mraise\u001b[0m \u001b[0mKeyError\u001b[0m\u001b[1;33m(\u001b[0m\u001b[0mkey\u001b[0m\u001b[1;33m)\u001b[0m \u001b[1;32mfrom\u001b[0m \u001b[0merr\u001b[0m\u001b[1;33m\u001b[0m\u001b[1;33m\u001b[0m\u001b[0m\n\u001b[0m\u001b[0;32m   3083\u001b[0m \u001b[1;33m\u001b[0m\u001b[0m\n\u001b[0;32m   3084\u001b[0m         \u001b[1;32mif\u001b[0m \u001b[0mtolerance\u001b[0m \u001b[1;32mis\u001b[0m \u001b[1;32mnot\u001b[0m \u001b[1;32mNone\u001b[0m\u001b[1;33m:\u001b[0m\u001b[1;33m\u001b[0m\u001b[1;33m\u001b[0m\u001b[0m\n",
      "\u001b[1;31mKeyError\u001b[0m: 'Instruction_Step'"
     ]
    }
   ],
   "source": [
    "#Select all the rows where the material is in the list below\n",
    "Instruction_Step = ['STEP1_AGITATION','STEP2_AGITATION']\n",
    "df_Agitation = TANK_2202[TANK_2202['Instruction_Step'].isin(Instruction_Step)]\n",
    "#print(df_Agitation)"
   ]
  },
  {
   "cell_type": "code",
   "execution_count": null,
   "id": "85da73ef-4ab0-4b93-ad3c-036fefb122cd",
   "metadata": {},
   "outputs": [],
   "source": [
    "#Aggregate data per tank\n",
    "aggregated_df_Agitation = df_Agitation.groupby('Material').agg({\n",
    "    'Phase_duration': 'mean',\n",
    "    'Phase_overrun': 'sum',\n",
    "    'Phase_start_delay':'sum',\n",
    "    'Quantity':'sum',\n",
    "    'Flowrate_KGMIN':'sum',\n",
    "    'Target_Phase_duration':'sum',\n",
    "    'Target_Flowrate':'sum'\n",
    "}).reset_index()\n",
    "\n",
    " #Print the aggregated DataFrame\n",
    "print(aggregated_df_Agitation)"
   ]
  },
  {
   "cell_type": "code",
   "execution_count": null,
   "id": "0199ccba-1ef3-4f82-8cc7-d5e3c8864b9e",
   "metadata": {},
   "outputs": [],
   "source": []
  }
 ],
 "metadata": {
  "kernelspec": {
   "display_name": "Python 3",
   "language": "python",
   "name": "python3"
  },
  "language_info": {
   "codemirror_mode": {
    "name": "ipython",
    "version": 3
   },
   "file_extension": ".py",
   "mimetype": "text/x-python",
   "name": "python",
   "nbconvert_exporter": "python",
   "pygments_lexer": "ipython3",
   "version": "3.8.8"
  }
 },
 "nbformat": 4,
 "nbformat_minor": 5
}
