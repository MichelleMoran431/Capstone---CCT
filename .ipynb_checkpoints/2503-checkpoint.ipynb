{
 "cells": [
  {
   "cell_type": "markdown",
   "id": "1ae7cfe7-f9ab-4b32-a81e-5e25c37e5ce2",
   "metadata": {},
   "source": [
    "#### Tank 25MT03  - 4 tonne tank "
   ]
  },
  {
   "cell_type": "code",
   "execution_count": 4,
   "id": "48d57613-0bae-40d9-b6a3-f04d90d909f3",
   "metadata": {},
   "outputs": [
    {
     "name": "stderr",
     "output_type": "stream",
     "text": [
      "C:\\Users\\User\\anaconda3\\lib\\site-packages\\scipy\\__init__.py:146: UserWarning: A NumPy version >=1.16.5 and <1.23.0 is required for this version of SciPy (detected version 1.24.4\n",
      "  warnings.warn(f\"A NumPy version >={np_minversion} and <{np_maxversion}\"\n"
     ]
    }
   ],
   "source": [
    "import pandas as pd\n",
    "import matplotlib.pyplot as plt\n",
    "import seaborn as sns\n",
    "import numpy as np\n",
    "from scipy import stats"
   ]
  },
  {
   "cell_type": "code",
   "execution_count": 5,
   "id": "cbb5cd02-5bf6-4e31-b588-9812376141c7",
   "metadata": {},
   "outputs": [],
   "source": [
    "uploaded = pd.read_csv('Bev Base Dearation Data Extract .csv')\n",
    "# Dataset is now stored in a Pandas Dataframe"
   ]
  },
  {
   "cell_type": "code",
   "execution_count": 6,
   "id": "ffabd92f-881f-4245-b56c-718889dcbb9a",
   "metadata": {},
   "outputs": [],
   "source": [
    "#uploaded.head()"
   ]
  },
  {
   "cell_type": "code",
   "execution_count": 8,
   "id": "2321c543-e811-4561-90a6-d66c6bc68df9",
   "metadata": {},
   "outputs": [],
   "source": [
    "# Or rename the existing DataFrame (rather than creating a copy)\n",
    "uploaded.rename(columns={'SKU': 'Material','Deaeration Phase':'Deaeration_Phase'}, inplace=True)"
   ]
  },
  {
   "cell_type": "code",
   "execution_count": 9,
   "id": "cbac8caf-a83c-4563-8155-86ce624a25f6",
   "metadata": {},
   "outputs": [],
   "source": [
    "# Removal of unwanted columns from dataset\n",
    "uploaded1=uploaded.drop(['SKU_DESCRIPTION', 'Recipe', 'Tank','Source', 'Batch_Phase_Type','Phase_start','Phase_end','Deaeration_Phase','Phase_row_no'], axis=1)"
   ]
  },
  {
   "cell_type": "code",
   "execution_count": 10,
   "id": "fc7fe1b4-d6c4-46ef-a46b-ea0e65e78b13",
   "metadata": {},
   "outputs": [],
   "source": [
    "# Define a dictionary of replacements\n",
    "replacements = {\n",
    "    'U_25MT02': '2502',\n",
    "    'U_25MT03': '2503',\n",
    "    'U_25MT04': '2504',\n",
    "    'U_26MT01' : '2601',\n",
    "    'U_23MT02' : '2302',\n",
    "    'U_23MT04' : '2304',\n",
    "    'U_25MT01' : '2501',\n",
    "    'U_23MT05' : '2305',\n",
    "    'U_25MT02' : '2502',\n",
    "    'U_22MT04' : '2204',\n",
    "    'U_22MT03' : '2203',\n",
    "    'U_22MT02' : '2202',\n",
    "    'U_26MT04' : '2604',\n",
    "    'U_26MT03' : '2603',\n",
    "    'U_23MT03' : '2303',\n",
    "    'U_22MT05' : '2205'\n",
    "}\n",
    "\n",
    "# Replace values in the 'TankName' column\n",
    "uploaded1['Unit'].replace(replacements, inplace=True)\n",
    "\n",
    "# Print the modified DataFrame\n",
    "#print(uploaded1)"
   ]
  },
  {
   "cell_type": "code",
   "execution_count": null,
   "id": "6b7ff75b-a6a8-4c95-8acf-76215b0c8058",
   "metadata": {},
   "outputs": [],
   "source": [
    "#uploaded1.info()"
   ]
  },
  {
   "cell_type": "code",
   "execution_count": 11,
   "id": "cff1e1b4-aeae-4277-8529-be427e7c8da0",
   "metadata": {},
   "outputs": [],
   "source": [
    "#Select the batches where 25MT03 tanks was used\n",
    "Unit = ['2503']\n",
    "TANK_2503= uploaded1[uploaded1['Unit'].isin(Unit)]\n",
    "#print(TANK_2503)"
   ]
  },
  {
   "cell_type": "markdown",
   "id": "b8f408a0-22a1-41e3-ba0b-2b0f38f854aa",
   "metadata": {},
   "source": [
    "### Creation Dataframes based on the ingredients addition - quantity , flow rates , duration times , overrun times and targets for each "
   ]
  },
  {
   "cell_type": "markdown",
   "id": "3935e933-5fdf-489d-95f2-ed815a1791b5",
   "metadata": {},
   "source": [
    "## ingredients addition"
   ]
  },
  {
   "cell_type": "markdown",
   "id": "364656a4-5133-4824-b7bf-3029deed501d",
   "metadata": {},
   "source": [
    "## 1 Addition of Treated Water- 2 phase additions with different quantities\n",
    "\n",
    "NB : Need to separate out the water additions"
   ]
  },
  {
   "cell_type": "code",
   "execution_count": 10,
   "id": "66beda6d-5b4c-4766-868a-af5b5e7f7fb3",
   "metadata": {},
   "outputs": [],
   "source": [
    "#Select all the rows where the phase HP is in the list below - HP is homogenisation of the final batch quantity\n",
    "Material_ID = ['1002565']\n",
    "df_IDW_2503 = TANK_2503[TANK_2503['Material_ID'].isin(Material_ID)]\n",
    "#print(df_IDW_2503)"
   ]
  },
  {
   "cell_type": "code",
   "execution_count": 12,
   "id": "b294531c-7c9a-4a15-a380-90e62cd276db",
   "metadata": {},
   "outputs": [
    {
     "name": "stderr",
     "output_type": "stream",
     "text": [
      "<ipython-input-12-a0421210d4d3>:4: SettingWithCopyWarning: \n",
      "A value is trying to be set on a copy of a slice from a DataFrame.\n",
      "Try using .loc[row_indexer,col_indexer] = value instead\n",
      "\n",
      "See the caveats in the documentation: https://pandas.pydata.org/pandas-docs/stable/user_guide/indexing.html#returning-a-view-versus-a-copy\n",
      "  df_IDW_2501['QuantityRange'] = pd.cut(df_IDW_2501['Quantity'], bins=2, labels=['QuantityRange <= 5000', 'QuantityRange >= 5000'])\n"
     ]
    }
   ],
   "source": [
    "import pandas as pd\n",
    "# Assuming df_filtered1 DataFrames are defined\n",
    "# Create a new column 'QuantityRange' in df_filtered1 based on the 'Quantity' values\n",
    "df_IDW_2503['QuantityRange'] = pd.cut(df_IDW_2503['Quantity'], bins=2, labels=['QuantityRange <= 5000', 'QuantityRange >= 5000'])\n",
    "#print(df_IDW_2503)"
   ]
  },
  {
   "cell_type": "code",
   "execution_count": 13,
   "id": "31eb51c8-1aa1-4a94-8127-e8edd92dfd5f",
   "metadata": {},
   "outputs": [
    {
     "name": "stderr",
     "output_type": "stream",
     "text": [
      "C:\\Users\\User\\anaconda3\\lib\\site-packages\\pandas\\core\\frame.py:4441: SettingWithCopyWarning: \n",
      "A value is trying to be set on a copy of a slice from a DataFrame\n",
      "\n",
      "See the caveats in the documentation: https://pandas.pydata.org/pandas-docs/stable/user_guide/indexing.html#returning-a-view-versus-a-copy\n",
      "  return super().rename(\n"
     ]
    }
   ],
   "source": [
    "# Or rename the existing DataFrame (rather than creating a copy)\n",
    "df_IDW_2503.rename(columns={'Quantity': 'WaterQuantity','Phase_duration':'WaterPhase_duration','Phase_start_delay':'WaterPhase_start_delay','Flowrate_KGMIN':'WaterFlowrate_KGMIN','Phase_overrun':'WaterPhase_overrun','QuantityRange':'WaterQuantityRange'}, inplace=True)"
   ]
  },
  {
   "cell_type": "code",
   "execution_count": null,
   "id": "eb1ca274-9f3d-4e9b-bf81-b975f7f3af65",
   "metadata": {},
   "outputs": [],
   "source": [
    "#QuantityRange = ['QuantityRange >= 5000']\n",
    "#df_Material_IDWater1= df_IDW_2503[df_IDW_2503['QuantityRange'].isin(QuantityRange)]\n",
    "#print(df_Material_IDWater1)"
   ]
  },
  {
   "cell_type": "code",
   "execution_count": null,
   "id": "db3df5cc-9679-48a9-a34b-49317f8d00b2",
   "metadata": {},
   "outputs": [],
   "source": [
    "#QuantityRange = ['QuantityRange <= 5000']\n",
    "#df_Material_IDWater2 = df_IDW_2503[df_IDW_2503['QuantityRange'].isin(QuantityRange)]\n",
    "#print(df_Material2503_IDWater2)"
   ]
  },
  {
   "cell_type": "code",
   "execution_count": null,
   "id": "83ba67b7-fcc3-4154-a82c-91c4774ec7d1",
   "metadata": {},
   "outputs": [],
   "source": [
    " #Aggregate data per tank\n",
    "#aggregated_dfWater2 = df_Material_IDWater2.groupby('Material').agg({\n",
    "    #'Phase_duration': 'mean',\n",
    "    #'Phase_overrun': 'sum',\n",
    "    #'Phase_start_delay':'sum',\n",
    "    #'Quantity':'sum',\n",
    "    #'Flowrate_KGMIN':'sum',\n",
    "   # 'Target_Phase_duration':'sum',\n",
    "   # 'Target_Flowrate':'sum'\n",
    "#}).reset_index()\n",
    "\n",
    " #Print the aggregated DataFrame\n",
    "#print(aggregated_dfWater2)"
   ]
  },
  {
   "cell_type": "code",
   "execution_count": null,
   "id": "9199b23f-d710-42f8-b3f5-43c059dba404",
   "metadata": {},
   "outputs": [],
   "source": [
    "#Aggregate data per tank\n",
    "#aggregated_dfWater1 = df_Material_IDWater1.groupby('Material').agg({\n",
    "    #'Phase_duration': 'mean',\n",
    "   # 'Phase_overrun': 'sum',\n",
    "   # 'Phase_start_delay':'sum',\n",
    "   # 'Quantity':'sum',\n",
    "   # 'Flowrate_KGMIN':'sum',\n",
    "   # 'Target_Phase_duration':'sum',\n",
    "   # 'Target_Flowrate':'sum'\n",
    "#}).reset_index()\n",
    "\n",
    " #Print the aggregated DataFrame\n",
    "#print(aggregated_dfWater1)"
   ]
  },
  {
   "cell_type": "markdown",
   "id": "8885fd5f-f437-462b-8af6-5b8d86c94bff",
   "metadata": {},
   "source": [
    "## 1 Addition of Preservative (1037802) 1 phase addition"
   ]
  },
  {
   "cell_type": "code",
   "execution_count": 23,
   "id": "553adc93-9407-4949-a173-8a1db758b513",
   "metadata": {},
   "outputs": [],
   "source": [
    "Material_ID = ['1037802']\n",
    "df_IDP1_2503=TANK_2503[TANK_2502['Material_ID'].isin(Material_ID)]\n",
    "#print(df_IDP1_2503)"
   ]
  },
  {
   "cell_type": "code",
   "execution_count": 24,
   "id": "7c7a8ed5-3122-4f7a-b1b6-4e709f78ff59",
   "metadata": {},
   "outputs": [],
   "source": [
    "# Or rename the existing DataFrame (rather than creating a copy)\n",
    "df_IDP1_2503.rename(columns={'Quantity': 'Pres1Quantity','Phase_duration':'Pres1Phase_duration','Phase_start_delay':'Pres1Phase_start_delay','Flowrate_KGMIN':'Pres1Flowrate_KGMIN','Phase_overrun':'Pres1Phase_overrun'}, inplace=True)"
   ]
  },
  {
   "cell_type": "code",
   "execution_count": 25,
   "id": "b7bd9e9f-2399-49e6-9bf2-d245a070f1af",
   "metadata": {},
   "outputs": [
    {
     "name": "stdout",
     "output_type": "stream",
     "text": [
      "   Material  Pres1Phase_duration  Pres1Phase_overrun  Pres1Phase_start_delay  \\\n",
      "0   1006884            10.000000                10.0                       0   \n",
      "1   1172415            11.000000                10.0                       0   \n",
      "2   1397022            31.000000                30.0                       0   \n",
      "3   1529065            83.000000               166.0                       0   \n",
      "4   1648718            10.333333                31.0                      92   \n",
      "5   1880112            42.000000                82.0                       0   \n",
      "6   3044756             9.000000                 8.0                       0   \n",
      "\n",
      "   Pres1Quantity  Pres1Flowrate_KGMIN  Target_Phase_duration  Target_Flowrate  \n",
      "0          2.900               0.2900                      2           6.3182  \n",
      "1          3.181               0.2892                      1           6.3182  \n",
      "2          3.793               0.1224                      1           6.3182  \n",
      "3          3.507               0.0497                      4          12.6364  \n",
      "4          3.450               0.4253                      6          18.9546  \n",
      "5         13.549               0.9357                      2          12.6364  \n",
      "6          5.334               0.5927                      1           6.3182  \n"
     ]
    }
   ],
   "source": [
    "#Aggregate data per tank\n",
    "aggregated_df_IDP1_2503 = df_IDP1_2503.groupby('Material').agg({\n",
    "    'Pres1Phase_duration': 'mean',\n",
    "    'Pres1Phase_overrun': 'sum',\n",
    "    'Pres1Phase_start_delay':'sum',\n",
    "    'Pres1Quantity':'sum',\n",
    "    'Pres1Flowrate_KGMIN':'sum',\n",
    "    'Target_Phase_duration':'sum',\n",
    "    'Target_Flowrate':'sum'\n",
    "}).reset_index()\n",
    "\n",
    " #Print the aggregated DataFrame\n",
    "#print(aggregated_df_IDP1_2503)"
   ]
  },
  {
   "cell_type": "markdown",
   "id": "4662fc4b-4faf-4a14-91bf-460bad9f372a",
   "metadata": {},
   "source": [
    "## 1 Addition of Preservative (1002818)  phase addition"
   ]
  },
  {
   "cell_type": "code",
   "execution_count": 27,
   "id": "e253ae9f-06b1-4c87-b68f-cb5c98bc5952",
   "metadata": {},
   "outputs": [],
   "source": [
    "Material_ID = ['1002818']\n",
    "df_IDP2_2503=TANK_2503[TANK_2503['Material_ID'].isin(Material_ID)]\n",
    "#print(df_IDP2_2503)"
   ]
  },
  {
   "cell_type": "code",
   "execution_count": 28,
   "id": "5cf6e721-27e1-4373-baea-19bd8f56a8e2",
   "metadata": {},
   "outputs": [
    {
     "name": "stderr",
     "output_type": "stream",
     "text": [
      "C:\\Users\\User\\anaconda3\\lib\\site-packages\\pandas\\core\\frame.py:4441: SettingWithCopyWarning: \n",
      "A value is trying to be set on a copy of a slice from a DataFrame\n",
      "\n",
      "See the caveats in the documentation: https://pandas.pydata.org/pandas-docs/stable/user_guide/indexing.html#returning-a-view-versus-a-copy\n",
      "  return super().rename(\n"
     ]
    }
   ],
   "source": [
    "# Or rename the existing DataFrame (rather than creating a copy)\n",
    "df_IDP2_2503.rename(columns={'Quantity': 'Pres2Quantity','Phase_duration':'Pres2Phase_duration','Phase_start_delay':'Pres2Phase_start_delay','Flowrate_KGMIN':'Pres2Flowrate_KGMIN','Phase_overrun':'Pres2Phase_overrun'}, inplace=True)"
   ]
  },
  {
   "cell_type": "code",
   "execution_count": 30,
   "id": "78ad5334-6272-429c-8cee-57a37872185a",
   "metadata": {},
   "outputs": [],
   "source": [
    "#Aggregate data per tank\n",
    "aggregated_df_IDP2_2503 = df_IDP2_2503.groupby('Material').agg({\n",
    "    'Pres2Phase_duration': 'mean',\n",
    "    'Pres2Phase_overrun': 'sum',\n",
    "    'Pres2Phase_start_delay':'sum',\n",
    "    'Pres2Quantity':'sum',\n",
    "    'Pres2Flowrate_KGMIN':'sum',\n",
    "    'Target_Phase_duration':'sum',\n",
    "    'Target_Flowrate':'sum'\n",
    "}).reset_index()\n",
    "\n",
    " #Print the aggregated DataFrame\n",
    "#print(aggregated_df_IDP2_2503)"
   ]
  },
  {
   "cell_type": "code",
   "execution_count": null,
   "id": "a8d6fc87-f48a-49cd-8bf4-1deb075cfabd",
   "metadata": {},
   "outputs": [],
   "source": [
    "## 1 Addition of Preservative (1002818)  phase addition"
   ]
  },
  {
   "cell_type": "code",
   "execution_count": null,
   "id": "44457048-3407-439a-9ac7-ac3a94c75df9",
   "metadata": {},
   "outputs": [],
   "source": [
    "Material_ID = ['1002874']\n",
    "df_IDP3_2503=TANK_2503[TANK_2503['Material_ID'].isin(Material_ID)]\n",
    "#print(df_IDP3_2503)"
   ]
  },
  {
   "cell_type": "code",
   "execution_count": null,
   "id": "8eca34d0-ce30-489f-b6ab-6186bc31633c",
   "metadata": {},
   "outputs": [],
   "source": [
    "# Or rename the existing DataFrame (rather than creating a copy)\n",
    "df_IDP3_2503.rename(columns={'Quantity': 'Pres3Quantity','Phase_duration':'Pres3Phase_duration','Phase_start_delay':'Pres3Phase_start_delay','Flowrate_KGMIN':'Pres3Flowrate_KGMIN','Phase_overrun':'Pres3Phase_overrun'}, inplace=True)"
   ]
  },
  {
   "cell_type": "code",
   "execution_count": null,
   "id": "8cb86d30-acb0-45c3-8e5e-7b2809912dbe",
   "metadata": {},
   "outputs": [],
   "source": [
    "#Aggregate data per tank\n",
    "aggregated_df_IDP3_2503 = df_IDP3_2503.groupby('Material').agg({\n",
    "    'Pres3Phase_duration': 'mean',\n",
    "    'Pres3Phase_overrun': 'sum',\n",
    "    'Pres3Phase_start_delay':'sum',\n",
    "    'Pres3Quantity':'sum',\n",
    "    'Pres3Flowrate_KGMIN':'sum',\n",
    "    'Target_Phase_duration':'sum',\n",
    "    'Target_Flowrate':'sum'\n",
    "}).reset_index()\n",
    "\n",
    " #Print the aggregated DataFrame\n",
    "#print(aggregated_df_IDP3_2503)"
   ]
  },
  {
   "cell_type": "code",
   "execution_count": null,
   "id": "3f959bde-88ae-4d2c-9fb0-25131a0804da",
   "metadata": {},
   "outputs": [],
   "source": []
  },
  {
   "cell_type": "markdown",
   "id": "ebf754ad-2bd0-4381-a05d-dcde9093b37d",
   "metadata": {},
   "source": [
    "## 1 Addition of GUM (1461896,1234972,1031006)"
   ]
  },
  {
   "cell_type": "code",
   "execution_count": 32,
   "id": "59369682-d12b-4471-8d25-d46b0c11bd5f",
   "metadata": {},
   "outputs": [],
   "source": [
    "Material_ID = ['1461896','1254972','1031006','1243269']\n",
    "df_IDGUM_2503=TANK_2503[TANK_2503['Material_ID'].isin(Material_ID)]\n",
    "#print(df_IDGUM_2503)"
   ]
  },
  {
   "cell_type": "code",
   "execution_count": 33,
   "id": "f9354f4a-901a-46db-bb6f-9f0c43fe21ca",
   "metadata": {},
   "outputs": [
    {
     "name": "stderr",
     "output_type": "stream",
     "text": [
      "C:\\Users\\User\\anaconda3\\lib\\site-packages\\pandas\\core\\frame.py:4441: SettingWithCopyWarning: \n",
      "A value is trying to be set on a copy of a slice from a DataFrame\n",
      "\n",
      "See the caveats in the documentation: https://pandas.pydata.org/pandas-docs/stable/user_guide/indexing.html#returning-a-view-versus-a-copy\n",
      "  return super().rename(\n"
     ]
    }
   ],
   "source": [
    "# Or rename the existing DataFrame (rather than creating a copy)\n",
    "df_IDGUM_2503.rename(columns={'Quantity': 'GUMQuantity','Phase_duration':'GUMPhase_duration','Phase_start_delay':'GUMPhase_start_delay','Flowrate_KGMIN':'GUMFlowrate_KGMIN','Phase_overrun':'GUMPhase_overrun'}, inplace=True)"
   ]
  },
  {
   "cell_type": "code",
   "execution_count": 35,
   "id": "cc404c53-930c-4583-8d43-80f2842503d3",
   "metadata": {},
   "outputs": [],
   "source": [
    "#Aggregate data per tank\n",
    "aggregated_df_IDGUM_2503= df_IDGUM_2503.groupby('Material').agg({\n",
    "    'GUMPhase_duration': 'mean',\n",
    "    'GUMPhase_overrun': 'sum',\n",
    "    'GUMPhase_start_delay':'sum',\n",
    "    'GUMQuantity':'sum',\n",
    "    'GUMFlowrate_KGMIN':'sum',\n",
    "    'Target_Phase_duration':'sum',\n",
    "    'Target_Flowrate':'sum'\n",
    "}).reset_index()\n",
    "\n",
    " #Print the aggregated DataFrame\n",
    "#print(aggregated_df_IDGUM_2503)"
   ]
  },
  {
   "cell_type": "markdown",
   "id": "556dac56-fed4-4722-aaa4-512b28bbb2c5",
   "metadata": {},
   "source": [
    "## Colour addition- 16 batches"
   ]
  },
  {
   "cell_type": "code",
   "execution_count": 40,
   "id": "a0413132-029d-4a6e-9e2a-708949942a19",
   "metadata": {},
   "outputs": [],
   "source": [
    "Material_ID = ['3026582','1003076','3028269','1002846','3028657','1521056']\n",
    "df_IDCOL_2503=TANK_2503[TANK_2503['Material_ID'].isin(Material_ID)]\n",
    "#print(df_IDCOL_2503)"
   ]
  },
  {
   "cell_type": "code",
   "execution_count": 41,
   "id": "f01cae51-9eb7-41f9-bb49-2cc80887d177",
   "metadata": {},
   "outputs": [
    {
     "name": "stderr",
     "output_type": "stream",
     "text": [
      "C:\\Users\\User\\anaconda3\\lib\\site-packages\\pandas\\core\\frame.py:4441: SettingWithCopyWarning: \n",
      "A value is trying to be set on a copy of a slice from a DataFrame\n",
      "\n",
      "See the caveats in the documentation: https://pandas.pydata.org/pandas-docs/stable/user_guide/indexing.html#returning-a-view-versus-a-copy\n",
      "  return super().rename(\n"
     ]
    }
   ],
   "source": [
    "# Or rename the existing DataFrame (rather than creating a copy)\n",
    "df_IDCOL_2503.rename(columns={'Quantity': 'COLQuantity','Phase_duration':'COLPhase_duration','Phase_start_delay':'COLPhase_start_delay','Flowrate_KGMIN':'COLFlowrate_KGMIN','Phase_overrun':'COLPhase_overrun'}, inplace=True)"
   ]
  },
  {
   "cell_type": "code",
   "execution_count": 43,
   "id": "7056b034-a82b-46dc-8a30-8f561cf7990b",
   "metadata": {},
   "outputs": [],
   "source": [
    "#Aggregate data per tank\n",
    "aggregated_df_IDCOL_2503 = df_IDCOL_2503.groupby('Material').agg({\n",
    "    'COLPhase_duration': 'mean',\n",
    "    'COLPhase_overrun': 'sum',\n",
    "    'COLPhase_start_delay':'sum',\n",
    "    'COLQuantity':'sum',\n",
    "    'COLFlowrate_KGMIN':'sum',\n",
    "    'Target_Phase_duration':'sum',\n",
    "    'Target_Flowrate':'sum'\n",
    "}).reset_index()\n",
    "\n",
    " #Print the aggregated DataFrame\n",
    "#print(aggregated_df_IDCOL_2503)"
   ]
  },
  {
   "cell_type": "markdown",
   "id": "544b3638-7c96-459d-bb1e-cff06a2d0ff6",
   "metadata": {},
   "source": [
    "## Addition of CSOB11- 10 batches"
   ]
  },
  {
   "cell_type": "code",
   "execution_count": 44,
   "id": "dcb609d5-4cd3-487c-bd57-db07981030f8",
   "metadata": {},
   "outputs": [],
   "source": [
    "Material_ID = ['1172014']\n",
    "df_IDCSO_2503=TANK_2503[TANK_2503['Material_ID'].isin(Material_ID)]\n",
    "#print(df_IDCSO_2503)"
   ]
  },
  {
   "cell_type": "code",
   "execution_count": 45,
   "id": "ad8a454b-db57-4061-8d13-94d97e6230d8",
   "metadata": {},
   "outputs": [
    {
     "name": "stderr",
     "output_type": "stream",
     "text": [
      "C:\\Users\\User\\anaconda3\\lib\\site-packages\\pandas\\core\\frame.py:4441: SettingWithCopyWarning: \n",
      "A value is trying to be set on a copy of a slice from a DataFrame\n",
      "\n",
      "See the caveats in the documentation: https://pandas.pydata.org/pandas-docs/stable/user_guide/indexing.html#returning-a-view-versus-a-copy\n",
      "  return super().rename(\n"
     ]
    }
   ],
   "source": [
    "# Or rename the existing DataFrame (rather than creating a copy)\n",
    "df_IDCSO_2503.rename(columns={'Quantity': 'CSOQuantity','Phase_duration':'CSOPhase_duration','Phase_start_delay':'CSOPhase_start_delay','Flowrate_KGMIN':'CSOFlowrate_KGMIN','Phase_overrun':'CSOPhase_overrun'}, inplace=True)"
   ]
  },
  {
   "cell_type": "code",
   "execution_count": 47,
   "id": "bb30c76a-a3ae-4ab0-b1b8-bd4c1b40092c",
   "metadata": {},
   "outputs": [],
   "source": [
    "#Aggregate data per tank\n",
    "aggregated_df_IDCSO_2503 = df_IDCSO_2503.groupby('Material').agg({\n",
    "    'CSOPhase_duration': 'mean',\n",
    "    'CSOPhase_overrun': 'sum',\n",
    "    'CSOPhase_start_delay':'sum',\n",
    "    'CSOQuantity':'sum',\n",
    "    'CSOFlowrate_KGMIN':'sum',\n",
    "    'Target_Phase_duration':'sum',\n",
    "    'Target_Flowrate':'sum'\n",
    "}).reset_index()\n",
    "\n",
    " #Print the aggregated DataFrame\n",
    "#print(aggregated_df_IDCSO_2503)"
   ]
  },
  {
   "cell_type": "code",
   "execution_count": null,
   "id": "32709e93-ada0-4f63-8044-392f8e58c096",
   "metadata": {},
   "outputs": [],
   "source": [
    "frames = [df_IDW_2503,df_IDGUM_2503,df_IDP2_2503,df_IDP1_2503,df_IDP3_2503,df_IDCOL_2503]\n",
    "\n",
    "result = pd.concat(frames)\n",
    "print(result)"
   ]
  },
  {
   "cell_type": "code",
   "execution_count": null,
   "id": "78ecb53c-608c-4c96-bc20-c22337756e65",
   "metadata": {},
   "outputs": [],
   "source": []
  },
  {
   "cell_type": "code",
   "execution_count": null,
   "id": "85eea406-98d8-4170-9b41-34ba41faffac",
   "metadata": {},
   "outputs": [],
   "source": []
  },
  {
   "cell_type": "code",
   "execution_count": null,
   "id": "ecfdf212-0225-418f-8da6-e98081a68388",
   "metadata": {},
   "outputs": [],
   "source": []
  },
  {
   "cell_type": "markdown",
   "id": "73d2f347-5cce-4b07-a8d9-34f009d99a84",
   "metadata": {},
   "source": [
    "## Effect of Agitation after ingredient addition"
   ]
  },
  {
   "cell_type": "code",
   "execution_count": null,
   "id": "26f5400a-aab6-41d1-8922-de49ff885282",
   "metadata": {},
   "outputs": [],
   "source": [
    "#Select all the rows where the material is in the list below\n",
    "Instruction_Step = ['STEP1_AGITATION','STEP2_AGITATION']\n",
    "df_Agitation = TANK_2503[TANK_2503['Instruction_Step'].isin(Instruction_Step)]\n",
    "print(df_Agitation)"
   ]
  },
  {
   "cell_type": "code",
   "execution_count": null,
   "id": "85da73ef-4ab0-4b93-ad3c-036fefb122cd",
   "metadata": {},
   "outputs": [],
   "source": [
    "#Aggregate data per tank\n",
    "aggregated_df_Agitation = df_Agitation.groupby('Material').agg({\n",
    "    'Phase_duration': 'mean',\n",
    "    'Phase_overrun': 'sum',\n",
    "    'Phase_start_delay':'sum',\n",
    "    'Quantity':'sum',\n",
    "    'Flowrate_KGMIN':'sum',\n",
    "    'Target_Phase_duration':'sum',\n",
    "    'Target_Flowrate':'sum'\n",
    "}).reset_index()\n",
    "\n",
    " #Print the aggregated DataFrame\n",
    "print(aggregated_df_Agitation)"
   ]
  },
  {
   "cell_type": "code",
   "execution_count": null,
   "id": "0199ccba-1ef3-4f82-8cc7-d5e3c8864b9e",
   "metadata": {},
   "outputs": [],
   "source": []
  }
 ],
 "metadata": {
  "kernelspec": {
   "display_name": "Python 3",
   "language": "python",
   "name": "python3"
  },
  "language_info": {
   "codemirror_mode": {
    "name": "ipython",
    "version": 3
   },
   "file_extension": ".py",
   "mimetype": "text/x-python",
   "name": "python",
   "nbconvert_exporter": "python",
   "pygments_lexer": "ipython3",
   "version": "3.8.8"
  }
 },
 "nbformat": 4,
 "nbformat_minor": 5
}
